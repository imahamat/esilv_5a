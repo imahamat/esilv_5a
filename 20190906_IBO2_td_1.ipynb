{
 "cells": [
  {
   "cell_type": "code",
   "execution_count": 25,
   "metadata": {},
   "outputs": [
    {
     "name": "stdout",
     "output_type": "stream",
     "text": [
      "Hello world!\n"
     ]
    }
   ],
   "source": [
    "print(\"Hello world!\")"
   ]
  },
  {
   "cell_type": "code",
   "execution_count": 26,
   "metadata": {},
   "outputs": [
    {
     "name": "stdout",
     "output_type": "stream",
     "text": [
      "ALT + enter = exécuter et passer à la cellule suivante\n"
     ]
    }
   ],
   "source": [
    "print(\"ALT + enter = exécuter et passer à la cellule suivante\")"
   ]
  },
  {
   "cell_type": "markdown",
   "metadata": {},
   "source": []
  },
  {
   "cell_type": "code",
   "execution_count": 27,
   "metadata": {},
   "outputs": [
    {
     "name": "stdout",
     "output_type": "stream",
     "text": [
      "Ctrl + enter = exécuter et rester dans la cellule actuelle\n"
     ]
    }
   ],
   "source": [
    "print(\"Ctrl + enter = exécuter et rester dans la cellule actuelle\")"
   ]
  },
  {
   "cell_type": "markdown",
   "metadata": {},
   "source": [
    "# Transformer une cellule en MarkDown \n",
    "-> ESC + M"
   ]
  },
  {
   "cell_type": "code",
   "execution_count": 29,
   "metadata": {},
   "outputs": [],
   "source": [
    "# la tabulation est significative\n",
    "x = \"hello world\"\n",
    "for i in [1,2,3]:\n",
    "    y = \"test\"\n"
   ]
  },
  {
   "cell_type": "markdown",
   "metadata": {},
   "source": [
    "# 1) listes"
   ]
  },
  {
   "cell_type": "code",
   "execution_count": 30,
   "metadata": {},
   "outputs": [
    {
     "data": {
      "text/plain": [
       "[1, 2, 'a', 'b']"
      ]
     },
     "execution_count": 30,
     "metadata": {},
     "output_type": "execute_result"
    }
   ],
   "source": [
    "une_liste = [1,2,\"a\", \"b\"]\n",
    "une_liste"
   ]
  },
  {
   "cell_type": "code",
   "execution_count": 31,
   "metadata": {},
   "outputs": [
    {
     "data": {
      "text/plain": [
       "'azerhiuoxdrhdrt'"
      ]
     },
     "execution_count": 31,
     "metadata": {},
     "output_type": "execute_result"
    }
   ],
   "source": [
    "seconde_liste = \"azerhiuoxdrhdrt\"\n",
    "seconde_liste"
   ]
  },
  {
   "cell_type": "markdown",
   "metadata": {},
   "source": [
    "### documentation / auto complétion = \".\" + TAB"
   ]
  },
  {
   "cell_type": "code",
   "execution_count": 32,
   "metadata": {},
   "outputs": [
    {
     "data": {
      "text/plain": [
       "[1, 2, 'a', 'b']"
      ]
     },
     "execution_count": 32,
     "metadata": {},
     "output_type": "execute_result"
    }
   ],
   "source": [
    "une_liste"
   ]
  },
  {
   "cell_type": "markdown",
   "metadata": {},
   "source": [
    "### 1.1) recherche d'éléments à un indice donné"
   ]
  },
  {
   "cell_type": "code",
   "execution_count": 33,
   "metadata": {},
   "outputs": [
    {
     "data": {
      "text/plain": [
       "2"
      ]
     },
     "execution_count": 33,
     "metadata": {},
     "output_type": "execute_result"
    }
   ],
   "source": [
    "# les indices de listes commencent à 0\n",
    "une_liste[1]"
   ]
  },
  {
   "cell_type": "code",
   "execution_count": 34,
   "metadata": {},
   "outputs": [
    {
     "data": {
      "text/plain": [
       "'b'"
      ]
     },
     "execution_count": 34,
     "metadata": {},
     "output_type": "execute_result"
    }
   ],
   "source": [
    "# dernier élement de la liste \n",
    "une_liste[-1]"
   ]
  },
  {
   "cell_type": "markdown",
   "metadata": {},
   "source": [
    "### 1.1.1) slice de listes (recherche de sous éléments)"
   ]
  },
  {
   "cell_type": "code",
   "execution_count": 35,
   "metadata": {},
   "outputs": [
    {
     "data": {
      "text/plain": [
       "[2, 'a']"
      ]
     },
     "execution_count": 35,
     "metadata": {},
     "output_type": "execute_result"
    }
   ],
   "source": [
    "#élements en  2è et 3è position\n",
    "une_liste[1:3]"
   ]
  },
  {
   "cell_type": "code",
   "execution_count": 36,
   "metadata": {},
   "outputs": [],
   "source": [
    "dix = 10\n",
    "cent = dix * dix\n",
    "mil = dix * cent\n",
    "million = mil*mil\n",
    "milliard = mil * million"
   ]
  },
  {
   "cell_type": "code",
   "execution_count": 37,
   "metadata": {},
   "outputs": [
    {
     "data": {
      "text/plain": [
       "range(10, 20)"
      ]
     },
     "execution_count": 37,
     "metadata": {},
     "output_type": "execute_result"
    }
   ],
   "source": [
    "# sous ensemble\n",
    "grande_liste = range(cent)\n",
    "grande_liste[10:20]"
   ]
  },
  {
   "cell_type": "code",
   "execution_count": 38,
   "metadata": {},
   "outputs": [
    {
     "data": {
      "text/plain": [
       "[10, 12, 14, 16, 18]"
      ]
     },
     "execution_count": 38,
     "metadata": {},
     "output_type": "execute_result"
    }
   ],
   "source": [
    "# step dans liste\n",
    "list(grande_liste[10:20:2])"
   ]
  },
  {
   "cell_type": "code",
   "execution_count": 39,
   "metadata": {},
   "outputs": [
    {
     "data": {
      "text/plain": [
       "[20, 18, 16, 14, 12]"
      ]
     },
     "execution_count": 39,
     "metadata": {},
     "output_type": "execute_result"
    }
   ],
   "source": [
    "# step négatif dans liste\n",
    "list(grande_liste[20:10:-2])"
   ]
  },
  {
   "cell_type": "code",
   "execution_count": 40,
   "metadata": {},
   "outputs": [],
   "source": [
    "iterateur = grande_liste"
   ]
  },
  {
   "cell_type": "markdown",
   "metadata": {},
   "source": [
    "## 1.2) boucle for avec slice inversant la liste (::-1)"
   ]
  },
  {
   "cell_type": "code",
   "execution_count": 42,
   "metadata": {},
   "outputs": [
    {
     "name": "stdout",
     "output_type": "stream",
     "text": [
      "[1, 2, 'a', 'b']\n"
     ]
    },
    {
     "ename": "NameError",
     "evalue": "name 'c' is not defined",
     "output_type": "error",
     "traceback": [
      "\u001b[0;31m---------------------------------------------------------------------------\u001b[0m",
      "\u001b[0;31mNameError\u001b[0m                                 Traceback (most recent call last)",
      "\u001b[0;32m<ipython-input-42-e08492e9dd8a>\u001b[0m in \u001b[0;36m<module>\u001b[0;34m\u001b[0m\n\u001b[1;32m      1\u001b[0m \u001b[0mprint\u001b[0m\u001b[0;34m(\u001b[0m\u001b[0mune_liste\u001b[0m\u001b[0;34m)\u001b[0m\u001b[0;34m\u001b[0m\u001b[0;34m\u001b[0m\u001b[0m\n\u001b[0;32m----> 2\u001b[0;31m \u001b[0;32mfor\u001b[0m \u001b[0mi\u001b[0m \u001b[0;32min\u001b[0m \u001b[0mc\u001b[0m\u001b[0;34m[\u001b[0m\u001b[0;34m:\u001b[0m\u001b[0;34m:\u001b[0m\u001b[0;34m-\u001b[0m\u001b[0;36m1\u001b[0m\u001b[0;34m]\u001b[0m\u001b[0;34m:\u001b[0m\u001b[0;34m\u001b[0m\u001b[0;34m\u001b[0m\u001b[0m\n\u001b[0m\u001b[1;32m      3\u001b[0m     \u001b[0mprint\u001b[0m\u001b[0;34m(\u001b[0m\u001b[0mi\u001b[0m\u001b[0;34m,\u001b[0m \u001b[0mend\u001b[0m\u001b[0;34m=\u001b[0m\u001b[0;34m\",\"\u001b[0m\u001b[0;34m)\u001b[0m\u001b[0;34m\u001b[0m\u001b[0;34m\u001b[0m\u001b[0m\n",
      "\u001b[0;31mNameError\u001b[0m: name 'c' is not defined"
     ]
    }
   ],
   "source": [
    "print(une_liste)\n",
    "for i in c[::-1]:\n",
    "    print(i, end=\",\")"
   ]
  },
  {
   "cell_type": "markdown",
   "metadata": {},
   "source": [
    "## 1.3) fonction reversed"
   ]
  },
  {
   "cell_type": "code",
   "execution_count": 43,
   "metadata": {},
   "outputs": [
    {
     "name": "stdout",
     "output_type": "stream",
     "text": [
      "[1, 2, 'a', 'b']\n",
      "b,a,2,1,"
     ]
    }
   ],
   "source": [
    "print(une_liste)\n",
    "for i in reversed(une_liste):\n",
    "    print(i, end=\",\")"
   ]
  },
  {
   "cell_type": "markdown",
   "metadata": {},
   "source": [
    "## 1.4) enumerate"
   ]
  },
  {
   "cell_type": "code",
   "execution_count": 44,
   "metadata": {},
   "outputs": [],
   "source": [
    "hello_world = \"hello world !\""
   ]
  },
  {
   "cell_type": "code",
   "execution_count": 90,
   "metadata": {},
   "outputs": [
    {
     "name": "stdout",
     "output_type": "stream",
     "text": [
      "0 h\n",
      "1 e\n",
      "2 l\n",
      "3 l\n",
      "4 o\n",
      "5  \n",
      "6 w\n",
      "7 o\n",
      "8 r\n",
      "9 l\n",
      "10 d\n",
      "11  \n",
      "12 !\n"
     ]
    }
   ],
   "source": [
    "for indice, valeur in enumerate(hello_world):\n",
    "    print(indice, valeur)\n",
    "    # print(f\"{indice} {valeur}\")"
   ]
  },
  {
   "cell_type": "markdown",
   "metadata": {},
   "source": [
    "## 1.5) comprehension list"
   ]
  },
  {
   "cell_type": "markdown",
   "metadata": {},
   "source": [
    "## 1.5.1) append : ajouter un élément dans une liste"
   ]
  },
  {
   "cell_type": "code",
   "execution_count": 91,
   "metadata": {},
   "outputs": [],
   "source": [
    "import time"
   ]
  },
  {
   "cell_type": "code",
   "execution_count": 92,
   "metadata": {},
   "outputs": [
    {
     "data": {
      "text/plain": [
       "([113, 170, 131, 159, 139, 170, 169, 180, 154, 189], 0.00011110305786132812)"
      ]
     },
     "execution_count": 92,
     "metadata": {},
     "output_type": "execute_result"
    }
   ],
   "source": [
    "debut = time.time()\n",
    "liste_aleatoire_classique = []\n",
    "for i in range(10):\n",
    "    liste_aleatoire_classique.append(random.randint(100, 200))\n",
    "fin    = time.time()\n",
    "delais_classique = fin - debut\n",
    "liste_aleatoire_classique, delais_classique"
   ]
  },
  {
   "cell_type": "markdown",
   "metadata": {},
   "source": [
    "## 1.5.2) la boucle for est intégrée dans la création de la liste => comprehension list"
   ]
  },
  {
   "cell_type": "code",
   "execution_count": 93,
   "metadata": {},
   "outputs": [
    {
     "data": {
      "text/plain": [
       "([171, 112, 155, 155, 193, 198, 152, 117, 111, 133], 0.00010228157043457031)"
      ]
     },
     "execution_count": 93,
     "metadata": {},
     "output_type": "execute_result"
    }
   ],
   "source": [
    "import random\n",
    "debut = time.time()\n",
    "liste_aleatoire = [random.randint(100, 200) for i in range(10)]\n",
    "fin = time.time()\n",
    "delais_comprehension = fin - debut\n",
    "liste_aleatoire, delais_comprehension\n"
   ]
  },
  {
   "cell_type": "code",
   "execution_count": 94,
   "metadata": {},
   "outputs": [
    {
     "name": "stdout",
     "output_type": "stream",
     "text": [
      "\n",
      "----------- \n",
      "delais_comprehension = 0.0001022816\n",
      "delais_classique     = 0.0001111031\n",
      "\n",
      "Gain de performance  = 0.08\n",
      "\n"
     ]
    }
   ],
   "source": [
    "gain_de_performance = 1 - delais_comprehension/delais_classique\n",
    "print(f\"\"\"\n",
    "----------- \n",
    "delais_comprehension = {delais_comprehension:.10f}\n",
    "delais_classique     = {delais_classique:.10f}\n",
    "\n",
    "Gain de performance  = {gain_de_performance:.2f}\n",
    "\"\"\")"
   ]
  },
  {
   "cell_type": "markdown",
   "metadata": {},
   "source": [
    "## 1.6) multiplication de liste"
   ]
  },
  {
   "cell_type": "code",
   "execution_count": 95,
   "metadata": {},
   "outputs": [
    {
     "data": {
      "text/plain": [
       "'----------'"
      ]
     },
     "execution_count": 95,
     "metadata": {},
     "output_type": "execute_result"
    }
   ],
   "source": [
    "tiret = \"-\"\n",
    "tiret*dix"
   ]
  },
  {
   "cell_type": "code",
   "execution_count": 96,
   "metadata": {},
   "outputs": [
    {
     "data": {
      "text/plain": [
       "'-*--*--*--*--*--*--*--*--*--*-'"
      ]
     },
     "execution_count": 96,
     "metadata": {},
     "output_type": "execute_result"
    }
   ],
   "source": [
    "pattern = \"-*-\"\n",
    "pattern*dix"
   ]
  },
  {
   "cell_type": "code",
   "execution_count": 97,
   "metadata": {},
   "outputs": [
    {
     "data": {
      "text/plain": [
       "[0, 1, 2, 0, 1, 2, 0, 1, 2, 0, 1, 2]"
      ]
     },
     "execution_count": 97,
     "metadata": {},
     "output_type": "execute_result"
    }
   ],
   "source": [
    "valeurs = list(range(3))\n",
    "valeurs*4"
   ]
  },
  {
   "cell_type": "markdown",
   "metadata": {},
   "source": [
    "# 2) les boucles"
   ]
  },
  {
   "cell_type": "markdown",
   "metadata": {},
   "source": [
    "## 2.1) while : tant qu'une condition est respectée"
   ]
  },
  {
   "cell_type": "markdown",
   "metadata": {},
   "source": [
    "pop : extrait le dernier élément de la liste et le retourne"
   ]
  },
  {
   "cell_type": "code",
   "execution_count": 98,
   "metadata": {},
   "outputs": [
    {
     "name": "stdout",
     "output_type": "stream",
     "text": [
      "137 > 130 ? True\n",
      "167 > 130 ? True\n",
      "191 > 130 ? True\n",
      "144 > 130 ? True\n",
      "178 > 130 ? True\n",
      "182 > 130 ? True\n",
      "199 > 130 ? True\n",
      "115 > 130 ? False\n"
     ]
    }
   ],
   "source": [
    "test   = True\n",
    "limite = 130\n",
    "liste_aleatoire = [random.randint(100, 200) for i in range(100)]\n",
    "\n",
    "while test:\n",
    "    valeur  = liste_aleatoire.pop() # pop : extrait le dernier élément de la liste\n",
    "    test    = valeur > limite\n",
    "    print(f\"{valeur} > {limite} ? {test}\")"
   ]
  },
  {
   "cell_type": "code",
   "execution_count": 99,
   "metadata": {},
   "outputs": [
    {
     "data": {
      "text/plain": [
       "[137,\n",
       " 146,\n",
       " 183,\n",
       " 145,\n",
       " 113,\n",
       " 139,\n",
       " 141,\n",
       " 153,\n",
       " 182,\n",
       " 178,\n",
       " 189,\n",
       " 177,\n",
       " 186,\n",
       " 131,\n",
       " 193,\n",
       " 140,\n",
       " 145,\n",
       " 188,\n",
       " 198,\n",
       " 150,\n",
       " 117,\n",
       " 189,\n",
       " 101,\n",
       " 184,\n",
       " 139,\n",
       " 198,\n",
       " 109,\n",
       " 102,\n",
       " 100,\n",
       " 159,\n",
       " 118,\n",
       " 111,\n",
       " 181,\n",
       " 165,\n",
       " 166,\n",
       " 118,\n",
       " 141,\n",
       " 183,\n",
       " 161,\n",
       " 196,\n",
       " 130,\n",
       " 169,\n",
       " 159,\n",
       " 161,\n",
       " 144,\n",
       " 140,\n",
       " 109,\n",
       " 153,\n",
       " 158,\n",
       " 122,\n",
       " 166,\n",
       " 111,\n",
       " 135,\n",
       " 145,\n",
       " 160,\n",
       " 182,\n",
       " 165,\n",
       " 151,\n",
       " 147,\n",
       " 121,\n",
       " 111,\n",
       " 100,\n",
       " 131,\n",
       " 115,\n",
       " 172,\n",
       " 187,\n",
       " 145,\n",
       " 178,\n",
       " 169,\n",
       " 134,\n",
       " 169,\n",
       " 160,\n",
       " 154,\n",
       " 176,\n",
       " 177,\n",
       " 123,\n",
       " 195,\n",
       " 154,\n",
       " 140,\n",
       " 150,\n",
       " 156,\n",
       " 197,\n",
       " 183,\n",
       " 128,\n",
       " 108,\n",
       " 115,\n",
       " 117,\n",
       " 161,\n",
       " 182,\n",
       " 188,\n",
       " 182,\n",
       " 112]"
      ]
     },
     "execution_count": 99,
     "metadata": {},
     "output_type": "execute_result"
    }
   ],
   "source": [
    "liste_aleatoire"
   ]
  },
  {
   "cell_type": "markdown",
   "metadata": {},
   "source": [
    "## 2.2) break : sortir de la boucle sur un test"
   ]
  },
  {
   "cell_type": "code",
   "execution_count": 100,
   "metadata": {},
   "outputs": [
    {
     "name": "stdout",
     "output_type": "stream",
     "text": [
      "181 > 130 ? True\n",
      "165 > 130 ? True\n",
      "162 > 130 ? True\n",
      "166 > 130 ? True\n",
      "138 > 130 ? True\n",
      "179 > 130 ? True\n",
      "Fin car 119 < 130\n"
     ]
    }
   ],
   "source": [
    "test   = True\n",
    "limite = 130\n",
    "liste_aleatoire = [random.randint(100, 200) for i in range(100)]\n",
    "\n",
    "while test:\n",
    "    valeur  = liste_aleatoire.pop()\n",
    "    test    = valeur > limite\n",
    "    if test is False:\n",
    "        print(f\"Fin car {valeur} < {limite}\")\n",
    "        break\n",
    "    print(f\"{valeur} > {limite} ? {test}\")"
   ]
  },
  {
   "cell_type": "markdown",
   "metadata": {},
   "source": [
    "### afficher deux valeurs, séparées par une virgule"
   ]
  },
  {
   "cell_type": "code",
   "execution_count": 102,
   "metadata": {},
   "outputs": [
    {
     "data": {
      "text/plain": [
       "(104, True)"
      ]
     },
     "execution_count": 102,
     "metadata": {},
     "output_type": "execute_result"
    }
   ],
   "source": [
    "valeur, valeur %2 ==0"
   ]
  },
  {
   "cell_type": "markdown",
   "metadata": {},
   "source": [
    "### affecter dans une variable le résultat d'un test"
   ]
  },
  {
   "cell_type": "code",
   "execution_count": 108,
   "metadata": {},
   "outputs": [
    {
     "data": {
      "text/plain": [
       "(2, True)"
      ]
     },
     "execution_count": 108,
     "metadata": {},
     "output_type": "execute_result"
    }
   ],
   "source": [
    "valeur = 2\n",
    "test_est_pair = valeur%2 ==0\n",
    "valeur, test_est_pair"
   ]
  },
  {
   "cell_type": "markdown",
   "metadata": {},
   "source": [
    "# 3) création de fonction"
   ]
  },
  {
   "cell_type": "code",
   "execution_count": 102,
   "metadata": {},
   "outputs": [],
   "source": [
    "def est_pair(nombre):\n",
    "    \"\"\"\n",
    "    Renvoie un booléen : Vrai / Faux\n",
    "    \"\"\"\n",
    "    return nombre%2 == 0"
   ]
  },
  {
   "cell_type": "markdown",
   "metadata": {},
   "source": [
    "## 2.3) continue : zapper des valeurs"
   ]
  },
  {
   "cell_type": "code",
   "execution_count": 103,
   "metadata": {},
   "outputs": [
    {
     "name": "stdout",
     "output_type": "stream",
     "text": [
      "Valeurs impaires : \n",
      "181 | 137 | 101 | 197 | 143 | 111 | 177 | 173 | 197 | 109 | 147 | 153 | 153 | 119 | 137 | 181 | 157 | 117 | 197 | 155 | 153 | 169 | 173 | 101 | 127 | 113 | 141 | 181 | 129 | 145 | 145 | 125 | 137 | 151 | 149 | 135 | 191 | 127 | 103 | 165 | 157 | 169 | 137 | 105 | 113 | 119 | 165 | 163 | 139 | 169 | 115 | 183 | 169 | "
     ]
    }
   ],
   "source": [
    "print(\"Valeurs impaires : \")\n",
    "liste_aleatoire = [random.randint(100, 200) for i in range(100)]\n",
    "while liste_aleatoire:\n",
    "    valeur  = liste_aleatoire.pop()\n",
    "    if est_pair(valeur):\n",
    "        continue\n",
    "    else:\n",
    "        print(valeur, end=\" | \")"
   ]
  },
  {
   "cell_type": "markdown",
   "metadata": {},
   "source": [
    "# Jupyter : faire des appels système avec le point d'exclamation"
   ]
  },
  {
   "cell_type": "code",
   "execution_count": 105,
   "metadata": {},
   "outputs": [
    {
     "name": "stdout",
     "output_type": "stream",
     "text": [
      "\u001b[33m.\u001b[m\u001b[m                             20190906_IBO2_td_1.ipynb\r\n",
      "\u001b[33m..\u001b[m\u001b[m                            20190906_td_python_IBO3.ipynb\r\n",
      ".DS_Store                     TD2_webscrapping.ipynb\r\n",
      ".Rapp.history                 Untitled.ipynb\r\n",
      "\u001b[33m.git\u001b[m\u001b[m                          td1.ipynb\r\n",
      "\u001b[33m.ipynb_checkpoints\u001b[m\u001b[m\r\n"
     ]
    }
   ],
   "source": [
    "!ls -a"
   ]
  },
  {
   "cell_type": "code",
   "execution_count": 109,
   "metadata": {},
   "outputs": [
    {
     "name": "stdout",
     "output_type": "stream",
     "text": [
      "rm: Untitled.ipynb: No such file or directory\r\n"
     ]
    }
   ],
   "source": [
    "!rm Untitled.ipynb"
   ]
  },
  {
   "cell_type": "code",
   "execution_count": 110,
   "metadata": {},
   "outputs": [
    {
     "name": "stdout",
     "output_type": "stream",
     "text": [
      "20190906_IBO2_td_1.ipynb      TD2_webscrapping.ipynb\r\n",
      "20190906_td_python_IBO3.ipynb td1.ipynb\r\n"
     ]
    }
   ],
   "source": [
    "!ls"
   ]
  },
  {
   "cell_type": "code",
   "execution_count": 111,
   "metadata": {},
   "outputs": [
    {
     "name": "stdout",
     "output_type": "stream",
     "text": [
      "origin\thttps://github.com/imahamat/esilv_5a.git (fetch)\r\n",
      "origin\thttps://github.com/imahamat/esilv_5a.git (push)\r\n"
     ]
    }
   ],
   "source": [
    "!git remote -v"
   ]
  },
  {
   "cell_type": "code",
   "execution_count": 122,
   "metadata": {},
   "outputs": [
    {
     "name": "stdout",
     "output_type": "stream",
     "text": [
      "20190906_IBO2_td_1.ipynb td1.ipynb\r\n"
     ]
    }
   ],
   "source": [
    "!ls"
   ]
  },
  {
   "cell_type": "code",
   "execution_count": 123,
   "metadata": {},
   "outputs": [],
   "source": [
    "!git add 20190906_IBO2_td_1.ipynb"
   ]
  },
  {
   "cell_type": "code",
   "execution_count": 124,
   "metadata": {},
   "outputs": [
    {
     "name": "stdout",
     "output_type": "stream",
     "text": [
      "[master 61f6d75] pour suivre le cours.\r\n",
      " 1 file changed, 857 insertions(+)\r\n",
      " create mode 100644 20190906_IBO2_td_1.ipynb\r\n"
     ]
    }
   ],
   "source": [
    "!git commit -m \"pour suivre le cours.\""
   ]
  },
  {
   "cell_type": "code",
   "execution_count": 126,
   "metadata": {},
   "outputs": [
    {
     "name": "stdout",
     "output_type": "stream",
     "text": [
      "Enumerating objects: 4, done.\n",
      "Counting objects: 100% (4/4), done.\n",
      "Delta compression using up to 8 threads\n",
      "Compressing objects: 100% (3/3), done.\n",
      "Writing objects: 100% (3/3), 3.01 KiB | 3.01 MiB/s, done.\n",
      "Total 3 (delta 0), reused 0 (delta 0)\n",
      "To https://github.com/romainjouin/esilv_5a.git\n",
      "   4f983e6..61f6d75  master -> master\n"
     ]
    }
   ],
   "source": [
    "!git push origin master"
   ]
  },
  {
   "cell_type": "markdown",
   "metadata": {},
   "source": [
    "# https://github.com/romainjouin/esilv_5a"
   ]
  },
  {
   "cell_type": "markdown",
   "metadata": {},
   "source": [
    "## 3.1) fonction avec comprehension list"
   ]
  },
  {
   "cell_type": "code",
   "execution_count": 130,
   "metadata": {},
   "outputs": [],
   "source": [
    "def random_string(n=10):\n",
    "    \"\"\"\n",
    "    Renvoie une chaîne aléatoire de n caractères\n",
    "    \"\"\"\n",
    "    import random\n",
    "    import string\n",
    "    return ''.join([random.choice(string.ascii_letters) for _ in range(n)])"
   ]
  },
  {
   "cell_type": "code",
   "execution_count": 137,
   "metadata": {},
   "outputs": [
    {
     "data": {
      "text/plain": [
       "'abcdefghijklmnopqrstuvwxyzABCDEFGHIJKLMNOPQRSTUVWXYZ'"
      ]
     },
     "execution_count": 137,
     "metadata": {},
     "output_type": "execute_result"
    }
   ],
   "source": [
    "import string\n",
    "string.ascii_letters"
   ]
  },
  {
   "cell_type": "code",
   "execution_count": 139,
   "metadata": {},
   "outputs": [
    {
     "data": {
      "text/plain": [
       "(4, 'K')"
      ]
     },
     "execution_count": 139,
     "metadata": {},
     "output_type": "execute_result"
    }
   ],
   "source": [
    "import random\n",
    "random.choice([1,2,3,4]), random.choice(string.ascii_letters)"
   ]
  },
  {
   "cell_type": "code",
   "execution_count": 153,
   "metadata": {},
   "outputs": [
    {
     "data": {
      "text/plain": [
       "['E', 'g', 'f', 'X', 'Y', 'L', 'h', 'm', 'w', 'D']"
      ]
     },
     "execution_count": 153,
     "metadata": {},
     "output_type": "execute_result"
    }
   ],
   "source": [
    "liste_d_elements = [random.choice(string.ascii_letters) for _ in range(10)]\n",
    "liste_d_elements"
   ]
  },
  {
   "cell_type": "code",
   "execution_count": 154,
   "metadata": {},
   "outputs": [
    {
     "data": {
      "text/plain": [
       "'EgfXYLhmwD'"
      ]
     },
     "execution_count": 154,
     "metadata": {},
     "output_type": "execute_result"
    }
   ],
   "source": [
    "separateur = \"\"\n",
    "separateur.join(liste_d_elements)"
   ]
  },
  {
   "cell_type": "code",
   "execution_count": 145,
   "metadata": {},
   "outputs": [
    {
     "data": {
      "text/plain": [
       "'L|m|n|A|V|K|x|b|A|X'"
      ]
     },
     "execution_count": 145,
     "metadata": {},
     "output_type": "execute_result"
    }
   ],
   "source": [
    "separateur = \"|\"\n",
    "separateur.join(liste_d_elements)"
   ]
  },
  {
   "cell_type": "code",
   "execution_count": 146,
   "metadata": {},
   "outputs": [
    {
     "data": {
      "text/plain": [
       "'L,m,n,A,V,K,x,b,A,X'"
      ]
     },
     "execution_count": 146,
     "metadata": {},
     "output_type": "execute_result"
    }
   ],
   "source": [
    "separateur = \",\"\n",
    "separateur.join(liste_d_elements)"
   ]
  },
  {
   "cell_type": "code",
   "execution_count": 152,
   "metadata": {},
   "outputs": [
    {
     "data": {
      "text/plain": [
       "'L/m/n/A/V/K/x/b/A/X'"
      ]
     },
     "execution_count": 152,
     "metadata": {},
     "output_type": "execute_result"
    }
   ],
   "source": [
    "separateur = \"\"\"/\"\"\"\n",
    "separateur.join(liste_d_elements)\n"
   ]
  },
  {
   "cell_type": "markdown",
   "metadata": {},
   "source": [
    "# 4) dictionnaires"
   ]
  },
  {
   "cell_type": "markdown",
   "metadata": {},
   "source": [
    "## 4.0) création de dico : avec des accolades !!"
   ]
  },
  {
   "cell_type": "code",
   "execution_count": 161,
   "metadata": {},
   "outputs": [],
   "source": [
    "dico = {\n",
    "    \"mot\"    : \"definition\"                     ,\n",
    "    \"hadoop\" : \"logiciel de gestion big data\"   , \n",
    "    \"spark\"  : \"framework de calcul distribué\"  ,\n",
    "}"
   ]
  },
  {
   "cell_type": "code",
   "execution_count": 163,
   "metadata": {},
   "outputs": [
    {
     "data": {
      "text/plain": [
       "'framework de calcul distribué'"
      ]
     },
     "execution_count": 163,
     "metadata": {},
     "output_type": "execute_result"
    }
   ],
   "source": [
    "entree = \"spark\"\n",
    "dico[entree]"
   ]
  },
  {
   "cell_type": "markdown",
   "metadata": {},
   "source": [
    "## 4.1) parcourir les clefs"
   ]
  },
  {
   "cell_type": "code",
   "execution_count": 165,
   "metadata": {},
   "outputs": [
    {
     "name": "stdout",
     "output_type": "stream",
     "text": [
      "mot\n",
      "hadoop\n",
      "spark\n"
     ]
    }
   ],
   "source": [
    "for clef in dico:\n",
    "    print(clef)"
   ]
  },
  {
   "cell_type": "code",
   "execution_count": 166,
   "metadata": {},
   "outputs": [
    {
     "name": "stdout",
     "output_type": "stream",
     "text": [
      "mot\n",
      "hadoop\n",
      "spark\n"
     ]
    }
   ],
   "source": [
    "for clef in dico.keys():\n",
    "    print(clef)"
   ]
  },
  {
   "cell_type": "markdown",
   "metadata": {},
   "source": [
    "## Unpacking : affecter chaque valeur retournée dans des variables distinctes et nommées"
   ]
  },
  {
   "cell_type": "code",
   "execution_count": 174,
   "metadata": {},
   "outputs": [
    {
     "name": "stdout",
     "output_type": "stream",
     "text": [
      "\n",
      "    -------------------------\n",
      "    clef       = mot\n",
      "    dico[clef] = definition\n",
      "    valeur     = definition\n",
      "    \n",
      "\n",
      "    -------------------------\n",
      "    clef       = hadoop\n",
      "    dico[clef] = logiciel de gestion big data\n",
      "    valeur     = logiciel de gestion big data\n",
      "    \n",
      "\n",
      "    -------------------------\n",
      "    clef       = spark\n",
      "    dico[clef] = framework de calcul distribué\n",
      "    valeur     = framework de calcul distribué\n",
      "    \n"
     ]
    }
   ],
   "source": [
    "for clef, valeur in dico.items():\n",
    "    print(f\"\"\"\n",
    "    -------------------------\n",
    "    clef       = {clef}\n",
    "    dico[clef] = {dico[clef]}\n",
    "    valeur     = {valeur}\n",
    "    \"\"\")"
   ]
  },
  {
   "cell_type": "markdown",
   "metadata": {},
   "source": [
    "## 4.2) dictionnaire et comprehension list"
   ]
  },
  {
   "cell_type": "code",
   "execution_count": 182,
   "metadata": {},
   "outputs": [
    {
     "data": {
      "text/plain": [
       "{'wPntGVXYli': 'XKqCcjWwLu',\n",
       " 'yJXnUBLehr': 'JQEbtHRGmy',\n",
       " 'zEYSETlGdB': 'qSLCjIdsau',\n",
       " 'ZktcGxIMrC': 'soEvuPHnTv',\n",
       " 'BzPNxSkfMn': 'pUDvNlZfzG',\n",
       " 'khWOQXzCbf': 'WwBBcVznKa',\n",
       " 'LMJeESmyXQ': 'YceKPFQZMR',\n",
       " 'FdHyrWeZSI': 'LJHDUSfDWT',\n",
       " 'saoFeLKPho': 'uUqIgwivFn',\n",
       " 'LCTcdRvvFD': 'RQMPRexmtu'}"
      ]
     },
     "execution_count": 182,
     "metadata": {},
     "output_type": "execute_result"
    }
   ],
   "source": [
    "dico_aleatoire = {\n",
    "    random_string() : random_string() for _ in range(10)\n",
    "}\n",
    "dico_aleatoire"
   ]
  },
  {
   "cell_type": "markdown",
   "metadata": {},
   "source": [
    "# 5) lambda functions"
   ]
  },
  {
   "cell_type": "code",
   "execution_count": 188,
   "metadata": {},
   "outputs": [],
   "source": [
    "is_null = lambda nombre: nombre==0"
   ]
  },
  {
   "cell_type": "code",
   "execution_count": 190,
   "metadata": {},
   "outputs": [
    {
     "data": {
      "text/plain": [
       "True"
      ]
     },
     "execution_count": 190,
     "metadata": {},
     "output_type": "execute_result"
    }
   ],
   "source": [
    "is_null(0)"
   ]
  },
  {
   "cell_type": "code",
   "execution_count": 191,
   "metadata": {},
   "outputs": [],
   "source": [
    "is_equals = lambda x,y: x==y"
   ]
  },
  {
   "cell_type": "code",
   "execution_count": 192,
   "metadata": {},
   "outputs": [
    {
     "data": {
      "text/plain": [
       "False"
      ]
     },
     "execution_count": 192,
     "metadata": {},
     "output_type": "execute_result"
    }
   ],
   "source": [
    "is_equals(1,2)"
   ]
  },
  {
   "cell_type": "code",
   "execution_count": 193,
   "metadata": {},
   "outputs": [
    {
     "data": {
      "text/plain": [
       "True"
      ]
     },
     "execution_count": 193,
     "metadata": {},
     "output_type": "execute_result"
    }
   ],
   "source": [
    "is_equals(1,1)"
   ]
  },
  {
   "cell_type": "code",
   "execution_count": 194,
   "metadata": {},
   "outputs": [],
   "source": [
    "contient_bonjour = lambda x: \"bonjour\" in x"
   ]
  },
  {
   "cell_type": "code",
   "execution_count": 195,
   "metadata": {},
   "outputs": [
    {
     "data": {
      "text/plain": [
       "True"
      ]
     },
     "execution_count": 195,
     "metadata": {},
     "output_type": "execute_result"
    }
   ],
   "source": [
    "contient_bonjour(\"bonjour \")"
   ]
  },
  {
   "cell_type": "markdown",
   "metadata": {},
   "source": [
    "# 6) filter et map (dans les listes)"
   ]
  },
  {
   "cell_type": "code",
   "execution_count": 197,
   "metadata": {},
   "outputs": [
    {
     "data": {
      "text/plain": [
       "'FFRPOQlyeugKkMIZytun'"
      ]
     },
     "execution_count": 197,
     "metadata": {},
     "output_type": "execute_result"
    }
   ],
   "source": [
    "mot_aleatoire = random_string(20)\n",
    "mot_aleatoire"
   ]
  },
  {
   "cell_type": "code",
   "execution_count": 201,
   "metadata": {},
   "outputs": [],
   "source": [
    "is_majuscule = lambda caractere: caractere.upper()==caractere"
   ]
  },
  {
   "cell_type": "code",
   "execution_count": 202,
   "metadata": {},
   "outputs": [
    {
     "data": {
      "text/plain": [
       "['F', 'F', 'R', 'P', 'O', 'Q', 'K', 'M', 'I', 'Z']"
      ]
     },
     "execution_count": 202,
     "metadata": {},
     "output_type": "execute_result"
    }
   ],
   "source": [
    "_ = filter(is_majuscule, mot_aleatoire)\n",
    "list(_)"
   ]
  },
  {
   "cell_type": "code",
   "execution_count": 215,
   "metadata": {},
   "outputs": [
    {
     "data": {
      "text/plain": [
       "20"
      ]
     },
     "execution_count": 215,
     "metadata": {},
     "output_type": "execute_result"
    }
   ],
   "source": [
    "iterateur = map(is_majuscule, mot_aleatoire)\n",
    "liste = list(_)\n",
    "len(list(iterateur))"
   ]
  },
  {
   "cell_type": "markdown",
   "metadata": {},
   "source": [
    "### Attention : les itérateurs n'itérent qu'une fois : au second appel de liste, ils sont vides."
   ]
  },
  {
   "cell_type": "code",
   "execution_count": 218,
   "metadata": {},
   "outputs": [
    {
     "data": {
      "text/plain": [
       "(0, 20)"
      ]
     },
     "execution_count": 218,
     "metadata": {},
     "output_type": "execute_result"
    }
   ],
   "source": [
    "len(list(iterateur)), len(liste)"
   ]
  },
  {
   "cell_type": "code",
   "execution_count": 224,
   "metadata": {},
   "outputs": [],
   "source": [
    "is_true = lambda x: x is True"
   ]
  },
  {
   "cell_type": "code",
   "execution_count": 225,
   "metadata": {},
   "outputs": [
    {
     "data": {
      "text/plain": [
       "10"
      ]
     },
     "execution_count": 225,
     "metadata": {},
     "output_type": "execute_result"
    }
   ],
   "source": [
    "len(list(filter(is_true, liste)))"
   ]
  },
  {
   "cell_type": "markdown",
   "metadata": {},
   "source": [
    "## 8) Comprehension list conditionnelles"
   ]
  },
  {
   "cell_type": "markdown",
   "metadata": {},
   "source": [
    "## 8.1) une seule condition => le if est à la fin"
   ]
  },
  {
   "cell_type": "code",
   "execution_count": 232,
   "metadata": {},
   "outputs": [
    {
     "data": {
      "text/plain": [
       "[True, True, True, True, True, True, True, True, True, True]"
      ]
     },
     "execution_count": 232,
     "metadata": {},
     "output_type": "execute_result"
    }
   ],
   "source": [
    "[ booleen for booleen in liste if booleen==True]"
   ]
  },
  {
   "cell_type": "code",
   "execution_count": 233,
   "metadata": {},
   "outputs": [
    {
     "data": {
      "text/plain": [
       "[True, True, True, True, True, True, True, True, True, True]"
      ]
     },
     "execution_count": 233,
     "metadata": {},
     "output_type": "execute_result"
    }
   ],
   "source": [
    "[ booleen for booleen in liste if booleen]"
   ]
  },
  {
   "cell_type": "code",
   "execution_count": 234,
   "metadata": {},
   "outputs": [
    {
     "data": {
      "text/plain": [
       "[True, True, True, True, True, True, True, True, True, True]"
      ]
     },
     "execution_count": 234,
     "metadata": {},
     "output_type": "execute_result"
    }
   ],
   "source": [
    "[ x for x in liste if x]"
   ]
  },
  {
   "cell_type": "code",
   "execution_count": 235,
   "metadata": {},
   "outputs": [
    {
     "data": {
      "text/plain": [
       "[True, True, True, True, True, True, True, True, True, True]"
      ]
     },
     "execution_count": 235,
     "metadata": {},
     "output_type": "execute_result"
    }
   ],
   "source": [
    "[ _ for _ in liste if _]"
   ]
  },
  {
   "cell_type": "markdown",
   "metadata": {},
   "source": [
    "## 8.2) deux conditions : le if est au début"
   ]
  },
  {
   "cell_type": "code",
   "execution_count": 236,
   "metadata": {},
   "outputs": [
    {
     "data": {
      "text/plain": [
       "['vrai',\n",
       " 'vrai',\n",
       " 'vrai',\n",
       " 'vrai',\n",
       " 'vrai',\n",
       " 'vrai',\n",
       " 'Faux',\n",
       " 'Faux',\n",
       " 'Faux',\n",
       " 'Faux',\n",
       " 'Faux',\n",
       " 'vrai',\n",
       " 'Faux',\n",
       " 'vrai',\n",
       " 'vrai',\n",
       " 'vrai',\n",
       " 'Faux',\n",
       " 'Faux',\n",
       " 'Faux',\n",
       " 'Faux']"
      ]
     },
     "execution_count": 236,
     "metadata": {},
     "output_type": "execute_result"
    }
   ],
   "source": [
    "[ \"vrai\" if _ else \"Faux\" for _ in liste]"
   ]
  },
  {
   "cell_type": "code",
   "execution_count": 259,
   "metadata": {},
   "outputs": [
    {
     "data": {
      "text/plain": [
       "10"
      ]
     },
     "execution_count": 259,
     "metadata": {},
     "output_type": "execute_result"
    }
   ],
   "source": [
    "sum(liste)"
   ]
  },
  {
   "cell_type": "code",
   "execution_count": 260,
   "metadata": {},
   "outputs": [
    {
     "name": "stdout",
     "output_type": "stream",
     "text": [
      "4.100799560546875e-05\n"
     ]
    }
   ],
   "source": [
    "debut = time.time()\n",
    "sum(liste)\n",
    "fin = time.time()\n",
    "duree_sum = fin - debut\n",
    "print(duree_sum)"
   ]
  },
  {
   "cell_type": "markdown",
   "metadata": {},
   "source": [
    "### Count : on compte le nombre de fois qu'une valeur apparaît"
   ]
  },
  {
   "cell_type": "code",
   "execution_count": 261,
   "metadata": {},
   "outputs": [
    {
     "name": "stdout",
     "output_type": "stream",
     "text": [
      "5.4836273193359375e-05\n"
     ]
    }
   ],
   "source": [
    "debut = time.time()\n",
    "liste.count(True) # liste est une liste de booléens\n",
    "fin = time.time()\n",
    "duree_count = fin - debut\n",
    "print(duree_count)"
   ]
  },
  {
   "cell_type": "code",
   "execution_count": 262,
   "metadata": {},
   "outputs": [
    {
     "data": {
      "text/plain": [
       "0"
      ]
     },
     "execution_count": 262,
     "metadata": {},
     "output_type": "execute_result"
    }
   ],
   "source": [
    "mot_aleatoire.count(\"A\")"
   ]
  },
  {
   "cell_type": "code",
   "execution_count": 263,
   "metadata": {},
   "outputs": [
    {
     "name": "stdout",
     "output_type": "stream",
     "text": [
      "a apparaît 0 fois\n",
      "b apparaît 0 fois\n",
      "c apparaît 0 fois\n",
      "d apparaît 0 fois\n",
      "e apparaît 1 fois\n",
      "f apparaît 0 fois\n",
      "g apparaît 1 fois\n",
      "h apparaît 0 fois\n",
      "i apparaît 0 fois\n",
      "j apparaît 0 fois\n",
      "k apparaît 1 fois\n",
      "l apparaît 1 fois\n",
      "m apparaît 0 fois\n",
      "n apparaît 1 fois\n",
      "o apparaît 0 fois\n",
      "p apparaît 0 fois\n",
      "q apparaît 0 fois\n",
      "r apparaît 0 fois\n",
      "s apparaît 0 fois\n",
      "t apparaît 1 fois\n",
      "u apparaît 2 fois\n",
      "v apparaît 0 fois\n",
      "w apparaît 0 fois\n",
      "x apparaît 0 fois\n",
      "y apparaît 2 fois\n",
      "z apparaît 0 fois\n",
      "A apparaît 0 fois\n",
      "B apparaît 0 fois\n",
      "C apparaît 0 fois\n",
      "D apparaît 0 fois\n",
      "E apparaît 0 fois\n",
      "F apparaît 2 fois\n",
      "G apparaît 0 fois\n",
      "H apparaît 0 fois\n",
      "I apparaît 1 fois\n",
      "J apparaît 0 fois\n",
      "K apparaît 1 fois\n",
      "L apparaît 0 fois\n",
      "M apparaît 1 fois\n",
      "N apparaît 0 fois\n",
      "O apparaît 1 fois\n",
      "P apparaît 1 fois\n",
      "Q apparaît 1 fois\n",
      "R apparaît 1 fois\n",
      "S apparaît 0 fois\n",
      "T apparaît 0 fois\n",
      "U apparaît 0 fois\n",
      "V apparaît 0 fois\n",
      "W apparaît 0 fois\n",
      "X apparaît 0 fois\n",
      "Y apparaît 0 fois\n",
      "Z apparaît 1 fois\n"
     ]
    }
   ],
   "source": [
    "valeurs_cherchees = string.ascii_letters\n",
    "for valeur_cherchee in valeurs_cherchees:\n",
    "    n = mot_aleatoire.count(valeur_cherchee)\n",
    "    print(f\"{valeur_cherchee} apparaît {n} fois\")"
   ]
  },
  {
   "cell_type": "markdown",
   "metadata": {},
   "source": [
    "# 9) les classes"
   ]
  },
  {
   "cell_type": "code",
   "execution_count": 267,
   "metadata": {},
   "outputs": [],
   "source": [
    "class oeuvre():\n",
    "    def __init__(self, auteur, titre ):\n",
    "        \"\"\"\n",
    "        Méthode d'instanciation\n",
    "        \"\"\"\n",
    "        self.auteur = auteur\n",
    "        self.titre  = titre\n",
    "    def __str__(self):\n",
    "        \"\"\"\n",
    "        Méthode d'affichage\n",
    "        \"\"\"\n",
    "        return f\"{self.auteur} : {self.titre}\""
   ]
  },
  {
   "cell_type": "code",
   "execution_count": 268,
   "metadata": {},
   "outputs": [],
   "source": [
    "guerre_et_paix = oeuvre(\"Tolstoi\", \"guerre et paix\")"
   ]
  },
  {
   "cell_type": "code",
   "execution_count": 270,
   "metadata": {},
   "outputs": [],
   "source": [
    "guerre_et_paix.nouvel_attribut = \"coucou\""
   ]
  },
  {
   "cell_type": "code",
   "execution_count": 273,
   "metadata": {},
   "outputs": [
    {
     "name": "stdout",
     "output_type": "stream",
     "text": [
      "Tolstoi : guerre et paix\n"
     ]
    }
   ],
   "source": [
    "print(guerre_et_paix)"
   ]
  },
  {
   "cell_type": "code",
   "execution_count": 274,
   "metadata": {},
   "outputs": [
    {
     "data": {
      "text/plain": [
       "'coucou'"
      ]
     },
     "execution_count": 274,
     "metadata": {},
     "output_type": "execute_result"
    }
   ],
   "source": [
    "guerre_et_paix.nouvel_attribut"
   ]
  },
  {
   "cell_type": "markdown",
   "metadata": {},
   "source": [
    "## 9.1) héritage de classe"
   ]
  },
  {
   "cell_type": "code",
   "execution_count": 295,
   "metadata": {},
   "outputs": [],
   "source": [
    "class sculpture(oeuvre): # sculpture hérite de la classe oeuvre\n",
    "    def __init__(self, auteur, titre, matériel):\n",
    "        self.matériel = matériel\n",
    "        super(sculpture, self).__init__(auteur, titre)\n",
    "        \n",
    "    def __str__(self):\n",
    "        return super(sculpture, self).__str__() + \\\n",
    "    \" sculpture en  \"+ self.matériel"
   ]
  },
  {
   "cell_type": "code",
   "execution_count": 311,
   "metadata": {},
   "outputs": [],
   "source": [
    "class livre(oeuvre): # sculpture hérite de la classe oeuvre\n",
    "    \n",
    "    def __init__(self, auteur, titre, nb_de_pages):\n",
    "        self.nb_de_pages = nb_de_pages\n",
    "        super(livre, self).__init__(auteur, titre)\n",
    "    \n",
    "    def __str__(self):\n",
    "        return f\"\"\"\n",
    "        {self.titre} de {self.auteur} avec {self.nb_de_pages} pages\n",
    "        \"\"\""
   ]
  },
  {
   "cell_type": "code",
   "execution_count": 312,
   "metadata": {},
   "outputs": [],
   "source": [
    "le_penseur = sculpture(\"Rodin\", \"le penseur\", \"bronze\")"
   ]
  },
  {
   "cell_type": "code",
   "execution_count": 313,
   "metadata": {},
   "outputs": [
    {
     "name": "stdout",
     "output_type": "stream",
     "text": [
      "Rodin : le penseur sculpture en  bronze\n"
     ]
    }
   ],
   "source": [
    "print(le_penseur)"
   ]
  },
  {
   "cell_type": "code",
   "execution_count": 314,
   "metadata": {},
   "outputs": [],
   "source": [
    "guerre_et_paix = livre(\"Tolstoi\", \"guerre et paix\", 1000)"
   ]
  },
  {
   "cell_type": "code",
   "execution_count": 315,
   "metadata": {},
   "outputs": [
    {
     "name": "stdout",
     "output_type": "stream",
     "text": [
      "\n",
      "        guerre et paix de Tolstoi avec 1000 pages\n",
      "        \n"
     ]
    }
   ],
   "source": [
    "print(guerre_et_paix)"
   ]
  },
  {
   "cell_type": "code",
   "execution_count": 316,
   "metadata": {},
   "outputs": [],
   "source": []
  },
  {
   "cell_type": "code",
   "execution_count": 342,
   "metadata": {},
   "outputs": [
    {
     "name": "stdout",
     "output_type": "stream",
     "text": [
      "[master 6f817a7] pour suivre\n",
      " 1 file changed, 1038 insertions(+)\n",
      "Enumerating objects: 5, done.\n",
      "Counting objects: 100% (5/5), done.\n",
      "Delta compression using up to 8 threads\n",
      "Compressing objects: 100% (3/3), done.\n",
      "Writing objects: 100% (3/3), 6.90 KiB | 3.45 MiB/s, done.\n",
      "Total 3 (delta 1), reused 0 (delta 0)\n",
      "remote: Resolving deltas: 100% (1/1), completed with 1 local object.\u001b[K\n",
      "To https://github.com/romainjouin/esilv_5a.git\n",
      "   3088a55..6f817a7  master -> master\n"
     ]
    }
   ],
   "source": [
    "!git add 20190906_IBO2_td_1.ipynb\n",
    "!git commit -m \"pour suivre\"\n",
    "\n",
    "!git push origin master"
   ]
  },
  {
   "cell_type": "markdown",
   "metadata": {},
   "source": [
    "# 10) Compter le nombre d'occurence par mot"
   ]
  },
  {
   "cell_type": "code",
   "execution_count": 330,
   "metadata": {},
   "outputs": [
    {
     "data": {
      "text/plain": [
       "['dM', 'uw', 'nX']"
      ]
     },
     "execution_count": 330,
     "metadata": {},
     "output_type": "execute_result"
    }
   ],
   "source": [
    "liste_de_mots = [random_string(2) for _ in range(1000)]\n",
    "liste_de_mots[:3]"
   ]
  },
  {
   "cell_type": "code",
   "execution_count": 331,
   "metadata": {},
   "outputs": [],
   "source": [
    "texte = \" \".join(liste_de_mots)"
   ]
  },
  {
   "cell_type": "code",
   "execution_count": 332,
   "metadata": {},
   "outputs": [
    {
     "data": {
      "text/plain": [
       "['dM', 'uw', 'nX']"
      ]
     },
     "execution_count": 332,
     "metadata": {},
     "output_type": "execute_result"
    }
   ],
   "source": [
    "_ = texte.split(\" \")\n",
    "_[:3]"
   ]
  },
  {
   "cell_type": "markdown",
   "metadata": {},
   "source": [
    "## 10.1) avec un dico"
   ]
  },
  {
   "cell_type": "code",
   "execution_count": 335,
   "metadata": {},
   "outputs": [],
   "source": [
    "dico = {}\n",
    "for mot in liste_de_mots:\n",
    "    if mot not in dico: \n",
    "        dico[mot] = 0\n",
    "\n",
    "    dico[mot] += 1"
   ]
  },
  {
   "cell_type": "markdown",
   "metadata": {},
   "source": [
    "## 10.2) avec un count et un set"
   ]
  },
  {
   "cell_type": "code",
   "execution_count": 337,
   "metadata": {},
   "outputs": [],
   "source": [
    "ensemble_unique_des_mots = set(liste_de_mots)\n",
    "resultat = {}\n",
    "for element in ensemble_unique_des_mots:\n",
    "    resultat[element] = liste_de_mots.count(element)\n",
    "    \n"
   ]
  },
  {
   "cell_type": "markdown",
   "metadata": {},
   "source": [
    "## 10.3) avec un defaultdict"
   ]
  },
  {
   "cell_type": "code",
   "execution_count": 338,
   "metadata": {},
   "outputs": [],
   "source": [
    "from collections import defaultdict\n",
    "dico = defaultdict(int)\n",
    "for mot in liste_de_mots:\n",
    "    dico[mot] += 1"
   ]
  },
  {
   "cell_type": "code",
   "execution_count": 340,
   "metadata": {},
   "outputs": [],
   "source": [
    "from collections import defaultdict\n",
    "dico = defaultdict(list)\n",
    "for mot in liste_de_mots:\n",
    "    dico[mot].append(mot)"
   ]
  },
  {
   "cell_type": "code",
   "execution_count": 341,
   "metadata": {},
   "outputs": [
    {
     "data": {
      "text/plain": [
       "defaultdict(list,\n",
       "            {'dM': ['dM'],\n",
       "             'uw': ['uw', 'uw'],\n",
       "             'nX': ['nX'],\n",
       "             'sC': ['sC'],\n",
       "             'nH': ['nH'],\n",
       "             'jn': ['jn'],\n",
       "             'Yw': ['Yw'],\n",
       "             'xN': ['xN'],\n",
       "             'il': ['il'],\n",
       "             'oA': ['oA'],\n",
       "             'Ib': ['Ib'],\n",
       "             'dG': ['dG'],\n",
       "             'EM': ['EM'],\n",
       "             'qo': ['qo', 'qo'],\n",
       "             'Pm': ['Pm'],\n",
       "             'uP': ['uP', 'uP'],\n",
       "             'zw': ['zw'],\n",
       "             'kr': ['kr', 'kr'],\n",
       "             'QT': ['QT'],\n",
       "             'eu': ['eu'],\n",
       "             'UY': ['UY'],\n",
       "             'HF': ['HF'],\n",
       "             'Ag': ['Ag'],\n",
       "             'UU': ['UU'],\n",
       "             'Kt': ['Kt'],\n",
       "             'og': ['og'],\n",
       "             'Eq': ['Eq', 'Eq'],\n",
       "             'Gp': ['Gp', 'Gp'],\n",
       "             'nt': ['nt'],\n",
       "             'Oh': ['Oh'],\n",
       "             'Xd': ['Xd', 'Xd'],\n",
       "             'sL': ['sL'],\n",
       "             'xq': ['xq'],\n",
       "             'bN': ['bN', 'bN'],\n",
       "             'JA': ['JA', 'JA'],\n",
       "             'bP': ['bP', 'bP', 'bP'],\n",
       "             'Nq': ['Nq', 'Nq'],\n",
       "             'Iw': ['Iw', 'Iw'],\n",
       "             'ZD': ['ZD'],\n",
       "             'Zd': ['Zd', 'Zd'],\n",
       "             'Ay': ['Ay'],\n",
       "             'lN': ['lN'],\n",
       "             'pn': ['pn'],\n",
       "             'Sp': ['Sp', 'Sp'],\n",
       "             'qA': ['qA'],\n",
       "             'Ow': ['Ow'],\n",
       "             'ff': ['ff'],\n",
       "             'GW': ['GW'],\n",
       "             'jQ': ['jQ'],\n",
       "             'do': ['do'],\n",
       "             'DC': ['DC'],\n",
       "             'pF': ['pF'],\n",
       "             'mA': ['mA'],\n",
       "             'ZA': ['ZA', 'ZA'],\n",
       "             'KP': ['KP'],\n",
       "             'Ji': ['Ji'],\n",
       "             'Zo': ['Zo'],\n",
       "             'vQ': ['vQ'],\n",
       "             'wk': ['wk'],\n",
       "             'MS': ['MS', 'MS', 'MS'],\n",
       "             'uE': ['uE'],\n",
       "             'Bt': ['Bt'],\n",
       "             'ZF': ['ZF', 'ZF', 'ZF'],\n",
       "             'zJ': ['zJ'],\n",
       "             'FS': ['FS'],\n",
       "             'gH': ['gH'],\n",
       "             'iz': ['iz'],\n",
       "             'eB': ['eB', 'eB'],\n",
       "             'sY': ['sY'],\n",
       "             'ti': ['ti'],\n",
       "             'yS': ['yS', 'yS'],\n",
       "             'Mg': ['Mg'],\n",
       "             'zr': ['zr'],\n",
       "             'Un': ['Un'],\n",
       "             'Ou': ['Ou', 'Ou'],\n",
       "             'Cr': ['Cr'],\n",
       "             'Wh': ['Wh', 'Wh', 'Wh'],\n",
       "             'yw': ['yw'],\n",
       "             'eC': ['eC', 'eC'],\n",
       "             'Tu': ['Tu'],\n",
       "             'ul': ['ul'],\n",
       "             'qY': ['qY'],\n",
       "             'oH': ['oH'],\n",
       "             'yz': ['yz'],\n",
       "             'nY': ['nY', 'nY'],\n",
       "             'mQ': ['mQ'],\n",
       "             'uG': ['uG'],\n",
       "             'EZ': ['EZ'],\n",
       "             'cs': ['cs', 'cs'],\n",
       "             'Ia': ['Ia'],\n",
       "             'Vc': ['Vc', 'Vc'],\n",
       "             'qh': ['qh'],\n",
       "             'KS': ['KS'],\n",
       "             'oa': ['oa'],\n",
       "             'au': ['au'],\n",
       "             'Vx': ['Vx', 'Vx', 'Vx'],\n",
       "             'br': ['br', 'br'],\n",
       "             'Ac': ['Ac'],\n",
       "             'Sy': ['Sy'],\n",
       "             'zC': ['zC'],\n",
       "             'ap': ['ap'],\n",
       "             'Lx': ['Lx', 'Lx'],\n",
       "             'lv': ['lv'],\n",
       "             'XQ': ['XQ', 'XQ'],\n",
       "             'Kx': ['Kx'],\n",
       "             'kj': ['kj'],\n",
       "             'fC': ['fC'],\n",
       "             'gs': ['gs'],\n",
       "             'ux': ['ux', 'ux', 'ux'],\n",
       "             'az': ['az'],\n",
       "             'kK': ['kK'],\n",
       "             'gY': ['gY'],\n",
       "             'VY': ['VY'],\n",
       "             'Ax': ['Ax', 'Ax'],\n",
       "             'GT': ['GT'],\n",
       "             'Wj': ['Wj', 'Wj'],\n",
       "             'AK': ['AK'],\n",
       "             'ou': ['ou'],\n",
       "             'xR': ['xR'],\n",
       "             'Ps': ['Ps'],\n",
       "             'ze': ['ze'],\n",
       "             'TD': ['TD'],\n",
       "             'bM': ['bM'],\n",
       "             'no': ['no'],\n",
       "             'PA': ['PA', 'PA'],\n",
       "             'Pn': ['Pn'],\n",
       "             'od': ['od'],\n",
       "             'ia': ['ia', 'ia'],\n",
       "             'cn': ['cn'],\n",
       "             'qH': ['qH'],\n",
       "             'Eh': ['Eh', 'Eh', 'Eh'],\n",
       "             'bO': ['bO'],\n",
       "             'yP': ['yP'],\n",
       "             'mj': ['mj'],\n",
       "             'wR': ['wR', 'wR'],\n",
       "             'NC': ['NC'],\n",
       "             'dp': ['dp'],\n",
       "             'iK': ['iK', 'iK', 'iK'],\n",
       "             'Zh': ['Zh'],\n",
       "             'zV': ['zV'],\n",
       "             'wQ': ['wQ'],\n",
       "             'En': ['En', 'En'],\n",
       "             'aP': ['aP', 'aP'],\n",
       "             'Tx': ['Tx'],\n",
       "             'mT': ['mT'],\n",
       "             'AX': ['AX'],\n",
       "             'zz': ['zz'],\n",
       "             'NQ': ['NQ'],\n",
       "             'FP': ['FP'],\n",
       "             'jA': ['jA'],\n",
       "             'mv': ['mv'],\n",
       "             'Lu': ['Lu'],\n",
       "             'Ke': ['Ke', 'Ke'],\n",
       "             'tJ': ['tJ', 'tJ'],\n",
       "             'YG': ['YG'],\n",
       "             'ee': ['ee'],\n",
       "             'sJ': ['sJ', 'sJ'],\n",
       "             'Iy': ['Iy'],\n",
       "             'Xp': ['Xp'],\n",
       "             'Cu': ['Cu'],\n",
       "             'yB': ['yB'],\n",
       "             'CI': ['CI', 'CI'],\n",
       "             'Vq': ['Vq', 'Vq'],\n",
       "             'pP': ['pP', 'pP'],\n",
       "             'tf': ['tf', 'tf'],\n",
       "             'uN': ['uN'],\n",
       "             'HN': ['HN'],\n",
       "             'oL': ['oL'],\n",
       "             'BJ': ['BJ'],\n",
       "             'lx': ['lx'],\n",
       "             'Qg': ['Qg'],\n",
       "             'jT': ['jT'],\n",
       "             'uX': ['uX'],\n",
       "             'YE': ['YE', 'YE'],\n",
       "             'hf': ['hf'],\n",
       "             'Wy': ['Wy'],\n",
       "             'ZN': ['ZN'],\n",
       "             'op': ['op'],\n",
       "             'yO': ['yO', 'yO'],\n",
       "             'RK': ['RK', 'RK'],\n",
       "             'qi': ['qi', 'qi', 'qi'],\n",
       "             'Bi': ['Bi', 'Bi'],\n",
       "             'jI': ['jI'],\n",
       "             'eZ': ['eZ'],\n",
       "             'TY': ['TY'],\n",
       "             'JH': ['JH'],\n",
       "             'Qy': ['Qy'],\n",
       "             'Wq': ['Wq'],\n",
       "             'nm': ['nm', 'nm'],\n",
       "             'zm': ['zm'],\n",
       "             'mK': ['mK'],\n",
       "             'Mu': ['Mu'],\n",
       "             'WA': ['WA'],\n",
       "             'Uy': ['Uy'],\n",
       "             'xA': ['xA'],\n",
       "             'sP': ['sP'],\n",
       "             'rU': ['rU', 'rU', 'rU'],\n",
       "             'ZO': ['ZO'],\n",
       "             'Cy': ['Cy', 'Cy'],\n",
       "             'Xb': ['Xb'],\n",
       "             'Po': ['Po'],\n",
       "             'CS': ['CS'],\n",
       "             'yM': ['yM'],\n",
       "             'Gz': ['Gz'],\n",
       "             'rN': ['rN'],\n",
       "             'Fs': ['Fs', 'Fs', 'Fs', 'Fs'],\n",
       "             'Nf': ['Nf'],\n",
       "             'lM': ['lM'],\n",
       "             'tB': ['tB'],\n",
       "             'PK': ['PK'],\n",
       "             'Pi': ['Pi'],\n",
       "             'Ro': ['Ro', 'Ro'],\n",
       "             'gT': ['gT'],\n",
       "             'Gh': ['Gh'],\n",
       "             'np': ['np'],\n",
       "             'Lb': ['Lb'],\n",
       "             'XX': ['XX', 'XX'],\n",
       "             'aT': ['aT'],\n",
       "             'BH': ['BH'],\n",
       "             'Ki': ['Ki'],\n",
       "             'DN': ['DN'],\n",
       "             'jN': ['jN'],\n",
       "             'Aa': ['Aa'],\n",
       "             'OA': ['OA'],\n",
       "             'pg': ['pg'],\n",
       "             'oX': ['oX'],\n",
       "             'oz': ['oz', 'oz'],\n",
       "             'rV': ['rV'],\n",
       "             'Gb': ['Gb'],\n",
       "             'kY': ['kY'],\n",
       "             'BX': ['BX'],\n",
       "             'TK': ['TK', 'TK'],\n",
       "             'IM': ['IM'],\n",
       "             'Dq': ['Dq'],\n",
       "             'fn': ['fn'],\n",
       "             'kT': ['kT'],\n",
       "             'nx': ['nx'],\n",
       "             'Sc': ['Sc'],\n",
       "             'fR': ['fR'],\n",
       "             'eO': ['eO', 'eO'],\n",
       "             'mO': ['mO', 'mO'],\n",
       "             'gu': ['gu'],\n",
       "             'tk': ['tk'],\n",
       "             'Rz': ['Rz'],\n",
       "             'Tl': ['Tl'],\n",
       "             'gF': ['gF'],\n",
       "             'vm': ['vm'],\n",
       "             'Ku': ['Ku'],\n",
       "             'GY': ['GY'],\n",
       "             'uj': ['uj'],\n",
       "             'Pr': ['Pr'],\n",
       "             'sV': ['sV', 'sV'],\n",
       "             'Jl': ['Jl', 'Jl'],\n",
       "             'CQ': ['CQ'],\n",
       "             'rs': ['rs'],\n",
       "             'Ju': ['Ju', 'Ju'],\n",
       "             'Hx': ['Hx'],\n",
       "             'CE': ['CE', 'CE'],\n",
       "             'ne': ['ne', 'ne'],\n",
       "             'Nd': ['Nd', 'Nd'],\n",
       "             'oR': ['oR'],\n",
       "             'Xx': ['Xx'],\n",
       "             'mW': ['mW'],\n",
       "             'zI': ['zI', 'zI', 'zI'],\n",
       "             'Ea': ['Ea'],\n",
       "             'TU': ['TU'],\n",
       "             'KA': ['KA'],\n",
       "             'fO': ['fO'],\n",
       "             'Te': ['Te'],\n",
       "             'yv': ['yv'],\n",
       "             'cE': ['cE'],\n",
       "             'Pb': ['Pb'],\n",
       "             'UB': ['UB'],\n",
       "             'ld': ['ld', 'ld'],\n",
       "             'Uf': ['Uf', 'Uf'],\n",
       "             'Zl': ['Zl'],\n",
       "             'EG': ['EG'],\n",
       "             'eP': ['eP'],\n",
       "             'cN': ['cN'],\n",
       "             'TM': ['TM'],\n",
       "             'fM': ['fM'],\n",
       "             'Jz': ['Jz'],\n",
       "             'qZ': ['qZ'],\n",
       "             'uv': ['uv'],\n",
       "             'GD': ['GD'],\n",
       "             'WT': ['WT'],\n",
       "             'mc': ['mc'],\n",
       "             'tX': ['tX'],\n",
       "             'MT': ['MT', 'MT'],\n",
       "             'ma': ['ma', 'ma'],\n",
       "             'Fu': ['Fu'],\n",
       "             'mS': ['mS'],\n",
       "             'CD': ['CD', 'CD'],\n",
       "             'oc': ['oc'],\n",
       "             'TH': ['TH'],\n",
       "             'uO': ['uO', 'uO'],\n",
       "             'Nt': ['Nt'],\n",
       "             'iC': ['iC'],\n",
       "             'cI': ['cI'],\n",
       "             'UJ': ['UJ', 'UJ'],\n",
       "             'xC': ['xC', 'xC'],\n",
       "             'ad': ['ad', 'ad'],\n",
       "             'wA': ['wA'],\n",
       "             'DH': ['DH'],\n",
       "             'xY': ['xY', 'xY'],\n",
       "             'mz': ['mz'],\n",
       "             'bV': ['bV'],\n",
       "             'Lv': ['Lv'],\n",
       "             'bG': ['bG'],\n",
       "             'XK': ['XK'],\n",
       "             'Fp': ['Fp'],\n",
       "             'EO': ['EO'],\n",
       "             'lP': ['lP', 'lP'],\n",
       "             'qV': ['qV'],\n",
       "             'dT': ['dT'],\n",
       "             'Ty': ['Ty'],\n",
       "             'hI': ['hI'],\n",
       "             'Zj': ['Zj'],\n",
       "             'yi': ['yi'],\n",
       "             'MM': ['MM'],\n",
       "             'Pt': ['Pt'],\n",
       "             'In': ['In'],\n",
       "             'nB': ['nB'],\n",
       "             'DV': ['DV'],\n",
       "             'Rl': ['Rl'],\n",
       "             'hq': ['hq', 'hq', 'hq'],\n",
       "             'UM': ['UM'],\n",
       "             'QL': ['QL', 'QL'],\n",
       "             'bm': ['bm'],\n",
       "             'uq': ['uq'],\n",
       "             'Xu': ['Xu'],\n",
       "             'Em': ['Em'],\n",
       "             'MP': ['MP'],\n",
       "             'dn': ['dn'],\n",
       "             'Vo': ['Vo'],\n",
       "             'Xi': ['Xi'],\n",
       "             'vo': ['vo', 'vo'],\n",
       "             'AJ': ['AJ', 'AJ'],\n",
       "             'UQ': ['UQ'],\n",
       "             'oP': ['oP'],\n",
       "             'mZ': ['mZ'],\n",
       "             'MO': ['MO'],\n",
       "             'su': ['su', 'su'],\n",
       "             'Fh': ['Fh'],\n",
       "             'jO': ['jO'],\n",
       "             'BK': ['BK'],\n",
       "             'lZ': ['lZ'],\n",
       "             'mY': ['mY'],\n",
       "             'Vd': ['Vd'],\n",
       "             'IH': ['IH'],\n",
       "             'xa': ['xa'],\n",
       "             'MD': ['MD'],\n",
       "             'fG': ['fG'],\n",
       "             'vv': ['vv'],\n",
       "             'dv': ['dv', 'dv'],\n",
       "             'Ny': ['Ny'],\n",
       "             'pd': ['pd'],\n",
       "             'jV': ['jV'],\n",
       "             'hu': ['hu'],\n",
       "             'ri': ['ri'],\n",
       "             'NM': ['NM'],\n",
       "             'Yg': ['Yg', 'Yg'],\n",
       "             'Up': ['Up'],\n",
       "             'hE': ['hE'],\n",
       "             'LQ': ['LQ'],\n",
       "             'sK': ['sK', 'sK'],\n",
       "             'Vz': ['Vz'],\n",
       "             'Ga': ['Ga'],\n",
       "             'Yx': ['Yx'],\n",
       "             'QY': ['QY'],\n",
       "             'Ux': ['Ux'],\n",
       "             'vb': ['vb'],\n",
       "             'Bg': ['Bg'],\n",
       "             'rn': ['rn'],\n",
       "             'PD': ['PD'],\n",
       "             'YU': ['YU'],\n",
       "             'tQ': ['tQ'],\n",
       "             'fE': ['fE'],\n",
       "             'RJ': ['RJ'],\n",
       "             'Kv': ['Kv'],\n",
       "             'MR': ['MR'],\n",
       "             'dd': ['dd', 'dd'],\n",
       "             'ws': ['ws'],\n",
       "             'Rd': ['Rd'],\n",
       "             'WY': ['WY'],\n",
       "             'Uj': ['Uj'],\n",
       "             'so': ['so'],\n",
       "             'Sm': ['Sm'],\n",
       "             'Ut': ['Ut'],\n",
       "             'BT': ['BT', 'BT'],\n",
       "             'rR': ['rR'],\n",
       "             'se': ['se', 'se'],\n",
       "             'cu': ['cu'],\n",
       "             'VV': ['VV'],\n",
       "             'yd': ['yd', 'yd'],\n",
       "             'Oe': ['Oe'],\n",
       "             'zE': ['zE'],\n",
       "             'RZ': ['RZ'],\n",
       "             'ho': ['ho', 'ho'],\n",
       "             'Mc': ['Mc', 'Mc'],\n",
       "             'tt': ['tt'],\n",
       "             'Lm': ['Lm'],\n",
       "             'EH': ['EH'],\n",
       "             'Vs': ['Vs', 'Vs'],\n",
       "             'om': ['om'],\n",
       "             'Tq': ['Tq'],\n",
       "             'hy': ['hy'],\n",
       "             'IL': ['IL'],\n",
       "             'Ts': ['Ts', 'Ts'],\n",
       "             'qz': ['qz'],\n",
       "             'OB': ['OB', 'OB'],\n",
       "             'IY': ['IY'],\n",
       "             'Rv': ['Rv'],\n",
       "             'XC': ['XC'],\n",
       "             'Vb': ['Vb'],\n",
       "             'FX': ['FX'],\n",
       "             'OD': ['OD'],\n",
       "             'ol': ['ol', 'ol'],\n",
       "             'nT': ['nT'],\n",
       "             'Ot': ['Ot'],\n",
       "             'QG': ['QG', 'QG'],\n",
       "             'wi': ['wi'],\n",
       "             'Fy': ['Fy'],\n",
       "             'kJ': ['kJ'],\n",
       "             'fV': ['fV'],\n",
       "             'jw': ['jw'],\n",
       "             'jc': ['jc'],\n",
       "             'jd': ['jd'],\n",
       "             'RH': ['RH'],\n",
       "             'ZC': ['ZC'],\n",
       "             'zy': ['zy'],\n",
       "             'ZE': ['ZE'],\n",
       "             'zO': ['zO'],\n",
       "             'ZS': ['ZS'],\n",
       "             'Rt': ['Rt'],\n",
       "             'if': ['if', 'if'],\n",
       "             'px': ['px', 'px'],\n",
       "             'zW': ['zW'],\n",
       "             'UE': ['UE'],\n",
       "             'HU': ['HU'],\n",
       "             'MJ': ['MJ'],\n",
       "             'Pg': ['Pg'],\n",
       "             'OJ': ['OJ', 'OJ'],\n",
       "             'Zk': ['Zk'],\n",
       "             'RW': ['RW'],\n",
       "             'gk': ['gk'],\n",
       "             'DZ': ['DZ'],\n",
       "             'VW': ['VW'],\n",
       "             'UF': ['UF'],\n",
       "             'sD': ['sD'],\n",
       "             'rg': ['rg'],\n",
       "             'vl': ['vl', 'vl'],\n",
       "             'RC': ['RC'],\n",
       "             'bQ': ['bQ'],\n",
       "             'ZH': ['ZH'],\n",
       "             'BI': ['BI'],\n",
       "             'fY': ['fY'],\n",
       "             'Kr': ['Kr'],\n",
       "             'Fd': ['Fd'],\n",
       "             'cw': ['cw'],\n",
       "             'Sa': ['Sa'],\n",
       "             'Ge': ['Ge'],\n",
       "             'YK': ['YK'],\n",
       "             'Td': ['Td'],\n",
       "             'VC': ['VC'],\n",
       "             'jx': ['jx'],\n",
       "             'El': ['El'],\n",
       "             'TA': ['TA'],\n",
       "             'Bs': ['Bs'],\n",
       "             'rM': ['rM', 'rM'],\n",
       "             'JV': ['JV'],\n",
       "             'VZ': ['VZ'],\n",
       "             'yx': ['yx'],\n",
       "             'Cs': ['Cs'],\n",
       "             'Ip': ['Ip'],\n",
       "             'aL': ['aL'],\n",
       "             'up': ['up'],\n",
       "             'ya': ['ya'],\n",
       "             'Xo': ['Xo'],\n",
       "             'PM': ['PM'],\n",
       "             'WO': ['WO', 'WO'],\n",
       "             'jj': ['jj'],\n",
       "             'nQ': ['nQ'],\n",
       "             'ef': ['ef'],\n",
       "             'wv': ['wv'],\n",
       "             'jk': ['jk'],\n",
       "             'vn': ['vn'],\n",
       "             'oU': ['oU'],\n",
       "             'je': ['je'],\n",
       "             'RY': ['RY', 'RY'],\n",
       "             'gM': ['gM'],\n",
       "             'lz': ['lz'],\n",
       "             'Tr': ['Tr', 'Tr'],\n",
       "             'vS': ['vS'],\n",
       "             'RA': ['RA'],\n",
       "             'Gw': ['Gw'],\n",
       "             'bF': ['bF'],\n",
       "             'GS': ['GS', 'GS'],\n",
       "             'in': ['in'],\n",
       "             'hn': ['hn'],\n",
       "             'WM': ['WM'],\n",
       "             'ax': ['ax'],\n",
       "             'Xk': ['Xk'],\n",
       "             'iM': ['iM'],\n",
       "             'zA': ['zA'],\n",
       "             'Eb': ['Eb'],\n",
       "             'LD': ['LD', 'LD'],\n",
       "             'qj': ['qj'],\n",
       "             'yI': ['yI'],\n",
       "             'Wd': ['Wd'],\n",
       "             'ES': ['ES'],\n",
       "             'Nb': ['Nb', 'Nb'],\n",
       "             'zX': ['zX', 'zX'],\n",
       "             'lW': ['lW'],\n",
       "             'st': ['st'],\n",
       "             'Zb': ['Zb'],\n",
       "             'Os': ['Os'],\n",
       "             'Kd': ['Kd'],\n",
       "             'Iv': ['Iv'],\n",
       "             'df': ['df'],\n",
       "             'CX': ['CX', 'CX'],\n",
       "             'oT': ['oT'],\n",
       "             'kM': ['kM'],\n",
       "             'LZ': ['LZ'],\n",
       "             'YV': ['YV'],\n",
       "             'uy': ['uy'],\n",
       "             'At': ['At'],\n",
       "             'Mo': ['Mo', 'Mo'],\n",
       "             'pq': ['pq'],\n",
       "             'Ok': ['Ok'],\n",
       "             'cK': ['cK'],\n",
       "             'Gs': ['Gs'],\n",
       "             'XN': ['XN'],\n",
       "             'oh': ['oh'],\n",
       "             'Ct': ['Ct'],\n",
       "             'iT': ['iT'],\n",
       "             'qE': ['qE', 'qE'],\n",
       "             'ab': ['ab'],\n",
       "             'ja': ['ja'],\n",
       "             'Qd': ['Qd'],\n",
       "             'pa': ['pa'],\n",
       "             'CF': ['CF'],\n",
       "             'GF': ['GF'],\n",
       "             'iF': ['iF'],\n",
       "             'OO': ['OO'],\n",
       "             'Xr': ['Xr'],\n",
       "             'rT': ['rT'],\n",
       "             'JN': ['JN'],\n",
       "             'lJ': ['lJ'],\n",
       "             'xX': ['xX'],\n",
       "             'Pc': ['Pc'],\n",
       "             'YR': ['YR'],\n",
       "             'tF': ['tF'],\n",
       "             'HS': ['HS'],\n",
       "             'SK': ['SK'],\n",
       "             'ED': ['ED'],\n",
       "             'xZ': ['xZ'],\n",
       "             'Uz': ['Uz'],\n",
       "             'ui': ['ui'],\n",
       "             'zh': ['zh'],\n",
       "             'GE': ['GE'],\n",
       "             'sF': ['sF'],\n",
       "             'AR': ['AR'],\n",
       "             'Xh': ['Xh'],\n",
       "             'Yc': ['Yc'],\n",
       "             'UL': ['UL', 'UL'],\n",
       "             'aj': ['aj'],\n",
       "             'jv': ['jv'],\n",
       "             'Xt': ['Xt', 'Xt'],\n",
       "             'wd': ['wd'],\n",
       "             'iA': ['iA'],\n",
       "             'gR': ['gR'],\n",
       "             'VS': ['VS'],\n",
       "             'nc': ['nc'],\n",
       "             'bY': ['bY'],\n",
       "             'Nr': ['Nr'],\n",
       "             'Jp': ['Jp'],\n",
       "             'GK': ['GK'],\n",
       "             'rB': ['rB'],\n",
       "             'Sk': ['Sk'],\n",
       "             'cJ': ['cJ'],\n",
       "             'cd': ['cd'],\n",
       "             'fh': ['fh'],\n",
       "             'nI': ['nI'],\n",
       "             'vC': ['vC', 'vC'],\n",
       "             'FB': ['FB'],\n",
       "             'fx': ['fx'],\n",
       "             'nn': ['nn'],\n",
       "             'rl': ['rl'],\n",
       "             'yf': ['yf'],\n",
       "             'vP': ['vP'],\n",
       "             'BU': ['BU', 'BU'],\n",
       "             'aa': ['aa'],\n",
       "             'cy': ['cy'],\n",
       "             'tT': ['tT'],\n",
       "             'UN': ['UN'],\n",
       "             'wu': ['wu'],\n",
       "             'OI': ['OI', 'OI'],\n",
       "             'fZ': ['fZ'],\n",
       "             'Fw': ['Fw'],\n",
       "             'KT': ['KT'],\n",
       "             'FN': ['FN', 'FN'],\n",
       "             'Gf': ['Gf'],\n",
       "             'YL': ['YL'],\n",
       "             'YB': ['YB'],\n",
       "             'Se': ['Se'],\n",
       "             'sS': ['sS'],\n",
       "             'wp': ['wp'],\n",
       "             'Ol': ['Ol', 'Ol'],\n",
       "             'kZ': ['kZ'],\n",
       "             'ai': ['ai'],\n",
       "             'JX': ['JX', 'JX'],\n",
       "             'yJ': ['yJ'],\n",
       "             'vA': ['vA'],\n",
       "             'xG': ['xG'],\n",
       "             'uA': ['uA', 'uA'],\n",
       "             'db': ['db'],\n",
       "             'kA': ['kA', 'kA'],\n",
       "             'Ep': ['Ep'],\n",
       "             'NP': ['NP'],\n",
       "             'nk': ['nk'],\n",
       "             'Cb': ['Cb'],\n",
       "             'Om': ['Om'],\n",
       "             'eV': ['eV'],\n",
       "             'Lh': ['Lh'],\n",
       "             'ur': ['ur'],\n",
       "             'BA': ['BA', 'BA'],\n",
       "             'oj': ['oj'],\n",
       "             'nC': ['nC'],\n",
       "             'lR': ['lR'],\n",
       "             'mg': ['mg'],\n",
       "             'QP': ['QP'],\n",
       "             'eE': ['eE'],\n",
       "             'Gc': ['Gc'],\n",
       "             'Ij': ['Ij'],\n",
       "             'xf': ['xf'],\n",
       "             'pY': ['pY'],\n",
       "             'mq': ['mq'],\n",
       "             'ko': ['ko'],\n",
       "             'Ra': ['Ra'],\n",
       "             'bd': ['bd'],\n",
       "             'QR': ['QR'],\n",
       "             'YZ': ['YZ'],\n",
       "             'TP': ['TP'],\n",
       "             'UT': ['UT'],\n",
       "             'AY': ['AY', 'AY'],\n",
       "             'Cp': ['Cp'],\n",
       "             'dk': ['dk'],\n",
       "             'eG': ['eG'],\n",
       "             'ub': ['ub'],\n",
       "             'gv': ['gv'],\n",
       "             'hh': ['hh'],\n",
       "             'DY': ['DY'],\n",
       "             'Wf': ['Wf'],\n",
       "             'hb': ['hb'],\n",
       "             'iE': ['iE'],\n",
       "             'ym': ['ym'],\n",
       "             'QM': ['QM', 'QM'],\n",
       "             'FV': ['FV'],\n",
       "             'Zc': ['Zc'],\n",
       "             'XU': ['XU'],\n",
       "             'ua': ['ua', 'ua'],\n",
       "             'eh': ['eh'],\n",
       "             'MY': ['MY', 'MY'],\n",
       "             'Lf': ['Lf', 'Lf'],\n",
       "             'hp': ['hp'],\n",
       "             'lw': ['lw'],\n",
       "             'KV': ['KV'],\n",
       "             'OW': ['OW'],\n",
       "             'dc': ['dc'],\n",
       "             'ib': ['ib'],\n",
       "             'qb': ['qb'],\n",
       "             'rC': ['rC'],\n",
       "             'dU': ['dU'],\n",
       "             'wq': ['wq'],\n",
       "             'hV': ['hV'],\n",
       "             'qW': ['qW'],\n",
       "             'sU': ['sU'],\n",
       "             'SB': ['SB'],\n",
       "             'es': ['es', 'es'],\n",
       "             'bi': ['bi'],\n",
       "             'ht': ['ht'],\n",
       "             'HD': ['HD'],\n",
       "             'Ru': ['Ru'],\n",
       "             'Pf': ['Pf'],\n",
       "             'PO': ['PO'],\n",
       "             'Nz': ['Nz', 'Nz'],\n",
       "             'rY': ['rY'],\n",
       "             'dB': ['dB'],\n",
       "             'tz': ['tz'],\n",
       "             'qX': ['qX'],\n",
       "             'Qo': ['Qo'],\n",
       "             'PI': ['PI'],\n",
       "             'ON': ['ON'],\n",
       "             'Zf': ['Zf'],\n",
       "             'Ce': ['Ce'],\n",
       "             'nd': ['nd'],\n",
       "             'wb': ['wb'],\n",
       "             'LS': ['LS'],\n",
       "             'SX': ['SX'],\n",
       "             'iI': ['iI'],\n",
       "             'um': ['um'],\n",
       "             'rd': ['rd'],\n",
       "             'tV': ['tV'],\n",
       "             'LO': ['LO'],\n",
       "             'xI': ['xI'],\n",
       "             'QA': ['QA'],\n",
       "             'Sb': ['Sb'],\n",
       "             'DT': ['DT'],\n",
       "             'Bj': ['Bj'],\n",
       "             'WK': ['WK'],\n",
       "             'Bm': ['Bm'],\n",
       "             'gm': ['gm'],\n",
       "             'Yl': ['Yl'],\n",
       "             'OK': ['OK'],\n",
       "             'kp': ['kp'],\n",
       "             'xk': ['xk'],\n",
       "             'er': ['er'],\n",
       "             'rx': ['rx'],\n",
       "             'iD': ['iD'],\n",
       "             'Uc': ['Uc'],\n",
       "             'SD': ['SD'],\n",
       "             'Dc': ['Dc'],\n",
       "             'mN': ['mN'],\n",
       "             'IB': ['IB'],\n",
       "             'Pv': ['Pv'],\n",
       "             'Pu': ['Pu'],\n",
       "             'tL': ['tL'],\n",
       "             'Ta': ['Ta'],\n",
       "             'As': ['As'],\n",
       "             'Jk': ['Jk', 'Jk'],\n",
       "             'UO': ['UO'],\n",
       "             'Md': ['Md'],\n",
       "             'Yd': ['Yd'],\n",
       "             'mH': ['mH'],\n",
       "             'dC': ['dC'],\n",
       "             'Mb': ['Mb'],\n",
       "             'aD': ['aD'],\n",
       "             'wD': ['wD'],\n",
       "             'XW': ['XW'],\n",
       "             'pT': ['pT'],\n",
       "             'DB': ['DB'],\n",
       "             'TV': ['TV'],\n",
       "             'Me': ['Me'],\n",
       "             'MB': ['MB'],\n",
       "             'eK': ['eK'],\n",
       "             'dj': ['dj'],\n",
       "             'Bu': ['Bu'],\n",
       "             'kv': ['kv'],\n",
       "             'gq': ['gq'],\n",
       "             'Ls': ['Ls'],\n",
       "             'Rq': ['Rq'],\n",
       "             'pk': ['pk'],\n",
       "             'Cj': ['Cj'],\n",
       "             'AV': ['AV'],\n",
       "             'WG': ['WG'],\n",
       "             'rW': ['rW'],\n",
       "             'Zz': ['Zz'],\n",
       "             'ix': ['ix'],\n",
       "             'tb': ['tb'],\n",
       "             'Tw': ['Tw'],\n",
       "             'PV': ['PV'],\n",
       "             'IQ': ['IQ'],\n",
       "             'SE': ['SE'],\n",
       "             'YW': ['YW'],\n",
       "             'lc': ['lc'],\n",
       "             'PS': ['PS'],\n",
       "             'Ae': ['Ae'],\n",
       "             'ZG': ['ZG'],\n",
       "             'pK': ['pK'],\n",
       "             'hA': ['hA'],\n",
       "             'wB': ['wB'],\n",
       "             'TG': ['TG'],\n",
       "             'Es': ['Es'],\n",
       "             'bh': ['bh'],\n",
       "             'LU': ['LU'],\n",
       "             'lG': ['lG'],\n",
       "             'Lz': ['Lz'],\n",
       "             'Id': ['Id'],\n",
       "             'rh': ['rh'],\n",
       "             'NE': ['NE'],\n",
       "             'UX': ['UX'],\n",
       "             'tv': ['tv'],\n",
       "             'PP': ['PP'],\n",
       "             'hS': ['hS'],\n",
       "             'Qm': ['Qm'],\n",
       "             'AH': ['AH'],\n",
       "             'kS': ['kS'],\n",
       "             'Hk': ['Hk'],\n",
       "             'Fg': ['Fg'],\n",
       "             'SZ': ['SZ'],\n",
       "             'Kq': ['Kq'],\n",
       "             'xw': ['xw'],\n",
       "             'Hd': ['Hd'],\n",
       "             'JG': ['JG'],\n",
       "             'zu': ['zu'],\n",
       "             'VT': ['VT'],\n",
       "             'Ym': ['Ym'],\n",
       "             'vH': ['vH'],\n",
       "             'mx': ['mx'],\n",
       "             'Dn': ['Dn'],\n",
       "             'Uw': ['Uw'],\n",
       "             'De': ['De'],\n",
       "             'yV': ['yV'],\n",
       "             'EB': ['EB'],\n",
       "             'DM': ['DM'],\n",
       "             'Hj': ['Hj'],\n",
       "             'MN': ['MN'],\n",
       "             'iy': ['iy'],\n",
       "             'Kb': ['Kb'],\n",
       "             'uc': ['uc'],\n",
       "             'iv': ['iv'],\n",
       "             'ep': ['ep'],\n",
       "             'vU': ['vU'],\n",
       "             'fI': ['fI'],\n",
       "             'vM': ['vM'],\n",
       "             'Ko': ['Ko', 'Ko'],\n",
       "             'rm': ['rm'],\n",
       "             'vg': ['vg'],\n",
       "             'ud': ['ud'],\n",
       "             'Wi': ['Wi'],\n",
       "             'Fe': ['Fe'],\n",
       "             'uU': ['uU'],\n",
       "             'Ub': ['Ub'],\n",
       "             'zs': ['zs'],\n",
       "             'Dv': ['Dv'],\n",
       "             'GZ': ['GZ'],\n",
       "             'oN': ['oN'],\n",
       "             'zT': ['zT'],\n",
       "             'ke': ['ke'],\n",
       "             'lD': ['lD'],\n",
       "             'Uq': ['Uq'],\n",
       "             'HA': ['HA'],\n",
       "             'Uu': ['Uu'],\n",
       "             'wN': ['wN'],\n",
       "             'cx': ['cx'],\n",
       "             'XO': ['XO'],\n",
       "             'Sz': ['Sz'],\n",
       "             'My': ['My'],\n",
       "             'GQ': ['GQ'],\n",
       "             'gD': ['gD'],\n",
       "             'rA': ['rA'],\n",
       "             'OM': ['OM'],\n",
       "             'pB': ['pB'],\n",
       "             'wI': ['wI'],\n",
       "             'rp': ['rp'],\n",
       "             'fT': ['fT'],\n",
       "             'Gr': ['Gr'],\n",
       "             'zL': ['zL'],\n",
       "             'jW': ['jW'],\n",
       "             'zj': ['zj'],\n",
       "             'Fa': ['Fa'],\n",
       "             'PL': ['PL']})"
      ]
     },
     "execution_count": 341,
     "metadata": {},
     "output_type": "execute_result"
    }
   ],
   "source": [
    "dico"
   ]
  },
  {
   "cell_type": "code",
   "execution_count": null,
   "metadata": {},
   "outputs": [],
   "source": []
  }
 ],
 "metadata": {
  "kernelspec": {
   "display_name": "Python 3",
   "language": "python",
   "name": "python3"
  },
  "language_info": {
   "codemirror_mode": {
    "name": "ipython",
    "version": 3
   },
   "file_extension": ".py",
   "mimetype": "text/x-python",
   "name": "python",
   "nbconvert_exporter": "python",
   "pygments_lexer": "ipython3",
   "version": "3.7.3"
  }
 },
 "nbformat": 4,
 "nbformat_minor": 2
}
