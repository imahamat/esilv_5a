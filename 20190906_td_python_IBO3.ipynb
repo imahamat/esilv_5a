{
 "cells": [
  {
   "cell_type": "code",
   "execution_count": 1,
   "metadata": {},
   "outputs": [
    {
     "name": "stdout",
     "output_type": "stream",
     "text": [
      "Hello world !\n"
     ]
    }
   ],
   "source": [
    "print(\"Hello world !\")"
   ]
  },
  {
   "cell_type": "markdown",
   "metadata": {},
   "source": [
    "# Manipulation de jupyter : \n",
    "## Sortie de cellule = ESC\n",
    "- ajouter une cellule en dessous : B\n",
    "- ajouter une cellule au dessus : A\n",
    "- Supprimer une cellule : DD\n",
    "- Transformer une cellule en MarkDown : M\n",
    "\n",
    "\n",
    "## Entrée de cellule = Enter\n",
    "- Exécuter du code : ALT + ENTER => exécute et active la cellule du dessous\n",
    "- Exécuter du code : CTRL + ENTER => exécute  la cellule et reste dedans\n",
    "\n"
   ]
  },
  {
   "cell_type": "markdown",
   "metadata": {},
   "source": [
    "Appel de commandes systèmes avec le point d'exclamation"
   ]
  },
  {
   "cell_type": "code",
   "execution_count": 83,
   "metadata": {},
   "outputs": [
    {
     "name": "stdout",
     "output_type": "stream",
     "text": [
      "origin\thttps://github.com/romainjouin/esilv_5a.git (fetch)\r\n",
      "origin\thttps://github.com/romainjouin/esilv_5a.git (push)\r\n"
     ]
    }
   ],
   "source": [
    "!git remote -v"
   ]
  },
  {
   "cell_type": "code",
   "execution_count": 469,
   "metadata": {},
   "outputs": [
    {
     "name": "stdout",
     "output_type": "stream",
     "text": [
      "[master 26564cd] fin\n",
      " 1 file changed, 24 insertions(+), 24 deletions(-)\n",
      "Enumerating objects: 5, done.\n",
      "Counting objects: 100% (5/5), done.\n",
      "Delta compression using up to 8 threads\n",
      "Compressing objects: 100% (3/3), done.\n",
      "Writing objects: 100% (3/3), 607 bytes | 607.00 KiB/s, done.\n",
      "Total 3 (delta 2), reused 0 (delta 0)\n",
      "remote: Resolving deltas: 100% (2/2), completed with 2 local objects.\u001b[K\n",
      "To https://github.com/romainjouin/esilv_5a.git\n",
      "   a555d79..26564cd  master -> master\n"
     ]
    }
   ],
   "source": [
    "!git add 20190906_td_python_IBO3.ipynb\n",
    "!git commit -m \"fin\"\n",
    "!git push origin master"
   ]
  },
  {
   "cell_type": "markdown",
   "metadata": {},
   "source": [
    "# 1) les listes"
   ]
  },
  {
   "cell_type": "code",
   "execution_count": 45,
   "metadata": {},
   "outputs": [
    {
     "data": {
      "text/plain": [
       "[1, 2, 3, 4, 5, 'a', 'b', 'c', ['une autre liste']]"
      ]
     },
     "execution_count": 45,
     "metadata": {},
     "output_type": "execute_result"
    }
   ],
   "source": [
    "une_liste = [1,2,3,4,5, \"a\", \"b\", \"c\", [\"une autre liste\"]]\n",
    "une_liste"
   ]
  },
  {
   "cell_type": "markdown",
   "metadata": {},
   "source": [
    "## 1.1) longueur de liste"
   ]
  },
  {
   "cell_type": "code",
   "execution_count": 47,
   "metadata": {},
   "outputs": [
    {
     "data": {
      "text/plain": [
       "9"
      ]
     },
     "execution_count": 47,
     "metadata": {},
     "output_type": "execute_result"
    }
   ],
   "source": [
    "len(une_liste)"
   ]
  },
  {
   "cell_type": "markdown",
   "metadata": {},
   "source": [
    "## 1.2) sous ensemble"
   ]
  },
  {
   "cell_type": "code",
   "execution_count": 49,
   "metadata": {},
   "outputs": [
    {
     "data": {
      "text/plain": [
       "2"
      ]
     },
     "execution_count": 49,
     "metadata": {},
     "output_type": "execute_result"
    }
   ],
   "source": [
    "indice_position = 1\n",
    "une_liste[indice_position]"
   ]
  },
  {
   "cell_type": "markdown",
   "metadata": {},
   "source": [
    "## 1.3) slicing"
   ]
  },
  {
   "cell_type": "code",
   "execution_count": 57,
   "metadata": {},
   "outputs": [
    {
     "data": {
      "text/plain": [
       "[2, 3, 4, 5]"
      ]
     },
     "execution_count": 57,
     "metadata": {},
     "output_type": "execute_result"
    }
   ],
   "source": [
    "# éléments 1 à 4 (le 5 est pas inclu)\n",
    "une_liste[1:5]"
   ]
  },
  {
   "cell_type": "code",
   "execution_count": 58,
   "metadata": {},
   "outputs": [
    {
     "data": {
      "text/plain": [
       "['une autre liste']"
      ]
     },
     "execution_count": 58,
     "metadata": {},
     "output_type": "execute_result"
    }
   ],
   "source": [
    "# dernier élément : -1\n",
    "une_liste[-1] "
   ]
  },
  {
   "cell_type": "code",
   "execution_count": 60,
   "metadata": {},
   "outputs": [
    {
     "data": {
      "text/plain": [
       "['b', 'c', ['une autre liste']]"
      ]
     },
     "execution_count": 60,
     "metadata": {},
     "output_type": "execute_result"
    }
   ],
   "source": [
    "# les trois derniers éléments : \"-3:\"\n",
    "une_liste[-3:]"
   ]
  },
  {
   "cell_type": "code",
   "execution_count": 61,
   "metadata": {},
   "outputs": [
    {
     "data": {
      "text/plain": [
       "[1, 3, 5, 'b', ['une autre liste']]"
      ]
     },
     "execution_count": 61,
     "metadata": {},
     "output_type": "execute_result"
    }
   ],
   "source": [
    "# un élément sur 2\n",
    "une_liste[::2]"
   ]
  },
  {
   "cell_type": "code",
   "execution_count": 62,
   "metadata": {},
   "outputs": [
    {
     "data": {
      "text/plain": [
       "[1, 3, 5, 'b', ['une autre liste']]"
      ]
     },
     "execution_count": 62,
     "metadata": {},
     "output_type": "execute_result"
    }
   ],
   "source": [
    "pas = 2\n",
    "une_liste[::pas]"
   ]
  },
  {
   "cell_type": "markdown",
   "metadata": {},
   "source": [
    "## 1.2) attention : itérateurs"
   ]
  },
  {
   "cell_type": "code",
   "execution_count": 68,
   "metadata": {},
   "outputs": [],
   "source": [
    "un_dix = list(range(10))"
   ]
  },
  {
   "cell_type": "code",
   "execution_count": 69,
   "metadata": {},
   "outputs": [
    {
     "data": {
      "text/plain": [
       "[0, 2, 4, 6, 8]"
      ]
     },
     "execution_count": 69,
     "metadata": {},
     "output_type": "execute_result"
    }
   ],
   "source": [
    "un_dix[::2]"
   ]
  },
  {
   "cell_type": "code",
   "execution_count": 71,
   "metadata": {},
   "outputs": [
    {
     "data": {
      "text/plain": [
       "[3, 5, 7, 9]"
      ]
     },
     "execution_count": 71,
     "metadata": {},
     "output_type": "execute_result"
    }
   ],
   "source": [
    "un_dix[3::2] # un élément sur deux à partir du 3ème"
   ]
  },
  {
   "cell_type": "code",
   "execution_count": 72,
   "metadata": {},
   "outputs": [],
   "source": [
    "un_cent = list(range(100))"
   ]
  },
  {
   "cell_type": "markdown",
   "metadata": {},
   "source": [
    "## 1.3) enchaînement des sliceurs"
   ]
  },
  {
   "cell_type": "code",
   "execution_count": 80,
   "metadata": {},
   "outputs": [
    {
     "data": {
      "text/plain": [
       "[60, 58, 56, 54, 52]"
      ]
     },
     "execution_count": 80,
     "metadata": {},
     "output_type": "execute_result"
    }
   ],
   "source": [
    "un_cent[-40::-2][:5] \n",
    "# les 5 premiers éléments de la liste des éléments de 60 à 0 \n",
    "# avec un pas de 2"
   ]
  },
  {
   "cell_type": "markdown",
   "metadata": {},
   "source": [
    "## 1.4) méthodes des listes"
   ]
  },
  {
   "cell_type": "markdown",
   "metadata": {},
   "source": [
    "- Autocomplétion : TAB après le point sur les objets"
   ]
  },
  {
   "cell_type": "code",
   "execution_count": 87,
   "metadata": {},
   "outputs": [
    {
     "data": {
      "text/plain": [
       "96"
      ]
     },
     "execution_count": 87,
     "metadata": {},
     "output_type": "execute_result"
    }
   ],
   "source": [
    "un_cent.pop() # pop : extrait et retourne le dernier élément de la liste"
   ]
  },
  {
   "cell_type": "markdown",
   "metadata": {},
   "source": [
    "- documentation de méthode : mettre les parenthèses, puis faire Maj + Tab"
   ]
  },
  {
   "cell_type": "code",
   "execution_count": 135,
   "metadata": {},
   "outputs": [],
   "source": [
    "un_cent.reverse()"
   ]
  },
  {
   "cell_type": "markdown",
   "metadata": {},
   "source": [
    "## 1.4.1) extend / append"
   ]
  },
  {
   "cell_type": "code",
   "execution_count": 140,
   "metadata": {},
   "outputs": [],
   "source": [
    "un_cent.extend(un_cent)"
   ]
  },
  {
   "cell_type": "code",
   "execution_count": 141,
   "metadata": {},
   "outputs": [
    {
     "data": {
      "text/plain": [
       "768"
      ]
     },
     "execution_count": 141,
     "metadata": {},
     "output_type": "execute_result"
    }
   ],
   "source": [
    "len(un_cent)"
   ]
  },
  {
   "cell_type": "code",
   "execution_count": 146,
   "metadata": {},
   "outputs": [],
   "source": [
    "un_cent.append(3)"
   ]
  },
  {
   "cell_type": "code",
   "execution_count": 150,
   "metadata": {},
   "outputs": [
    {
     "data": {
      "text/plain": [
       "772"
      ]
     },
     "execution_count": 150,
     "metadata": {},
     "output_type": "execute_result"
    }
   ],
   "source": [
    "len(un_cent)"
   ]
  },
  {
   "cell_type": "markdown",
   "metadata": {},
   "source": [
    "- Append : ajoute un élément"
   ]
  },
  {
   "cell_type": "code",
   "execution_count": 151,
   "metadata": {},
   "outputs": [
    {
     "data": {
      "text/plain": [
       "773"
      ]
     },
     "execution_count": 151,
     "metadata": {},
     "output_type": "execute_result"
    }
   ],
   "source": [
    "un_cent.append([3, 2, 3, 3, 4])\n",
    "len(un_cent)"
   ]
  },
  {
   "cell_type": "markdown",
   "metadata": {},
   "source": [
    "- Extend : fusionne des listes"
   ]
  },
  {
   "cell_type": "code",
   "execution_count": 152,
   "metadata": {},
   "outputs": [
    {
     "data": {
      "text/plain": [
       "778"
      ]
     },
     "execution_count": 152,
     "metadata": {},
     "output_type": "execute_result"
    }
   ],
   "source": [
    "un_cent.extend([3, 2, 3, 3, 4])\n",
    "len(un_cent)"
   ]
  },
  {
   "cell_type": "markdown",
   "metadata": {},
   "source": [
    "- count : compte le nombre d'occurence d'une valeur dans la liste"
   ]
  },
  {
   "cell_type": "code",
   "execution_count": 154,
   "metadata": {},
   "outputs": [
    {
     "data": {
      "text/plain": [
       "8"
      ]
     },
     "execution_count": 154,
     "metadata": {},
     "output_type": "execute_result"
    }
   ],
   "source": [
    "valeur_cherchee  = 10\n",
    "un_cent.count(valeur_cherchee)"
   ]
  },
  {
   "cell_type": "markdown",
   "metadata": {},
   "source": [
    "## 1.5) Chaînes de caractères "
   ]
  },
  {
   "cell_type": "code",
   "execution_count": 155,
   "metadata": {},
   "outputs": [
    {
     "data": {
      "text/plain": [
       "'dsfghjklmsdfghjkldfghjklfdghjkl'"
      ]
     },
     "execution_count": 155,
     "metadata": {},
     "output_type": "execute_result"
    }
   ],
   "source": [
    "une_chaine_de_caractere = \"dsfghjklmsdfghjkldfghjklfdghjkl\"\n",
    "une_chaine_de_caractere"
   ]
  },
  {
   "cell_type": "code",
   "execution_count": 156,
   "metadata": {},
   "outputs": [
    {
     "ename": "AttributeError",
     "evalue": "'str' object has no attribute 'append'",
     "output_type": "error",
     "traceback": [
      "\u001b[0;31m---------------------------------------------------------------------------\u001b[0m",
      "\u001b[0;31mAttributeError\u001b[0m                            Traceback (most recent call last)",
      "\u001b[0;32m<ipython-input-156-5f6875e60344>\u001b[0m in \u001b[0;36m<module>\u001b[0;34m()\u001b[0m\n\u001b[0;32m----> 1\u001b[0;31m \u001b[0mune_chaine_de_caractere\u001b[0m\u001b[0;34m.\u001b[0m\u001b[0mappend\u001b[0m\u001b[0;34m(\u001b[0m\u001b[0;34m\"e\"\u001b[0m\u001b[0;34m)\u001b[0m\u001b[0;34m\u001b[0m\u001b[0m\n\u001b[0m",
      "\u001b[0;31mAttributeError\u001b[0m: 'str' object has no attribute 'append'"
     ]
    }
   ],
   "source": [
    "une_chaine_de_caractere.append(\"e\")"
   ]
  },
  {
   "cell_type": "code",
   "execution_count": 157,
   "metadata": {},
   "outputs": [
    {
     "data": {
      "text/plain": [
       "'dsf'"
      ]
     },
     "execution_count": 157,
     "metadata": {},
     "output_type": "execute_result"
    }
   ],
   "source": [
    "une_chaine_de_caractere[:3]"
   ]
  },
  {
   "cell_type": "code",
   "execution_count": 159,
   "metadata": {},
   "outputs": [
    {
     "name": "stdout",
     "output_type": "stream",
     "text": [
      "j\n",
      "k\n",
      "l\n",
      "m\n",
      "s\n",
      "d\n"
     ]
    }
   ],
   "source": [
    "debut = 5\n",
    "fin = 10\n",
    "for caractere in une_chaine_de_caractere[debut:fin+1]:\n",
    "    print(caractere)"
   ]
  },
  {
   "cell_type": "markdown",
   "metadata": {},
   "source": [
    "## 2) comprehension list"
   ]
  },
  {
   "cell_type": "code",
   "execution_count": 165,
   "metadata": {},
   "outputs": [],
   "source": [
    "import random\n",
    "n     = 10 "
   ]
  },
  {
   "cell_type": "markdown",
   "metadata": {},
   "source": [
    "### 2.1) construction 'classique' de liste dans une boucle for"
   ]
  },
  {
   "cell_type": "code",
   "execution_count": 166,
   "metadata": {},
   "outputs": [],
   "source": [
    "liste = []\n",
    "for _ in range(n):\n",
    "    caractere = random.choice(une_chaine_de_caractere)\n",
    "    liste.append(caractere)"
   ]
  },
  {
   "cell_type": "code",
   "execution_count": 167,
   "metadata": {},
   "outputs": [
    {
     "data": {
      "text/plain": [
       "['j', 'k', 'l', 'h', 'f', 'j', 'f', 'l', 'k', 'l']"
      ]
     },
     "execution_count": 167,
     "metadata": {},
     "output_type": "execute_result"
    }
   ],
   "source": [
    "liste"
   ]
  },
  {
   "cell_type": "markdown",
   "metadata": {},
   "source": [
    "### 2.2) construction 'moderne' de liste via une comprehension list"
   ]
  },
  {
   "cell_type": "code",
   "execution_count": 168,
   "metadata": {},
   "outputs": [
    {
     "data": {
      "text/plain": [
       "['d', 'h', 's', 'l', 'h', 'g', 'l', 'd', 'h', 'f']"
      ]
     },
     "execution_count": 168,
     "metadata": {},
     "output_type": "execute_result"
    }
   ],
   "source": [
    "liste2 = [random.choice(une_chaine_de_caractere) for _ in range(n)]\n",
    "liste2"
   ]
  },
  {
   "cell_type": "code",
   "execution_count": 169,
   "metadata": {},
   "outputs": [
    {
     "data": {
      "text/plain": [
       "['e', 'e', 'e', 'e', 'e', 'e', 'e', 'e', 'e', 'e']"
      ]
     },
     "execution_count": 169,
     "metadata": {},
     "output_type": "execute_result"
    }
   ],
   "source": [
    "liste2 = [\"e\" for _ in range(n)]\n",
    "liste2"
   ]
  },
  {
   "cell_type": "markdown",
   "metadata": {},
   "source": [
    "## multiplication de listes"
   ]
  },
  {
   "cell_type": "code",
   "execution_count": 172,
   "metadata": {},
   "outputs": [
    {
     "data": {
      "text/plain": [
       "['e', 'e', 'e', 'e', 'e', 'e', 'e', 'e', 'e', 'e']"
      ]
     },
     "execution_count": 172,
     "metadata": {},
     "output_type": "execute_result"
    }
   ],
   "source": [
    "liste2 = [\"e\"] * 10\n",
    "liste2"
   ]
  },
  {
   "cell_type": "markdown",
   "metadata": {},
   "source": [
    "## 2.3) comprehension list conditionelle : condition simple => le if est à la fin "
   ]
  },
  {
   "cell_type": "code",
   "execution_count": 177,
   "metadata": {},
   "outputs": [
    {
     "data": {
      "text/plain": [
       "[0, 2, 4, 6, 8]"
      ]
     },
     "execution_count": 177,
     "metadata": {},
     "output_type": "execute_result"
    }
   ],
   "source": [
    "liste2 = [ _ for _ in range(n) if _%2==0]\n",
    "liste2"
   ]
  },
  {
   "cell_type": "markdown",
   "metadata": {},
   "source": [
    "## 2.4) comprehension list conditionelle : condition complète  => le if est au milieu"
   ]
  },
  {
   "cell_type": "code",
   "execution_count": 181,
   "metadata": {},
   "outputs": [
    {
     "data": {
      "text/plain": [
       "[0, 'impair', 2, 'impair', 4, 'impair', 6, 'impair', 8, 'impair']"
      ]
     },
     "execution_count": 181,
     "metadata": {},
     "output_type": "execute_result"
    }
   ],
   "source": [
    "liste2 = [ _ if _%2==0 else \"impair\" for _ in range(n) ]\n",
    "liste2"
   ]
  },
  {
   "cell_type": "code",
   "execution_count": 182,
   "metadata": {},
   "outputs": [
    {
     "data": {
      "text/plain": [
       "['pair', 1, 'pair', 3, 'pair', 5, 'pair', 7, 'pair', 9]"
      ]
     },
     "execution_count": 182,
     "metadata": {},
     "output_type": "execute_result"
    }
   ],
   "source": [
    "liste2 = [ _ if _%2  else \"pair\" for _ in range(n) ]\n",
    "liste2"
   ]
  },
  {
   "cell_type": "markdown",
   "metadata": {},
   "source": [
    "# 3) functions"
   ]
  },
  {
   "cell_type": "code",
   "execution_count": 196,
   "metadata": {},
   "outputs": [],
   "source": [
    "def est_nul(nombre):\n",
    "    return nombre==0"
   ]
  },
  {
   "cell_type": "code",
   "execution_count": 199,
   "metadata": {},
   "outputs": [
    {
     "data": {
      "text/plain": [
       "True"
      ]
     },
     "execution_count": 199,
     "metadata": {},
     "output_type": "execute_result"
    }
   ],
   "source": [
    "valeur_a_tester = 0\n",
    "est_nul(valeur_a_tester)"
   ]
  },
  {
   "cell_type": "code",
   "execution_count": 201,
   "metadata": {},
   "outputs": [
    {
     "data": {
      "text/plain": [
       "False"
      ]
     },
     "execution_count": 201,
     "metadata": {},
     "output_type": "execute_result"
    }
   ],
   "source": [
    "valeur_a_tester = \"coucou\"\n",
    "est_nul(valeur_a_tester)"
   ]
  },
  {
   "cell_type": "markdown",
   "metadata": {},
   "source": [
    "## une liste vide est 'fausse' dans un test if"
   ]
  },
  {
   "cell_type": "code",
   "execution_count": 209,
   "metadata": {},
   "outputs": [
    {
     "name": "stdout",
     "output_type": "stream",
     "text": [
      "liste non vide\n"
     ]
    }
   ],
   "source": [
    "une_liste_vide_est_fausse = [\"e\"]\n",
    "if not une_liste_vide_est_fausse :\n",
    "    print(\"liste vide\")\n",
    "else:\n",
    "    print(\"liste non vide\")"
   ]
  },
  {
   "cell_type": "markdown",
   "metadata": {},
   "source": [
    "# 4) lambda functions"
   ]
  },
  {
   "cell_type": "code",
   "execution_count": 3,
   "metadata": {},
   "outputs": [],
   "source": [
    "valeur  = lambda param : param"
   ]
  },
  {
   "cell_type": "code",
   "execution_count": 7,
   "metadata": {},
   "outputs": [
    {
     "data": {
      "text/plain": [
       "'e'"
      ]
     },
     "execution_count": 7,
     "metadata": {},
     "output_type": "execute_result"
    }
   ],
   "source": [
    "valeur(\"e\")"
   ]
  },
  {
   "cell_type": "code",
   "execution_count": 9,
   "metadata": {},
   "outputs": [
    {
     "data": {
      "text/plain": [
       "'ee'"
      ]
     },
     "execution_count": 9,
     "metadata": {},
     "output_type": "execute_result"
    }
   ],
   "source": [
    "deux_fois  = lambda param : param*2\n",
    "deux_fois(\"e\")"
   ]
  },
  {
   "cell_type": "code",
   "execution_count": 218,
   "metadata": {},
   "outputs": [
    {
     "data": {
      "text/plain": [
       "['e', 'e']"
      ]
     },
     "execution_count": 218,
     "metadata": {},
     "output_type": "execute_result"
    }
   ],
   "source": [
    "deux_fois([\"e\"])"
   ]
  },
  {
   "cell_type": "code",
   "execution_count": 220,
   "metadata": {},
   "outputs": [
    {
     "data": {
      "text/plain": [
       "['1', '2', '1', '2']"
      ]
     },
     "execution_count": 220,
     "metadata": {},
     "output_type": "execute_result"
    }
   ],
   "source": [
    "deux_fois([\"1\", \"2\"])"
   ]
  },
  {
   "cell_type": "code",
   "execution_count": 10,
   "metadata": {},
   "outputs": [
    {
     "ename": "NameError",
     "evalue": "name 'n' is not defined",
     "output_type": "error",
     "traceback": [
      "\u001b[0;31m---------------------------------------------------------------------------\u001b[0m",
      "\u001b[0;31mNameError\u001b[0m                                 Traceback (most recent call last)",
      "\u001b[0;32m<ipython-input-10-07f5320f7dfe>\u001b[0m in \u001b[0;36m<module>\u001b[0;34m\u001b[0m\n\u001b[0;32m----> 1\u001b[0;31m \u001b[0mzero_dix_huit\u001b[0m \u001b[0;34m=\u001b[0m \u001b[0;34m[\u001b[0m\u001b[0mdeux_fois\u001b[0m\u001b[0;34m(\u001b[0m\u001b[0m_\u001b[0m\u001b[0;34m)\u001b[0m \u001b[0;32mfor\u001b[0m \u001b[0m_\u001b[0m \u001b[0;32min\u001b[0m \u001b[0mrange\u001b[0m\u001b[0;34m(\u001b[0m\u001b[0mn\u001b[0m\u001b[0;34m)\u001b[0m\u001b[0;34m]\u001b[0m\u001b[0;34m\u001b[0m\u001b[0;34m\u001b[0m\u001b[0m\n\u001b[0m",
      "\u001b[0;31mNameError\u001b[0m: name 'n' is not defined"
     ]
    }
   ],
   "source": [
    "zero_dix_huit = [deux_fois(_) for _ in range(n)]"
   ]
  },
  {
   "cell_type": "markdown",
   "metadata": {},
   "source": [
    "# 5) map et filter"
   ]
  },
  {
   "cell_type": "markdown",
   "metadata": {},
   "source": [
    "## 5.1) map permet d'appliquer une fonction sur chaque élément d'une liste"
   ]
  },
  {
   "cell_type": "code",
   "execution_count": 11,
   "metadata": {},
   "outputs": [
    {
     "ename": "NameError",
     "evalue": "name 'zero_dix_huit' is not defined",
     "output_type": "error",
     "traceback": [
      "\u001b[0;31m---------------------------------------------------------------------------\u001b[0m",
      "\u001b[0;31mNameError\u001b[0m                                 Traceback (most recent call last)",
      "\u001b[0;32m<ipython-input-11-e4ea536a18e8>\u001b[0m in \u001b[0;36m<module>\u001b[0;34m\u001b[0m\n\u001b[0;32m----> 1\u001b[0;31m \u001b[0mr\u001b[0m \u001b[0;34m=\u001b[0m \u001b[0mlist\u001b[0m\u001b[0;34m(\u001b[0m\u001b[0mmap\u001b[0m\u001b[0;34m(\u001b[0m\u001b[0;32mlambda\u001b[0m \u001b[0mx\u001b[0m\u001b[0;34m:\u001b[0m \u001b[0mx\u001b[0m\u001b[0;34m>\u001b[0m\u001b[0;36m10\u001b[0m\u001b[0;34m,\u001b[0m \u001b[0mzero_dix_huit\u001b[0m\u001b[0;34m)\u001b[0m\u001b[0;34m)\u001b[0m\u001b[0;34m\u001b[0m\u001b[0;34m\u001b[0m\u001b[0m\n\u001b[0m\u001b[1;32m      2\u001b[0m \u001b[0mr\u001b[0m\u001b[0;34m\u001b[0m\u001b[0;34m\u001b[0m\u001b[0m\n",
      "\u001b[0;31mNameError\u001b[0m: name 'zero_dix_huit' is not defined"
     ]
    }
   ],
   "source": [
    "r = list(map(lambda x: x>10, zero_dix_huit))\n",
    "r"
   ]
  },
  {
   "cell_type": "code",
   "execution_count": 12,
   "metadata": {},
   "outputs": [
    {
     "ename": "NameError",
     "evalue": "name 'r' is not defined",
     "output_type": "error",
     "traceback": [
      "\u001b[0;31m---------------------------------------------------------------------------\u001b[0m",
      "\u001b[0;31mNameError\u001b[0m                                 Traceback (most recent call last)",
      "\u001b[0;32m<ipython-input-12-7f3e6276b33e>\u001b[0m in \u001b[0;36m<module>\u001b[0;34m\u001b[0m\n\u001b[1;32m      1\u001b[0m \u001b[0;31m# compter le nombre de fois qu'il y a un True, possibilité 1\u001b[0m\u001b[0;34m\u001b[0m\u001b[0;34m\u001b[0m\u001b[0;34m\u001b[0m\u001b[0m\n\u001b[0;32m----> 2\u001b[0;31m \u001b[0mr\u001b[0m\u001b[0;34m.\u001b[0m\u001b[0mcount\u001b[0m\u001b[0;34m(\u001b[0m\u001b[0;32mTrue\u001b[0m\u001b[0;34m)\u001b[0m\u001b[0;34m\u001b[0m\u001b[0;34m\u001b[0m\u001b[0m\n\u001b[0m",
      "\u001b[0;31mNameError\u001b[0m: name 'r' is not defined"
     ]
    }
   ],
   "source": [
    "# compter le nombre de fois qu'il y a un True, possibilité 1\n",
    "r.count(True)"
   ]
  },
  {
   "cell_type": "code",
   "execution_count": 246,
   "metadata": {},
   "outputs": [
    {
     "data": {
      "text/plain": [
       "4"
      ]
     },
     "execution_count": 246,
     "metadata": {},
     "output_type": "execute_result"
    }
   ],
   "source": [
    "# compter le nombre de fois qu'il y a un True, possibilité 2\n",
    "sum(r)"
   ]
  },
  {
   "cell_type": "markdown",
   "metadata": {},
   "source": [
    "## 5.2) filter : permet de filtrer une liste sur une condition (renvoie la sous liste qui passe la condition)"
   ]
  },
  {
   "cell_type": "code",
   "execution_count": 247,
   "metadata": {},
   "outputs": [
    {
     "data": {
      "text/plain": [
       "[12, 14, 16, 18]"
      ]
     },
     "execution_count": 247,
     "metadata": {},
     "output_type": "execute_result"
    }
   ],
   "source": [
    "iterateur = filter(lambda x: x>10, zero_dix_huit)\n",
    "liste     = list(iterateur)\n",
    "liste"
   ]
  },
  {
   "cell_type": "code",
   "execution_count": 248,
   "metadata": {},
   "outputs": [
    {
     "data": {
      "text/plain": [
       "4"
      ]
     },
     "execution_count": 248,
     "metadata": {},
     "output_type": "execute_result"
    }
   ],
   "source": [
    "len(liste)"
   ]
  },
  {
   "cell_type": "markdown",
   "metadata": {},
   "source": [
    "## 5.3) enumerate"
   ]
  },
  {
   "cell_type": "code",
   "execution_count": 13,
   "metadata": {},
   "outputs": [],
   "source": [
    "def cours(jour):\n",
    "    return 100 + jour + (random.randint(1, 5)) * random.choice([-1, 1])"
   ]
  },
  {
   "cell_type": "code",
   "execution_count": 14,
   "metadata": {},
   "outputs": [
    {
     "ename": "NameError",
     "evalue": "name 'random' is not defined",
     "output_type": "error",
     "traceback": [
      "\u001b[0;31m---------------------------------------------------------------------------\u001b[0m",
      "\u001b[0;31mNameError\u001b[0m                                 Traceback (most recent call last)",
      "\u001b[0;32m<ipython-input-14-476fecf3c4fb>\u001b[0m in \u001b[0;36m<module>\u001b[0;34m\u001b[0m\n\u001b[0;32m----> 1\u001b[0;31m \u001b[0mcours_de_bourse\u001b[0m \u001b[0;34m=\u001b[0m \u001b[0;34m[\u001b[0m \u001b[0mcours\u001b[0m\u001b[0;34m(\u001b[0m\u001b[0m_\u001b[0m\u001b[0;34m)\u001b[0m \u001b[0;32mfor\u001b[0m \u001b[0m_\u001b[0m \u001b[0;32min\u001b[0m \u001b[0mrange\u001b[0m\u001b[0;34m(\u001b[0m\u001b[0;36m1000\u001b[0m\u001b[0;34m)\u001b[0m\u001b[0;34m]\u001b[0m\u001b[0;34m\u001b[0m\u001b[0;34m\u001b[0m\u001b[0m\n\u001b[0m",
      "\u001b[0;32m<ipython-input-14-476fecf3c4fb>\u001b[0m in \u001b[0;36m<listcomp>\u001b[0;34m(.0)\u001b[0m\n\u001b[0;32m----> 1\u001b[0;31m \u001b[0mcours_de_bourse\u001b[0m \u001b[0;34m=\u001b[0m \u001b[0;34m[\u001b[0m \u001b[0mcours\u001b[0m\u001b[0;34m(\u001b[0m\u001b[0m_\u001b[0m\u001b[0;34m)\u001b[0m \u001b[0;32mfor\u001b[0m \u001b[0m_\u001b[0m \u001b[0;32min\u001b[0m \u001b[0mrange\u001b[0m\u001b[0;34m(\u001b[0m\u001b[0;36m1000\u001b[0m\u001b[0;34m)\u001b[0m\u001b[0;34m]\u001b[0m\u001b[0;34m\u001b[0m\u001b[0;34m\u001b[0m\u001b[0m\n\u001b[0m",
      "\u001b[0;32m<ipython-input-13-ecd5fab4bc4a>\u001b[0m in \u001b[0;36mcours\u001b[0;34m(jour)\u001b[0m\n\u001b[1;32m      1\u001b[0m \u001b[0;32mdef\u001b[0m \u001b[0mcours\u001b[0m\u001b[0;34m(\u001b[0m\u001b[0mjour\u001b[0m\u001b[0;34m)\u001b[0m\u001b[0;34m:\u001b[0m\u001b[0;34m\u001b[0m\u001b[0;34m\u001b[0m\u001b[0m\n\u001b[0;32m----> 2\u001b[0;31m     \u001b[0;32mreturn\u001b[0m \u001b[0;36m100\u001b[0m \u001b[0;34m+\u001b[0m \u001b[0mjour\u001b[0m \u001b[0;34m+\u001b[0m \u001b[0;34m(\u001b[0m\u001b[0mrandom\u001b[0m\u001b[0;34m.\u001b[0m\u001b[0mrandint\u001b[0m\u001b[0;34m(\u001b[0m\u001b[0;36m1\u001b[0m\u001b[0;34m,\u001b[0m \u001b[0;36m5\u001b[0m\u001b[0;34m)\u001b[0m\u001b[0;34m)\u001b[0m \u001b[0;34m*\u001b[0m \u001b[0mrandom\u001b[0m\u001b[0;34m.\u001b[0m\u001b[0mchoice\u001b[0m\u001b[0;34m(\u001b[0m\u001b[0;34m[\u001b[0m\u001b[0;34m-\u001b[0m\u001b[0;36m1\u001b[0m\u001b[0;34m,\u001b[0m \u001b[0;36m1\u001b[0m\u001b[0;34m]\u001b[0m\u001b[0;34m)\u001b[0m\u001b[0;34m\u001b[0m\u001b[0;34m\u001b[0m\u001b[0m\n\u001b[0m",
      "\u001b[0;31mNameError\u001b[0m: name 'random' is not defined"
     ]
    }
   ],
   "source": [
    "cours_de_bourse = [ cours(_) for _ in range(1000)]"
   ]
  },
  {
   "cell_type": "code",
   "execution_count": 15,
   "metadata": {},
   "outputs": [
    {
     "ename": "NameError",
     "evalue": "name 'cours_de_bourse' is not defined",
     "output_type": "error",
     "traceback": [
      "\u001b[0;31m---------------------------------------------------------------------------\u001b[0m",
      "\u001b[0;31mNameError\u001b[0m                                 Traceback (most recent call last)",
      "\u001b[0;32m<ipython-input-15-7db08a62cfe2>\u001b[0m in \u001b[0;36m<module>\u001b[0;34m\u001b[0m\n\u001b[1;32m      1\u001b[0m \u001b[0;32mimport\u001b[0m \u001b[0mpandas\u001b[0m \u001b[0;32mas\u001b[0m \u001b[0mpd\u001b[0m\u001b[0;34m\u001b[0m\u001b[0;34m\u001b[0m\u001b[0m\n\u001b[1;32m      2\u001b[0m \u001b[0mget_ipython\u001b[0m\u001b[0;34m(\u001b[0m\u001b[0;34m)\u001b[0m\u001b[0;34m.\u001b[0m\u001b[0mrun_line_magic\u001b[0m\u001b[0;34m(\u001b[0m\u001b[0;34m'matplotlib'\u001b[0m\u001b[0;34m,\u001b[0m \u001b[0;34m'notebook'\u001b[0m\u001b[0;34m)\u001b[0m\u001b[0;34m\u001b[0m\u001b[0;34m\u001b[0m\u001b[0m\n\u001b[0;32m----> 3\u001b[0;31m \u001b[0mdf\u001b[0m \u001b[0;34m=\u001b[0m \u001b[0mpd\u001b[0m\u001b[0;34m.\u001b[0m\u001b[0mDataFrame\u001b[0m\u001b[0;34m(\u001b[0m\u001b[0mcours_de_bourse\u001b[0m\u001b[0;34m)\u001b[0m\u001b[0;34m\u001b[0m\u001b[0;34m\u001b[0m\u001b[0m\n\u001b[0m",
      "\u001b[0;31mNameError\u001b[0m: name 'cours_de_bourse' is not defined"
     ]
    }
   ],
   "source": [
    "import pandas as pd\n",
    "%matplotlib notebook\n",
    "df = pd.DataFrame(cours_de_bourse)"
   ]
  },
  {
   "cell_type": "code",
   "execution_count": null,
   "metadata": {},
   "outputs": [],
   "source": [
    "df.head()"
   ]
  },
  {
   "cell_type": "code",
   "execution_count": 320,
   "metadata": {},
   "outputs": [
    {
     "data": {
      "application/javascript": [
       "/* Put everything inside the global mpl namespace */\n",
       "window.mpl = {};\n",
       "\n",
       "\n",
       "mpl.get_websocket_type = function() {\n",
       "    if (typeof(WebSocket) !== 'undefined') {\n",
       "        return WebSocket;\n",
       "    } else if (typeof(MozWebSocket) !== 'undefined') {\n",
       "        return MozWebSocket;\n",
       "    } else {\n",
       "        alert('Your browser does not have WebSocket support.' +\n",
       "              'Please try Chrome, Safari or Firefox ≥ 6. ' +\n",
       "              'Firefox 4 and 5 are also supported but you ' +\n",
       "              'have to enable WebSockets in about:config.');\n",
       "    };\n",
       "}\n",
       "\n",
       "mpl.figure = function(figure_id, websocket, ondownload, parent_element) {\n",
       "    this.id = figure_id;\n",
       "\n",
       "    this.ws = websocket;\n",
       "\n",
       "    this.supports_binary = (this.ws.binaryType != undefined);\n",
       "\n",
       "    if (!this.supports_binary) {\n",
       "        var warnings = document.getElementById(\"mpl-warnings\");\n",
       "        if (warnings) {\n",
       "            warnings.style.display = 'block';\n",
       "            warnings.textContent = (\n",
       "                \"This browser does not support binary websocket messages. \" +\n",
       "                    \"Performance may be slow.\");\n",
       "        }\n",
       "    }\n",
       "\n",
       "    this.imageObj = new Image();\n",
       "\n",
       "    this.context = undefined;\n",
       "    this.message = undefined;\n",
       "    this.canvas = undefined;\n",
       "    this.rubberband_canvas = undefined;\n",
       "    this.rubberband_context = undefined;\n",
       "    this.format_dropdown = undefined;\n",
       "\n",
       "    this.image_mode = 'full';\n",
       "\n",
       "    this.root = $('<div/>');\n",
       "    this._root_extra_style(this.root)\n",
       "    this.root.attr('style', 'display: inline-block');\n",
       "\n",
       "    $(parent_element).append(this.root);\n",
       "\n",
       "    this._init_header(this);\n",
       "    this._init_canvas(this);\n",
       "    this._init_toolbar(this);\n",
       "\n",
       "    var fig = this;\n",
       "\n",
       "    this.waiting = false;\n",
       "\n",
       "    this.ws.onopen =  function () {\n",
       "            fig.send_message(\"supports_binary\", {value: fig.supports_binary});\n",
       "            fig.send_message(\"send_image_mode\", {});\n",
       "            if (mpl.ratio != 1) {\n",
       "                fig.send_message(\"set_dpi_ratio\", {'dpi_ratio': mpl.ratio});\n",
       "            }\n",
       "            fig.send_message(\"refresh\", {});\n",
       "        }\n",
       "\n",
       "    this.imageObj.onload = function() {\n",
       "            if (fig.image_mode == 'full') {\n",
       "                // Full images could contain transparency (where diff images\n",
       "                // almost always do), so we need to clear the canvas so that\n",
       "                // there is no ghosting.\n",
       "                fig.context.clearRect(0, 0, fig.canvas.width, fig.canvas.height);\n",
       "            }\n",
       "            fig.context.drawImage(fig.imageObj, 0, 0);\n",
       "        };\n",
       "\n",
       "    this.imageObj.onunload = function() {\n",
       "        fig.ws.close();\n",
       "    }\n",
       "\n",
       "    this.ws.onmessage = this._make_on_message_function(this);\n",
       "\n",
       "    this.ondownload = ondownload;\n",
       "}\n",
       "\n",
       "mpl.figure.prototype._init_header = function() {\n",
       "    var titlebar = $(\n",
       "        '<div class=\"ui-dialog-titlebar ui-widget-header ui-corner-all ' +\n",
       "        'ui-helper-clearfix\"/>');\n",
       "    var titletext = $(\n",
       "        '<div class=\"ui-dialog-title\" style=\"width: 100%; ' +\n",
       "        'text-align: center; padding: 3px;\"/>');\n",
       "    titlebar.append(titletext)\n",
       "    this.root.append(titlebar);\n",
       "    this.header = titletext[0];\n",
       "}\n",
       "\n",
       "\n",
       "\n",
       "mpl.figure.prototype._canvas_extra_style = function(canvas_div) {\n",
       "\n",
       "}\n",
       "\n",
       "\n",
       "mpl.figure.prototype._root_extra_style = function(canvas_div) {\n",
       "\n",
       "}\n",
       "\n",
       "mpl.figure.prototype._init_canvas = function() {\n",
       "    var fig = this;\n",
       "\n",
       "    var canvas_div = $('<div/>');\n",
       "\n",
       "    canvas_div.attr('style', 'position: relative; clear: both; outline: 0');\n",
       "\n",
       "    function canvas_keyboard_event(event) {\n",
       "        return fig.key_event(event, event['data']);\n",
       "    }\n",
       "\n",
       "    canvas_div.keydown('key_press', canvas_keyboard_event);\n",
       "    canvas_div.keyup('key_release', canvas_keyboard_event);\n",
       "    this.canvas_div = canvas_div\n",
       "    this._canvas_extra_style(canvas_div)\n",
       "    this.root.append(canvas_div);\n",
       "\n",
       "    var canvas = $('<canvas/>');\n",
       "    canvas.addClass('mpl-canvas');\n",
       "    canvas.attr('style', \"left: 0; top: 0; z-index: 0; outline: 0\")\n",
       "\n",
       "    this.canvas = canvas[0];\n",
       "    this.context = canvas[0].getContext(\"2d\");\n",
       "\n",
       "    var backingStore = this.context.backingStorePixelRatio ||\n",
       "\tthis.context.webkitBackingStorePixelRatio ||\n",
       "\tthis.context.mozBackingStorePixelRatio ||\n",
       "\tthis.context.msBackingStorePixelRatio ||\n",
       "\tthis.context.oBackingStorePixelRatio ||\n",
       "\tthis.context.backingStorePixelRatio || 1;\n",
       "\n",
       "    mpl.ratio = (window.devicePixelRatio || 1) / backingStore;\n",
       "\n",
       "    var rubberband = $('<canvas/>');\n",
       "    rubberband.attr('style', \"position: absolute; left: 0; top: 0; z-index: 1;\")\n",
       "\n",
       "    var pass_mouse_events = true;\n",
       "\n",
       "    canvas_div.resizable({\n",
       "        start: function(event, ui) {\n",
       "            pass_mouse_events = false;\n",
       "        },\n",
       "        resize: function(event, ui) {\n",
       "            fig.request_resize(ui.size.width, ui.size.height);\n",
       "        },\n",
       "        stop: function(event, ui) {\n",
       "            pass_mouse_events = true;\n",
       "            fig.request_resize(ui.size.width, ui.size.height);\n",
       "        },\n",
       "    });\n",
       "\n",
       "    function mouse_event_fn(event) {\n",
       "        if (pass_mouse_events)\n",
       "            return fig.mouse_event(event, event['data']);\n",
       "    }\n",
       "\n",
       "    rubberband.mousedown('button_press', mouse_event_fn);\n",
       "    rubberband.mouseup('button_release', mouse_event_fn);\n",
       "    // Throttle sequential mouse events to 1 every 20ms.\n",
       "    rubberband.mousemove('motion_notify', mouse_event_fn);\n",
       "\n",
       "    rubberband.mouseenter('figure_enter', mouse_event_fn);\n",
       "    rubberband.mouseleave('figure_leave', mouse_event_fn);\n",
       "\n",
       "    canvas_div.on(\"wheel\", function (event) {\n",
       "        event = event.originalEvent;\n",
       "        event['data'] = 'scroll'\n",
       "        if (event.deltaY < 0) {\n",
       "            event.step = 1;\n",
       "        } else {\n",
       "            event.step = -1;\n",
       "        }\n",
       "        mouse_event_fn(event);\n",
       "    });\n",
       "\n",
       "    canvas_div.append(canvas);\n",
       "    canvas_div.append(rubberband);\n",
       "\n",
       "    this.rubberband = rubberband;\n",
       "    this.rubberband_canvas = rubberband[0];\n",
       "    this.rubberband_context = rubberband[0].getContext(\"2d\");\n",
       "    this.rubberband_context.strokeStyle = \"#000000\";\n",
       "\n",
       "    this._resize_canvas = function(width, height) {\n",
       "        // Keep the size of the canvas, canvas container, and rubber band\n",
       "        // canvas in synch.\n",
       "        canvas_div.css('width', width)\n",
       "        canvas_div.css('height', height)\n",
       "\n",
       "        canvas.attr('width', width * mpl.ratio);\n",
       "        canvas.attr('height', height * mpl.ratio);\n",
       "        canvas.attr('style', 'width: ' + width + 'px; height: ' + height + 'px;');\n",
       "\n",
       "        rubberband.attr('width', width);\n",
       "        rubberband.attr('height', height);\n",
       "    }\n",
       "\n",
       "    // Set the figure to an initial 600x600px, this will subsequently be updated\n",
       "    // upon first draw.\n",
       "    this._resize_canvas(600, 600);\n",
       "\n",
       "    // Disable right mouse context menu.\n",
       "    $(this.rubberband_canvas).bind(\"contextmenu\",function(e){\n",
       "        return false;\n",
       "    });\n",
       "\n",
       "    function set_focus () {\n",
       "        canvas.focus();\n",
       "        canvas_div.focus();\n",
       "    }\n",
       "\n",
       "    window.setTimeout(set_focus, 100);\n",
       "}\n",
       "\n",
       "mpl.figure.prototype._init_toolbar = function() {\n",
       "    var fig = this;\n",
       "\n",
       "    var nav_element = $('<div/>')\n",
       "    nav_element.attr('style', 'width: 100%');\n",
       "    this.root.append(nav_element);\n",
       "\n",
       "    // Define a callback function for later on.\n",
       "    function toolbar_event(event) {\n",
       "        return fig.toolbar_button_onclick(event['data']);\n",
       "    }\n",
       "    function toolbar_mouse_event(event) {\n",
       "        return fig.toolbar_button_onmouseover(event['data']);\n",
       "    }\n",
       "\n",
       "    for(var toolbar_ind in mpl.toolbar_items) {\n",
       "        var name = mpl.toolbar_items[toolbar_ind][0];\n",
       "        var tooltip = mpl.toolbar_items[toolbar_ind][1];\n",
       "        var image = mpl.toolbar_items[toolbar_ind][2];\n",
       "        var method_name = mpl.toolbar_items[toolbar_ind][3];\n",
       "\n",
       "        if (!name) {\n",
       "            // put a spacer in here.\n",
       "            continue;\n",
       "        }\n",
       "        var button = $('<button/>');\n",
       "        button.addClass('ui-button ui-widget ui-state-default ui-corner-all ' +\n",
       "                        'ui-button-icon-only');\n",
       "        button.attr('role', 'button');\n",
       "        button.attr('aria-disabled', 'false');\n",
       "        button.click(method_name, toolbar_event);\n",
       "        button.mouseover(tooltip, toolbar_mouse_event);\n",
       "\n",
       "        var icon_img = $('<span/>');\n",
       "        icon_img.addClass('ui-button-icon-primary ui-icon');\n",
       "        icon_img.addClass(image);\n",
       "        icon_img.addClass('ui-corner-all');\n",
       "\n",
       "        var tooltip_span = $('<span/>');\n",
       "        tooltip_span.addClass('ui-button-text');\n",
       "        tooltip_span.html(tooltip);\n",
       "\n",
       "        button.append(icon_img);\n",
       "        button.append(tooltip_span);\n",
       "\n",
       "        nav_element.append(button);\n",
       "    }\n",
       "\n",
       "    var fmt_picker_span = $('<span/>');\n",
       "\n",
       "    var fmt_picker = $('<select/>');\n",
       "    fmt_picker.addClass('mpl-toolbar-option ui-widget ui-widget-content');\n",
       "    fmt_picker_span.append(fmt_picker);\n",
       "    nav_element.append(fmt_picker_span);\n",
       "    this.format_dropdown = fmt_picker[0];\n",
       "\n",
       "    for (var ind in mpl.extensions) {\n",
       "        var fmt = mpl.extensions[ind];\n",
       "        var option = $(\n",
       "            '<option/>', {selected: fmt === mpl.default_extension}).html(fmt);\n",
       "        fmt_picker.append(option)\n",
       "    }\n",
       "\n",
       "    // Add hover states to the ui-buttons\n",
       "    $( \".ui-button\" ).hover(\n",
       "        function() { $(this).addClass(\"ui-state-hover\");},\n",
       "        function() { $(this).removeClass(\"ui-state-hover\");}\n",
       "    );\n",
       "\n",
       "    var status_bar = $('<span class=\"mpl-message\"/>');\n",
       "    nav_element.append(status_bar);\n",
       "    this.message = status_bar[0];\n",
       "}\n",
       "\n",
       "mpl.figure.prototype.request_resize = function(x_pixels, y_pixels) {\n",
       "    // Request matplotlib to resize the figure. Matplotlib will then trigger a resize in the client,\n",
       "    // which will in turn request a refresh of the image.\n",
       "    this.send_message('resize', {'width': x_pixels, 'height': y_pixels});\n",
       "}\n",
       "\n",
       "mpl.figure.prototype.send_message = function(type, properties) {\n",
       "    properties['type'] = type;\n",
       "    properties['figure_id'] = this.id;\n",
       "    this.ws.send(JSON.stringify(properties));\n",
       "}\n",
       "\n",
       "mpl.figure.prototype.send_draw_message = function() {\n",
       "    if (!this.waiting) {\n",
       "        this.waiting = true;\n",
       "        this.ws.send(JSON.stringify({type: \"draw\", figure_id: this.id}));\n",
       "    }\n",
       "}\n",
       "\n",
       "\n",
       "mpl.figure.prototype.handle_save = function(fig, msg) {\n",
       "    var format_dropdown = fig.format_dropdown;\n",
       "    var format = format_dropdown.options[format_dropdown.selectedIndex].value;\n",
       "    fig.ondownload(fig, format);\n",
       "}\n",
       "\n",
       "\n",
       "mpl.figure.prototype.handle_resize = function(fig, msg) {\n",
       "    var size = msg['size'];\n",
       "    if (size[0] != fig.canvas.width || size[1] != fig.canvas.height) {\n",
       "        fig._resize_canvas(size[0], size[1]);\n",
       "        fig.send_message(\"refresh\", {});\n",
       "    };\n",
       "}\n",
       "\n",
       "mpl.figure.prototype.handle_rubberband = function(fig, msg) {\n",
       "    var x0 = msg['x0'] / mpl.ratio;\n",
       "    var y0 = (fig.canvas.height - msg['y0']) / mpl.ratio;\n",
       "    var x1 = msg['x1'] / mpl.ratio;\n",
       "    var y1 = (fig.canvas.height - msg['y1']) / mpl.ratio;\n",
       "    x0 = Math.floor(x0) + 0.5;\n",
       "    y0 = Math.floor(y0) + 0.5;\n",
       "    x1 = Math.floor(x1) + 0.5;\n",
       "    y1 = Math.floor(y1) + 0.5;\n",
       "    var min_x = Math.min(x0, x1);\n",
       "    var min_y = Math.min(y0, y1);\n",
       "    var width = Math.abs(x1 - x0);\n",
       "    var height = Math.abs(y1 - y0);\n",
       "\n",
       "    fig.rubberband_context.clearRect(\n",
       "        0, 0, fig.canvas.width, fig.canvas.height);\n",
       "\n",
       "    fig.rubberband_context.strokeRect(min_x, min_y, width, height);\n",
       "}\n",
       "\n",
       "mpl.figure.prototype.handle_figure_label = function(fig, msg) {\n",
       "    // Updates the figure title.\n",
       "    fig.header.textContent = msg['label'];\n",
       "}\n",
       "\n",
       "mpl.figure.prototype.handle_cursor = function(fig, msg) {\n",
       "    var cursor = msg['cursor'];\n",
       "    switch(cursor)\n",
       "    {\n",
       "    case 0:\n",
       "        cursor = 'pointer';\n",
       "        break;\n",
       "    case 1:\n",
       "        cursor = 'default';\n",
       "        break;\n",
       "    case 2:\n",
       "        cursor = 'crosshair';\n",
       "        break;\n",
       "    case 3:\n",
       "        cursor = 'move';\n",
       "        break;\n",
       "    }\n",
       "    fig.rubberband_canvas.style.cursor = cursor;\n",
       "}\n",
       "\n",
       "mpl.figure.prototype.handle_message = function(fig, msg) {\n",
       "    fig.message.textContent = msg['message'];\n",
       "}\n",
       "\n",
       "mpl.figure.prototype.handle_draw = function(fig, msg) {\n",
       "    // Request the server to send over a new figure.\n",
       "    fig.send_draw_message();\n",
       "}\n",
       "\n",
       "mpl.figure.prototype.handle_image_mode = function(fig, msg) {\n",
       "    fig.image_mode = msg['mode'];\n",
       "}\n",
       "\n",
       "mpl.figure.prototype.updated_canvas_event = function() {\n",
       "    // Called whenever the canvas gets updated.\n",
       "    this.send_message(\"ack\", {});\n",
       "}\n",
       "\n",
       "// A function to construct a web socket function for onmessage handling.\n",
       "// Called in the figure constructor.\n",
       "mpl.figure.prototype._make_on_message_function = function(fig) {\n",
       "    return function socket_on_message(evt) {\n",
       "        if (evt.data instanceof Blob) {\n",
       "            /* FIXME: We get \"Resource interpreted as Image but\n",
       "             * transferred with MIME type text/plain:\" errors on\n",
       "             * Chrome.  But how to set the MIME type?  It doesn't seem\n",
       "             * to be part of the websocket stream */\n",
       "            evt.data.type = \"image/png\";\n",
       "\n",
       "            /* Free the memory for the previous frames */\n",
       "            if (fig.imageObj.src) {\n",
       "                (window.URL || window.webkitURL).revokeObjectURL(\n",
       "                    fig.imageObj.src);\n",
       "            }\n",
       "\n",
       "            fig.imageObj.src = (window.URL || window.webkitURL).createObjectURL(\n",
       "                evt.data);\n",
       "            fig.updated_canvas_event();\n",
       "            fig.waiting = false;\n",
       "            return;\n",
       "        }\n",
       "        else if (typeof evt.data === 'string' && evt.data.slice(0, 21) == \"data:image/png;base64\") {\n",
       "            fig.imageObj.src = evt.data;\n",
       "            fig.updated_canvas_event();\n",
       "            fig.waiting = false;\n",
       "            return;\n",
       "        }\n",
       "\n",
       "        var msg = JSON.parse(evt.data);\n",
       "        var msg_type = msg['type'];\n",
       "\n",
       "        // Call the  \"handle_{type}\" callback, which takes\n",
       "        // the figure and JSON message as its only arguments.\n",
       "        try {\n",
       "            var callback = fig[\"handle_\" + msg_type];\n",
       "        } catch (e) {\n",
       "            console.log(\"No handler for the '\" + msg_type + \"' message type: \", msg);\n",
       "            return;\n",
       "        }\n",
       "\n",
       "        if (callback) {\n",
       "            try {\n",
       "                // console.log(\"Handling '\" + msg_type + \"' message: \", msg);\n",
       "                callback(fig, msg);\n",
       "            } catch (e) {\n",
       "                console.log(\"Exception inside the 'handler_\" + msg_type + \"' callback:\", e, e.stack, msg);\n",
       "            }\n",
       "        }\n",
       "    };\n",
       "}\n",
       "\n",
       "// from http://stackoverflow.com/questions/1114465/getting-mouse-location-in-canvas\n",
       "mpl.findpos = function(e) {\n",
       "    //this section is from http://www.quirksmode.org/js/events_properties.html\n",
       "    var targ;\n",
       "    if (!e)\n",
       "        e = window.event;\n",
       "    if (e.target)\n",
       "        targ = e.target;\n",
       "    else if (e.srcElement)\n",
       "        targ = e.srcElement;\n",
       "    if (targ.nodeType == 3) // defeat Safari bug\n",
       "        targ = targ.parentNode;\n",
       "\n",
       "    // jQuery normalizes the pageX and pageY\n",
       "    // pageX,Y are the mouse positions relative to the document\n",
       "    // offset() returns the position of the element relative to the document\n",
       "    var x = e.pageX - $(targ).offset().left;\n",
       "    var y = e.pageY - $(targ).offset().top;\n",
       "\n",
       "    return {\"x\": x, \"y\": y};\n",
       "};\n",
       "\n",
       "/*\n",
       " * return a copy of an object with only non-object keys\n",
       " * we need this to avoid circular references\n",
       " * http://stackoverflow.com/a/24161582/3208463\n",
       " */\n",
       "function simpleKeys (original) {\n",
       "  return Object.keys(original).reduce(function (obj, key) {\n",
       "    if (typeof original[key] !== 'object')\n",
       "        obj[key] = original[key]\n",
       "    return obj;\n",
       "  }, {});\n",
       "}\n",
       "\n",
       "mpl.figure.prototype.mouse_event = function(event, name) {\n",
       "    var canvas_pos = mpl.findpos(event)\n",
       "\n",
       "    if (name === 'button_press')\n",
       "    {\n",
       "        this.canvas.focus();\n",
       "        this.canvas_div.focus();\n",
       "    }\n",
       "\n",
       "    var x = canvas_pos.x * mpl.ratio;\n",
       "    var y = canvas_pos.y * mpl.ratio;\n",
       "\n",
       "    this.send_message(name, {x: x, y: y, button: event.button,\n",
       "                             step: event.step,\n",
       "                             guiEvent: simpleKeys(event)});\n",
       "\n",
       "    /* This prevents the web browser from automatically changing to\n",
       "     * the text insertion cursor when the button is pressed.  We want\n",
       "     * to control all of the cursor setting manually through the\n",
       "     * 'cursor' event from matplotlib */\n",
       "    event.preventDefault();\n",
       "    return false;\n",
       "}\n",
       "\n",
       "mpl.figure.prototype._key_event_extra = function(event, name) {\n",
       "    // Handle any extra behaviour associated with a key event\n",
       "}\n",
       "\n",
       "mpl.figure.prototype.key_event = function(event, name) {\n",
       "\n",
       "    // Prevent repeat events\n",
       "    if (name == 'key_press')\n",
       "    {\n",
       "        if (event.which === this._key)\n",
       "            return;\n",
       "        else\n",
       "            this._key = event.which;\n",
       "    }\n",
       "    if (name == 'key_release')\n",
       "        this._key = null;\n",
       "\n",
       "    var value = '';\n",
       "    if (event.ctrlKey && event.which != 17)\n",
       "        value += \"ctrl+\";\n",
       "    if (event.altKey && event.which != 18)\n",
       "        value += \"alt+\";\n",
       "    if (event.shiftKey && event.which != 16)\n",
       "        value += \"shift+\";\n",
       "\n",
       "    value += 'k';\n",
       "    value += event.which.toString();\n",
       "\n",
       "    this._key_event_extra(event, name);\n",
       "\n",
       "    this.send_message(name, {key: value,\n",
       "                             guiEvent: simpleKeys(event)});\n",
       "    return false;\n",
       "}\n",
       "\n",
       "mpl.figure.prototype.toolbar_button_onclick = function(name) {\n",
       "    if (name == 'download') {\n",
       "        this.handle_save(this, null);\n",
       "    } else {\n",
       "        this.send_message(\"toolbar_button\", {name: name});\n",
       "    }\n",
       "};\n",
       "\n",
       "mpl.figure.prototype.toolbar_button_onmouseover = function(tooltip) {\n",
       "    this.message.textContent = tooltip;\n",
       "};\n",
       "mpl.toolbar_items = [[\"Home\", \"Reset original view\", \"fa fa-home icon-home\", \"home\"], [\"Back\", \"Back to  previous view\", \"fa fa-arrow-left icon-arrow-left\", \"back\"], [\"Forward\", \"Forward to next view\", \"fa fa-arrow-right icon-arrow-right\", \"forward\"], [\"\", \"\", \"\", \"\"], [\"Pan\", \"Pan axes with left mouse, zoom with right\", \"fa fa-arrows icon-move\", \"pan\"], [\"Zoom\", \"Zoom to rectangle\", \"fa fa-square-o icon-check-empty\", \"zoom\"], [\"\", \"\", \"\", \"\"], [\"Download\", \"Download plot\", \"fa fa-floppy-o icon-save\", \"download\"]];\n",
       "\n",
       "mpl.extensions = [\"eps\", \"jpeg\", \"pdf\", \"png\", \"ps\", \"raw\", \"svg\", \"tif\"];\n",
       "\n",
       "mpl.default_extension = \"png\";var comm_websocket_adapter = function(comm) {\n",
       "    // Create a \"websocket\"-like object which calls the given IPython comm\n",
       "    // object with the appropriate methods. Currently this is a non binary\n",
       "    // socket, so there is still some room for performance tuning.\n",
       "    var ws = {};\n",
       "\n",
       "    ws.close = function() {\n",
       "        comm.close()\n",
       "    };\n",
       "    ws.send = function(m) {\n",
       "        //console.log('sending', m);\n",
       "        comm.send(m);\n",
       "    };\n",
       "    // Register the callback with on_msg.\n",
       "    comm.on_msg(function(msg) {\n",
       "        //console.log('receiving', msg['content']['data'], msg);\n",
       "        // Pass the mpl event to the overridden (by mpl) onmessage function.\n",
       "        ws.onmessage(msg['content']['data'])\n",
       "    });\n",
       "    return ws;\n",
       "}\n",
       "\n",
       "mpl.mpl_figure_comm = function(comm, msg) {\n",
       "    // This is the function which gets called when the mpl process\n",
       "    // starts-up an IPython Comm through the \"matplotlib\" channel.\n",
       "\n",
       "    var id = msg.content.data.id;\n",
       "    // Get hold of the div created by the display call when the Comm\n",
       "    // socket was opened in Python.\n",
       "    var element = $(\"#\" + id);\n",
       "    var ws_proxy = comm_websocket_adapter(comm)\n",
       "\n",
       "    function ondownload(figure, format) {\n",
       "        window.open(figure.imageObj.src);\n",
       "    }\n",
       "\n",
       "    var fig = new mpl.figure(id, ws_proxy,\n",
       "                           ondownload,\n",
       "                           element.get(0));\n",
       "\n",
       "    // Call onopen now - mpl needs it, as it is assuming we've passed it a real\n",
       "    // web socket which is closed, not our websocket->open comm proxy.\n",
       "    ws_proxy.onopen();\n",
       "\n",
       "    fig.parent_element = element.get(0);\n",
       "    fig.cell_info = mpl.find_output_cell(\"<div id='\" + id + \"'></div>\");\n",
       "    if (!fig.cell_info) {\n",
       "        console.error(\"Failed to find cell for figure\", id, fig);\n",
       "        return;\n",
       "    }\n",
       "\n",
       "    var output_index = fig.cell_info[2]\n",
       "    var cell = fig.cell_info[0];\n",
       "\n",
       "};\n",
       "\n",
       "mpl.figure.prototype.handle_close = function(fig, msg) {\n",
       "    var width = fig.canvas.width/mpl.ratio\n",
       "    fig.root.unbind('remove')\n",
       "\n",
       "    // Update the output cell to use the data from the current canvas.\n",
       "    fig.push_to_output();\n",
       "    var dataURL = fig.canvas.toDataURL();\n",
       "    // Re-enable the keyboard manager in IPython - without this line, in FF,\n",
       "    // the notebook keyboard shortcuts fail.\n",
       "    IPython.keyboard_manager.enable()\n",
       "    $(fig.parent_element).html('<img src=\"' + dataURL + '\" width=\"' + width + '\">');\n",
       "    fig.close_ws(fig, msg);\n",
       "}\n",
       "\n",
       "mpl.figure.prototype.close_ws = function(fig, msg){\n",
       "    fig.send_message('closing', msg);\n",
       "    // fig.ws.close()\n",
       "}\n",
       "\n",
       "mpl.figure.prototype.push_to_output = function(remove_interactive) {\n",
       "    // Turn the data on the canvas into data in the output cell.\n",
       "    var width = this.canvas.width/mpl.ratio\n",
       "    var dataURL = this.canvas.toDataURL();\n",
       "    this.cell_info[1]['text/html'] = '<img src=\"' + dataURL + '\" width=\"' + width + '\">';\n",
       "}\n",
       "\n",
       "mpl.figure.prototype.updated_canvas_event = function() {\n",
       "    // Tell IPython that the notebook contents must change.\n",
       "    IPython.notebook.set_dirty(true);\n",
       "    this.send_message(\"ack\", {});\n",
       "    var fig = this;\n",
       "    // Wait a second, then push the new image to the DOM so\n",
       "    // that it is saved nicely (might be nice to debounce this).\n",
       "    setTimeout(function () { fig.push_to_output() }, 1000);\n",
       "}\n",
       "\n",
       "mpl.figure.prototype._init_toolbar = function() {\n",
       "    var fig = this;\n",
       "\n",
       "    var nav_element = $('<div/>')\n",
       "    nav_element.attr('style', 'width: 100%');\n",
       "    this.root.append(nav_element);\n",
       "\n",
       "    // Define a callback function for later on.\n",
       "    function toolbar_event(event) {\n",
       "        return fig.toolbar_button_onclick(event['data']);\n",
       "    }\n",
       "    function toolbar_mouse_event(event) {\n",
       "        return fig.toolbar_button_onmouseover(event['data']);\n",
       "    }\n",
       "\n",
       "    for(var toolbar_ind in mpl.toolbar_items){\n",
       "        var name = mpl.toolbar_items[toolbar_ind][0];\n",
       "        var tooltip = mpl.toolbar_items[toolbar_ind][1];\n",
       "        var image = mpl.toolbar_items[toolbar_ind][2];\n",
       "        var method_name = mpl.toolbar_items[toolbar_ind][3];\n",
       "\n",
       "        if (!name) { continue; };\n",
       "\n",
       "        var button = $('<button class=\"btn btn-default\" href=\"#\" title=\"' + name + '\"><i class=\"fa ' + image + ' fa-lg\"></i></button>');\n",
       "        button.click(method_name, toolbar_event);\n",
       "        button.mouseover(tooltip, toolbar_mouse_event);\n",
       "        nav_element.append(button);\n",
       "    }\n",
       "\n",
       "    // Add the status bar.\n",
       "    var status_bar = $('<span class=\"mpl-message\" style=\"text-align:right; float: right;\"/>');\n",
       "    nav_element.append(status_bar);\n",
       "    this.message = status_bar[0];\n",
       "\n",
       "    // Add the close button to the window.\n",
       "    var buttongrp = $('<div class=\"btn-group inline pull-right\"></div>');\n",
       "    var button = $('<button class=\"btn btn-mini btn-primary\" href=\"#\" title=\"Stop Interaction\"><i class=\"fa fa-power-off icon-remove icon-large\"></i></button>');\n",
       "    button.click(function (evt) { fig.handle_close(fig, {}); } );\n",
       "    button.mouseover('Stop Interaction', toolbar_mouse_event);\n",
       "    buttongrp.append(button);\n",
       "    var titlebar = this.root.find($('.ui-dialog-titlebar'));\n",
       "    titlebar.prepend(buttongrp);\n",
       "}\n",
       "\n",
       "mpl.figure.prototype._root_extra_style = function(el){\n",
       "    var fig = this\n",
       "    el.on(\"remove\", function(){\n",
       "\tfig.close_ws(fig, {});\n",
       "    });\n",
       "}\n",
       "\n",
       "mpl.figure.prototype._canvas_extra_style = function(el){\n",
       "    // this is important to make the div 'focusable\n",
       "    el.attr('tabindex', 0)\n",
       "    // reach out to IPython and tell the keyboard manager to turn it's self\n",
       "    // off when our div gets focus\n",
       "\n",
       "    // location in version 3\n",
       "    if (IPython.notebook.keyboard_manager) {\n",
       "        IPython.notebook.keyboard_manager.register_events(el);\n",
       "    }\n",
       "    else {\n",
       "        // location in version 2\n",
       "        IPython.keyboard_manager.register_events(el);\n",
       "    }\n",
       "\n",
       "}\n",
       "\n",
       "mpl.figure.prototype._key_event_extra = function(event, name) {\n",
       "    var manager = IPython.notebook.keyboard_manager;\n",
       "    if (!manager)\n",
       "        manager = IPython.keyboard_manager;\n",
       "\n",
       "    // Check for shift+enter\n",
       "    if (event.shiftKey && event.which == 13) {\n",
       "        this.canvas_div.blur();\n",
       "        event.shiftKey = false;\n",
       "        // Send a \"J\" for go to next cell\n",
       "        event.which = 74;\n",
       "        event.keyCode = 74;\n",
       "        manager.command_mode();\n",
       "        manager.handle_keydown(event);\n",
       "    }\n",
       "}\n",
       "\n",
       "mpl.figure.prototype.handle_save = function(fig, msg) {\n",
       "    fig.ondownload(fig, null);\n",
       "}\n",
       "\n",
       "\n",
       "mpl.find_output_cell = function(html_output) {\n",
       "    // Return the cell and output element which can be found *uniquely* in the notebook.\n",
       "    // Note - this is a bit hacky, but it is done because the \"notebook_saving.Notebook\"\n",
       "    // IPython event is triggered only after the cells have been serialised, which for\n",
       "    // our purposes (turning an active figure into a static one), is too late.\n",
       "    var cells = IPython.notebook.get_cells();\n",
       "    var ncells = cells.length;\n",
       "    for (var i=0; i<ncells; i++) {\n",
       "        var cell = cells[i];\n",
       "        if (cell.cell_type === 'code'){\n",
       "            for (var j=0; j<cell.output_area.outputs.length; j++) {\n",
       "                var data = cell.output_area.outputs[j];\n",
       "                if (data.data) {\n",
       "                    // IPython >= 3 moved mimebundle to data attribute of output\n",
       "                    data = data.data;\n",
       "                }\n",
       "                if (data['text/html'] == html_output) {\n",
       "                    return [cell, data, j];\n",
       "                }\n",
       "            }\n",
       "        }\n",
       "    }\n",
       "}\n",
       "\n",
       "// Register the function which deals with the matplotlib target/channel.\n",
       "// The kernel may be null if the page has been refreshed.\n",
       "if (IPython.notebook.kernel != null) {\n",
       "    IPython.notebook.kernel.comm_manager.register_target('matplotlib', mpl.mpl_figure_comm);\n",
       "}\n"
      ],
      "text/plain": [
       "<IPython.core.display.Javascript object>"
      ]
     },
     "metadata": {},
     "output_type": "display_data"
    },
    {
     "data": {
      "text/html": [
       "<img src=\"data:image/png;base64,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\" width=\"640\">"
      ],
      "text/plain": [
       "<IPython.core.display.HTML object>"
      ]
     },
     "metadata": {},
     "output_type": "display_data"
    },
    {
     "data": {
      "text/plain": [
       "<matplotlib.axes._subplots.AxesSubplot at 0x12c69ad30>"
      ]
     },
     "execution_count": 320,
     "metadata": {},
     "output_type": "execute_result"
    }
   ],
   "source": [
    "df.plot()"
   ]
  },
  {
   "cell_type": "markdown",
   "metadata": {},
   "source": [
    "# Unpacking"
   ]
  },
  {
   "cell_type": "code",
   "execution_count": 322,
   "metadata": {},
   "outputs": [
    {
     "name": "stdout",
     "output_type": "stream",
     "text": [
      "0 105\n"
     ]
    }
   ],
   "source": [
    "for position, valeur in enumerate(cours_de_bourse): # enumerate renvoie 2 valeurs, stockées dans position et valeur\n",
    "    print(position, valeur)\n",
    "    break"
   ]
  },
  {
   "cell_type": "markdown",
   "metadata": {},
   "source": [
    "## Calcul d'une variation dans une liste de chiffres"
   ]
  },
  {
   "cell_type": "code",
   "execution_count": 327,
   "metadata": {},
   "outputs": [],
   "source": [
    "r = []\n",
    "for position, valeur_today in enumerate(cours_de_bourse): # enumerate renvoie 2 valeurs, stockées dans position et valeur   \n",
    "    if position > 0:\n",
    "        valeur_veille = cours_de_bourse[position - 1]\n",
    "        variation     = (valeur_today - valeur_veille )/valeur_veille *100\n",
    "        r.append(variation)\n",
    "pd.DataFrame(r).plot()"
   ]
  },
  {
   "cell_type": "markdown",
   "metadata": {},
   "source": [
    "# 6) les dictionnaires : avec des accolades"
   ]
  },
  {
   "cell_type": "code",
   "execution_count": 333,
   "metadata": {},
   "outputs": [
    {
     "data": {
      "text/plain": [
       "{'clef': 'valeur', 'entrée': 'description', 'mot': 'définition'}"
      ]
     },
     "execution_count": 333,
     "metadata": {},
     "output_type": "execute_result"
    }
   ],
   "source": [
    "dico = {\n",
    "    \"clef\"    : \"valeur\",\n",
    "    \"entrée\"  : \"description\",\n",
    "    \"mot\"     : \"définition\"\n",
    "}\n",
    "dico"
   ]
  },
  {
   "cell_type": "markdown",
   "metadata": {},
   "source": [
    "## 6.1) itérer sur un dico\n"
   ]
  },
  {
   "cell_type": "code",
   "execution_count": 349,
   "metadata": {},
   "outputs": [
    {
     "name": "stdout",
     "output_type": "stream",
     "text": [
      "clef\n",
      "entrée\n",
      "mot\n"
     ]
    }
   ],
   "source": [
    "# récupération des clefs\n",
    "for clef in dico:\n",
    "    print(clef)"
   ]
  },
  {
   "cell_type": "code",
   "execution_count": 350,
   "metadata": {},
   "outputs": [
    {
     "name": "stdout",
     "output_type": "stream",
     "text": [
      "clef =clef      valeur=valeur    \n",
      "clef =entrée    valeur=description\n",
      "clef =mot       valeur=définition\n"
     ]
    }
   ],
   "source": [
    "# aller chercher la valeur pour chaque clef\n",
    "for clef in dico:\n",
    "    valeur = dico[clef]\n",
    "    print(f\"clef ={clef:10s}valeur={valeur:10s}\")"
   ]
  },
  {
   "cell_type": "code",
   "execution_count": 351,
   "metadata": {},
   "outputs": [
    {
     "name": "stdout",
     "output_type": "stream",
     "text": [
      "clef =clef      valeur=valeur    \n",
      "clef =entrée    valeur=description\n",
      "clef =mot       valeur=définition\n"
     ]
    }
   ],
   "source": [
    "# unpacking direct des clefs valeurs via la fonction items\n",
    "for clef, valeur in dico.items():\n",
    "    print(f\"clef ={clef:10s}valeur={valeur:10s}\")"
   ]
  },
  {
   "cell_type": "code",
   "execution_count": 354,
   "metadata": {},
   "outputs": [
    {
     "name": "stdout",
     "output_type": "stream",
     "text": [
      "valeur = valeur    \n",
      "valeur = description\n",
      "valeur = définition\n"
     ]
    }
   ],
   "source": [
    "# aller chercher les valeurs\n",
    "for valeur in dico.values():\n",
    "    print(f\"valeur = {valeur:10s}\")"
   ]
  },
  {
   "cell_type": "markdown",
   "metadata": {},
   "source": [
    "# 6.2) Import de nltk :  Natural Language ToolKit "
   ]
  },
  {
   "cell_type": "code",
   "execution_count": 355,
   "metadata": {},
   "outputs": [],
   "source": [
    "import nltk"
   ]
  },
  {
   "cell_type": "code",
   "execution_count": 356,
   "metadata": {},
   "outputs": [
    {
     "name": "stdout",
     "output_type": "stream",
     "text": [
      "[nltk_data] Downloading package gutenberg to\n",
      "[nltk_data]     /Users/romain/nltk_data...\n",
      "[nltk_data]   Package gutenberg is already up-to-date!\n"
     ]
    },
    {
     "data": {
      "text/plain": [
       "True"
      ]
     },
     "execution_count": 356,
     "metadata": {},
     "output_type": "execute_result"
    }
   ],
   "source": [
    "nltk.download('gutenberg')"
   ]
  },
  {
   "cell_type": "code",
   "execution_count": 385,
   "metadata": {},
   "outputs": [
    {
     "data": {
      "text/plain": [
       "['austen-emma.txt',\n",
       " 'austen-persuasion.txt',\n",
       " 'austen-sense.txt',\n",
       " 'bible-kjv.txt',\n",
       " 'blake-poems.txt',\n",
       " 'bryant-stories.txt',\n",
       " 'burgess-busterbrown.txt',\n",
       " 'carroll-alice.txt',\n",
       " 'chesterton-ball.txt',\n",
       " 'chesterton-brown.txt',\n",
       " 'chesterton-thursday.txt',\n",
       " 'edgeworth-parents.txt',\n",
       " 'melville-moby_dick.txt',\n",
       " 'milton-paradise.txt',\n",
       " 'shakespeare-caesar.txt',\n",
       " 'shakespeare-hamlet.txt',\n",
       " 'shakespeare-macbeth.txt',\n",
       " 'whitman-leaves.txt']"
      ]
     },
     "execution_count": 385,
     "metadata": {},
     "output_type": "execute_result"
    }
   ],
   "source": [
    "textes = nltk.corpus.gutenberg.fileids()\n",
    "textes"
   ]
  },
  {
   "cell_type": "code",
   "execution_count": 358,
   "metadata": {},
   "outputs": [],
   "source": [
    "nom_fichier = \"shakespeare-hamlet.txt\"\n",
    "mots_texte  = nltk.corpus.gutenberg.words(nom_fichier)"
   ]
  },
  {
   "cell_type": "code",
   "execution_count": 360,
   "metadata": {},
   "outputs": [
    {
     "data": {
      "text/plain": [
       "37360"
      ]
     },
     "execution_count": 360,
     "metadata": {},
     "output_type": "execute_result"
    }
   ],
   "source": [
    "len(mots_texte)"
   ]
  },
  {
   "cell_type": "code",
   "execution_count": 361,
   "metadata": {},
   "outputs": [
    {
     "data": {
      "text/plain": [
       "['[', 'The', 'Tragedie', 'of', 'Hamlet', 'by', ...]"
      ]
     },
     "execution_count": 361,
     "metadata": {},
     "output_type": "execute_result"
    }
   ],
   "source": [
    "mots_texte"
   ]
  },
  {
   "cell_type": "markdown",
   "metadata": {},
   "source": [
    "## 6.3) comptage \"natif\" du nombre d'occurence des  mots"
   ]
  },
  {
   "cell_type": "code",
   "execution_count": 362,
   "metadata": {},
   "outputs": [],
   "source": [
    "for mot in mots_texte:\n",
    "    if mot not in dico:\n",
    "        dico[mot] = 0\n",
    "    dico[mot]+=1"
   ]
  },
  {
   "cell_type": "markdown",
   "metadata": {},
   "source": [
    "## 6.4) utilisation de \"defaultdict\""
   ]
  },
  {
   "cell_type": "code",
   "execution_count": 367,
   "metadata": {},
   "outputs": [],
   "source": [
    "from collections import defaultdict"
   ]
  },
  {
   "cell_type": "code",
   "execution_count": 368,
   "metadata": {},
   "outputs": [],
   "source": []
  },
  {
   "cell_type": "code",
   "execution_count": 413,
   "metadata": {},
   "outputs": [],
   "source": [
    "dico = defaultdict(int)\n",
    "for mot in mots_texte:\n",
    "    dico[mot]+=1"
   ]
  },
  {
   "cell_type": "markdown",
   "metadata": {},
   "source": [
    "## 6.5) tri des mots par nombre d'occurence"
   ]
  },
  {
   "cell_type": "code",
   "execution_count": 383,
   "metadata": {},
   "outputs": [],
   "source": [
    "mots_dans_l_ordre_d_usage = sorted(dico, key= lambda x: dico[x], reverse=True)\n",
    "n = 5\n",
    "mot_tries_de_plus_de_n_lettres = filter(lambda mot: len(mot)>n, mots_dans_l_ordre_d_usage)\n",
    "mot_tries_de_plus_de_n_lettres = list(mot_tries_de_plus_de_n_lettres)"
   ]
  },
  {
   "cell_type": "code",
   "execution_count": 384,
   "metadata": {},
   "outputs": [
    {
     "data": {
      "text/plain": [
       "[('Hamlet', 99),\n",
       " ('should', 52),\n",
       " ('speake', 48),\n",
       " ('Father', 46),\n",
       " ('thinke', 42),\n",
       " ('Horatio', 40),\n",
       " ('Queene', 39),\n",
       " ('Mother', 37),\n",
       " ('Heauen', 36),\n",
       " ('Laertes', 35),\n",
       " ('againe', 34),\n",
       " ('Ophelia', 28),\n",
       " ('cannot', 26),\n",
       " ('matter', 25),\n",
       " ('nothing', 23),\n",
       " ('Exeunt', 23),\n",
       " ('Denmarke', 20),\n",
       " ('Polonius', 20),\n",
       " ('England', 20),\n",
       " ('Fathers', 19),\n",
       " ('himselfe', 19),\n",
       " ('Players', 19),\n",
       " ('Nature', 18),\n",
       " ('indeed', 18),\n",
       " ('meanes', 18),\n",
       " ('against', 17),\n",
       " ('Guildensterne', 17),\n",
       " ('though', 16),\n",
       " ('follow', 16),\n",
       " ('better', 15),\n",
       " ('thoughts', 15),\n",
       " ('within', 15),\n",
       " ('beleeue', 14),\n",
       " ('before', 13),\n",
       " ('Fortinbras', 13),\n",
       " ('Gertrude', 13),\n",
       " ('breath', 13),\n",
       " ('drinke', 13),\n",
       " ('speech', 13),\n",
       " ('madnesse', 13),\n",
       " ('Reynol', 13),\n",
       " ('thought', 12),\n",
       " ('selues', 12),\n",
       " ('further', 12),\n",
       " ('little', 12),\n",
       " ('tongue', 12),\n",
       " ('Gentlemen', 12),\n",
       " ('betweene', 12),\n",
       " ('Friends', 11),\n",
       " ('welcome', 11),\n",
       " ('purpose', 11),\n",
       " ('Vertue', 11),\n",
       " ('please', 11),\n",
       " ('command', 11),\n",
       " ('Rosincrance', 11),\n",
       " ('Marcellus', 10),\n",
       " ('honest', 10),\n",
       " ('Spirit', 10),\n",
       " ('Farewell', 10),\n",
       " ('Heauens', 10),\n",
       " ('sleepe', 10),\n",
       " ('second', 10),\n",
       " ('question', 10),\n",
       " ('Pyrrhus', 10),\n",
       " ('something', 9),\n",
       " ('strange', 9),\n",
       " ('Brothers', 9),\n",
       " ('things', 9),\n",
       " ('excellent', 9),\n",
       " ('Indeed', 9),\n",
       " ('without', 9),\n",
       " ('Gentleman', 9),\n",
       " ('daughter', 9),\n",
       " ('Fortune', 9),\n",
       " ('poyson', 9),\n",
       " ('Barnardo', 8),\n",
       " ('answer', 8),\n",
       " ('ground', 8),\n",
       " ('Maiesty', 8),\n",
       " ('Sister', 8),\n",
       " ('businesse', 8),\n",
       " ('Reason', 8),\n",
       " ('pardon', 8),\n",
       " ('beseech', 8),\n",
       " ('Friend', 8),\n",
       " ('common', 8),\n",
       " ('heauen', 8),\n",
       " ('remember', 8),\n",
       " ('therefore', 8),\n",
       " ('friends', 8),\n",
       " ('Reuenge', 8),\n",
       " ('Villaine', 8),\n",
       " ('hither', 8),\n",
       " ('thousand', 8),\n",
       " ('Madnesse', 8),\n",
       " ('Action', 8),\n",
       " ('knowne', 7),\n",
       " ('Speake', 7),\n",
       " ('greefe', 7),\n",
       " ('together', 7),\n",
       " ('Daughter', 7),\n",
       " ('Sweare', 7),\n",
       " ('another', 7),\n",
       " ('Musicke', 7),\n",
       " ('Letters', 7),\n",
       " ('Hamlets', 7),\n",
       " ('receiue', 7),\n",
       " ('Maiestie', 7),\n",
       " ('thanke', 7),\n",
       " ('Husband', 7),\n",
       " ('Therefore', 6),\n",
       " ('breake', 6),\n",
       " ('buried', 6),\n",
       " ('charge', 6),\n",
       " ('Though', 6),\n",
       " ('memory', 6),\n",
       " ('Brother', 6),\n",
       " ('through', 6),\n",
       " ('shewes', 6),\n",
       " ('desire', 6),\n",
       " ('teares', 6),\n",
       " ('Lordship', 6),\n",
       " ('fellow', 6),\n",
       " ('Mothers', 6),\n",
       " ('fashion', 6),\n",
       " ('nature', 6),\n",
       " ('withall', 6),\n",
       " ('enough', 6),\n",
       " ('effect', 6),\n",
       " ('double', 6),\n",
       " ('vnderstand', 6),\n",
       " ('Phrase', 6),\n",
       " ('almost', 6),\n",
       " ('Murther', 6),\n",
       " ('Crowne', 6),\n",
       " ('offence', 6),\n",
       " ('passion', 6),\n",
       " ('Fortunes', 6),\n",
       " ('lookes', 6),\n",
       " ('blacke', 6),\n",
       " ('proofe', 6),\n",
       " ('quicke', 6),\n",
       " ('dangerous', 6),\n",
       " ('Christian', 6),\n",
       " ('Iudgement', 6),\n",
       " ('Danish', 6),\n",
       " ('twelue', 5),\n",
       " ('goodnight', 5),\n",
       " ('Welcome', 5),\n",
       " ('course', 5),\n",
       " ('sometimes', 5),\n",
       " ('Norwey', 5),\n",
       " ('particular', 5),\n",
       " ('guilty', 5),\n",
       " ('wholsome', 5),\n",
       " ('gracious', 5),\n",
       " ('Kingdome', 5),\n",
       " ('Marriage', 5),\n",
       " ('freely', 5),\n",
       " ('Thankes', 5),\n",
       " ('farewell', 5),\n",
       " ('returne', 5),\n",
       " ('France', 5),\n",
       " ('seemes', 5),\n",
       " ('Within', 5),\n",
       " ('health', 5),\n",
       " ('discourse', 5),\n",
       " ('wicked', 5),\n",
       " ('disposition', 5),\n",
       " ('report', 5),\n",
       " ('thinkes', 5),\n",
       " ('deliuer', 5),\n",
       " ('perchance', 5),\n",
       " ('warrant', 5),\n",
       " ('silence', 5),\n",
       " ('season', 5),\n",
       " ('desperate', 5),\n",
       " ('sodaine', 5),\n",
       " ('damned', 5),\n",
       " ('generall', 5),\n",
       " ('brought', 5),\n",
       " ('Commission', 5),\n",
       " ('presently', 5),\n",
       " ('Ambition', 5),\n",
       " ('themselues', 5),\n",
       " ('French', 5),\n",
       " ('Treason', 5),\n",
       " ('bestow', 5),\n",
       " ('Follow', 5),\n",
       " ('Passion', 5),\n",
       " ('drowne', 5),\n",
       " ('Conscience', 5),\n",
       " ('Fellowes', 5),\n",
       " ('patience', 5),\n",
       " ('forgot', 5),\n",
       " ('slaine', 5),\n",
       " ('Alexander', 5),\n",
       " ('Osricke', 5),\n",
       " ('Foyles', 5),\n",
       " ('thankes', 4),\n",
       " ('Starre', 4),\n",
       " ('figure', 4),\n",
       " ('wonder', 4),\n",
       " ('Question', 4),\n",
       " ('Before', 4),\n",
       " ('Without', 4),\n",
       " ('Cannon', 4),\n",
       " ('toward', 4),\n",
       " ('Norway', 4),\n",
       " ('return', 4),\n",
       " ('strong', 4),\n",
       " ('Treasure', 4),\n",
       " ('Trumpet', 4),\n",
       " ('heerein', 4),\n",
       " ('gainst', 4),\n",
       " ('Wherein', 4),\n",
       " ('impart', 4),\n",
       " ('sorrow', 4),\n",
       " ('followes', 4),\n",
       " ('Cornelius', 4),\n",
       " ('commend', 4),\n",
       " ('confesse', 4),\n",
       " ('colour', 4),\n",
       " ('prythee', 4),\n",
       " ('gentle', 4),\n",
       " ('growne', 4),\n",
       " ('longer', 4),\n",
       " ('forget', 4),\n",
       " ('friend', 4),\n",
       " ('father', 4),\n",
       " ('thrice', 4),\n",
       " ('length', 4),\n",
       " ('countenance', 4),\n",
       " ('Honour', 4),\n",
       " ('seruice', 4),\n",
       " ('wisedome', 4),\n",
       " ('danger', 4),\n",
       " ('blessing', 4),\n",
       " ('iudgement', 4),\n",
       " ('humbly', 4),\n",
       " ('making', 4),\n",
       " ('custome', 4),\n",
       " ('Custome', 4),\n",
       " ('Soules', 4),\n",
       " ('horrible', 4),\n",
       " ('direct', 4),\n",
       " ('hearing', 4),\n",
       " ('certaine', 4),\n",
       " ('Prison', 4),\n",
       " ('vnnaturall', 4),\n",
       " ('cursed', 4),\n",
       " ('instant', 4),\n",
       " ('bosome', 4),\n",
       " ('Remember', 4),\n",
       " ('distracted', 4),\n",
       " ('Braine', 4),\n",
       " ('secret', 4),\n",
       " ('already', 4),\n",
       " ('seeing', 4),\n",
       " ('Reynoldo', 4),\n",
       " ('closes', 4),\n",
       " ('consequence', 4),\n",
       " ('violent', 4),\n",
       " ('distemper', 4),\n",
       " ('rather', 4),\n",
       " ('awhile', 4),\n",
       " ('reason', 4),\n",
       " ('Honestie', 4),\n",
       " ('either', 4),\n",
       " ('dreames', 4),\n",
       " ('bodies', 4),\n",
       " ('neither', 4),\n",
       " ('comming', 4),\n",
       " ('keepes', 4),\n",
       " ('Player', 4),\n",
       " ('cunning', 4),\n",
       " ('Hecuba', 4),\n",
       " ('mortall', 4),\n",
       " ('morrow', 4),\n",
       " ('murther', 4),\n",
       " ('Gonzago', 4),\n",
       " ('visage', 4),\n",
       " ('perhaps', 4),\n",
       " ('Beautie', 4),\n",
       " ('Nunnery', 4),\n",
       " ('Ladies', 4),\n",
       " ('wretched', 4),\n",
       " ('Nothing', 4),\n",
       " ('Prologue', 4),\n",
       " ('shortly', 4),\n",
       " ('spirit', 4),\n",
       " ('heeles', 4),\n",
       " ('stronger', 4),\n",
       " ('Should', 4),\n",
       " ('Messenger', 4),\n",
       " ('choose', 4),\n",
       " ('Goodnight', 4),\n",
       " ('Gallowes', 4),\n",
       " ('Carriages', 4),\n",
       " ('Tragedie', 3),\n",
       " ('vnfold', 3),\n",
       " ('bitter', 3),\n",
       " ('appear', 3),\n",
       " ('appeare', 3),\n",
       " ('beating', 3),\n",
       " ('Together', 3),\n",
       " ('offended', 3),\n",
       " ('Ambitious', 3),\n",
       " ('knowes', 3),\n",
       " ('subiect', 3),\n",
       " ('Against', 3),\n",
       " ('recouer', 3),\n",
       " ('termes', 3),\n",
       " ('Motiue', 3),\n",
       " ('Whether', 3),\n",
       " ('present', 3),\n",
       " ('nights', 3),\n",
       " ('Breake', 3),\n",
       " ('morning', 3),\n",
       " ('greene', 3),\n",
       " ('hearts', 3),\n",
       " ('wisest', 3),\n",
       " ('remembrance', 3),\n",
       " ('warlike', 3),\n",
       " ('Funerall', 3),\n",
       " ('thinking', 3),\n",
       " ('dreame', 3),\n",
       " ('Voltemand', 3),\n",
       " ('heartily', 3),\n",
       " ('Natiue', 3),\n",
       " ('fauour', 3),\n",
       " ('Seemes', 3),\n",
       " ('Coarse', 3),\n",
       " ('Wittenberg', 3),\n",
       " ('Courtier', 3),\n",
       " ('louing', 3),\n",
       " ('smiling', 3),\n",
       " ('growes', 3),\n",
       " ('married', 3),\n",
       " ('Hercules', 3),\n",
       " ('change', 3),\n",
       " ('violence', 3),\n",
       " ('Tables', 3),\n",
       " ('goodly', 3),\n",
       " ('admiration', 3),\n",
       " ('dreadfull', 3),\n",
       " ('answere', 3),\n",
       " ('person', 3),\n",
       " ('choyce', 3),\n",
       " ('safety', 3),\n",
       " ('entertainment', 3),\n",
       " ('censure', 3),\n",
       " ('generous', 3),\n",
       " ('audience', 3),\n",
       " ('tenders', 3),\n",
       " ('Circumstance', 3),\n",
       " ('presence', 3),\n",
       " ('Beleeue', 3),\n",
       " ('strooke', 3),\n",
       " ('honour', 3),\n",
       " ('Angels', 3),\n",
       " ('Something', 3),\n",
       " ('reuenge', 3),\n",
       " ('Starres', 3),\n",
       " ('stirre', 3),\n",
       " ('sleeping', 3),\n",
       " ('incestuous', 3),\n",
       " ('seeming', 3),\n",
       " ('wretch', 3),\n",
       " ('Naturall', 3),\n",
       " ('Vnckle', 3),\n",
       " ('villaine', 3),\n",
       " ('circumstance', 3),\n",
       " ('Soldiers', 3),\n",
       " ('expresse', 3),\n",
       " ('neerer', 3),\n",
       " ('gaming', 3),\n",
       " ('Chamber', 3),\n",
       " ('extasie', 3),\n",
       " ('property', 3),\n",
       " ('Rosincrane', 3),\n",
       " ('vouchsafe', 3),\n",
       " ('gather', 3),\n",
       " ('Soueraigne', 3),\n",
       " ('Ambassadors', 3),\n",
       " ('breefe', 3),\n",
       " ('Whereon', 3),\n",
       " ('consider', 3),\n",
       " ('outward', 3),\n",
       " ('foolish', 3),\n",
       " ('remaines', 3),\n",
       " ('Letter', 3),\n",
       " ('faithfull', 3),\n",
       " ('receiu', 3),\n",
       " ('Mistris', 3),\n",
       " ('Prince', 3),\n",
       " ('otherwise', 3),\n",
       " ('behinde', 3),\n",
       " ('encounter', 3),\n",
       " ('Betweene', 3),\n",
       " ('indifferent', 3),\n",
       " ('Children', 3),\n",
       " ('infinite', 3),\n",
       " ('shadow', 3),\n",
       " ('Elsonower', 3),\n",
       " ('Begger', 3),\n",
       " ('iustly', 3),\n",
       " ('exercise', 3),\n",
       " ('heauenly', 3),\n",
       " ('delights', 3),\n",
       " ('stuffe', 3),\n",
       " ('Clowne', 3),\n",
       " ('Rapiers', 3),\n",
       " ('possible', 3),\n",
       " ('Braines', 3),\n",
       " ('Pastorall', 3),\n",
       " ('Historicall', 3),\n",
       " ('Iephta', 3),\n",
       " ('Masters', 3),\n",
       " ('Speech', 3),\n",
       " ('straight', 3),\n",
       " ('others', 3),\n",
       " ('matters', 3),\n",
       " ('modestie', 3),\n",
       " ('phrase', 3),\n",
       " ('falles', 3),\n",
       " ('wheele', 3),\n",
       " ('sleepes', 3),\n",
       " ('caught', 3),\n",
       " ('Husbands', 3),\n",
       " ('Conceit', 3),\n",
       " ('murder', 3),\n",
       " ('content', 3),\n",
       " ('accident', 3),\n",
       " ('vnseene', 3),\n",
       " ('diuell', 3),\n",
       " ('suffer', 3),\n",
       " ('patient', 3),\n",
       " ('Fellow', 3),\n",
       " ('speciall', 3),\n",
       " ('praise', 3),\n",
       " ('Norman', 3),\n",
       " ('quantitie', 3),\n",
       " ('spirits', 3),\n",
       " ('election', 3),\n",
       " ('leaues', 3),\n",
       " ('kisses', 3),\n",
       " ('imports', 3),\n",
       " ('counsell', 3),\n",
       " ('Greefe', 3),\n",
       " ('Offence', 3),\n",
       " ('Lights', 3),\n",
       " ('blesse', 3),\n",
       " ('stands', 3),\n",
       " ('effects', 3),\n",
       " ('reueng', 3),\n",
       " ('whereto', 3),\n",
       " ('mother', 3),\n",
       " ('bloody', 3),\n",
       " ('Mountaine', 3),\n",
       " ('speakes', 3),\n",
       " ('Alacke', 3),\n",
       " ('Rapier', 3),\n",
       " ('Spundge', 3),\n",
       " ('buriall', 3),\n",
       " ('conscience', 3),\n",
       " ('practice', 3),\n",
       " ('envenom', 3),\n",
       " ('liberall', 3),\n",
       " ('Priest', 3),\n",
       " ('Francisco', 2),\n",
       " ('Soldier', 2),\n",
       " ('Fantasie', 2),\n",
       " ('Apparition', 2),\n",
       " ('burnes', 2),\n",
       " ('tremble', 2),\n",
       " ('sensible', 2),\n",
       " ('Armour', 2),\n",
       " ('grosse', 2),\n",
       " ('nightly', 2),\n",
       " ('Mettle', 2),\n",
       " ('Enterprize', 2),\n",
       " ('cheefe', 2),\n",
       " ('crosse', 2),\n",
       " ('Countries', 2),\n",
       " ('Spirits', 2),\n",
       " ('strike', 2),\n",
       " ('Maiesticall', 2),\n",
       " ('blowes', 2),\n",
       " ('malicious', 2),\n",
       " ('Throate', 2),\n",
       " ('Season', 2),\n",
       " ('aduice', 2),\n",
       " ('consent', 2),\n",
       " ('needfull', 2),\n",
       " ('Secunda', 2),\n",
       " ('Attendant', 2),\n",
       " ('Discretion', 2),\n",
       " ('equall', 2),\n",
       " ('affaire', 2),\n",
       " ('Importing', 2),\n",
       " ('valiant', 2),\n",
       " ('meeting', 2),\n",
       " ('heares', 2),\n",
       " ('Nephewes', 2),\n",
       " ('suppresse', 2),\n",
       " ('Leuies', 2),\n",
       " ('dispatch', 2),\n",
       " ('Giuing', 2),\n",
       " ('Throne', 2),\n",
       " ('willingly', 2),\n",
       " ('towards', 2),\n",
       " ('solemne', 2),\n",
       " ('Blacke', 2),\n",
       " ('Formes', 2),\n",
       " ('Obligation', 2),\n",
       " ('Sorrow', 2),\n",
       " ('vulgar', 2),\n",
       " ('absurd', 2),\n",
       " ('Theame', 2),\n",
       " ('beares', 2),\n",
       " ('intent', 2),\n",
       " ('cheere', 2),\n",
       " ('drinkes', 2),\n",
       " ('bruite', 2),\n",
       " ('Thunder', 2),\n",
       " ('slaughter', 2),\n",
       " ('Garden', 2),\n",
       " ('Things', 2),\n",
       " ('meerely', 2),\n",
       " ('windes', 2),\n",
       " ('followed', 2),\n",
       " ('Teares', 2),\n",
       " ('Thrift', 2),\n",
       " ('thrift', 2),\n",
       " ('coldly', 2),\n",
       " ('middle', 2),\n",
       " ('points', 2),\n",
       " ('whilst', 2),\n",
       " ('motion', 2),\n",
       " ('troubles', 2),\n",
       " ('hundred', 2),\n",
       " ('assume', 2),\n",
       " ('hitherto', 2),\n",
       " ('vnderstanding', 2),\n",
       " ('fauours', 2),\n",
       " ('lasting', 2),\n",
       " ('inward', 2),\n",
       " ('vertue', 2),\n",
       " ('persons', 2),\n",
       " ('depends', 2),\n",
       " ('peculiar', 2),\n",
       " ('Affection', 2),\n",
       " ('Prodigall', 2),\n",
       " ('beauty', 2),\n",
       " ('Canker', 2),\n",
       " ('Spring', 2),\n",
       " ('disclos', 2),\n",
       " ('aboord', 2),\n",
       " ('Precepts', 2),\n",
       " ('Character', 2),\n",
       " ('Grapple', 2),\n",
       " ('Steele', 2),\n",
       " ('Neither', 2),\n",
       " ('seruants', 2),\n",
       " ('somthing', 2),\n",
       " ('touching', 2),\n",
       " ('affection', 2),\n",
       " ('tender', 2),\n",
       " ('promise', 2),\n",
       " ('Maiden', 2),\n",
       " ('beguile', 2),\n",
       " ('tearmes', 2),\n",
       " ('moment', 2),\n",
       " ('drawes', 2),\n",
       " ('Keepes', 2),\n",
       " ('Renish', 2),\n",
       " ('obseruance', 2),\n",
       " ('defend', 2),\n",
       " ('charitable', 2),\n",
       " ('Royall', 2),\n",
       " ('Ignorance', 2),\n",
       " ('fooles', 2),\n",
       " ('horridly', 2),\n",
       " ('beyond', 2),\n",
       " ('wherefore', 2),\n",
       " ('action', 2),\n",
       " ('imagination', 2),\n",
       " ('rotten', 2),\n",
       " ('crimes', 2),\n",
       " ('forbid', 2),\n",
       " ('eternall', 2),\n",
       " ('Orchard', 2),\n",
       " ('Serpent', 2),\n",
       " ('witchcraft', 2),\n",
       " ('falling', 2),\n",
       " ('Angell', 2),\n",
       " ('Celestiall', 2),\n",
       " ('alwayes', 2),\n",
       " ('secure', 2),\n",
       " ('naturall', 2),\n",
       " ('smooth', 2),\n",
       " ('contriue', 2),\n",
       " ('wonderfull', 2),\n",
       " ('arrant', 2),\n",
       " ('desires', 2),\n",
       " ('Schollers', 2),\n",
       " ('sworne', 2),\n",
       " ('sweare', 2),\n",
       " ('grownd', 2),\n",
       " ('remoue', 2),\n",
       " ('wondrous', 2),\n",
       " ('doubtfull', 2),\n",
       " ('giuing', 2),\n",
       " ('willing', 2),\n",
       " ('fingers', 2),\n",
       " ('wisely', 2),\n",
       " ('demands', 2),\n",
       " ('dishonour', 2),\n",
       " ('wanton', 2),\n",
       " ('liberty', 2),\n",
       " ('swearing', 2),\n",
       " ('faults', 2),\n",
       " ('laying', 2),\n",
       " ('working', 2),\n",
       " ('Country', 2),\n",
       " ('former', 2),\n",
       " ('Obserue', 2),\n",
       " ('inclination', 2),\n",
       " ('profound', 2),\n",
       " ('Natures', 2),\n",
       " ('sorrie', 2),\n",
       " ('iealousie', 2),\n",
       " ('proper', 2),\n",
       " ('discretion', 2),\n",
       " ('sending', 2),\n",
       " ('intreat', 2),\n",
       " ('pleasures', 2),\n",
       " ('Occasions', 2),\n",
       " ('liuing', 2),\n",
       " ('profit', 2),\n",
       " ('Visitation', 2),\n",
       " ('Maiesties', 2),\n",
       " ('Command', 2),\n",
       " ('Sonnes', 2),\n",
       " ('Voltumand', 2),\n",
       " ('Poleak', 2),\n",
       " ('allowance', 2),\n",
       " ('Businesse', 2),\n",
       " ('limbes', 2),\n",
       " ('pittie', 2),\n",
       " ('Obedience', 2),\n",
       " ('Honourable', 2),\n",
       " ('Thence', 2),\n",
       " ('thence', 2),\n",
       " ('Weaknesse', 2),\n",
       " ('whereon', 2),\n",
       " ('likely', 2),\n",
       " ('indeede', 2),\n",
       " ('reading', 2),\n",
       " ('Excellent', 2),\n",
       " ('Fishmonger', 2),\n",
       " ('Magots', 2),\n",
       " ('kissing', 2),\n",
       " ('purging', 2),\n",
       " ('thicke', 2),\n",
       " ('pregnant', 2),\n",
       " ('tedious', 2),\n",
       " ('Strumpet', 2),\n",
       " ('Doomesday', 2),\n",
       " ('Denmark', 2),\n",
       " ('Dreame', 2),\n",
       " ('quality', 2),\n",
       " ('Beggers', 2),\n",
       " ('friendship', 2),\n",
       " ('confession', 2),\n",
       " ('preuent', 2),\n",
       " ('appeares', 2),\n",
       " ('pestilent', 2),\n",
       " ('faculty', 2),\n",
       " ('apprehension', 2),\n",
       " ('delight', 2),\n",
       " ('Seruice', 2),\n",
       " ('Tribute', 2),\n",
       " ('wonted', 2),\n",
       " ('thither', 2),\n",
       " ('pursue', 2),\n",
       " ('Succession', 2),\n",
       " ('Nation', 2),\n",
       " ('vnlesse', 2),\n",
       " ('twenty', 2),\n",
       " ('Flourish', 2),\n",
       " ('Fashion', 2),\n",
       " ('Actors', 2),\n",
       " ('Comedie', 2),\n",
       " ('Comicall', 2),\n",
       " ('Tragicall', 2),\n",
       " ('Liberty', 2),\n",
       " ('passing', 2),\n",
       " ('passionate', 2),\n",
       " ('Author', 2),\n",
       " ('rugged', 2),\n",
       " ('begins', 2),\n",
       " ('Complexion', 2),\n",
       " ('dismall', 2),\n",
       " ('seekes', 2),\n",
       " ('spoken', 2),\n",
       " ('accent', 2),\n",
       " ('findes', 2),\n",
       " ('Rebellious', 2),\n",
       " ('senselesse', 2),\n",
       " ('flaming', 2),\n",
       " ('Prisoner', 2),\n",
       " ('sticke', 2),\n",
       " ('painted', 2),\n",
       " ('Region', 2),\n",
       " ('Vengeance', 2),\n",
       " ('inobled', 2),\n",
       " ('Diadem', 2),\n",
       " ('pronounc', 2),\n",
       " ('Epitaph', 2),\n",
       " ('desart', 2),\n",
       " ('Pesant', 2),\n",
       " ('conceit', 2),\n",
       " ('distraction', 2),\n",
       " ('horrid', 2),\n",
       " ('ignorant', 2),\n",
       " ('Treacherous', 2),\n",
       " ('Scoene', 2),\n",
       " ('Melancholly', 2),\n",
       " ('potent', 2),\n",
       " ('Guildenstern', 2),\n",
       " ('aloofe', 2),\n",
       " ('pastime', 2),\n",
       " ('frankely', 2),\n",
       " ('affliction', 2),\n",
       " ('suffers', 2),\n",
       " ('heauie', 2),\n",
       " ('withdraw', 2),\n",
       " ('Arrowes', 2),\n",
       " ('Spurnes', 2),\n",
       " ('vnworthy', 2),\n",
       " ('returnes', 2),\n",
       " ('Thought', 2),\n",
       " ('sinnes', 2),\n",
       " ('sooner', 2),\n",
       " ('translate', 2),\n",
       " ('rellish', 2),\n",
       " ('doores', 2),\n",
       " ('Plague', 2),\n",
       " ('escape', 2),\n",
       " ('Powers', 2),\n",
       " ('creatures', 2),\n",
       " ('throwne', 2),\n",
       " ('Courtiers', 2),\n",
       " ('glasse', 2),\n",
       " ('Feature', 2),\n",
       " ('blowne', 2),\n",
       " ('demand', 2),\n",
       " ('neglected', 2),\n",
       " ('variable', 2),\n",
       " ('expell', 2),\n",
       " ('Tongue', 2),\n",
       " ('capeable', 2),\n",
       " ('neyther', 2),\n",
       " ('Playing', 2),\n",
       " ('greeue', 2),\n",
       " ('Clownes', 2),\n",
       " ('necessary', 2),\n",
       " ('readie', 2),\n",
       " ('flatter', 2),\n",
       " ('Rewards', 2),\n",
       " ('finger', 2),\n",
       " ('iudgements', 2),\n",
       " ('attendant', 2),\n",
       " ('Ifaith', 2),\n",
       " ('Caesar', 2),\n",
       " ('Capitall', 2),\n",
       " ('merrie', 2),\n",
       " ('cheerefully', 2),\n",
       " ('moneths', 2),\n",
       " ('Memorie', 2),\n",
       " ('Flowers', 2),\n",
       " ('Poysoner', 2),\n",
       " ('lament', 2),\n",
       " ('Argument', 2),\n",
       " ('naught', 2),\n",
       " ('thirtie', 2),\n",
       " ('distrust', 2),\n",
       " ('Wormwood', 2),\n",
       " ('destroy', 2),\n",
       " ('Enemies', 2),\n",
       " ('mischance', 2),\n",
       " ('twaine', 2),\n",
       " ('knauish', 2),\n",
       " ('Lucianus', 2),\n",
       " ('Murderer', 2),\n",
       " ('Thoughts', 2),\n",
       " ('estate', 2),\n",
       " ('signifie', 2),\n",
       " ('wildely', 2),\n",
       " ('Closset', 2),\n",
       " ('grasse', 2),\n",
       " ('Recorder', 2),\n",
       " ('Instrument', 2),\n",
       " ('Camell', 2),\n",
       " ('Weazell', 2),\n",
       " ('cruell', 2),\n",
       " ('Daggers', 2),\n",
       " ('prepare', 2),\n",
       " ('single', 2),\n",
       " ('Voyage', 2),\n",
       " ('Behinde', 2),\n",
       " ('Processe', 2),\n",
       " ('vantage', 2),\n",
       " ('serues', 2),\n",
       " ('Prayer', 2),\n",
       " ('Forgiue', 2),\n",
       " ('shuffling', 2),\n",
       " ('forehead', 2),\n",
       " ('repent', 2),\n",
       " ('killes', 2),\n",
       " ('passage', 2),\n",
       " ('pleasure', 2),\n",
       " ('sweete', 2),\n",
       " ('assurance', 2),\n",
       " ('Corruption', 2),\n",
       " ('precious', 2),\n",
       " ('fighting', 2),\n",
       " ('habite', 2),\n",
       " ('Vnction', 2),\n",
       " ('easinesse', 2),\n",
       " ('Fingers', 2),\n",
       " ('Basket', 2),\n",
       " ('Mountaines', 2),\n",
       " ('Chappell', 2),\n",
       " ('Officers', 2),\n",
       " ('Supper', 2),\n",
       " ('purposes', 2),\n",
       " ('promis', 2),\n",
       " ('safely', 2),\n",
       " ('trickes', 2),\n",
       " ('hearers', 2),\n",
       " ('breeding', 2),\n",
       " ('Larded', 2),\n",
       " ('Beasts', 2),\n",
       " ('clouds', 2),\n",
       " ('tongues', 2),\n",
       " ('Diuinity', 2),\n",
       " ('turnes', 2),\n",
       " ('Violets', 2),\n",
       " ('Saylors', 2),\n",
       " ('repaire', 2),\n",
       " ('wouldest', 2),\n",
       " ('slightly', 2),\n",
       " ('vndertake', 2),\n",
       " ('shapes', 2),\n",
       " ('defence', 2),\n",
       " ('throat', 2),\n",
       " ('Church', 2),\n",
       " ('excellence', 2),\n",
       " ('chance', 2),\n",
       " ('Brooke', 2),\n",
       " ('tricke', 2),\n",
       " ('wittingly', 2),\n",
       " ('Argall', 2),\n",
       " ('Buriall', 2),\n",
       " ('Scripture', 2),\n",
       " ('builds', 2),\n",
       " ('Shipwright', 2),\n",
       " ('Carpenter', 2),\n",
       " ('braines', 2),\n",
       " ('Liquor', 2),\n",
       " ('Vouchers', 2),\n",
       " ('Recoueries', 2),\n",
       " ('skinnes', 2),\n",
       " ('yeares', 2),\n",
       " ('strangely', 2),\n",
       " ('Imagination', 2),\n",
       " ('Cerimony', 2),\n",
       " ('allowed', 2),\n",
       " ('wounded', 2),\n",
       " ('leysure', 2),\n",
       " ('flourish', 2),\n",
       " ('soultry', 2),\n",
       " ('weapon', 2),\n",
       " ('Barbary', 2),\n",
       " ('Hangers', 2),\n",
       " ('tryall', 2),\n",
       " ('Attendants', 2),\n",
       " ('Audience', 2),\n",
       " ('embrace', 2),\n",
       " ('Trumpets', 2),\n",
       " ('Treacherie', 2),\n",
       " ('Drumme', 2),\n",
       " ('shoote', 2),\n",
       " ('William', 1),\n",
       " ('Shakespeare', 1),\n",
       " ('Primus', 1),\n",
       " ('Scoena', 1),\n",
       " ('Centinels', 1),\n",
       " ('carefully', 1),\n",
       " ('strook', 1),\n",
       " ('releefe', 1),\n",
       " ('stirring', 1),\n",
       " ('Riuals', 1),\n",
       " ('farwel', 1),\n",
       " ('relieu', 1),\n",
       " ('beleefe', 1),\n",
       " ('Touching', 1),\n",
       " ('dreaded', 1),\n",
       " ('intreated', 1),\n",
       " ('minutes', 1),\n",
       " ('approue', 1),\n",
       " ('assaile', 1),\n",
       " ('fortified', 1),\n",
       " ('Nights', 1),\n",
       " ('Westward', 1),\n",
       " ('illume', 1),\n",
       " ('Scholler', 1),\n",
       " ('Lookes', 1),\n",
       " ('harrowes', 1),\n",
       " ('Warlike', 1),\n",
       " ('stalkes', 1),\n",
       " ('Charge', 1),\n",
       " ('auouch', 1),\n",
       " ('combatted', 1),\n",
       " ('sledded', 1),\n",
       " ('Pollax', 1),\n",
       " ('Martiall', 1),\n",
       " ('stalke', 1),\n",
       " ('Opinion', 1),\n",
       " ('boades', 1),\n",
       " ('erruption', 1),\n",
       " ('strict', 1),\n",
       " ('obseruant', 1),\n",
       " ('toyles', 1),\n",
       " ('Brazon', 1),\n",
       " ('Forraigne', 1),\n",
       " ('Implements', 1),\n",
       " ('impresse', 1),\n",
       " ('wrights', 1),\n",
       " ('diuide', 1),\n",
       " ('Sunday', 1),\n",
       " ('sweaty', 1),\n",
       " ('Labourer', 1),\n",
       " ('informe', 1),\n",
       " ('whisper', 1),\n",
       " ('Thereto', 1),\n",
       " ('emulate', 1),\n",
       " ('Combate', 1),\n",
       " ('Valiant', 1),\n",
       " ('esteem', 1),\n",
       " ('Compact', 1),\n",
       " ('ratified', 1),\n",
       " ('Heraldrie', 1),\n",
       " ('forfeite', 1),\n",
       " ('Conqueror', 1),\n",
       " ('competent', 1),\n",
       " ('Inheritance', 1),\n",
       " ('Vanquisher', 1),\n",
       " ('carriage', 1),\n",
       " ('Article', 1),\n",
       " ('designe', 1),\n",
       " ('vnimproued', 1),\n",
       " ('skirts', 1),\n",
       " ('Landlesse', 1),\n",
       " ('Resolutes', 1),\n",
       " ('stomacke', 1),\n",
       " ('Compulsatiue', 1),\n",
       " ('foresaid', 1),\n",
       " ('Preparations', 1),\n",
       " ('Sourse', 1),\n",
       " ('Romage', 1),\n",
       " ('behold', 1),\n",
       " ('Illusion', 1),\n",
       " ('happily', 1),\n",
       " ('foreknowing', 1),\n",
       " ('hoorded', 1),\n",
       " ('Extorted', 1),\n",
       " ('Partizan', 1),\n",
       " ('Violence', 1),\n",
       " ('invulnerable', 1),\n",
       " ('Mockery', 1),\n",
       " ('started', 1),\n",
       " ('fearfull', 1),\n",
       " ('Summons', 1),\n",
       " ('shrill', 1),\n",
       " ('sounding', 1),\n",
       " ('warning', 1),\n",
       " ('extrauagant', 1),\n",
       " ('erring', 1),\n",
       " ('Confine', 1),\n",
       " ('Obiect', 1),\n",
       " ('probation', 1),\n",
       " ('crowing', 1),\n",
       " ('Sauiours', 1),\n",
       " ('celebrated', 1),\n",
       " ('Dawning', 1),\n",
       " ('singeth', 1),\n",
       " ...]"
      ]
     },
     "execution_count": 384,
     "metadata": {},
     "output_type": "execute_result"
    }
   ],
   "source": [
    "_ = mot_tries_de_plus_de_n_lettres\n",
    "[(mot, dico[mot]) for mot in _]"
   ]
  },
  {
   "cell_type": "markdown",
   "metadata": {},
   "source": [
    "# 7) amusons nous"
   ]
  },
  {
   "cell_type": "code",
   "execution_count": 386,
   "metadata": {},
   "outputs": [
    {
     "data": {
      "text/plain": [
       "['austen-emma.txt',\n",
       " 'austen-persuasion.txt',\n",
       " 'austen-sense.txt',\n",
       " 'bible-kjv.txt',\n",
       " 'blake-poems.txt',\n",
       " 'bryant-stories.txt',\n",
       " 'burgess-busterbrown.txt',\n",
       " 'carroll-alice.txt',\n",
       " 'chesterton-ball.txt',\n",
       " 'chesterton-brown.txt',\n",
       " 'chesterton-thursday.txt',\n",
       " 'edgeworth-parents.txt',\n",
       " 'melville-moby_dick.txt',\n",
       " 'milton-paradise.txt',\n",
       " 'shakespeare-caesar.txt',\n",
       " 'shakespeare-hamlet.txt',\n",
       " 'shakespeare-macbeth.txt',\n",
       " 'whitman-leaves.txt']"
      ]
     },
     "execution_count": 386,
     "metadata": {},
     "output_type": "execute_result"
    }
   ],
   "source": [
    "textes"
   ]
  },
  {
   "cell_type": "code",
   "execution_count": 388,
   "metadata": {},
   "outputs": [],
   "source": [
    "trouve_auteur = lambda chaine: chaine[:chaine.find(\"-\")]"
   ]
  },
  {
   "cell_type": "markdown",
   "metadata": {},
   "source": [
    "## 7.1) rassembler les auteurs avec leurs oeuvres"
   ]
  },
  {
   "cell_type": "code",
   "execution_count": 394,
   "metadata": {},
   "outputs": [],
   "source": [
    "dico_auteurs = defaultdict(list)\n",
    "for nom_texte in textes:\n",
    "    nom_auteur = trouve_auteur(nom_texte)\n",
    "    dico_auteurs[nom_auteur].append(nom_texte)\n",
    "    \n",
    "    "
   ]
  },
  {
   "cell_type": "markdown",
   "metadata": {},
   "source": [
    "### on supprime un texte afin de pouvoir en chercher l'auteur le plus probable"
   ]
  },
  {
   "cell_type": "code",
   "execution_count": 427,
   "metadata": {},
   "outputs": [
    {
     "data": {
      "text/plain": [
       "'austen-sense.txt'"
      ]
     },
     "execution_count": 427,
     "metadata": {},
     "output_type": "execute_result"
    }
   ],
   "source": [
    "fichier_enleve = dico_auteurs[\"austen\"].pop()"
   ]
  },
  {
   "cell_type": "code",
   "execution_count": 429,
   "metadata": {},
   "outputs": [
    {
     "data": {
      "text/plain": [
       "['austen-emma.txt', 'austen-persuasion.txt']"
      ]
     },
     "execution_count": 429,
     "metadata": {},
     "output_type": "execute_result"
    }
   ],
   "source": [
    "dico_auteurs[\"austen\"]"
   ]
  },
  {
   "cell_type": "markdown",
   "metadata": {},
   "source": [
    "## 7.2) concaténer les textes pour chaque auteur"
   ]
  },
  {
   "cell_type": "code",
   "execution_count": 430,
   "metadata": {},
   "outputs": [],
   "source": [
    "get_word = nltk.corpus.gutenberg.words"
   ]
  },
  {
   "cell_type": "code",
   "execution_count": 435,
   "metadata": {},
   "outputs": [],
   "source": [
    "def get_top_n(liste_de_mots, taille_minimale, n):\n",
    "    from collections import defaultdict\n",
    "    dico = defaultdict(int)\n",
    "    for mot in liste_de_mots:\n",
    "        dico[mot]+=1\n",
    "    \n",
    "    mots_dans_l_ordre_d_usage      = sorted(dico, key= lambda x: dico[x], reverse=True)\n",
    "\n",
    "    mot_tries_de_plus_de_n_lettres = filter(lambda mot: len(mot)>taille_minimale, \n",
    "                                             mots_dans_l_ordre_d_usage)\n",
    "    \n",
    "    mot_tries_de_plus_de_n_lettres = list(mot_tries_de_plus_de_n_lettres) \n",
    "    \n",
    "    r = [(mot, dico[mot]) for mot in mot_tries_de_plus_de_n_lettres]\n",
    "    r = mot_tries_de_plus_de_n_lettres\n",
    "    return r[:n]"
   ]
  },
  {
   "cell_type": "code",
   "execution_count": 436,
   "metadata": {},
   "outputs": [],
   "source": [
    "auteur_Vs_texte = {}\n",
    "for auteur, liste_de_textes in dico_auteurs.items():\n",
    "    liste = []\n",
    "    for nom_fichier in liste_de_textes :\n",
    "        liste.extend(get_word(nom_fichier))\n",
    "        \n",
    "    auteur_Vs_texte[auteur] = get_top_n(liste, 5, 100)"
   ]
  },
  {
   "cell_type": "code",
   "execution_count": 439,
   "metadata": {},
   "outputs": [],
   "source": [
    "database = pd.DataFrame(auteur_Vs_texte)"
   ]
  },
  {
   "cell_type": "markdown",
   "metadata": {},
   "source": [
    "## 7.3) recherchons l'auteur probable d'un texte"
   ]
  },
  {
   "cell_type": "code",
   "execution_count": 441,
   "metadata": {},
   "outputs": [],
   "source": [
    "fichier_enleve = 'austen-sense.txt'"
   ]
  },
  {
   "cell_type": "code",
   "execution_count": 444,
   "metadata": {},
   "outputs": [],
   "source": [
    "fichier_a_predire = get_top_n(get_word(fichier_enleve), 5, 100)"
   ]
  },
  {
   "cell_type": "code",
   "execution_count": 459,
   "metadata": {},
   "outputs": [],
   "source": [
    "a_predire = pd.DataFrame(fichier_a_predire)"
   ]
  },
  {
   "cell_type": "markdown",
   "metadata": {},
   "source": [
    "## La fonction applymap s'applique élément par élément dans une dataFrame"
   ]
  },
  {
   "cell_type": "code",
   "execution_count": 467,
   "metadata": {},
   "outputs": [],
   "source": [
    "_ = database.applymap(lambda mot: mot in a_predire.values).sum()"
   ]
  },
  {
   "cell_type": "code",
   "execution_count": 468,
   "metadata": {},
   "outputs": [
    {
     "data": {
      "text/plain": [
       "austen         62\n",
       "edgeworth      43\n",
       "chesterton     42\n",
       "melville       38\n",
       "carroll        32\n",
       "whitman        28\n",
       "bryant         26\n",
       "burgess        21\n",
       "milton         20\n",
       "shakespeare    18\n",
       "bible          18\n",
       "blake          10\n",
       "dtype: int64"
      ]
     },
     "execution_count": 468,
     "metadata": {},
     "output_type": "execute_result"
    }
   ],
   "source": [
    "_.sort_values(ascending=False)"
   ]
  }
 ],
 "metadata": {
  "kernelspec": {
   "display_name": "Python 3",
   "language": "python",
   "name": "python3"
  },
  "language_info": {
   "codemirror_mode": {
    "name": "ipython",
    "version": 3
   },
   "file_extension": ".py",
   "mimetype": "text/x-python",
   "name": "python",
   "nbconvert_exporter": "python",
   "pygments_lexer": "ipython3",
   "version": "3.7.3"
  }
 },
 "nbformat": 4,
 "nbformat_minor": 2
}
