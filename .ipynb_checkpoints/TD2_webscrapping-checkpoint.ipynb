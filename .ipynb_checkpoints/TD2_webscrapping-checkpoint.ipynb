{
 "cells": [
  {
   "cell_type": "markdown",
   "metadata": {},
   "source": [
    "# Fusion de cellules dans jupyter  : MAJ + M"
   ]
  },
  {
   "cell_type": "code",
   "execution_count": 1,
   "metadata": {},
   "outputs": [
    {
     "data": {
      "text/plain": [
       "'3.7.3 (default, Mar 27 2019, 16:54:48) \\n[Clang 4.0.1 (tags/RELEASE_401/final)]'"
      ]
     },
     "execution_count": 1,
     "metadata": {},
     "output_type": "execute_result"
    }
   ],
   "source": [
    "import sys\n",
    "sys.version"
   ]
  },
  {
   "cell_type": "code",
   "execution_count": null,
   "metadata": {},
   "outputs": [],
   "source": []
  },
  {
   "cell_type": "code",
   "execution_count": null,
   "metadata": {},
   "outputs": [],
   "source": []
  },
  {
   "cell_type": "code",
   "execution_count": 3,
   "metadata": {},
   "outputs": [
    {
     "ename": "ModuleNotFoundError",
     "evalue": "No module named 'regex'",
     "output_type": "error",
     "traceback": [
      "\u001b[0;31m---------------------------------------------------------------------------\u001b[0m",
      "\u001b[0;31mModuleNotFoundError\u001b[0m                       Traceback (most recent call last)",
      "\u001b[0;32m<ipython-input-3-74fa22d014f4>\u001b[0m in \u001b[0;36m<module>\u001b[0;34m\u001b[0m\n\u001b[0;32m----> 1\u001b[0;31m \u001b[0;32mimport\u001b[0m \u001b[0mregex\u001b[0m \u001b[0;32mas\u001b[0m \u001b[0mre\u001b[0m\u001b[0;34m\u001b[0m\u001b[0;34m\u001b[0m\u001b[0m\n\u001b[0m",
      "\u001b[0;31mModuleNotFoundError\u001b[0m: No module named 'regex'"
     ]
    }
   ],
   "source": [
    "import regex as re"
   ]
  },
  {
   "cell_type": "markdown",
   "metadata": {},
   "source": [
    "# Web-Scrapping"
   ]
  },
  {
   "cell_type": "markdown",
   "metadata": {},
   "source": [
    "## This notebook includes:\n",
    "    1. Web-scrapping with beautiful soup the weather website from Paris\n",
    "    2. Web-scrapping with beautiful soup donations given to Telethon and visualization\n",
    "    3. Web-scrapping with Selenium to retrieve photos from Instagram Hashtags"
   ]
  },
  {
   "cell_type": "markdown",
   "metadata": {},
   "source": [
    "# 0) Preface: to synchronize this notebook with GitHub"
   ]
  },
  {
   "cell_type": "markdown",
   "metadata": {},
   "source": [
    "Using '!' you can make command terminal calls"
   ]
  },
  {
   "cell_type": "code",
   "execution_count": 4,
   "metadata": {},
   "outputs": [],
   "source": [
    "import subprocess"
   ]
  },
  {
   "cell_type": "code",
   "execution_count": 5,
   "metadata": {},
   "outputs": [
    {
     "ename": "NameError",
     "evalue": "name 'push' is not defined",
     "output_type": "error",
     "traceback": [
      "\u001b[0;31m---------------------------------------------------------------------------\u001b[0m",
      "\u001b[0;31mNameError\u001b[0m                                 Traceback (most recent call last)",
      "\u001b[0;32m<ipython-input-5-9aea093c33d9>\u001b[0m in \u001b[0;36m<module>\u001b[0;34m\u001b[0m\n\u001b[0;32m----> 1\u001b[0;31m \u001b[0mnouveau_nom\u001b[0m \u001b[0;34m=\u001b[0m \u001b[0mpush\u001b[0m\u001b[0;34m\u001b[0m\u001b[0;34m\u001b[0m\u001b[0m\n\u001b[0m",
      "\u001b[0;31mNameError\u001b[0m: name 'push' is not defined"
     ]
    }
   ],
   "source": [
    "nouveau_nom = push"
   ]
  },
  {
   "cell_type": "code",
   "execution_count": 6,
   "metadata": {},
   "outputs": [
    {
     "ename": "NameError",
     "evalue": "name 'nouveau_nom' is not defined",
     "output_type": "error",
     "traceback": [
      "\u001b[0;31m---------------------------------------------------------------------------\u001b[0m",
      "\u001b[0;31mNameError\u001b[0m                                 Traceback (most recent call last)",
      "\u001b[0;32m<ipython-input-6-37855cd3a295>\u001b[0m in \u001b[0;36m<module>\u001b[0;34m\u001b[0m\n\u001b[0;32m----> 1\u001b[0;31m \u001b[0mnouveau_nom\u001b[0m\u001b[0;34m(\u001b[0m\u001b[0;34m\"message qelzkfhq\"\u001b[0m\u001b[0;34m)\u001b[0m\u001b[0;34m\u001b[0m\u001b[0;34m\u001b[0m\u001b[0m\n\u001b[0m",
      "\u001b[0;31mNameError\u001b[0m: name 'nouveau_nom' is not defined"
     ]
    }
   ],
   "source": [
    "nouveau_nom(\"message qelzkfhq\")"
   ]
  },
  {
   "cell_type": "code",
   "execution_count": null,
   "metadata": {},
   "outputs": [],
   "source": []
  },
  {
   "cell_type": "code",
   "execution_count": 7,
   "metadata": {},
   "outputs": [],
   "source": [
    "def push(message):\n",
    "    \"\"\"\n",
    "    Save current notebook and push whole current dir to origin/master\n",
    "    \n",
    "    Param:\n",
    "        message : str \n",
    "            Commit's message\n",
    "    \n",
    "    Return:\n",
    "        None\n",
    "    \"\"\"\n",
    "    assert(len(message.strip())>10)\n",
    "    import subprocess\n",
    "    from IPython.display import display, Javascript\n",
    "    \n",
    "    cmds = [  \"git add .\",\n",
    "              \"git commit -m \", \n",
    "              \"git push origin master\"]\n",
    "    \n",
    "    # save current notebook\n",
    "    display(Javascript('IPython.notebook.save_checkpoint();'))\n",
    "    for cmd in cmds:\n",
    "        cmd = cmd.split()\n",
    "        if \"commit\" in cmd: \n",
    "            cmd.append( f\"'{message}'\") \n",
    "        print(\" \".join(cmd))\n",
    "        subprocess.check_output(cmd)\n",
    "        \n"
   ]
  },
  {
   "cell_type": "code",
   "execution_count": null,
   "metadata": {},
   "outputs": [],
   "source": [
    "push(\"Optimisation de la fonction push\")"
   ]
  },
  {
   "cell_type": "markdown",
   "metadata": {},
   "source": [
    "#  Beautiful Soup"
   ]
  },
  {
   "cell_type": "markdown",
   "metadata": {},
   "source": [
    "Definition from the official website:\n",
    "* Beautiful Soup is a **Python library for pulling data out of HTML and XML files**. \n",
    "* It works with your favorite parser to provide idiomatic ways of **navigating, searching, and modifying the parse tree**. It commonly saves programmers hours or days of work."
   ]
  },
  {
   "cell_type": "code",
   "execution_count": 4,
   "metadata": {},
   "outputs": [],
   "source": [
    "from bs4 import BeautifulSoup\n",
    "import requests as req"
   ]
  },
  {
   "cell_type": "markdown",
   "metadata": {},
   "source": [
    "# 1)  Querying a website using request library "
   ]
  },
  {
   "cell_type": "code",
   "execution_count": 5,
   "metadata": {},
   "outputs": [
    {
     "data": {
      "text/plain": [
       "200"
      ]
     },
     "execution_count": 5,
     "metadata": {},
     "output_type": "execute_result"
    }
   ],
   "source": [
    "#url = 'https://www.afm-telethon.fr/telethon/bref/parrains-resultats-telethon-1379'\n",
    "url2 = 'https://www.infoclimat.fr/observations-meteo/archives/7/septembre/2019/paris-montsouris/07156.html'\n",
    "requesting = req.request('get', url2)\n",
    "requesting.status_code"
   ]
  },
  {
   "cell_type": "code",
   "execution_count": 6,
   "metadata": {},
   "outputs": [
    {
     "data": {
      "text/plain": [
       "'<!DOCTYPE html PUBLIC \"-//W3C//DTD XHTML 1.0 Transitional//EN\" \"http://www.w3.org/TR/xhtml1/DTD/xhtml1-transitional.dtd\">\\n<html xmlns=\"http://www.w3.org/1999/xhtml\">\\n\\n<head>\\n    <!--BENCH_start = (9.5367431640625E-7, 3.2901763916016E-5) -->\\n<meta name=\"description\" content=\"Infoclimat, la m&eacute;t&eacute;o en France en temps r&eacute;el - Weather in realtime Europe, Canada\" /><meta name=\"keywords\" content=\"infoclimat, meteo en direct, france, europe, live, observation meteo, climatologie, gfs,'"
      ]
     },
     "execution_count": 6,
     "metadata": {},
     "output_type": "execute_result"
    }
   ],
   "source": [
    "html_from_url = requesting.text\n",
    "html_from_url[0:500]"
   ]
  },
  {
   "cell_type": "markdown",
   "metadata": {},
   "source": [
    "# 2) using beautiful soup"
   ]
  },
  {
   "cell_type": "code",
   "execution_count": 7,
   "metadata": {},
   "outputs": [
    {
     "data": {
      "text/plain": [
       "bs4.BeautifulSoup"
      ]
     },
     "execution_count": 7,
     "metadata": {},
     "output_type": "execute_result"
    }
   ],
   "source": [
    "soup = BeautifulSoup(html_from_url, 'html.parser') # Taking a parserb\n",
    "type(soup)"
   ]
  },
  {
   "cell_type": "markdown",
   "metadata": {},
   "source": [
    "## 2.1) Parsing an html text from "
   ]
  },
  {
   "cell_type": "code",
   "execution_count": 8,
   "metadata": {},
   "outputs": [
    {
     "data": {
      "text/plain": [
       "<title>Paris-Montsouris (Paris - France) | Archives des relevés météo du samedi 7 septembre 2019 - Infoclimat</title>"
      ]
     },
     "execution_count": 8,
     "metadata": {},
     "output_type": "execute_result"
    }
   ],
   "source": [
    "soup.title"
   ]
  },
  {
   "cell_type": "code",
   "execution_count": 9,
   "metadata": {},
   "outputs": [
    {
     "data": {
      "text/plain": [
       "'Paris-Montsouris (Paris - France) | Archives des relevés météo du samedi 7 septembre 2019 - Infoclimat'"
      ]
     },
     "execution_count": 9,
     "metadata": {},
     "output_type": "execute_result"
    }
   ],
   "source": [
    "soup.title.string"
   ]
  },
  {
   "cell_type": "code",
   "execution_count": 10,
   "metadata": {},
   "outputs": [
    {
     "data": {
      "text/plain": [
       "19"
      ]
     },
     "execution_count": 10,
     "metadata": {},
     "output_type": "execute_result"
    }
   ],
   "source": [
    "len(soup.find_all('p'))"
   ]
  },
  {
   "cell_type": "markdown",
   "metadata": {},
   "source": [
    "## 2.2)  Using CSS Selectors\n",
    "You can also search for items using CSS selectors. These selectors are how the CSS language allows developers to specify HTML tags to style. \n",
    "Here are some examples:\n",
    "\n",
    "* p a — finds all **a** tags inside of a **p** tag.\n",
    "* body p a — finds all **a** tags inside of a **p** tag inside of a **body** tag.\n",
    "* html body — finds all **body** tags inside of an **html** tag.\n",
    "* p.outer-text — finds all **p tags with a class of outer-text**.\n",
    "* p#first — finds all **p tags with an id of first**.\n",
    "* body p.outer-text — finds any **p tags with a class of outer-text inside of a body tag**."
   ]
  },
  {
   "cell_type": "code",
   "execution_count": 11,
   "metadata": {},
   "outputs": [
    {
     "data": {
      "text/plain": [
       "[<td style=\"border-left:2px solid red\"><span class=\"tipsy-trigger\" title=\"Heure réelle d'émission :&lt;br /&gt;07/09/2019&lt;br /&gt;&lt;b&gt;17h00 UTC&lt;/b&gt;\">19h</span></td>,\n",
       " <td style=\"background-color:rgba(0,0,0,0.1)\"><span class=\"tipsy-trigger\" style=\"font-weight:bold;margin-top:10px;display:inline-block;font-size:16px\" title=\"&lt;div&gt;Minimale sur 1h : 17.6°C&lt;/div&gt;&lt;div&gt;Maximale sur 1h : 18.2°C&lt;/div&gt;\">17.7</span> <span class=\"tab-units-v\">°C</span><span class=\"color-heatmap\" style=\"background-color:rgb(255,204,35)\"></span></td>,\n",
       " <td>0 <span class=\"tab-units-v\">mm/1h</span><span class=\"color-heatmap\" style=\"background-color:rgb(255,255,255)\"></span></td>,\n",
       " <td style=\"background-color:rgba(0,0,0,0.1)\"><span style=\"font-weight:bold;margin-top:10px;display:inline-block\">51</span><span class=\"tab-units-v\">%</span><span class=\"color-heatmap\" style=\"background-color:rgb(154,235,172)\"></span></td>,\n",
       " <td><span style=\"font-weight:bold;margin-top:10px;display:inline-block\">7.4</span> <span class=\"tab-units-v\">°C</span><span class=\"color-heatmap\" style=\"background-color:rgb(100,253,54)\"></span></td>,\n",
       " <td style=\"background-color:rgba(0,0,0,0.1)\"><span style=\"font-weight:bold\">18</span> <span class=\"tab-units-v\">km/h</span><div alt=\"vent\" class=\"tipsy-trigger\" style=\"float:left;margin-left:3px;margin-top:10px;width:20px;height:20px;background-image:url(//static.infoclimat.net/images/pictos_vent2/sprite.png);background-position:240px 0px;\" title=\"Vent de direction 10°\"></div><span class=\"color-heatmap\" style=\"background-color:rgb(128,255,64)\"></span><br/><span class=\"tipsy-trigger\" title=\"Rafale sur 10mn : 39.6km/h\">(<span style=\"font-weight:bold\">39.6</span> <span class=\"tab-units-v\">km/h</span>)</span></td>,\n",
       " <td>1021.1<span class=\"tab-units-v\">hPa</span><span class=\"color-heatmap\" style=\"background-color:rgb(255,255,0)\"></span><br/><img alt=\"montee\" class=\"tipsy-trigger\" src=\"//static.infoclimat.net/images/v5.2/up.png\" style=\"height:12px\" title=\"+0.3 hPa/3h\"/></td>,\n",
       " <td style=\"background-color:rgba(0,0,0,0.1)\">20 <span class=\"tab-units-v\">km</span></td>]"
      ]
     },
     "execution_count": 11,
     "metadata": {},
     "output_type": "execute_result"
    }
   ],
   "source": [
    "hour = 17\n",
    "\n",
    "soup.select(f'tr.cdata-hour{hour} td')"
   ]
  },
  {
   "cell_type": "markdown",
   "metadata": {},
   "source": [
    "at 5pm, from the tab, let's take the text within the html tags to see what do we get "
   ]
  },
  {
   "cell_type": "code",
   "execution_count": 13,
   "metadata": {
    "scrolled": true
   },
   "outputs": [
    {
     "name": "stdout",
     "output_type": "stream",
     "text": [
      "16h\n",
      "18.3 °C\n",
      "0 mm/1h\n",
      "52%\n",
      "8.3 °C\n",
      "18 km/h(36 km/h)\n",
      "1020.7hPa\n",
      "20 km\n"
     ]
    }
   ],
   "source": [
    "hour = 14\n",
    "for element in soup.select(f'tr.cdata-hour{hour} td'):\n",
    "    print(element.text)"
   ]
  },
  {
   "cell_type": "markdown",
   "metadata": {},
   "source": [
    "## 2.3) cleaning month names"
   ]
  },
  {
   "cell_type": "code",
   "execution_count": 14,
   "metadata": {},
   "outputs": [],
   "source": [
    "months = ['Janvier', 'Février', 'Mars', 'Avril', 'Mai', 'Juin', 'Juillet',\n",
    "'Août', 'Septembre', 'Octobre', 'Novembre', 'Décembre']"
   ]
  },
  {
   "cell_type": "code",
   "execution_count": 29,
   "metadata": {},
   "outputs": [],
   "source": [
    "def clean_mot(mot):\n",
    "    replace = { \"e\" : [\"é\", \"è\", \"ë\"]  \n",
    "        \n",
    "    }\n",
    "    for to_put, to_change in replace.items(): \n",
    "        for car in to_change:\n",
    "            mot = mot.replace(car, to_put)\n",
    "    return mot"
   ]
  },
  {
   "cell_type": "code",
   "execution_count": 32,
   "metadata": {},
   "outputs": [
    {
     "data": {
      "text/plain": [
       "['janvier',\n",
       " 'fevrier',\n",
       " 'mars',\n",
       " 'avril',\n",
       " 'mai',\n",
       " 'juin',\n",
       " 'juillet',\n",
       " 'août',\n",
       " 'septembre',\n",
       " 'octobre',\n",
       " 'novembre',\n",
       " 'decembre']"
      ]
     },
     "execution_count": 32,
     "metadata": {},
     "output_type": "execute_result"
    }
   ],
   "source": [
    "months_formatted = list(map(lambda x: clean_mot(x).lower(), months))\n",
    "months_formatted"
   ]
  },
  {
   "cell_type": "code",
   "execution_count": 33,
   "metadata": {},
   "outputs": [
    {
     "data": {
      "application/javascript": [
       "IPython.notebook.save_checkpoint();"
      ],
      "text/plain": [
       "<IPython.core.display.Javascript object>"
      ]
     },
     "metadata": {},
     "output_type": "display_data"
    },
    {
     "name": "stdout",
     "output_type": "stream",
     "text": [
      "git add .\n",
      "git commit -m 'added clean_mot because unicode couldn't be installed.'\n",
      "git push origin master\n"
     ]
    }
   ],
   "source": [
    "push(\"added clean_mot because unicode couldn't be installed.\")"
   ]
  },
  {
   "cell_type": "markdown",
   "metadata": {},
   "source": [
    "## 2.4) Let's wrap that in a function and loop on different years and months"
   ]
  },
  {
   "cell_type": "code",
   "execution_count": 35,
   "metadata": {},
   "outputs": [],
   "source": [
    "def scrap_weather_data(months_range, years_range):\n",
    "    base_url        = 'https://www.infoclimat.fr/observations-meteo/archives/1er'\n",
    "    slug_for_place  = 'paris-montsouris/07156.html'\n",
    "    for year in years_range:\n",
    "        for month in months_range:\n",
    "            url             = f\"{base_url}/{month}/{year}/{slug_for_place}\"\n",
    "            print(url)\n",
    "            requesting      = req.request('get', url)\n",
    "            print(requesting.status_code)\n",
    "            if requesting.status_code in {503, 404}:\n",
    "                break"
   ]
  },
  {
   "cell_type": "code",
   "execution_count": 36,
   "metadata": {},
   "outputs": [
    {
     "name": "stdout",
     "output_type": "stream",
     "text": [
      "https://www.infoclimat.fr/observations-meteo/archives/1er/janvier/2010/paris-montsouris/07156.html\n",
      "200\n",
      "https://www.infoclimat.fr/observations-meteo/archives/1er/fevrier/2010/paris-montsouris/07156.html\n",
      "200\n",
      "https://www.infoclimat.fr/observations-meteo/archives/1er/mars/2010/paris-montsouris/07156.html\n",
      "200\n",
      "https://www.infoclimat.fr/observations-meteo/archives/1er/avril/2010/paris-montsouris/07156.html\n",
      "200\n",
      "https://www.infoclimat.fr/observations-meteo/archives/1er/mai/2010/paris-montsouris/07156.html\n",
      "200\n",
      "https://www.infoclimat.fr/observations-meteo/archives/1er/juin/2010/paris-montsouris/07156.html\n",
      "200\n",
      "https://www.infoclimat.fr/observations-meteo/archives/1er/juillet/2010/paris-montsouris/07156.html\n",
      "200\n",
      "https://www.infoclimat.fr/observations-meteo/archives/1er/août/2010/paris-montsouris/07156.html\n",
      "404\n",
      "https://www.infoclimat.fr/observations-meteo/archives/1er/janvier/2011/paris-montsouris/07156.html\n",
      "503\n",
      "https://www.infoclimat.fr/observations-meteo/archives/1er/janvier/2012/paris-montsouris/07156.html\n",
      "503\n",
      "https://www.infoclimat.fr/observations-meteo/archives/1er/janvier/2013/paris-montsouris/07156.html\n",
      "503\n",
      "https://www.infoclimat.fr/observations-meteo/archives/1er/janvier/2014/paris-montsouris/07156.html\n",
      "503\n",
      "https://www.infoclimat.fr/observations-meteo/archives/1er/janvier/2015/paris-montsouris/07156.html\n",
      "503\n",
      "https://www.infoclimat.fr/observations-meteo/archives/1er/janvier/2016/paris-montsouris/07156.html\n",
      "503\n",
      "https://www.infoclimat.fr/observations-meteo/archives/1er/janvier/2017/paris-montsouris/07156.html\n",
      "503\n",
      "https://www.infoclimat.fr/observations-meteo/archives/1er/janvier/2018/paris-montsouris/07156.html\n",
      "503\n"
     ]
    }
   ],
   "source": [
    "scrap_weather_data(months_range=months_formatted, \n",
    "                   years_range=range(2010,2019))"
   ]
  },
  {
   "cell_type": "markdown",
   "metadata": {},
   "source": [
    "## oups..."
   ]
  },
  {
   "cell_type": "markdown",
   "metadata": {},
   "source": [
    "Seems the server has detected suspicious redondant calls"
   ]
  },
  {
   "cell_type": "code",
   "execution_count": 48,
   "metadata": {},
   "outputs": [],
   "source": [
    "## better function adding random timed requests\n",
    "def scrap_better_weather_data(months_range, years_range):\n",
    "    import random, time\n",
    "    results           = {}\n",
    "    base_url          = 'https://www.infoclimat.fr/observations-meteo/archives/1er'\n",
    "    slug_for_place    = 'paris-montsouris/07156.html'\n",
    "    \n",
    "    for year in years_range:\n",
    "        for month in months_range:\n",
    "            waitfor    = 0\n",
    "            url        = f\"{base_url}/{month}/{year}/{slug_for_place}\"\n",
    "            requesting = req.request('get', url)\n",
    "            print(url)\n",
    "            while requesting.status_code != 200:\n",
    "                print(\"Retrying...\")\n",
    "                waitfor = random.randint(2,8)\n",
    "                time.sleep(waitfor)\n",
    "                requesting = req.request('get', url)\n",
    "                print(requesting.status_code)\n",
    "                \n",
    "            results[f\"{year}/{month}\"] = requesting.text \n",
    "            \n",
    "        \n",
    "    return results"
   ]
  },
  {
   "cell_type": "code",
   "execution_count": 49,
   "metadata": {},
   "outputs": [
    {
     "name": "stdout",
     "output_type": "stream",
     "text": [
      "https://www.infoclimat.fr/observations-meteo/archives/1er/janvier/2017/paris-montsouris/07156.html\n",
      "https://www.infoclimat.fr/observations-meteo/archives/1er/avril/2017/paris-montsouris/07156.html\n",
      "https://www.infoclimat.fr/observations-meteo/archives/1er/juillet/2017/paris-montsouris/07156.html\n",
      "https://www.infoclimat.fr/observations-meteo/archives/1er/octobre/2017/paris-montsouris/07156.html\n",
      "https://www.infoclimat.fr/observations-meteo/archives/1er/janvier/2018/paris-montsouris/07156.html\n",
      "https://www.infoclimat.fr/observations-meteo/archives/1er/avril/2018/paris-montsouris/07156.html\n",
      "https://www.infoclimat.fr/observations-meteo/archives/1er/juillet/2018/paris-montsouris/07156.html\n",
      "https://www.infoclimat.fr/observations-meteo/archives/1er/octobre/2018/paris-montsouris/07156.html\n",
      "Retrying...\n",
      "503\n",
      "Retrying...\n",
      "200\n"
     ]
    }
   ],
   "source": [
    "dico = scrap_better_weather_data(months_range=months_formatted[::3], \n",
    "                           years_range=range(2017,2019))"
   ]
  },
  {
   "cell_type": "markdown",
   "metadata": {},
   "source": [
    "## 2.5) parsing the html"
   ]
  },
  {
   "cell_type": "code",
   "execution_count": 115,
   "metadata": {},
   "outputs": [],
   "source": [
    "import pandas as pd"
   ]
  },
  {
   "cell_type": "code",
   "execution_count": null,
   "metadata": {},
   "outputs": [],
   "source": [
    "f_ = lambda x: [x.text for x in BeautifulSoup(x, 'html.parser').select('tr.cdata-hour17 td')[0:4:2]]"
   ]
  },
  {
   "cell_type": "code",
   "execution_count": 87,
   "metadata": {},
   "outputs": [],
   "source": [
    "\n",
    "def get_hour_and_temp_at_10h(html): \n",
    "    hour=10\n",
    "    return get_hour_and_temp(html, hour)\n",
    "\n",
    "def get_hour_and_temp_at_17h(html): \n",
    "    hour=17\n",
    "    return get_hour_and_temp(html, hour)\n",
    "    \n",
    "def get_hour_and_temp(html, hour):\n",
    "    selector     = f'tr.cdata-hour{hour} td'\n",
    "    selected     = BeautifulSoup(html, 'html.parser').select(selector)\n",
    "    one_out_of_2 = selected[0:4:2] # hour and temperature\n",
    "    \n",
    "    return [x.text for x in one_out_of_2]\n"
   ]
  },
  {
   "cell_type": "code",
   "execution_count": 88,
   "metadata": {},
   "outputs": [],
   "source": [
    "f_ = get_hour_and_temp_at_17h\n",
    "f_ = get_hour_and_temp_at_10h"
   ]
  },
  {
   "cell_type": "code",
   "execution_count": 89,
   "metadata": {},
   "outputs": [],
   "source": [
    "HTML2 = list(map(f_, dico.values()))"
   ]
  },
  {
   "cell_type": "code",
   "execution_count": 97,
   "metadata": {},
   "outputs": [],
   "source": [
    "dico2 = {k : f_(dico[k]) for k in dico}"
   ]
  },
  {
   "cell_type": "code",
   "execution_count": 98,
   "metadata": {},
   "outputs": [
    {
     "data": {
      "text/plain": [
       "{'2017/janvier': ['11h', '-3.0 °C'],\n",
       " '2017/avril': ['12h', '12.1 °C'],\n",
       " '2017/juillet': ['12h', '16.1 °C'],\n",
       " '2017/octobre': ['12h', '14.4 °C'],\n",
       " '2018/janvier': ['11h', '7.3 °C'],\n",
       " '2018/avril': ['12h', '9.1 °C'],\n",
       " '2018/juillet': ['12h', '29.9 °C'],\n",
       " '2018/octobre': ['12h', '13.3 °C']}"
      ]
     },
     "execution_count": 98,
     "metadata": {},
     "output_type": "execute_result"
    }
   ],
   "source": [
    "dico2"
   ]
  },
  {
   "cell_type": "code",
   "execution_count": 99,
   "metadata": {},
   "outputs": [],
   "source": [
    "def get_temp_for_whole_day(html):\n",
    "    return [ get_hour_and_temp(html, hour) for hour in range(25)]"
   ]
  },
  {
   "cell_type": "code",
   "execution_count": 100,
   "metadata": {},
   "outputs": [],
   "source": [
    "dico3 = {k : get_temp_for_whole_day(dico[k]) for k in dico}"
   ]
  },
  {
   "cell_type": "code",
   "execution_count": 101,
   "metadata": {},
   "outputs": [
    {
     "data": {
      "text/plain": [
       "{'2017/janvier': [[],\n",
       "  [],\n",
       "  [],\n",
       "  [],\n",
       "  [],\n",
       "  [],\n",
       "  [],\n",
       "  [],\n",
       "  [],\n",
       "  [],\n",
       "  ['11h', '-3.0 °C'],\n",
       "  ['12h', '-2.1 °C'],\n",
       "  ['13h', '-1.5 °C'],\n",
       "  ['14h', '-1.0 °C'],\n",
       "  ['15h', '-0.8 °C'],\n",
       "  ['16h', '-0.8 °C'],\n",
       "  ['17h', '-0.6 °C'],\n",
       "  ['18h', '-0.6 °C'],\n",
       "  ['19h', '-0.6 °C'],\n",
       "  ['20h', '-0.6 °C'],\n",
       "  ['21h', '-0.5 °C'],\n",
       "  ['22h', '-0.4 °C'],\n",
       "  ['23h', '-0.1 °C'],\n",
       "  ['00h', '0.2 °C'],\n",
       "  []],\n",
       " '2017/avril': [[],\n",
       "  [],\n",
       "  [],\n",
       "  [],\n",
       "  [],\n",
       "  [],\n",
       "  [],\n",
       "  [],\n",
       "  [],\n",
       "  [],\n",
       "  ['12h', '12.1 °C'],\n",
       "  ['13h', '13.1 °C'],\n",
       "  ['14h', '14.2 °C'],\n",
       "  ['15h', '14.9 °C'],\n",
       "  ['16h', '15.6 °C'],\n",
       "  ['17h', '16.8 °C'],\n",
       "  ['18h', '16.8 °C'],\n",
       "  ['19h', '16.7 °C'],\n",
       "  ['20h', '15.1 °C'],\n",
       "  ['21h', '13.5 °C'],\n",
       "  ['22h', '12.3 °C'],\n",
       "  ['23h', '12.3 °C'],\n",
       "  ['00h', '11.8 °C'],\n",
       "  ['01h', '11.6 °C'],\n",
       "  []],\n",
       " '2017/juillet': [[],\n",
       "  [],\n",
       "  [],\n",
       "  [],\n",
       "  [],\n",
       "  [],\n",
       "  [],\n",
       "  [],\n",
       "  [],\n",
       "  [],\n",
       "  ['12h', '16.1 °C'],\n",
       "  ['13h', '15.5 °C'],\n",
       "  ['14h', '15.5 °C'],\n",
       "  ['15h', '17.0 °C'],\n",
       "  ['16h', '17.4 °C'],\n",
       "  ['17h', '17.9 °C'],\n",
       "  ['18h', '19.0 °C'],\n",
       "  ['19h', '20.4 °C'],\n",
       "  ['20h', '21.0 °C'],\n",
       "  ['21h', '19.9 °C'],\n",
       "  ['22h', '18.4 °C'],\n",
       "  ['23h', '18.4 °C'],\n",
       "  ['00h', '17.5 °C'],\n",
       "  ['01h', '16.4 °C'],\n",
       "  []],\n",
       " '2017/octobre': [[],\n",
       "  [],\n",
       "  [],\n",
       "  [],\n",
       "  [],\n",
       "  [],\n",
       "  [],\n",
       "  [],\n",
       "  [],\n",
       "  [],\n",
       "  ['12h', '14.4 °C'],\n",
       "  ['13h', '14.5 °C'],\n",
       "  ['14h', '14.7 °C'],\n",
       "  ['15h', '15.3 °C'],\n",
       "  ['16h', '15.3 °C'],\n",
       "  ['17h', '15.4 °C'],\n",
       "  ['18h', '15.3 °C'],\n",
       "  ['19h', '15.3 °C'],\n",
       "  ['20h', '15.1 °C'],\n",
       "  ['21h', '14.9 °C'],\n",
       "  ['22h', '14.8 °C'],\n",
       "  ['23h', '14.9 °C'],\n",
       "  ['00h', '15.1 °C'],\n",
       "  ['01h', '15.4 °C'],\n",
       "  []],\n",
       " '2018/janvier': [[],\n",
       "  [],\n",
       "  [],\n",
       "  [],\n",
       "  [],\n",
       "  [],\n",
       "  [],\n",
       "  [],\n",
       "  [],\n",
       "  [],\n",
       "  ['11h', '7.3 °C'],\n",
       "  ['12h', '7.1 °C'],\n",
       "  ['13h', '8.2 °C'],\n",
       "  ['14h', '8.9 °C'],\n",
       "  ['15h', '9.4 °C'],\n",
       "  ['16h', '8.9 °C'],\n",
       "  ['17h', '9.4 °C'],\n",
       "  ['18h', '8.6 °C'],\n",
       "  ['19h', '8.7 °C'],\n",
       "  ['20h', '8.2 °C'],\n",
       "  ['21h', '7.3 °C'],\n",
       "  ['22h', '7.8 °C'],\n",
       "  ['23h', '7.7 °C'],\n",
       "  ['00h', '7.6 °C'],\n",
       "  []],\n",
       " '2018/avril': [[],\n",
       "  [],\n",
       "  [],\n",
       "  [],\n",
       "  [],\n",
       "  [],\n",
       "  [],\n",
       "  [],\n",
       "  [],\n",
       "  [],\n",
       "  ['12h', '9.1 °C'],\n",
       "  ['13h', '9.1 °C'],\n",
       "  ['14h', '9.9 °C'],\n",
       "  ['15h', '10.4 °C'],\n",
       "  ['16h', '10.8 °C'],\n",
       "  ['17h', '11.6 °C'],\n",
       "  ['18h', '11.0 °C'],\n",
       "  ['19h', '11.1 °C'],\n",
       "  ['20h', '10.4 °C'],\n",
       "  ['21h', '9.5 °C'],\n",
       "  ['22h', '9.1 °C'],\n",
       "  ['23h', '9.2 °C'],\n",
       "  ['00h', '9.3 °C'],\n",
       "  ['01h', '8.8 °C'],\n",
       "  []],\n",
       " '2018/juillet': [[],\n",
       "  [],\n",
       "  [],\n",
       "  [],\n",
       "  [],\n",
       "  [],\n",
       "  [],\n",
       "  [],\n",
       "  [],\n",
       "  [],\n",
       "  ['12h', '29.9 °C'],\n",
       "  ['13h', '31.4 °C'],\n",
       "  ['14h', '32.2 °C'],\n",
       "  ['15h', '33.4 °C'],\n",
       "  ['16h', '31.7 °C'],\n",
       "  ['17h', '30.5 °C'],\n",
       "  ['18h', '30.9 °C'],\n",
       "  ['19h', '30.3 °C'],\n",
       "  ['20h', '29.9 °C'],\n",
       "  ['21h', '29.0 °C'],\n",
       "  ['22h', '28.4 °C'],\n",
       "  ['23h', '27.6 °C'],\n",
       "  ['00h', '26.4 °C'],\n",
       "  ['01h', '25.6 °C'],\n",
       "  []],\n",
       " '2018/octobre': [[],\n",
       "  [],\n",
       "  [],\n",
       "  [],\n",
       "  [],\n",
       "  [],\n",
       "  [],\n",
       "  [],\n",
       "  [],\n",
       "  [],\n",
       "  ['12h', '13.3 °C'],\n",
       "  ['13h', '13.6 °C'],\n",
       "  ['14h', '14.4 °C'],\n",
       "  ['15h', '14.7 °C'],\n",
       "  ['16h', '15.1 °C'],\n",
       "  ['17h', '15.1 °C'],\n",
       "  ['18h', '14.7 °C'],\n",
       "  ['19h', '13.4 °C'],\n",
       "  ['20h', '12.6 °C'],\n",
       "  ['21h', '11.5 °C'],\n",
       "  ['22h', '11.5 °C'],\n",
       "  ['23h', '11.5 °C'],\n",
       "  ['00h', '11.2 °C'],\n",
       "  ['01h', '10.9 °C'],\n",
       "  []]}"
      ]
     },
     "execution_count": 101,
     "metadata": {},
     "output_type": "execute_result"
    }
   ],
   "source": [
    "dico3"
   ]
  },
  {
   "cell_type": "markdown",
   "metadata": {},
   "source": [
    "## 2.6) import dans une dataframe pandas"
   ]
  },
  {
   "cell_type": "code",
   "execution_count": 103,
   "metadata": {},
   "outputs": [],
   "source": [
    "import pandas as pd"
   ]
  },
  {
   "cell_type": "code",
   "execution_count": 104,
   "metadata": {},
   "outputs": [
    {
     "data": {
      "text/html": [
       "<div>\n",
       "<style scoped>\n",
       "    .dataframe tbody tr th:only-of-type {\n",
       "        vertical-align: middle;\n",
       "    }\n",
       "\n",
       "    .dataframe tbody tr th {\n",
       "        vertical-align: top;\n",
       "    }\n",
       "\n",
       "    .dataframe thead th {\n",
       "        text-align: right;\n",
       "    }\n",
       "</style>\n",
       "<table border=\"1\" class=\"dataframe\">\n",
       "  <thead>\n",
       "    <tr style=\"text-align: right;\">\n",
       "      <th></th>\n",
       "      <th>2017/janvier</th>\n",
       "      <th>2017/avril</th>\n",
       "      <th>2017/juillet</th>\n",
       "      <th>2017/octobre</th>\n",
       "      <th>2018/janvier</th>\n",
       "      <th>2018/avril</th>\n",
       "      <th>2018/juillet</th>\n",
       "      <th>2018/octobre</th>\n",
       "    </tr>\n",
       "  </thead>\n",
       "  <tbody>\n",
       "    <tr>\n",
       "      <th>0</th>\n",
       "      <td>[]</td>\n",
       "      <td>[]</td>\n",
       "      <td>[]</td>\n",
       "      <td>[]</td>\n",
       "      <td>[]</td>\n",
       "      <td>[]</td>\n",
       "      <td>[]</td>\n",
       "      <td>[]</td>\n",
       "    </tr>\n",
       "    <tr>\n",
       "      <th>1</th>\n",
       "      <td>[]</td>\n",
       "      <td>[]</td>\n",
       "      <td>[]</td>\n",
       "      <td>[]</td>\n",
       "      <td>[]</td>\n",
       "      <td>[]</td>\n",
       "      <td>[]</td>\n",
       "      <td>[]</td>\n",
       "    </tr>\n",
       "    <tr>\n",
       "      <th>2</th>\n",
       "      <td>[]</td>\n",
       "      <td>[]</td>\n",
       "      <td>[]</td>\n",
       "      <td>[]</td>\n",
       "      <td>[]</td>\n",
       "      <td>[]</td>\n",
       "      <td>[]</td>\n",
       "      <td>[]</td>\n",
       "    </tr>\n",
       "    <tr>\n",
       "      <th>3</th>\n",
       "      <td>[]</td>\n",
       "      <td>[]</td>\n",
       "      <td>[]</td>\n",
       "      <td>[]</td>\n",
       "      <td>[]</td>\n",
       "      <td>[]</td>\n",
       "      <td>[]</td>\n",
       "      <td>[]</td>\n",
       "    </tr>\n",
       "    <tr>\n",
       "      <th>4</th>\n",
       "      <td>[]</td>\n",
       "      <td>[]</td>\n",
       "      <td>[]</td>\n",
       "      <td>[]</td>\n",
       "      <td>[]</td>\n",
       "      <td>[]</td>\n",
       "      <td>[]</td>\n",
       "      <td>[]</td>\n",
       "    </tr>\n",
       "    <tr>\n",
       "      <th>5</th>\n",
       "      <td>[]</td>\n",
       "      <td>[]</td>\n",
       "      <td>[]</td>\n",
       "      <td>[]</td>\n",
       "      <td>[]</td>\n",
       "      <td>[]</td>\n",
       "      <td>[]</td>\n",
       "      <td>[]</td>\n",
       "    </tr>\n",
       "    <tr>\n",
       "      <th>6</th>\n",
       "      <td>[]</td>\n",
       "      <td>[]</td>\n",
       "      <td>[]</td>\n",
       "      <td>[]</td>\n",
       "      <td>[]</td>\n",
       "      <td>[]</td>\n",
       "      <td>[]</td>\n",
       "      <td>[]</td>\n",
       "    </tr>\n",
       "    <tr>\n",
       "      <th>7</th>\n",
       "      <td>[]</td>\n",
       "      <td>[]</td>\n",
       "      <td>[]</td>\n",
       "      <td>[]</td>\n",
       "      <td>[]</td>\n",
       "      <td>[]</td>\n",
       "      <td>[]</td>\n",
       "      <td>[]</td>\n",
       "    </tr>\n",
       "    <tr>\n",
       "      <th>8</th>\n",
       "      <td>[]</td>\n",
       "      <td>[]</td>\n",
       "      <td>[]</td>\n",
       "      <td>[]</td>\n",
       "      <td>[]</td>\n",
       "      <td>[]</td>\n",
       "      <td>[]</td>\n",
       "      <td>[]</td>\n",
       "    </tr>\n",
       "    <tr>\n",
       "      <th>9</th>\n",
       "      <td>[]</td>\n",
       "      <td>[]</td>\n",
       "      <td>[]</td>\n",
       "      <td>[]</td>\n",
       "      <td>[]</td>\n",
       "      <td>[]</td>\n",
       "      <td>[]</td>\n",
       "      <td>[]</td>\n",
       "    </tr>\n",
       "    <tr>\n",
       "      <th>10</th>\n",
       "      <td>[11h, -3.0 °C]</td>\n",
       "      <td>[12h, 12.1 °C]</td>\n",
       "      <td>[12h, 16.1 °C]</td>\n",
       "      <td>[12h, 14.4 °C]</td>\n",
       "      <td>[11h, 7.3 °C]</td>\n",
       "      <td>[12h, 9.1 °C]</td>\n",
       "      <td>[12h, 29.9 °C]</td>\n",
       "      <td>[12h, 13.3 °C]</td>\n",
       "    </tr>\n",
       "    <tr>\n",
       "      <th>11</th>\n",
       "      <td>[12h, -2.1 °C]</td>\n",
       "      <td>[13h, 13.1 °C]</td>\n",
       "      <td>[13h, 15.5 °C]</td>\n",
       "      <td>[13h, 14.5 °C]</td>\n",
       "      <td>[12h, 7.1 °C]</td>\n",
       "      <td>[13h, 9.1 °C]</td>\n",
       "      <td>[13h, 31.4 °C]</td>\n",
       "      <td>[13h, 13.6 °C]</td>\n",
       "    </tr>\n",
       "    <tr>\n",
       "      <th>12</th>\n",
       "      <td>[13h, -1.5 °C]</td>\n",
       "      <td>[14h, 14.2 °C]</td>\n",
       "      <td>[14h, 15.5 °C]</td>\n",
       "      <td>[14h, 14.7 °C]</td>\n",
       "      <td>[13h, 8.2 °C]</td>\n",
       "      <td>[14h, 9.9 °C]</td>\n",
       "      <td>[14h, 32.2 °C]</td>\n",
       "      <td>[14h, 14.4 °C]</td>\n",
       "    </tr>\n",
       "    <tr>\n",
       "      <th>13</th>\n",
       "      <td>[14h, -1.0 °C]</td>\n",
       "      <td>[15h, 14.9 °C]</td>\n",
       "      <td>[15h, 17.0 °C]</td>\n",
       "      <td>[15h, 15.3 °C]</td>\n",
       "      <td>[14h, 8.9 °C]</td>\n",
       "      <td>[15h, 10.4 °C]</td>\n",
       "      <td>[15h, 33.4 °C]</td>\n",
       "      <td>[15h, 14.7 °C]</td>\n",
       "    </tr>\n",
       "    <tr>\n",
       "      <th>14</th>\n",
       "      <td>[15h, -0.8 °C]</td>\n",
       "      <td>[16h, 15.6 °C]</td>\n",
       "      <td>[16h, 17.4 °C]</td>\n",
       "      <td>[16h, 15.3 °C]</td>\n",
       "      <td>[15h, 9.4 °C]</td>\n",
       "      <td>[16h, 10.8 °C]</td>\n",
       "      <td>[16h, 31.7 °C]</td>\n",
       "      <td>[16h, 15.1 °C]</td>\n",
       "    </tr>\n",
       "    <tr>\n",
       "      <th>15</th>\n",
       "      <td>[16h, -0.8 °C]</td>\n",
       "      <td>[17h, 16.8 °C]</td>\n",
       "      <td>[17h, 17.9 °C]</td>\n",
       "      <td>[17h, 15.4 °C]</td>\n",
       "      <td>[16h, 8.9 °C]</td>\n",
       "      <td>[17h, 11.6 °C]</td>\n",
       "      <td>[17h, 30.5 °C]</td>\n",
       "      <td>[17h, 15.1 °C]</td>\n",
       "    </tr>\n",
       "    <tr>\n",
       "      <th>16</th>\n",
       "      <td>[17h, -0.6 °C]</td>\n",
       "      <td>[18h, 16.8 °C]</td>\n",
       "      <td>[18h, 19.0 °C]</td>\n",
       "      <td>[18h, 15.3 °C]</td>\n",
       "      <td>[17h, 9.4 °C]</td>\n",
       "      <td>[18h, 11.0 °C]</td>\n",
       "      <td>[18h, 30.9 °C]</td>\n",
       "      <td>[18h, 14.7 °C]</td>\n",
       "    </tr>\n",
       "    <tr>\n",
       "      <th>17</th>\n",
       "      <td>[18h, -0.6 °C]</td>\n",
       "      <td>[19h, 16.7 °C]</td>\n",
       "      <td>[19h, 20.4 °C]</td>\n",
       "      <td>[19h, 15.3 °C]</td>\n",
       "      <td>[18h, 8.6 °C]</td>\n",
       "      <td>[19h, 11.1 °C]</td>\n",
       "      <td>[19h, 30.3 °C]</td>\n",
       "      <td>[19h, 13.4 °C]</td>\n",
       "    </tr>\n",
       "    <tr>\n",
       "      <th>18</th>\n",
       "      <td>[19h, -0.6 °C]</td>\n",
       "      <td>[20h, 15.1 °C]</td>\n",
       "      <td>[20h, 21.0 °C]</td>\n",
       "      <td>[20h, 15.1 °C]</td>\n",
       "      <td>[19h, 8.7 °C]</td>\n",
       "      <td>[20h, 10.4 °C]</td>\n",
       "      <td>[20h, 29.9 °C]</td>\n",
       "      <td>[20h, 12.6 °C]</td>\n",
       "    </tr>\n",
       "    <tr>\n",
       "      <th>19</th>\n",
       "      <td>[20h, -0.6 °C]</td>\n",
       "      <td>[21h, 13.5 °C]</td>\n",
       "      <td>[21h, 19.9 °C]</td>\n",
       "      <td>[21h, 14.9 °C]</td>\n",
       "      <td>[20h, 8.2 °C]</td>\n",
       "      <td>[21h, 9.5 °C]</td>\n",
       "      <td>[21h, 29.0 °C]</td>\n",
       "      <td>[21h, 11.5 °C]</td>\n",
       "    </tr>\n",
       "    <tr>\n",
       "      <th>20</th>\n",
       "      <td>[21h, -0.5 °C]</td>\n",
       "      <td>[22h, 12.3 °C]</td>\n",
       "      <td>[22h, 18.4 °C]</td>\n",
       "      <td>[22h, 14.8 °C]</td>\n",
       "      <td>[21h, 7.3 °C]</td>\n",
       "      <td>[22h, 9.1 °C]</td>\n",
       "      <td>[22h, 28.4 °C]</td>\n",
       "      <td>[22h, 11.5 °C]</td>\n",
       "    </tr>\n",
       "    <tr>\n",
       "      <th>21</th>\n",
       "      <td>[22h, -0.4 °C]</td>\n",
       "      <td>[23h, 12.3 °C]</td>\n",
       "      <td>[23h, 18.4 °C]</td>\n",
       "      <td>[23h, 14.9 °C]</td>\n",
       "      <td>[22h, 7.8 °C]</td>\n",
       "      <td>[23h, 9.2 °C]</td>\n",
       "      <td>[23h, 27.6 °C]</td>\n",
       "      <td>[23h, 11.5 °C]</td>\n",
       "    </tr>\n",
       "    <tr>\n",
       "      <th>22</th>\n",
       "      <td>[23h, -0.1 °C]</td>\n",
       "      <td>[00h, 11.8 °C]</td>\n",
       "      <td>[00h, 17.5 °C]</td>\n",
       "      <td>[00h, 15.1 °C]</td>\n",
       "      <td>[23h, 7.7 °C]</td>\n",
       "      <td>[00h, 9.3 °C]</td>\n",
       "      <td>[00h, 26.4 °C]</td>\n",
       "      <td>[00h, 11.2 °C]</td>\n",
       "    </tr>\n",
       "    <tr>\n",
       "      <th>23</th>\n",
       "      <td>[00h, 0.2 °C]</td>\n",
       "      <td>[01h, 11.6 °C]</td>\n",
       "      <td>[01h, 16.4 °C]</td>\n",
       "      <td>[01h, 15.4 °C]</td>\n",
       "      <td>[00h, 7.6 °C]</td>\n",
       "      <td>[01h, 8.8 °C]</td>\n",
       "      <td>[01h, 25.6 °C]</td>\n",
       "      <td>[01h, 10.9 °C]</td>\n",
       "    </tr>\n",
       "    <tr>\n",
       "      <th>24</th>\n",
       "      <td>[]</td>\n",
       "      <td>[]</td>\n",
       "      <td>[]</td>\n",
       "      <td>[]</td>\n",
       "      <td>[]</td>\n",
       "      <td>[]</td>\n",
       "      <td>[]</td>\n",
       "      <td>[]</td>\n",
       "    </tr>\n",
       "  </tbody>\n",
       "</table>\n",
       "</div>"
      ],
      "text/plain": [
       "      2017/janvier      2017/avril    2017/juillet    2017/octobre  \\\n",
       "0               []              []              []              []   \n",
       "1               []              []              []              []   \n",
       "2               []              []              []              []   \n",
       "3               []              []              []              []   \n",
       "4               []              []              []              []   \n",
       "5               []              []              []              []   \n",
       "6               []              []              []              []   \n",
       "7               []              []              []              []   \n",
       "8               []              []              []              []   \n",
       "9               []              []              []              []   \n",
       "10  [11h, -3.0 °C]  [12h, 12.1 °C]  [12h, 16.1 °C]  [12h, 14.4 °C]   \n",
       "11  [12h, -2.1 °C]  [13h, 13.1 °C]  [13h, 15.5 °C]  [13h, 14.5 °C]   \n",
       "12  [13h, -1.5 °C]  [14h, 14.2 °C]  [14h, 15.5 °C]  [14h, 14.7 °C]   \n",
       "13  [14h, -1.0 °C]  [15h, 14.9 °C]  [15h, 17.0 °C]  [15h, 15.3 °C]   \n",
       "14  [15h, -0.8 °C]  [16h, 15.6 °C]  [16h, 17.4 °C]  [16h, 15.3 °C]   \n",
       "15  [16h, -0.8 °C]  [17h, 16.8 °C]  [17h, 17.9 °C]  [17h, 15.4 °C]   \n",
       "16  [17h, -0.6 °C]  [18h, 16.8 °C]  [18h, 19.0 °C]  [18h, 15.3 °C]   \n",
       "17  [18h, -0.6 °C]  [19h, 16.7 °C]  [19h, 20.4 °C]  [19h, 15.3 °C]   \n",
       "18  [19h, -0.6 °C]  [20h, 15.1 °C]  [20h, 21.0 °C]  [20h, 15.1 °C]   \n",
       "19  [20h, -0.6 °C]  [21h, 13.5 °C]  [21h, 19.9 °C]  [21h, 14.9 °C]   \n",
       "20  [21h, -0.5 °C]  [22h, 12.3 °C]  [22h, 18.4 °C]  [22h, 14.8 °C]   \n",
       "21  [22h, -0.4 °C]  [23h, 12.3 °C]  [23h, 18.4 °C]  [23h, 14.9 °C]   \n",
       "22  [23h, -0.1 °C]  [00h, 11.8 °C]  [00h, 17.5 °C]  [00h, 15.1 °C]   \n",
       "23   [00h, 0.2 °C]  [01h, 11.6 °C]  [01h, 16.4 °C]  [01h, 15.4 °C]   \n",
       "24              []              []              []              []   \n",
       "\n",
       "     2018/janvier      2018/avril    2018/juillet    2018/octobre  \n",
       "0              []              []              []              []  \n",
       "1              []              []              []              []  \n",
       "2              []              []              []              []  \n",
       "3              []              []              []              []  \n",
       "4              []              []              []              []  \n",
       "5              []              []              []              []  \n",
       "6              []              []              []              []  \n",
       "7              []              []              []              []  \n",
       "8              []              []              []              []  \n",
       "9              []              []              []              []  \n",
       "10  [11h, 7.3 °C]   [12h, 9.1 °C]  [12h, 29.9 °C]  [12h, 13.3 °C]  \n",
       "11  [12h, 7.1 °C]   [13h, 9.1 °C]  [13h, 31.4 °C]  [13h, 13.6 °C]  \n",
       "12  [13h, 8.2 °C]   [14h, 9.9 °C]  [14h, 32.2 °C]  [14h, 14.4 °C]  \n",
       "13  [14h, 8.9 °C]  [15h, 10.4 °C]  [15h, 33.4 °C]  [15h, 14.7 °C]  \n",
       "14  [15h, 9.4 °C]  [16h, 10.8 °C]  [16h, 31.7 °C]  [16h, 15.1 °C]  \n",
       "15  [16h, 8.9 °C]  [17h, 11.6 °C]  [17h, 30.5 °C]  [17h, 15.1 °C]  \n",
       "16  [17h, 9.4 °C]  [18h, 11.0 °C]  [18h, 30.9 °C]  [18h, 14.7 °C]  \n",
       "17  [18h, 8.6 °C]  [19h, 11.1 °C]  [19h, 30.3 °C]  [19h, 13.4 °C]  \n",
       "18  [19h, 8.7 °C]  [20h, 10.4 °C]  [20h, 29.9 °C]  [20h, 12.6 °C]  \n",
       "19  [20h, 8.2 °C]   [21h, 9.5 °C]  [21h, 29.0 °C]  [21h, 11.5 °C]  \n",
       "20  [21h, 7.3 °C]   [22h, 9.1 °C]  [22h, 28.4 °C]  [22h, 11.5 °C]  \n",
       "21  [22h, 7.8 °C]   [23h, 9.2 °C]  [23h, 27.6 °C]  [23h, 11.5 °C]  \n",
       "22  [23h, 7.7 °C]   [00h, 9.3 °C]  [00h, 26.4 °C]  [00h, 11.2 °C]  \n",
       "23  [00h, 7.6 °C]   [01h, 8.8 °C]  [01h, 25.6 °C]  [01h, 10.9 °C]  \n",
       "24             []              []              []              []  "
      ]
     },
     "execution_count": 104,
     "metadata": {},
     "output_type": "execute_result"
    }
   ],
   "source": [
    "pd.DataFrame(dico3)"
   ]
  },
  {
   "cell_type": "markdown",
   "metadata": {},
   "source": [
    "## 2.7) extraction de l'heure ? "
   ]
  },
  {
   "cell_type": "markdown",
   "metadata": {},
   "source": [
    "## EXAMPLE 2: Visualiser les donations faites au téléthon"
   ]
  },
  {
   "cell_type": "code",
   "execution_count": 105,
   "metadata": {},
   "outputs": [],
   "source": [
    "requesting = req.get(\"https://www.afm-telethon.fr/telethon/bref/parrains-resultats-telethon-1379\")\n",
    "requesting.status_code\n",
    "soup = BeautifulSoup(requesting.content, \"html.parser\")"
   ]
  },
  {
   "cell_type": "code",
   "execution_count": 106,
   "metadata": {},
   "outputs": [],
   "source": [
    "year = [td.get_text() for td in soup.select(\"tr td\")[3::3]]\n",
    "referrer = [td.get_text() for td in soup.select(\"tr td\")[4::3]]\n",
    "amount_collected = [td.get_text() for td in soup.select(\"tr td\")[5::3]]"
   ]
  },
  {
   "cell_type": "code",
   "execution_count": 107,
   "metadata": {},
   "outputs": [],
   "source": [
    "import pandas as pd\n",
    "df = pd.DataFrame({\n",
    "    'year' : year,\n",
    "    'referrer' : referrer,\n",
    "    'amount_collected' : amount_collected\n",
    "})"
   ]
  },
  {
   "cell_type": "code",
   "execution_count": 108,
   "metadata": {},
   "outputs": [
    {
     "data": {
      "text/html": [
       "<div>\n",
       "<style scoped>\n",
       "    .dataframe tbody tr th:only-of-type {\n",
       "        vertical-align: middle;\n",
       "    }\n",
       "\n",
       "    .dataframe tbody tr th {\n",
       "        vertical-align: top;\n",
       "    }\n",
       "\n",
       "    .dataframe thead th {\n",
       "        text-align: right;\n",
       "    }\n",
       "</style>\n",
       "<table border=\"1\" class=\"dataframe\">\n",
       "  <thead>\n",
       "    <tr style=\"text-align: right;\">\n",
       "      <th></th>\n",
       "      <th>year</th>\n",
       "      <th>referrer</th>\n",
       "      <th>amount_collected</th>\n",
       "    </tr>\n",
       "  </thead>\n",
       "  <tbody>\n",
       "    <tr>\n",
       "      <th>0</th>\n",
       "      <td>1987</td>\n",
       "      <td>Jerry LEWIS</td>\n",
       "      <td>29 650 000 €</td>\n",
       "    </tr>\n",
       "    <tr>\n",
       "      <th>1</th>\n",
       "      <td>1988</td>\n",
       "      <td>Mireille MATHIEU</td>\n",
       "      <td>28 490 000 €</td>\n",
       "    </tr>\n",
       "    <tr>\n",
       "      <th>2</th>\n",
       "      <td>1989</td>\n",
       "      <td>Alain DELON</td>\n",
       "      <td>40 930 000 €</td>\n",
       "    </tr>\n",
       "    <tr>\n",
       "      <th>3</th>\n",
       "      <td>1990</td>\n",
       "      <td>Claudia CARDINALE</td>\n",
       "      <td>46 510 000 €</td>\n",
       "    </tr>\n",
       "    <tr>\n",
       "      <th>4</th>\n",
       "      <td>1991</td>\n",
       "      <td>Jerry LEWIS, Mireille MATHIEU et Ornella MUTTI</td>\n",
       "      <td>38 650 000 €</td>\n",
       "    </tr>\n",
       "    <tr>\n",
       "      <th>5</th>\n",
       "      <td>1992</td>\n",
       "      <td>Barbara HENDRICKS</td>\n",
       "      <td>47 870 000 €</td>\n",
       "    </tr>\n",
       "    <tr>\n",
       "      <th>6</th>\n",
       "      <td>1993</td>\n",
       "      <td>Michel SARDOU</td>\n",
       "      <td>55 600 000 €</td>\n",
       "    </tr>\n",
       "    <tr>\n",
       "      <th>7</th>\n",
       "      <td>1994</td>\n",
       "      <td>Pierre PERRET</td>\n",
       "      <td>57 520 000 €</td>\n",
       "    </tr>\n",
       "    <tr>\n",
       "      <th>8</th>\n",
       "      <td>1995</td>\n",
       "      <td>Serge LAMA</td>\n",
       "      <td>56 763 000 €</td>\n",
       "    </tr>\n",
       "    <tr>\n",
       "      <th>9</th>\n",
       "      <td>1996</td>\n",
       "      <td>Thierry LHERMITTE</td>\n",
       "      <td>56 872 000 €</td>\n",
       "    </tr>\n",
       "  </tbody>\n",
       "</table>\n",
       "</div>"
      ],
      "text/plain": [
       "   year                                        referrer amount_collected\n",
       "0  1987                                     Jerry LEWIS     29 650 000 €\n",
       "1  1988                                Mireille MATHIEU     28 490 000 €\n",
       "2  1989                                     Alain DELON     40 930 000 €\n",
       "3  1990                               Claudia CARDINALE     46 510 000 €\n",
       "4  1991  Jerry LEWIS, Mireille MATHIEU et Ornella MUTTI     38 650 000 €\n",
       "5  1992                               Barbara HENDRICKS     47 870 000 €\n",
       "6  1993                                   Michel SARDOU     55 600 000 €\n",
       "7  1994                                   Pierre PERRET     57 520 000 €\n",
       "8  1995                                      Serge LAMA     56 763 000 €\n",
       "9  1996                               Thierry LHERMITTE     56 872 000 €"
      ]
     },
     "execution_count": 108,
     "metadata": {},
     "output_type": "execute_result"
    }
   ],
   "source": [
    "df.head(10)"
   ]
  },
  {
   "cell_type": "code",
   "execution_count": 109,
   "metadata": {},
   "outputs": [
    {
     "data": {
      "text/plain": [
       "year                object\n",
       "referrer            object\n",
       "amount_collected    object\n",
       "dtype: object"
      ]
     },
     "execution_count": 109,
     "metadata": {},
     "output_type": "execute_result"
    }
   ],
   "source": [
    "df.dtypes"
   ]
  },
  {
   "cell_type": "markdown",
   "metadata": {},
   "source": [
    "### nettoyons rapidement la donnée"
   ]
  },
  {
   "cell_type": "code",
   "execution_count": 110,
   "metadata": {},
   "outputs": [],
   "source": [
    "df['year'] = df.year.astype(int) #on cast en integer\n",
    "#on récupère que les chiffres dans le prix, on cast en int et on divise par 1m pour avoir le prix en millions\n",
    "df['amount_collected'] = df.amount_collected.str.replace('\\D', '').astype(int)/10000000\n",
    "#on supprime les espaces avant et après les noms\n",
    "df.referrer = df.referrer.str.strip()"
   ]
  },
  {
   "cell_type": "code",
   "execution_count": 111,
   "metadata": {},
   "outputs": [
    {
     "data": {
      "text/html": [
       "<div>\n",
       "<style scoped>\n",
       "    .dataframe tbody tr th:only-of-type {\n",
       "        vertical-align: middle;\n",
       "    }\n",
       "\n",
       "    .dataframe tbody tr th {\n",
       "        vertical-align: top;\n",
       "    }\n",
       "\n",
       "    .dataframe thead th {\n",
       "        text-align: right;\n",
       "    }\n",
       "</style>\n",
       "<table border=\"1\" class=\"dataframe\">\n",
       "  <thead>\n",
       "    <tr style=\"text-align: right;\">\n",
       "      <th></th>\n",
       "      <th>year</th>\n",
       "      <th>referrer</th>\n",
       "      <th>amount_collected</th>\n",
       "    </tr>\n",
       "  </thead>\n",
       "  <tbody>\n",
       "    <tr>\n",
       "      <th>0</th>\n",
       "      <td>1987</td>\n",
       "      <td>Jerry LEWIS</td>\n",
       "      <td>2.9650</td>\n",
       "    </tr>\n",
       "    <tr>\n",
       "      <th>1</th>\n",
       "      <td>1988</td>\n",
       "      <td>Mireille MATHIEU</td>\n",
       "      <td>2.8490</td>\n",
       "    </tr>\n",
       "    <tr>\n",
       "      <th>2</th>\n",
       "      <td>1989</td>\n",
       "      <td>Alain DELON</td>\n",
       "      <td>4.0930</td>\n",
       "    </tr>\n",
       "    <tr>\n",
       "      <th>3</th>\n",
       "      <td>1990</td>\n",
       "      <td>Claudia CARDINALE</td>\n",
       "      <td>4.6510</td>\n",
       "    </tr>\n",
       "    <tr>\n",
       "      <th>4</th>\n",
       "      <td>1991</td>\n",
       "      <td>Jerry LEWIS, Mireille MATHIEU et Ornella MUTTI</td>\n",
       "      <td>3.8650</td>\n",
       "    </tr>\n",
       "    <tr>\n",
       "      <th>5</th>\n",
       "      <td>1992</td>\n",
       "      <td>Barbara HENDRICKS</td>\n",
       "      <td>4.7870</td>\n",
       "    </tr>\n",
       "    <tr>\n",
       "      <th>6</th>\n",
       "      <td>1993</td>\n",
       "      <td>Michel SARDOU</td>\n",
       "      <td>5.5600</td>\n",
       "    </tr>\n",
       "    <tr>\n",
       "      <th>7</th>\n",
       "      <td>1994</td>\n",
       "      <td>Pierre PERRET</td>\n",
       "      <td>5.7520</td>\n",
       "    </tr>\n",
       "    <tr>\n",
       "      <th>8</th>\n",
       "      <td>1995</td>\n",
       "      <td>Serge LAMA</td>\n",
       "      <td>5.6763</td>\n",
       "    </tr>\n",
       "    <tr>\n",
       "      <th>9</th>\n",
       "      <td>1996</td>\n",
       "      <td>Thierry LHERMITTE</td>\n",
       "      <td>5.6872</td>\n",
       "    </tr>\n",
       "  </tbody>\n",
       "</table>\n",
       "</div>"
      ],
      "text/plain": [
       "   year                                        referrer  amount_collected\n",
       "0  1987                                     Jerry LEWIS            2.9650\n",
       "1  1988                                Mireille MATHIEU            2.8490\n",
       "2  1989                                     Alain DELON            4.0930\n",
       "3  1990                               Claudia CARDINALE            4.6510\n",
       "4  1991  Jerry LEWIS, Mireille MATHIEU et Ornella MUTTI            3.8650\n",
       "5  1992                               Barbara HENDRICKS            4.7870\n",
       "6  1993                                   Michel SARDOU            5.5600\n",
       "7  1994                                   Pierre PERRET            5.7520\n",
       "8  1995                                      Serge LAMA            5.6763\n",
       "9  1996                               Thierry LHERMITTE            5.6872"
      ]
     },
     "execution_count": 111,
     "metadata": {},
     "output_type": "execute_result"
    }
   ],
   "source": [
    "df.head(10)"
   ]
  },
  {
   "cell_type": "markdown",
   "metadata": {},
   "source": [
    "### Visualisation"
   ]
  },
  {
   "cell_type": "code",
   "execution_count": 113,
   "metadata": {},
   "outputs": [],
   "source": [
    "%matplotlib inline"
   ]
  },
  {
   "cell_type": "code",
   "execution_count": 114,
   "metadata": {},
   "outputs": [
    {
     "data": {
      "image/png": "[encoded data removed]",
      "text/plain": [
       "<Figure size 1080x720 with 1 Axes>"
      ]
     },
     "metadata": {},
     "output_type": "display_data"
    }
   ],
   "source": [
    "import matplotlib.pyplot as plt\n",
    "import seaborn as sns\n",
    "\n",
    "# DISPLAYING FEATURES\n",
    "fig, ax = plt.subplots(figsize=(15, 10), ncols=1, nrows=1) #fig containing a subplot 'ax' using seaborn package\n",
    "\n",
    "#color theme\n",
    "flatui = [\"#7F7FFF\",\"#CCCCFF\"] # some great colors \n",
    "sns.set_style(\"whitegrid\") # to have a style in the background grid\n",
    "\n",
    "#the plot is a barplot, x for each year in absciss, y in ordinate\n",
    "#we add the palette of colors and assign the the defined ax\n",
    "ax = sns.barplot(x=\"year\", y=\"amount_collected\", \n",
    "                 data=df, palette=flatui, ax=ax)\n",
    "\n",
    "#rotation of the x labels\n",
    "ax.set_xticklabels(labels=ax.get_xticklabels(), rotation=90)\n",
    "#title and subtitle\n",
    "ax.text(x=0.5, y=1.05, s='Prix investi dans le Telethon', fontsize=18, weight='bold', ha='center', va='bottom', transform=ax.transAxes)\n",
    "ax.text(x=0.5, y=1.01, s='En France depuis 1987', fontsize=14, alpha=0.75, ha='center', va='bottom', transform=ax.transAxes)\n",
    "#grid labels\n",
    "ax.set_xlabel('Year',fontsize=16)\n",
    "ax.set_ylabel('Amount Collected', fontsize=16)\n",
    "\n",
    "#adding something fancy: the actual digit in donations 2/3 centered in each barplot\n",
    "for p in ax.patches:\n",
    "    height = p.get_height()\n",
    "    ax.text(p.get_x()+p.get_width()/2., height*2/3, '{}'.format(round(height,2)), \n",
    "            color='white', ha=\"center\", rotation=90, weight='bold')"
   ]
  },
  {
   "cell_type": "markdown",
   "metadata": {},
   "source": [
    "## Using Selenium (dynamic content from websites)"
   ]
  },
  {
   "cell_type": "markdown",
   "metadata": {},
   "source": [
    "From wikipedia:"
   ]
  },
  {
   "cell_type": "markdown",
   "metadata": {},
   "source": [
    "Selenium is a portable framework for **testing web applications**. Selenium provides a playback tool for authoring functional tests **without the need to learn a test scripting language (Selenium IDE)**. It also provides a test domain-specific language (Selenese) to write tests in a number of popular programming languages, including C#, Groovy, Java, Perl, PHP, Python, Ruby and Scala. The tests can then **run against most modern web browsers. Selenium runs on Windows, Linux, and macOS**. It is open-source software released under the Apache License 2.0.\n"
   ]
  },
  {
   "cell_type": "markdown",
   "metadata": {},
   "source": [
    "Selenium WebDriver is the successor to Selenium RC. Selenium WebDriver **accepts commands** (sent in Selenese, or **via a Client API**) and sends them to a browser. This is implemented through a browser-specific browser driver, which sends commands to a browser and retrieves results. **Most browser drivers actually launch and access a browser application (such as Firefox, Chrome, Internet Explorer, Safari, or Microsoft Edge)**"
   ]
  },
  {
   "cell_type": "markdown",
   "metadata": {},
   "source": [
    "## You first have to download a webdriver"
   ]
  },
  {
   "cell_type": "markdown",
   "metadata": {},
   "source": [
    "better to put it in the current working directory..."
   ]
  },
  {
   "cell_type": "code",
   "execution_count": 4,
   "metadata": {},
   "outputs": [
    {
     "data": {
      "text/plain": [
       "'/Users/romain/Informatique/esilv/5a_2019_2020'"
      ]
     },
     "execution_count": 4,
     "metadata": {},
     "output_type": "execute_result"
    }
   ],
   "source": [
    "import os\n",
    "os.getcwd()"
   ]
  },
  {
   "cell_type": "code",
   "execution_count": 5,
   "metadata": {},
   "outputs": [],
   "source": [
    "from selenium import webdriver #the webdriver package\n",
    "from selenium.webdriver.common.by import By #use the method to select\n",
    "from selenium.webdriver.common.keys import Keys \n",
    "\n",
    "from selenium.webdriver.support.ui import WebDriverWait #enables to wait until condition is fullfilled or just until a timeout exception is returned\n",
    "from selenium.webdriver.support import expected_conditions as ec #enables to create the conditions\n",
    "from selenium.common.exceptions import TimeoutException #enables to retrieve the exceptions type\n",
    "from selenium.common.exceptions import NoSuchElementException #enables to retrieve the exceptions type"
   ]
  },
  {
   "cell_type": "code",
   "execution_count": 6,
   "metadata": {},
   "outputs": [],
   "source": [
    "## Options for the web driver (here incognito mode for Chrome, better to be prompted again the password each time we open a new web-browser)\n",
    "options = webdriver.ChromeOptions()\n",
    "options.add_argument(' — incognito')\n",
    "## Get the webdriver from its location path\n",
    "driver = webdriver.Chrome(executable_path='./chromedriver 2', options = options)"
   ]
  },
  {
   "cell_type": "code",
   "execution_count": 7,
   "metadata": {},
   "outputs": [
    {
     "data": {
      "text/plain": [
       "[<selenium.webdriver.remote.webelement.WebElement (session=\"3333be0a9995dd35b4b35d72b8df7451\", element=\"db9d38f5-f5ba-4bdf-827a-da8976be044d\")>,\n",
       " <selenium.webdriver.remote.webelement.WebElement (session=\"3333be0a9995dd35b4b35d72b8df7451\", element=\"7182baf3-5ebe-4d02-ad53-f48e94e00f06\")>]"
      ]
     },
     "execution_count": 7,
     "metadata": {},
     "output_type": "execute_result"
    }
   ],
   "source": [
    "## Go to Instagram main connection page\n",
    "driver.get(\"https://www.instagram.com/accounts/login/?source=auth_switcher\")\n",
    "## Define a callable functino which waits element to load\n",
    "WebDriverWait(driver, timeout=5).until(ec.visibility_of_all_elements_located((By.TAG_NAME, 'input')))"
   ]
  },
  {
   "cell_type": "markdown",
   "metadata": {},
   "source": [
    "There are 2 tags matching with tag name 'input'"
   ]
  },
  {
   "cell_type": "markdown",
   "metadata": {},
   "source": [
    "### creating a fake account"
   ]
  },
  {
   "cell_type": "code",
   "execution_count": 8,
   "metadata": {},
   "outputs": [],
   "source": [
    "import random\n",
    "import string"
   ]
  },
  {
   "cell_type": "code",
   "execution_count": 9,
   "metadata": {},
   "outputs": [],
   "source": [
    "random_letters = \"\".join([random.choice(string.ascii_letters) for i in range(4)])\n",
    "random_int     = \"\".join([random.choice(string.digits) for i in range(2)])\n",
    "USER_ID        = \"romain_\"+ random_letters + random_int\n",
    "USER_PASSWORD  = \"pwd_\"+ random_letters + random_int\n",
    "\n",
    "USER_ID = \"ingenieur_5a\"\n",
    "USER_PASSWORD = \"instagram_esilv\""
   ]
  },
  {
   "cell_type": "code",
   "execution_count": 10,
   "metadata": {},
   "outputs": [
    {
     "data": {
      "text/plain": [
       "'ingenieur_5a'"
      ]
     },
     "execution_count": 10,
     "metadata": {},
     "output_type": "execute_result"
    }
   ],
   "source": [
    "USER_ID"
   ]
  },
  {
   "cell_type": "code",
   "execution_count": 11,
   "metadata": {},
   "outputs": [],
   "source": [
    "with open(\"instagram_users.txt\", \"a\") as f:\n",
    "    f.write(f\"{USER_ID} / {USER_PASSWORD}\")"
   ]
  },
  {
   "cell_type": "code",
   "execution_count": 12,
   "metadata": {},
   "outputs": [],
   "source": [
    "## Enter ID/password\n",
    "driver.find_element(By.CSS_SELECTOR, \"input[name='username']\").send_keys(USER_ID)\n",
    "driver.find_element(By.CSS_SELECTOR, \"input[name='password']\").send_keys(USER_PASSWORD)\n",
    "driver.find_element(By.CSS_SELECTOR, \"button[type='submit']\").click()"
   ]
  },
  {
   "cell_type": "markdown",
   "metadata": {},
   "source": [
    "### Handle this pop-up while opening Instagram\n",
    "Using CSS Selector for example "
   ]
  },
  {
   "cell_type": "code",
   "execution_count": 13,
   "metadata": {},
   "outputs": [],
   "source": [
    "ButtonPopup = WebDriverWait(driver, timeout=5).until(ec.visibility_of_all_elements_located((By.CSS_SELECTOR, \"button[class='aOOlW   HoLwm ']\")))"
   ]
  },
  {
   "cell_type": "code",
   "execution_count": 14,
   "metadata": {},
   "outputs": [
    {
     "data": {
      "text/plain": [
       "[<selenium.webdriver.remote.webelement.WebElement (session=\"3333be0a9995dd35b4b35d72b8df7451\", element=\"198d193e-7b95-4d6b-b00a-24790549da1e\")>]"
      ]
     },
     "execution_count": 14,
     "metadata": {},
     "output_type": "execute_result"
    }
   ],
   "source": [
    "ButtonPopup"
   ]
  },
  {
   "cell_type": "markdown",
   "metadata": {},
   "source": [
    "it exists, so we can click on it:"
   ]
  },
  {
   "cell_type": "code",
   "execution_count": 15,
   "metadata": {},
   "outputs": [],
   "source": [
    "ButtonPopup[0].click()"
   ]
  },
  {
   "cell_type": "markdown",
   "metadata": {},
   "source": [
    "### Let's take an hashtag to retrieve images from"
   ]
  },
  {
   "cell_type": "code",
   "execution_count": 16,
   "metadata": {},
   "outputs": [],
   "source": [
    "hashtag = '#kimkadarshian'"
   ]
  },
  {
   "cell_type": "code",
   "execution_count": 17,
   "metadata": {},
   "outputs": [],
   "source": [
    "import time\n",
    "search_bar = driver.find_element(By.CSS_SELECTOR, \"input[placeholder='Rechercher']\")\n",
    "search_bar.send_keys(hashtag)\n",
    "search_bar.send_keys(Keys.ENTER)\n",
    "time.sleep(3)\n",
    "## sometimes we have to press multiple times Enter...\n",
    "search_bar.send_keys(Keys.ENTER)\n",
    "search_bar.send_keys(Keys.ENTER)\n",
    "search_bar.send_keys(Keys.ENTER)"
   ]
  },
  {
   "cell_type": "markdown",
   "metadata": {},
   "source": [
    "## All photos that appeared or will appear are located in div[class='v1Nh3 kIKUG  _bz0w']m"
   ]
  },
  {
   "cell_type": "code",
   "execution_count": 18,
   "metadata": {},
   "outputs": [
    {
     "data": {
      "text/plain": [
       "[<selenium.webdriver.remote.webelement.WebElement (session=\"3333be0a9995dd35b4b35d72b8df7451\", element=\"9b6b8381-9037-43c7-a8ff-36e844472fb9\")>,\n",
       " <selenium.webdriver.remote.webelement.WebElement (session=\"3333be0a9995dd35b4b35d72b8df7451\", element=\"c9906aaa-25fd-4068-a2fc-347de50e0703\")>,\n",
       " <selenium.webdriver.remote.webelement.WebElement (session=\"3333be0a9995dd35b4b35d72b8df7451\", element=\"ed2adea2-e244-4553-b896-f4aa03f5575c\")>,\n",
       " <selenium.webdriver.remote.webelement.WebElement (session=\"3333be0a9995dd35b4b35d72b8df7451\", element=\"a80e3ad8-25aa-4d94-8816-a0c3e9ea6335\")>,\n",
       " <selenium.webdriver.remote.webelement.WebElement (session=\"3333be0a9995dd35b4b35d72b8df7451\", element=\"f8528e8c-4764-4123-833d-fc5f57ca0a00\")>,\n",
       " <selenium.webdriver.remote.webelement.WebElement (session=\"3333be0a9995dd35b4b35d72b8df7451\", element=\"bb570c9d-b018-4ffa-9c50-dbd7908bcc8d\")>,\n",
       " <selenium.webdriver.remote.webelement.WebElement (session=\"3333be0a9995dd35b4b35d72b8df7451\", element=\"a8d19e04-d653-4e4c-a01f-2952cb8e2e0b\")>,\n",
       " <selenium.webdriver.remote.webelement.WebElement (session=\"3333be0a9995dd35b4b35d72b8df7451\", element=\"ea8b7d6e-957e-4d10-919f-457f270d50c4\")>,\n",
       " <selenium.webdriver.remote.webelement.WebElement (session=\"3333be0a9995dd35b4b35d72b8df7451\", element=\"88e8ec32-992a-4f95-9e68-e49677472a7d\")>,\n",
       " <selenium.webdriver.remote.webelement.WebElement (session=\"3333be0a9995dd35b4b35d72b8df7451\", element=\"4e85665e-0637-439f-bdc0-0d55affd29fb\")>,\n",
       " <selenium.webdriver.remote.webelement.WebElement (session=\"3333be0a9995dd35b4b35d72b8df7451\", element=\"fd5a0969-5bd3-4625-a60d-0a3e7239a559\")>,\n",
       " <selenium.webdriver.remote.webelement.WebElement (session=\"3333be0a9995dd35b4b35d72b8df7451\", element=\"74b52ab9-6242-4c5a-a622-9188d50286f6\")>,\n",
       " <selenium.webdriver.remote.webelement.WebElement (session=\"3333be0a9995dd35b4b35d72b8df7451\", element=\"c5787b15-9888-4a70-9d97-68ac00d46558\")>,\n",
       " <selenium.webdriver.remote.webelement.WebElement (session=\"3333be0a9995dd35b4b35d72b8df7451\", element=\"ca452d63-65c2-4bb5-a771-8ad5aafeb63e\")>,\n",
       " <selenium.webdriver.remote.webelement.WebElement (session=\"3333be0a9995dd35b4b35d72b8df7451\", element=\"8e558432-ce51-49bd-918b-786172c786b3\")>,\n",
       " <selenium.webdriver.remote.webelement.WebElement (session=\"3333be0a9995dd35b4b35d72b8df7451\", element=\"7849252d-d9e2-4c79-b65b-ebf68229e31f\")>,\n",
       " <selenium.webdriver.remote.webelement.WebElement (session=\"3333be0a9995dd35b4b35d72b8df7451\", element=\"544dad52-5ead-4e5d-9b23-0f62ed4e1bfc\")>,\n",
       " <selenium.webdriver.remote.webelement.WebElement (session=\"3333be0a9995dd35b4b35d72b8df7451\", element=\"02920cf0-d146-4d7a-a50d-6ed8c07e0ffc\")>,\n",
       " <selenium.webdriver.remote.webelement.WebElement (session=\"3333be0a9995dd35b4b35d72b8df7451\", element=\"cd465c72-8f40-49c8-b920-16799e66e6c0\")>,\n",
       " <selenium.webdriver.remote.webelement.WebElement (session=\"3333be0a9995dd35b4b35d72b8df7451\", element=\"4d7fd670-185e-4899-ae6a-0bf59bcdc14d\")>,\n",
       " <selenium.webdriver.remote.webelement.WebElement (session=\"3333be0a9995dd35b4b35d72b8df7451\", element=\"8a23d470-3750-43f8-a840-04602f51829e\")>,\n",
       " <selenium.webdriver.remote.webelement.WebElement (session=\"3333be0a9995dd35b4b35d72b8df7451\", element=\"a13f2238-7771-4f2f-b91d-fd35bb88586b\")>,\n",
       " <selenium.webdriver.remote.webelement.WebElement (session=\"3333be0a9995dd35b4b35d72b8df7451\", element=\"dfa19271-1ac4-4225-8ada-764f49badf7b\")>,\n",
       " <selenium.webdriver.remote.webelement.WebElement (session=\"3333be0a9995dd35b4b35d72b8df7451\", element=\"1459f0b7-82c2-42d9-9dba-b78418c2a1d9\")>,\n",
       " <selenium.webdriver.remote.webelement.WebElement (session=\"3333be0a9995dd35b4b35d72b8df7451\", element=\"0e24cb89-1d91-4c6f-ba24-f55d3037b904\")>,\n",
       " <selenium.webdriver.remote.webelement.WebElement (session=\"3333be0a9995dd35b4b35d72b8df7451\", element=\"50a42a4f-4770-41aa-8434-dbacc1bb9a8f\")>,\n",
       " <selenium.webdriver.remote.webelement.WebElement (session=\"3333be0a9995dd35b4b35d72b8df7451\", element=\"bd09cc87-e4c4-411b-9380-29c427352c97\")>,\n",
       " <selenium.webdriver.remote.webelement.WebElement (session=\"3333be0a9995dd35b4b35d72b8df7451\", element=\"961fe84c-bbc8-44e0-b62a-24bac75224d1\")>,\n",
       " <selenium.webdriver.remote.webelement.WebElement (session=\"3333be0a9995dd35b4b35d72b8df7451\", element=\"e41738cc-8675-44e7-b373-6454b3990961\")>,\n",
       " <selenium.webdriver.remote.webelement.WebElement (session=\"3333be0a9995dd35b4b35d72b8df7451\", element=\"0f9ac32b-b6d8-4f33-a346-35b1f2a1941e\")>,\n",
       " <selenium.webdriver.remote.webelement.WebElement (session=\"3333be0a9995dd35b4b35d72b8df7451\", element=\"3c917d37-0544-444f-b068-dee3cbc8382b\")>,\n",
       " <selenium.webdriver.remote.webelement.WebElement (session=\"3333be0a9995dd35b4b35d72b8df7451\", element=\"98117979-b084-40fe-ac7a-9a5e096e014f\")>,\n",
       " <selenium.webdriver.remote.webelement.WebElement (session=\"3333be0a9995dd35b4b35d72b8df7451\", element=\"46505b6f-e47d-4f19-89a1-75bbfa69c639\")>]"
      ]
     },
     "execution_count": 18,
     "metadata": {},
     "output_type": "execute_result"
    }
   ],
   "source": [
    "WebDriverWait(driver, timeout=10).until(ec.visibility_of_all_elements_located((By.CSS_SELECTOR, \"div[class='v1Nh3 kIKUG  _bz0w']\")))"
   ]
  },
  {
   "cell_type": "markdown",
   "metadata": {},
   "source": [
    "## Let's scroll over all images to download them all"
   ]
  },
  {
   "cell_type": "code",
   "execution_count": 19,
   "metadata": {},
   "outputs": [],
   "source": [
    "class NbCallFunction:\n",
    "    \"\"\" This is a decorator to count the number of times a function has been called\n",
    "    It will be used to retrieve the image number to put it in working directory\"\"\"\n",
    "    def __init__(self, function):\n",
    "        self.callNumber = 0\n",
    "        self.function = function\n",
    "    def __call__(self, *args, **kwargs):\n",
    "        ## onCall\n",
    "        self.callNumber += 1\n",
    "        return self.function(*args, **kwargs)"
   ]
  },
  {
   "cell_type": "markdown",
   "metadata": {},
   "source": [
    "### example of use of a decorator"
   ]
  },
  {
   "cell_type": "code",
   "execution_count": 20,
   "metadata": {},
   "outputs": [
    {
     "data": {
      "text/plain": [
       "0"
      ]
     },
     "execution_count": 20,
     "metadata": {},
     "output_type": "execute_result"
    }
   ],
   "source": [
    "@NbCallFunction\n",
    "def helloworld():\n",
    "    print('hello-world')\n",
    "helloworld.callNumber"
   ]
  },
  {
   "cell_type": "code",
   "execution_count": 21,
   "metadata": {},
   "outputs": [
    {
     "name": "stdout",
     "output_type": "stream",
     "text": [
      "hello-world\n"
     ]
    },
    {
     "data": {
      "text/plain": [
       "1"
      ]
     },
     "execution_count": 21,
     "metadata": {},
     "output_type": "execute_result"
    }
   ],
   "source": [
    "helloworld()\n",
    "helloworld.callNumber"
   ]
  },
  {
   "cell_type": "code",
   "execution_count": 22,
   "metadata": {},
   "outputs": [],
   "source": [
    "@NbCallFunction\n",
    "def download_img_from_link(string_url_img, hashtag_name):\n",
    "    \"\"\" This function retrieve all the photos from the visible window\"\"\"\n",
    "    import os\n",
    "    import requests as req\n",
    "    if not os.path.exists('data/'):\n",
    "        os.mkdir('data/')\n",
    "    string_path = 'data/'+ hashtag_name.lstrip('#') + str(download_img_from_link.callNumber) + '.jpg'\n",
    "    with open(string_path, 'wb') as file:\n",
    "        response = req.get(string_url_img)\n",
    "        print(response) if (not response.ok) else file.write(response.content)"
   ]
  },
  {
   "cell_type": "markdown",
   "metadata": {},
   "source": [
    "!conda install -y regex"
   ]
  },
  {
   "cell_type": "markdown",
   "metadata": {},
   "source": [
    "!conda install -y regex"
   ]
  },
  {
   "cell_type": "code",
   "execution_count": 24,
   "metadata": {},
   "outputs": [
    {
     "name": "stdout",
     "output_type": "stream",
     "text": [
      "scrolling number : 1 on limit : 10\n",
      "number of photos downloaded : 45\n",
      "scrolling number : 2 on limit : 10\n",
      "number of photos downloaded : 57\n",
      "scrolling number : 3 on limit : 10\n",
      "number of photos downloaded : 69\n",
      "scrolling number : 4 on limit : 10\n",
      "number of photos downloaded : 81\n",
      "scrolling number : 5 on limit : 10\n",
      "number of photos downloaded : 93\n",
      "scrolling number : 6 on limit : 10\n",
      "number of photos downloaded : 105\n",
      "scrolling number : 7 on limit : 10\n",
      "number of photos downloaded : 117\n",
      "scrolling number : 8 on limit : 10\n",
      "number of photos downloaded : 129\n",
      "scrolling number : 9 on limit : 10\n",
      "number of photos downloaded : 141\n",
      "scrolling number : 10 on limit : 10\n",
      "number of photos downloaded : 153\n"
     ]
    }
   ],
   "source": [
    "##==== the while loop idea using the last_height and new_height is from @Artjom B. on Stackoverflow \\\n",
    "##==== i find it quite straightforward and useful ====##\n",
    "SLEEP_EACH_SCROLL = 3\n",
    "last_height = driver.execute_script(\"return document.body.scrollHeight\") # Get scroll height executing js script\n",
    "count, limit = 0, 10 # if we want to stop\n",
    "s = set()\n",
    "\n",
    "import regex as re\n",
    "while count < limit:\n",
    "    ## Scroll down to bottom\n",
    "    driver.execute_script(\"window.scrollTo(0, document.body.scrollHeight);\")\n",
    "    time.sleep(SLEEP_EACH_SCROLL)\n",
    "     \n",
    "    ## Retrieve the divs list\n",
    "    all_divs = driver.find_elements(By.CSS_SELECTOR, \"div[class='v1Nh3 kIKUG  _bz0w']\")\n",
    "    \n",
    "    ## important: in case the visible window overlapp with the former one, we don't want photos to get scrapped twice (so we say not in 's')\n",
    "    selected_divs = [x for x in all_divs if x not in s]\n",
    "    \n",
    "    ## Retrieve each image srcset attribute in each div in the divs list\n",
    "    img_srcset = [div.find_element(By.CSS_SELECTOR, \"img\").get_attribute('srcset') for div in selected_divs]\n",
    "    \n",
    "    ## Retrieve the correct image url from image srcset list\n",
    "    pattern = re.compile('^http\\S+')\n",
    "    string_url_imgs = [re.match(pattern=pattern, string=x).group() for x in img_srcset]\n",
    "    \n",
    "    for string_url_img in string_url_imgs:\n",
    "        download_img_from_link(string_url_img, hashtag)\n",
    "        \n",
    "    ## Calculate new scroll height and compare with last scroll height \n",
    "    ## ... (if the scrolling actually changed something)\n",
    "    new_height = driver.execute_script(\"return document.body.scrollHeight\")\n",
    "    if new_height == last_height:\n",
    "        break\n",
    "    last_height = new_height\n",
    "    count += 1 # count will be used for pagination afterwards\n",
    "    \n",
    "    s = set(all_divs) # Saving this list to avoid downloading again the same photos\n",
    "    print(\"scrolling number : \" + str(count) + \" on limit : \" + str(limit))\n",
    "    print(\"number of photos downloaded : \" + str(download_img_from_link.callNumber))\n",
    "    if download_img_from_link.callNumber > 10000:\n",
    "        break"
   ]
  },
  {
   "cell_type": "code",
   "execution_count": 29,
   "metadata": {},
   "outputs": [
    {
     "data": {
      "application/javascript": [
       "IPython.notebook.save_checkpoint();"
      ],
      "text/plain": [
       "<IPython.core.display.Javascript object>"
      ]
     },
     "metadata": {},
     "output_type": "display_data"
    },
    {
     "name": "stdout",
     "output_type": "stream",
     "text": [
      "git add .\n",
      "git commit -m 'fin du test du td'\n",
      "git push origin master\n"
     ]
    }
   ],
   "source": [
    "push(\"fin du test du td\")"
   ]
  },
  {
   "cell_type": "markdown",
   "metadata": {},
   "source": [
    "### 12 photos more each 3 secunds => 240 photos / min => 14,400 /hour"
   ]
  },
  {
   "cell_type": "code",
   "execution_count": 121,
   "metadata": {},
   "outputs": [
    {
     "data": {
      "image/jpeg": "[encoded data removed]",
      "text/plain": [
       "<IPython.core.display.Image object>"
      ]
     },
     "execution_count": 121,
     "metadata": {},
     "output_type": "execute_result"
    }
   ],
   "source": [
    "Image(filename='img/data_retrieved.jpg')"
   ]
  },
  {
   "cell_type": "markdown",
   "metadata": {},
   "source": [
    "### End"
   ]
  }
 ],
 "metadata": {
  "kernelspec": {
   "display_name": "Python 3",
   "language": "python",
   "name": "python3"
  },
  "language_info": {
   "codemirror_mode": {
    "name": "ipython",
    "version": 3
   },
   "file_extension": ".py",
   "mimetype": "text/x-python",
   "name": "python",
   "nbconvert_exporter": "python",
   "pygments_lexer": "ipython3",
   "version": "3.7.3"
  }
 },
 "nbformat": 4,
 "nbformat_minor": 2
}
