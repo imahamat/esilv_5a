{
 "cells": [
  {
   "cell_type": "markdown",
   "metadata": {},
   "source": [
    "# TD 1 : python\n",
    "- installation : anaconda, jupyter notebook, git\n",
    "- bases 1 : boucles, fonctions, comprehension list, dictionnaires, enumerate, classes\n",
    "- bases 2 : docstrings, lambda fonctions, exceptions"
   ]
  },
  {
   "cell_type": "markdown",
   "metadata": {},
   "source": [
    "# 0) listes"
   ]
  },
  {
   "cell_type": "code",
   "execution_count": 1,
   "metadata": {},
   "outputs": [
    {
     "data": {
      "text/plain": [
       "[1, 2, 3, 4, 5, 6, 7, 8, 9]"
      ]
     },
     "execution_count": 1,
     "metadata": {},
     "output_type": "execute_result"
    }
   ],
   "source": [
    "liste_de_valeurs = [1, 2, 3, 4, 5, 6, 7, 8, 9]\n",
    "liste_de_valeurs"
   ]
  },
  {
   "cell_type": "markdown",
   "metadata": {},
   "source": [
    "## 0.1) concaténation"
   ]
  },
  {
   "cell_type": "code",
   "execution_count": 2,
   "metadata": {},
   "outputs": [
    {
     "data": {
      "text/plain": [
       "[1, 2, 3, 4, 5, 6, 7, 8, 9, 1, 2, 3, 4, 5, 6, 7, 8, 9]"
      ]
     },
     "execution_count": 2,
     "metadata": {},
     "output_type": "execute_result"
    }
   ],
   "source": [
    "liste_de_valeurs = liste_de_valeurs + liste_de_valeurs\n",
    "liste_de_valeurs"
   ]
  },
  {
   "cell_type": "markdown",
   "metadata": {},
   "source": [
    "## 0.2) multiplication en longueur"
   ]
  },
  {
   "cell_type": "code",
   "execution_count": 3,
   "metadata": {},
   "outputs": [
    {
     "data": {
      "text/plain": [
       "54"
      ]
     },
     "execution_count": 3,
     "metadata": {},
     "output_type": "execute_result"
    }
   ],
   "source": [
    "liste_de_valeurs = liste_de_valeurs * 3\n",
    "len(liste_de_valeurs)"
   ]
  },
  {
   "cell_type": "markdown",
   "metadata": {},
   "source": [
    "## 0.3) slicing"
   ]
  },
  {
   "cell_type": "code",
   "execution_count": 4,
   "metadata": {},
   "outputs": [
    {
     "data": {
      "text/plain": [
       "1"
      ]
     },
     "execution_count": 4,
     "metadata": {},
     "output_type": "execute_result"
    }
   ],
   "source": [
    "liste_de_valeurs[0]"
   ]
  },
  {
   "cell_type": "code",
   "execution_count": 5,
   "metadata": {},
   "outputs": [
    {
     "data": {
      "text/plain": [
       "[1,\n",
       " 2,\n",
       " 3,\n",
       " 4,\n",
       " 5,\n",
       " 6,\n",
       " 7,\n",
       " 8,\n",
       " 9,\n",
       " 1,\n",
       " 2,\n",
       " 3,\n",
       " 4,\n",
       " 5,\n",
       " 6,\n",
       " 7,\n",
       " 8,\n",
       " 9,\n",
       " 1,\n",
       " 2,\n",
       " 3,\n",
       " 4,\n",
       " 5,\n",
       " 6,\n",
       " 7,\n",
       " 8,\n",
       " 9]"
      ]
     },
     "execution_count": 5,
     "metadata": {},
     "output_type": "execute_result"
    }
   ],
   "source": [
    "milieu = int(len(liste_de_valeurs)/2)\n",
    "liste_de_valeurs[0:milieu]"
   ]
  },
  {
   "cell_type": "code",
   "execution_count": 6,
   "metadata": {},
   "outputs": [
    {
     "data": {
      "text/plain": [
       "[1, 3, 5, 7, 9, 2, 4, 6, 8, 1, 3, 5, 7, 9]"
      ]
     },
     "execution_count": 6,
     "metadata": {},
     "output_type": "execute_result"
    }
   ],
   "source": [
    "liste_de_valeurs[0:milieu:2]"
   ]
  },
  {
   "cell_type": "markdown",
   "metadata": {},
   "source": [
    "## 0.4) negative slicing "
   ]
  },
  {
   "cell_type": "code",
   "execution_count": 7,
   "metadata": {},
   "outputs": [
    {
     "data": {
      "text/plain": [
       "1"
      ]
     },
     "execution_count": 7,
     "metadata": {},
     "output_type": "execute_result"
    }
   ],
   "source": [
    "liste_de_valeurs[-milieu]"
   ]
  },
  {
   "cell_type": "code",
   "execution_count": 8,
   "metadata": {},
   "outputs": [
    {
     "data": {
      "text/plain": [
       "[1, 2, 3, 4, 5, 6, 7, 8, 9, 1, 2, 3, 4, 5, 6, 7, 8, 9, 1, 2, 3, 4, 5, 6, 7, 8]"
      ]
     },
     "execution_count": 8,
     "metadata": {},
     "output_type": "execute_result"
    }
   ],
   "source": [
    "liste_de_valeurs[-milieu:-1]"
   ]
  },
  {
   "cell_type": "markdown",
   "metadata": {},
   "source": [
    "## 0.5) inversion"
   ]
  },
  {
   "cell_type": "code",
   "execution_count": 9,
   "metadata": {},
   "outputs": [
    {
     "data": {
      "text/plain": [
       "<list_reverseiterator at 0x104f5b668>"
      ]
     },
     "execution_count": 9,
     "metadata": {},
     "output_type": "execute_result"
    }
   ],
   "source": [
    "reversed(liste_de_valeurs)"
   ]
  },
  {
   "cell_type": "code",
   "execution_count": 10,
   "metadata": {},
   "outputs": [
    {
     "data": {
      "text/plain": [
       "[9,\n",
       " 8,\n",
       " 7,\n",
       " 6,\n",
       " 5,\n",
       " 4,\n",
       " 3,\n",
       " 2,\n",
       " 1,\n",
       " 9,\n",
       " 8,\n",
       " 7,\n",
       " 6,\n",
       " 5,\n",
       " 4,\n",
       " 3,\n",
       " 2,\n",
       " 1,\n",
       " 9,\n",
       " 8,\n",
       " 7,\n",
       " 6,\n",
       " 5,\n",
       " 4,\n",
       " 3,\n",
       " 2,\n",
       " 1,\n",
       " 9,\n",
       " 8,\n",
       " 7,\n",
       " 6,\n",
       " 5,\n",
       " 4,\n",
       " 3,\n",
       " 2,\n",
       " 1,\n",
       " 9,\n",
       " 8,\n",
       " 7,\n",
       " 6,\n",
       " 5,\n",
       " 4,\n",
       " 3,\n",
       " 2,\n",
       " 1,\n",
       " 9,\n",
       " 8,\n",
       " 7,\n",
       " 6,\n",
       " 5,\n",
       " 4,\n",
       " 3,\n",
       " 2,\n",
       " 1]"
      ]
     },
     "execution_count": 10,
     "metadata": {},
     "output_type": "execute_result"
    }
   ],
   "source": [
    "list(reversed(liste_de_valeurs))"
   ]
  },
  {
   "cell_type": "code",
   "execution_count": 11,
   "metadata": {},
   "outputs": [
    {
     "data": {
      "text/plain": [
       "[1,\n",
       " 9,\n",
       " 8,\n",
       " 7,\n",
       " 6,\n",
       " 5,\n",
       " 4,\n",
       " 3,\n",
       " 2,\n",
       " 1,\n",
       " 9,\n",
       " 8,\n",
       " 7,\n",
       " 6,\n",
       " 5,\n",
       " 4,\n",
       " 3,\n",
       " 2,\n",
       " 1,\n",
       " 9,\n",
       " 8,\n",
       " 7,\n",
       " 6,\n",
       " 5,\n",
       " 4,\n",
       " 3,\n",
       " 2]"
      ]
     },
     "execution_count": 11,
     "metadata": {},
     "output_type": "execute_result"
    }
   ],
   "source": [
    "liste_de_valeurs[milieu:0:-1]"
   ]
  },
  {
   "cell_type": "code",
   "execution_count": 12,
   "metadata": {},
   "outputs": [
    {
     "data": {
      "text/plain": [
       "[1, 8, 6, 4, 2, 9, 7, 5, 3, 1, 8, 6, 4, 2]"
      ]
     },
     "execution_count": 12,
     "metadata": {},
     "output_type": "execute_result"
    }
   ],
   "source": [
    "liste_de_valeurs[milieu:0:-2]"
   ]
  },
  {
   "cell_type": "markdown",
   "metadata": {},
   "source": [
    "## 0.6) les chaînes de caractères sont des listes"
   ]
  },
  {
   "cell_type": "code",
   "execution_count": 13,
   "metadata": {},
   "outputs": [
    {
     "data": {
      "text/plain": [
       "'! dlrow olleh'"
      ]
     },
     "execution_count": 13,
     "metadata": {},
     "output_type": "execute_result"
    }
   ],
   "source": [
    "phrase = \"hello world !\"\n",
    "phrase[::-1]"
   ]
  },
  {
   "cell_type": "markdown",
   "metadata": {},
   "source": [
    "# 0.7) comprehension list"
   ]
  },
  {
   "cell_type": "code",
   "execution_count": 14,
   "metadata": {},
   "outputs": [
    {
     "data": {
      "text/plain": [
       "[0, 2, 4, 6, 8, 10, 12, 14, 16, 18, 20, 22, 24, 26, 28, 30, 32, 34, 36, 38]"
      ]
     },
     "execution_count": 14,
     "metadata": {},
     "output_type": "execute_result"
    }
   ],
   "source": [
    "n = 20\n",
    "liste_de_valeurs = [x*2 for x in range(n)]\n",
    "liste_de_valeurs"
   ]
  },
  {
   "cell_type": "code",
   "execution_count": 15,
   "metadata": {},
   "outputs": [
    {
     "data": {
      "text/plain": [
       "[4, 6, 8, 10, 12, 14, 16, 18, 20, 22, 24, 26, 28, 30, 32, 34, 36, 38]"
      ]
     },
     "execution_count": 15,
     "metadata": {},
     "output_type": "execute_result"
    }
   ],
   "source": [
    "minimum         = 3\n",
    "liste_de_valeurs = [x for x in liste_de_valeurs if minimum<x]\n",
    "liste_de_valeurs"
   ]
  },
  {
   "cell_type": "markdown",
   "metadata": {},
   "source": [
    "# 1) boucles"
   ]
  },
  {
   "cell_type": "markdown",
   "metadata": {},
   "source": [
    "## 1.1) For"
   ]
  },
  {
   "cell_type": "code",
   "execution_count": 16,
   "metadata": {},
   "outputs": [],
   "source": [
    "pairs   = []\n",
    "impairs = []\n",
    "for valeur in liste_de_valeurs:\n",
    "    if valeur % 2 ==0:\n",
    "        pairs.extend([valeur])\n",
    "    else:\n",
    "        impairs.extend([valeur])\n"
   ]
  },
  {
   "cell_type": "code",
   "execution_count": 17,
   "metadata": {},
   "outputs": [
    {
     "name": "stdout",
     "output_type": "stream",
     "text": [
      "[4, 6, 8, 10, 12, 14, 16, 18, 20, 22, 24, 26, 28, 30, 32, 34, 36, 38]\n",
      "[]\n"
     ]
    }
   ],
   "source": [
    "print(pairs)\n",
    "print(impairs) "
   ]
  },
  {
   "cell_type": "markdown",
   "metadata": {},
   "source": [
    "## 1.2) il est mieux de remplacer les boucles par des comprehension lists"
   ]
  },
  {
   "cell_type": "code",
   "execution_count": 18,
   "metadata": {},
   "outputs": [],
   "source": [
    "pairs   = [valeur for valeur in liste_de_valeurs if valeur % 2 ==0]\n",
    "impairs = [valeur for valeur in liste_de_valeurs if valeur % 2 !=0]"
   ]
  },
  {
   "cell_type": "code",
   "execution_count": 19,
   "metadata": {},
   "outputs": [
    {
     "name": "stdout",
     "output_type": "stream",
     "text": [
      "[4, 6, 8, 10, 12, 14, 16, 18, 20, 22, 24, 26, 28, 30, 32, 34, 36, 38]\n",
      "[]\n"
     ]
    }
   ],
   "source": [
    "print(pairs)\n",
    "print(impairs) "
   ]
  },
  {
   "cell_type": "markdown",
   "metadata": {},
   "source": [
    "## 1.3) Test du temps d'exécution "
   ]
  },
  {
   "cell_type": "code",
   "execution_count": 20,
   "metadata": {},
   "outputs": [],
   "source": [
    "longue_liste = liste_de_valeurs * 10000"
   ]
  },
  {
   "cell_type": "markdown",
   "metadata": {},
   "source": [
    "### 1.3.1) boucle avec extend"
   ]
  },
  {
   "cell_type": "code",
   "execution_count": 21,
   "metadata": {},
   "outputs": [],
   "source": [
    "import time"
   ]
  },
  {
   "cell_type": "code",
   "execution_count": 22,
   "metadata": {},
   "outputs": [],
   "source": [
    "nb_iteration = 50\n",
    "duree_totale = 0\n",
    "for n in range(nb_iteration):\n",
    "    debut = time.time()\n",
    "    pairs   = []\n",
    "    impairs = []\n",
    "    for valeur in longue_liste:\n",
    "        if valeur % 2 ==0:\n",
    "            pairs.extend([valeur])\n",
    "        else:\n",
    "            impairs.extend([valeur])\n",
    "    fin = time.time()\n",
    "    duree_totale += fin - debut"
   ]
  },
  {
   "cell_type": "code",
   "execution_count": 23,
   "metadata": {},
   "outputs": [
    {
     "data": {
      "text/plain": [
       "0.036044254302978515"
      ]
     },
     "execution_count": 23,
     "metadata": {},
     "output_type": "execute_result"
    }
   ],
   "source": [
    "duree_moyenne_boucle = duree_totale/nb_iteration\n",
    "duree_moyenne_boucle"
   ]
  },
  {
   "cell_type": "markdown",
   "metadata": {},
   "source": [
    "### 1.3.2) comprehension list ( 40 % plus rapide...)"
   ]
  },
  {
   "cell_type": "code",
   "execution_count": 24,
   "metadata": {},
   "outputs": [],
   "source": [
    "duree_totale = 0\n",
    "for n in range(nb_iteration):\n",
    "    debut = time.time()    \n",
    "    pairs   = [valeur for valeur in longue_liste if valeur % 2 ==0]\n",
    "    impairs = [valeur for valeur in longue_liste if valeur % 2 !=0]\n",
    "    fin = time.time()\n",
    "    duree_totale += fin - debut    "
   ]
  },
  {
   "cell_type": "code",
   "execution_count": 25,
   "metadata": {},
   "outputs": [
    {
     "data": {
      "text/plain": [
       "0.019856266975402832"
      ]
     },
     "execution_count": 25,
     "metadata": {},
     "output_type": "execute_result"
    }
   ],
   "source": [
    "duree_moyenne_comprehension = duree_totale/nb_iteration\n",
    "duree_moyenne_comprehension"
   ]
  },
  {
   "cell_type": "code",
   "execution_count": 26,
   "metadata": {},
   "outputs": [
    {
     "name": "stdout",
     "output_type": "stream",
     "text": [
      "gain = 44.91 %\n"
     ]
    }
   ],
   "source": [
    "gain = (1 - duree_moyenne_comprehension / duree_moyenne_boucle) * 100\n",
    "print(\"gain = %.2f %%\"%gain)"
   ]
  },
  {
   "cell_type": "markdown",
   "metadata": {},
   "source": [
    "### utilisation des f-string dans le print : "
   ]
  },
  {
   "cell_type": "code",
   "execution_count": 27,
   "metadata": {},
   "outputs": [
    {
     "name": "stdout",
     "output_type": "stream",
     "text": [
      "gain = 44.91 %\n"
     ]
    }
   ],
   "source": [
    "print(f\"gain = {gain:.2f} %\")"
   ]
  },
  {
   "cell_type": "markdown",
   "metadata": {},
   "source": [
    "## 1.2) While"
   ]
  },
  {
   "cell_type": "code",
   "execution_count": 28,
   "metadata": {},
   "outputs": [
    {
     "data": {
      "text/plain": [
       "0"
      ]
     },
     "execution_count": 28,
     "metadata": {},
     "output_type": "execute_result"
    }
   ],
   "source": [
    "nombre = 0\n",
    "while nombre in liste_de_valeurs:\n",
    "    nombre = nombre + 1\n",
    "nombre"
   ]
  },
  {
   "cell_type": "markdown",
   "metadata": {},
   "source": [
    "### 1.1.1) break"
   ]
  },
  {
   "cell_type": "code",
   "execution_count": 29,
   "metadata": {},
   "outputs": [
    {
     "name": "stdout",
     "output_type": "stream",
     "text": [
      "4|6|8|10|12|14|16|18|20|22|24|26|28|"
     ]
    }
   ],
   "source": [
    "limite = 30\n",
    "for valeur in liste_de_valeurs:\n",
    "    if limite==valeur:\n",
    "        break\n",
    "    print(valeur, end=\"|\")\n"
   ]
  },
  {
   "cell_type": "markdown",
   "metadata": {},
   "source": [
    "### 1.1.2) continue"
   ]
  },
  {
   "cell_type": "code",
   "execution_count": 30,
   "metadata": {},
   "outputs": [
    {
     "name": "stdout",
     "output_type": "stream",
     "text": [
      "4|6|8|10|12|14|16|18|20|22|24|26|28|30|32|34|36|38|"
     ]
    }
   ],
   "source": [
    "limite = 3\n",
    "for valeur in liste_de_valeurs:\n",
    "    if limite==valeur:\n",
    "        continue\n",
    "    print(valeur, end=\"|\")\n"
   ]
  },
  {
   "cell_type": "markdown",
   "metadata": {},
   "source": [
    "# 2) fonctions"
   ]
  },
  {
   "cell_type": "code",
   "execution_count": 31,
   "metadata": {},
   "outputs": [],
   "source": [
    "def random_string(n=10):\n",
    "    import random\n",
    "    import string\n",
    "    return ''.join([random.choice(string.ascii_letters) for _ in range(n)])"
   ]
  },
  {
   "cell_type": "code",
   "execution_count": 32,
   "metadata": {},
   "outputs": [],
   "source": [
    "mot = random_string()"
   ]
  },
  {
   "cell_type": "markdown",
   "metadata": {},
   "source": [
    "# 3) dictionnaire"
   ]
  },
  {
   "cell_type": "code",
   "execution_count": 33,
   "metadata": {},
   "outputs": [],
   "source": [
    "dico = {}"
   ]
  },
  {
   "cell_type": "code",
   "execution_count": 34,
   "metadata": {},
   "outputs": [
    {
     "data": {
      "text/plain": [
       "{'clef': 'valeur'}"
      ]
     },
     "execution_count": 34,
     "metadata": {},
     "output_type": "execute_result"
    }
   ],
   "source": [
    "dico[\"clef\"] = \"valeur\"\n",
    "dico"
   ]
  },
  {
   "cell_type": "code",
   "execution_count": 35,
   "metadata": {},
   "outputs": [
    {
     "data": {
      "text/plain": [
       "{'clef': 'valeur',\n",
       " 'koWKKQcfRV': 'oIpsWNQYDp',\n",
       " 'EmbnUzEYZF': 'VivzaHSjSo',\n",
       " 'hqOxzOypos': 'PQjpanNkUx'}"
      ]
     },
     "execution_count": 35,
     "metadata": {},
     "output_type": "execute_result"
    }
   ],
   "source": [
    "for i in range(limite):\n",
    "    clef   = random_string()\n",
    "    valeur = random_string()\n",
    "    dico[clef] = valeur\n",
    "dico"
   ]
  },
  {
   "cell_type": "markdown",
   "metadata": {},
   "source": [
    "## 2.1) paramètres sous forme de dictionnaire"
   ]
  },
  {
   "cell_type": "code",
   "execution_count": 36,
   "metadata": {},
   "outputs": [
    {
     "data": {
      "text/plain": [
       "'UbSgoFvUjS'"
      ]
     },
     "execution_count": 36,
     "metadata": {},
     "output_type": "execute_result"
    }
   ],
   "source": [
    "param = {\"n\" : 10}\n",
    "random_string(**param)"
   ]
  },
  {
   "cell_type": "markdown",
   "metadata": {},
   "source": [
    "## 2.3) kwargs"
   ]
  },
  {
   "cell_type": "code",
   "execution_count": 37,
   "metadata": {},
   "outputs": [],
   "source": [
    "def random_string(n=10, **kwargs):\n",
    "    import random\n",
    "    import string\n",
    "    return ''.join([random.choice(string.ascii_letters) for _ in range(n)])"
   ]
  },
  {
   "cell_type": "code",
   "execution_count": 38,
   "metadata": {},
   "outputs": [
    {
     "data": {
      "text/plain": [
       "'LkfOgstaUH'"
      ]
     },
     "execution_count": 38,
     "metadata": {},
     "output_type": "execute_result"
    }
   ],
   "source": [
    "random_string(**param, **dico)"
   ]
  },
  {
   "cell_type": "markdown",
   "metadata": {},
   "source": [
    "## 3.1) enumerate"
   ]
  },
  {
   "cell_type": "code",
   "execution_count": 39,
   "metadata": {},
   "outputs": [
    {
     "name": "stdout",
     "output_type": "stream",
     "text": [
      "  0 : clef           \n",
      "  1 : koWKKQcfRV     \n",
      "  2 : EmbnUzEYZF     \n",
      "  3 : hqOxzOypos     \n"
     ]
    }
   ],
   "source": [
    "for clef, valeur in enumerate(dico):\n",
    "    print(f\"{clef:3} : {valeur:15}\")"
   ]
  },
  {
   "cell_type": "markdown",
   "metadata": {},
   "source": [
    "# 4) classes"
   ]
  },
  {
   "cell_type": "markdown",
   "metadata": {},
   "source": [
    "## 4.1) classe avec surcharge de la méthode str"
   ]
  },
  {
   "cell_type": "code",
   "execution_count": 40,
   "metadata": {},
   "outputs": [],
   "source": [
    "class oeuvre():\n",
    "    def __init__(self, auteur, titre):\n",
    "        self.auteur = auteur.capitalize()    \n",
    "        self.titre = titre.capitalize()\n",
    "    def __str__(self):\n",
    "        return f\"{self.titre} par {self.auteur}\""
   ]
  },
  {
   "cell_type": "markdown",
   "metadata": {},
   "source": [
    "## 4.2) classes avec héritage"
   ]
  },
  {
   "cell_type": "code",
   "execution_count": 41,
   "metadata": {},
   "outputs": [],
   "source": [
    "class livre(oeuvre):\n",
    "    def __init__(self, auteur, titre, nombre_de_page):\n",
    "        self.nombre_de_page = nombre_de_page\n",
    "        super(livre, self).__init__(auteur, titre)\n",
    "    def __str__(self):\n",
    "        return \"Livre : \" + \"\\n\" .join([super(livre, self).__str__(), f\"Nombre de page : {self.nombre_de_page}\"])"
   ]
  },
  {
   "cell_type": "code",
   "execution_count": 42,
   "metadata": {},
   "outputs": [],
   "source": [
    "class sculpture(oeuvre):\n",
    "    def __init__(self, auteur, titre, materiau):\n",
    "        self.materiau = materiau\n",
    "        super(sculpture, self).__init__(auteur, titre)\n",
    "    def __str__(self):\n",
    "        return \"Sculpture : \" + \"\\n\" .join([super(sculpture, self).__str__(), f\"Materiau : {self.materiau}\"])"
   ]
  },
  {
   "cell_type": "markdown",
   "metadata": {},
   "source": [
    "## 4.3) usage des classes avec instanciation via des dictionnaires"
   ]
  },
  {
   "cell_type": "code",
   "execution_count": 43,
   "metadata": {},
   "outputs": [],
   "source": [
    "bibliotheque = {\n",
    "    \"Tolstoi\" : [(\"Guerre et paix\", 2000), (\"Anna Karénine\", 800) , (\"Enfance\",200 )],\n",
    "    \"Proust\" : [(\"Contre sainte Beuve\", 300), (\"La recherche du temps perdu\", 700)]\n",
    "}"
   ]
  },
  {
   "cell_type": "code",
   "execution_count": 44,
   "metadata": {},
   "outputs": [],
   "source": [
    "jardin = {\n",
    "    \"Camille claudel\" : [(\"La vague\", \"Bronze et émeraude\"), (\"La jeune fille\", \"Marbre\")],\n",
    "    \"Auguste Rodin\" : [(\"Le penseur\", \"Bronze\"), (\"Les bourgeois de calais\", \"bronze\")]\n",
    "}"
   ]
  },
  {
   "cell_type": "markdown",
   "metadata": {},
   "source": [
    "## Parcours de dictionnaire avec keys :"
   ]
  },
  {
   "cell_type": "code",
   "execution_count": 45,
   "metadata": {},
   "outputs": [
    {
     "name": "stdout",
     "output_type": "stream",
     "text": [
      "Livre : Guerre et paix par Tolstoi\n",
      "Nombre de page : 2000\n",
      "Livre : Anna karénine par Tolstoi\n",
      "Nombre de page : 800\n",
      "Livre : Enfance par Tolstoi\n",
      "Nombre de page : 200\n",
      "Livre : Contre sainte beuve par Proust\n",
      "Nombre de page : 300\n",
      "Livre : La recherche du temps perdu par Proust\n",
      "Nombre de page : 700\n"
     ]
    }
   ],
   "source": [
    "for auteur in bibliotheque.keys():\n",
    "    for titre, nb_page in bibliotheque[auteur]:\n",
    "        print(livre(auteur, titre, nb_page))"
   ]
  },
  {
   "cell_type": "markdown",
   "metadata": {},
   "source": [
    "# Parcours de dictionnaires avec items :"
   ]
  },
  {
   "cell_type": "code",
   "execution_count": 46,
   "metadata": {},
   "outputs": [
    {
     "name": "stdout",
     "output_type": "stream",
     "text": [
      "Sculpture : La vague par Camille claudel\n",
      "Materiau : Bronze et émeraude\n",
      "Sculpture : La jeune fille par Camille claudel\n",
      "Materiau : Marbre\n",
      "Sculpture : Le penseur par Auguste rodin\n",
      "Materiau : Bronze\n",
      "Sculpture : Les bourgeois de calais par Auguste rodin\n",
      "Materiau : bronze\n"
     ]
    }
   ],
   "source": [
    "for sculpteur, oeuvres in jardin.items():\n",
    "    for (titre, materiau) in oeuvres:\n",
    "        print(sculpture(sculpteur, titre, materiau))"
   ]
  },
  {
   "cell_type": "markdown",
   "metadata": {},
   "source": [
    "## comprehension list"
   ]
  },
  {
   "cell_type": "code",
   "execution_count": 47,
   "metadata": {},
   "outputs": [],
   "source": [
    "livres = [livre(auteur, titre, nb_page) \n",
    "             for auteur in bibliotheque.keys() \n",
    "             for titre, nb_page in bibliotheque[auteur]]\n",
    "        "
   ]
  },
  {
   "cell_type": "code",
   "execution_count": 48,
   "metadata": {},
   "outputs": [],
   "source": [
    "scultpures = [sculpture(sculpteur, titre, materiau) \n",
    "                 for sculpteur, oeuvres in jardin.items() \n",
    "                 for (titre, materiau) in oeuvres]\n",
    "        "
   ]
  },
  {
   "cell_type": "code",
   "execution_count": 49,
   "metadata": {},
   "outputs": [],
   "source": [
    "collection = livres +  scultpures"
   ]
  },
  {
   "cell_type": "code",
   "execution_count": 50,
   "metadata": {},
   "outputs": [
    {
     "name": "stdout",
     "output_type": "stream",
     "text": [
      "Livre : Guerre et paix par Tolstoi\n",
      "Nombre de page : 2000\n",
      "Livre : Anna karénine par Tolstoi\n",
      "Nombre de page : 800\n",
      "Livre : Enfance par Tolstoi\n",
      "Nombre de page : 200\n",
      "Livre : Contre sainte beuve par Proust\n",
      "Nombre de page : 300\n",
      "Livre : La recherche du temps perdu par Proust\n",
      "Nombre de page : 700\n",
      "Sculpture : La vague par Camille claudel\n",
      "Materiau : Bronze et émeraude\n",
      "Sculpture : La jeune fille par Camille claudel\n",
      "Materiau : Marbre\n",
      "Sculpture : Le penseur par Auguste rodin\n",
      "Materiau : Bronze\n",
      "Sculpture : Les bourgeois de calais par Auguste rodin\n",
      "Materiau : bronze\n"
     ]
    }
   ],
   "source": [
    "for oeuvre in collection:\n",
    "    print(oeuvre)"
   ]
  },
  {
   "cell_type": "markdown",
   "metadata": {},
   "source": [
    "# 5) compter les occurences des mots dans la collection"
   ]
  },
  {
   "cell_type": "markdown",
   "metadata": {},
   "source": [
    "## 5.1) trouver les mots"
   ]
  },
  {
   "cell_type": "code",
   "execution_count": 51,
   "metadata": {},
   "outputs": [
    {
     "data": {
      "text/plain": [
       "'Livre : Guerre et paix par Tolstoi\\nNombre de page : 2000Livre : Anna karénine par Tolstoi\\nNombre de page : 800Livre : Enfance par Tolstoi\\nNombre de page : 200Livre : Contre sainte beuve par Proust\\nNombre de page : 300Livre : La recherche du temps perdu par Proust\\nNombre de page : 700Sculpture : La vague par Camille claudel\\nMateriau : Bronze et émeraudeSculpture : La jeune fille par Camille claudel\\nMateriau : MarbreSculpture : Le penseur par Auguste rodin\\nMateriau : BronzeSculpture : Les bourgeois de calais par Auguste rodin\\nMateriau : bronze'"
      ]
     },
     "execution_count": 51,
     "metadata": {},
     "output_type": "execute_result"
    }
   ],
   "source": [
    "description = \"\".join([str(oeuvre) for oeuvre in collection])\n",
    "description"
   ]
  },
  {
   "cell_type": "code",
   "execution_count": 52,
   "metadata": {},
   "outputs": [
    {
     "data": {
      "text/plain": [
       "['Livre',\n",
       " ':',\n",
       " 'Guerre',\n",
       " 'et',\n",
       " 'paix',\n",
       " 'par',\n",
       " 'Tolstoi',\n",
       " 'Nombre',\n",
       " 'de',\n",
       " 'page',\n",
       " ':',\n",
       " '2000Livre',\n",
       " ':',\n",
       " 'Anna',\n",
       " 'karénine',\n",
       " 'par',\n",
       " 'Tolstoi',\n",
       " 'Nombre',\n",
       " 'de',\n",
       " 'page',\n",
       " ':',\n",
       " '800Livre',\n",
       " ':',\n",
       " 'Enfance',\n",
       " 'par',\n",
       " 'Tolstoi',\n",
       " 'Nombre',\n",
       " 'de',\n",
       " 'page',\n",
       " ':',\n",
       " '200Livre',\n",
       " ':',\n",
       " 'Contre',\n",
       " 'sainte',\n",
       " 'beuve',\n",
       " 'par',\n",
       " 'Proust',\n",
       " 'Nombre',\n",
       " 'de',\n",
       " 'page',\n",
       " ':',\n",
       " '300Livre',\n",
       " ':',\n",
       " 'La',\n",
       " 'recherche',\n",
       " 'du',\n",
       " 'temps',\n",
       " 'perdu',\n",
       " 'par',\n",
       " 'Proust',\n",
       " 'Nombre',\n",
       " 'de',\n",
       " 'page',\n",
       " ':',\n",
       " '700Sculpture',\n",
       " ':',\n",
       " 'La',\n",
       " 'vague',\n",
       " 'par',\n",
       " 'Camille',\n",
       " 'claudel',\n",
       " 'Materiau',\n",
       " ':',\n",
       " 'Bronze',\n",
       " 'et',\n",
       " 'émeraudeSculpture',\n",
       " ':',\n",
       " 'La',\n",
       " 'jeune',\n",
       " 'fille',\n",
       " 'par',\n",
       " 'Camille',\n",
       " 'claudel',\n",
       " 'Materiau',\n",
       " ':',\n",
       " 'MarbreSculpture',\n",
       " ':',\n",
       " 'Le',\n",
       " 'penseur',\n",
       " 'par',\n",
       " 'Auguste',\n",
       " 'rodin',\n",
       " 'Materiau',\n",
       " ':',\n",
       " 'BronzeSculpture',\n",
       " ':',\n",
       " 'Les',\n",
       " 'bourgeois',\n",
       " 'de',\n",
       " 'calais',\n",
       " 'par',\n",
       " 'Auguste',\n",
       " 'rodin',\n",
       " 'Materiau',\n",
       " ':',\n",
       " 'bronze']"
      ]
     },
     "execution_count": 52,
     "metadata": {},
     "output_type": "execute_result"
    }
   ],
   "source": [
    "mots = description.split()\n",
    "mots"
   ]
  },
  {
   "cell_type": "markdown",
   "metadata": {},
   "source": [
    "## 5.3) compter  avec un dictionnaire classique"
   ]
  },
  {
   "cell_type": "code",
   "execution_count": 53,
   "metadata": {},
   "outputs": [],
   "source": [
    "nb_occurence = {}\n",
    "for mot in mots:\n",
    "    if mot not in nb_occurence:\n",
    "        nb_occurence[mot] = 0\n",
    "    nb_occurence[mot] += 1"
   ]
  },
  {
   "cell_type": "code",
   "execution_count": 54,
   "metadata": {},
   "outputs": [
    {
     "data": {
      "text/plain": [
       "{'Livre': 1,\n",
       " ':': 18,\n",
       " 'Guerre': 1,\n",
       " 'et': 2,\n",
       " 'paix': 1,\n",
       " 'par': 9,\n",
       " 'Tolstoi': 3,\n",
       " 'Nombre': 5,\n",
       " 'de': 6,\n",
       " 'page': 5,\n",
       " '2000Livre': 1,\n",
       " 'Anna': 1,\n",
       " 'karénine': 1,\n",
       " '800Livre': 1,\n",
       " 'Enfance': 1,\n",
       " '200Livre': 1,\n",
       " 'Contre': 1,\n",
       " 'sainte': 1,\n",
       " 'beuve': 1,\n",
       " 'Proust': 2,\n",
       " '300Livre': 1,\n",
       " 'La': 3,\n",
       " 'recherche': 1,\n",
       " 'du': 1,\n",
       " 'temps': 1,\n",
       " 'perdu': 1,\n",
       " '700Sculpture': 1,\n",
       " 'vague': 1,\n",
       " 'Camille': 2,\n",
       " 'claudel': 2,\n",
       " 'Materiau': 4,\n",
       " 'Bronze': 1,\n",
       " 'émeraudeSculpture': 1,\n",
       " 'jeune': 1,\n",
       " 'fille': 1,\n",
       " 'MarbreSculpture': 1,\n",
       " 'Le': 1,\n",
       " 'penseur': 1,\n",
       " 'Auguste': 2,\n",
       " 'rodin': 2,\n",
       " 'BronzeSculpture': 1,\n",
       " 'Les': 1,\n",
       " 'bourgeois': 1,\n",
       " 'calais': 1,\n",
       " 'bronze': 1}"
      ]
     },
     "execution_count": 54,
     "metadata": {},
     "output_type": "execute_result"
    }
   ],
   "source": [
    "nb_occurence"
   ]
  },
  {
   "cell_type": "markdown",
   "metadata": {},
   "source": [
    "## 5.3) compter  avec un dictionnaire \"defaultdict\""
   ]
  },
  {
   "cell_type": "code",
   "execution_count": 55,
   "metadata": {},
   "outputs": [
    {
     "data": {
      "text/plain": [
       "defaultdict(<function __main__.<lambda>()>,\n",
       "            {'Livre': 1,\n",
       "             ':': 18,\n",
       "             'Guerre': 1,\n",
       "             'et': 2,\n",
       "             'paix': 1,\n",
       "             'par': 9,\n",
       "             'Tolstoi': 3,\n",
       "             'Nombre': 5,\n",
       "             'de': 6,\n",
       "             'page': 5,\n",
       "             '2000Livre': 1,\n",
       "             'Anna': 1,\n",
       "             'karénine': 1,\n",
       "             '800Livre': 1,\n",
       "             'Enfance': 1,\n",
       "             '200Livre': 1,\n",
       "             'Contre': 1,\n",
       "             'sainte': 1,\n",
       "             'beuve': 1,\n",
       "             'Proust': 2,\n",
       "             '300Livre': 1,\n",
       "             'La': 3,\n",
       "             'recherche': 1,\n",
       "             'du': 1,\n",
       "             'temps': 1,\n",
       "             'perdu': 1,\n",
       "             '700Sculpture': 1,\n",
       "             'vague': 1,\n",
       "             'Camille': 2,\n",
       "             'claudel': 2,\n",
       "             'Materiau': 4,\n",
       "             'Bronze': 1,\n",
       "             'émeraudeSculpture': 1,\n",
       "             'jeune': 1,\n",
       "             'fille': 1,\n",
       "             'MarbreSculpture': 1,\n",
       "             'Le': 1,\n",
       "             'penseur': 1,\n",
       "             'Auguste': 2,\n",
       "             'rodin': 2,\n",
       "             'BronzeSculpture': 1,\n",
       "             'Les': 1,\n",
       "             'bourgeois': 1,\n",
       "             'calais': 1,\n",
       "             'bronze': 1})"
      ]
     },
     "execution_count": 55,
     "metadata": {},
     "output_type": "execute_result"
    }
   ],
   "source": [
    "from collections import defaultdict\n",
    "r = defaultdict(lambda: 0)\n",
    "for mot in mots:\n",
    "    r[mot] += 1\n",
    "r"
   ]
  },
  {
   "cell_type": "markdown",
   "metadata": {},
   "source": [
    "## 5.4) trouver les 5 mots les plus utilisés"
   ]
  },
  {
   "cell_type": "code",
   "execution_count": 56,
   "metadata": {},
   "outputs": [
    {
     "data": {
      "text/plain": [
       "':'"
      ]
     },
     "execution_count": 56,
     "metadata": {},
     "output_type": "execute_result"
    }
   ],
   "source": [
    "# le plus utilisé\n",
    "max(r, key=r.get)"
   ]
  },
  {
   "cell_type": "code",
   "execution_count": 57,
   "metadata": {},
   "outputs": [
    {
     "data": {
      "text/plain": [
       "[':', 'par', 'de', 'Nombre', 'page']"
      ]
     },
     "execution_count": 57,
     "metadata": {},
     "output_type": "execute_result"
    }
   ],
   "source": [
    "top_5 = sorted(r, key=r.get, reverse=True)[:5]\n",
    "top_5"
   ]
  },
  {
   "cell_type": "code",
   "execution_count": 58,
   "metadata": {},
   "outputs": [
    {
     "data": {
      "text/plain": [
       "{':': 18, 'par': 9, 'de': 6, 'Nombre': 5, 'page': 5}"
      ]
     },
     "execution_count": 58,
     "metadata": {},
     "output_type": "execute_result"
    }
   ],
   "source": [
    "dico_top_5 = {mot : r[mot] for mot in top_5}\n",
    "dico_top_5"
   ]
  },
  {
   "cell_type": "markdown",
   "metadata": {},
   "source": [
    "# 6) importer des données depuis nltk (Natural Language Tool Kit)"
   ]
  },
  {
   "cell_type": "code",
   "execution_count": 59,
   "metadata": {},
   "outputs": [],
   "source": [
    "import nltk"
   ]
  },
  {
   "cell_type": "code",
   "execution_count": 60,
   "metadata": {},
   "outputs": [
    {
     "name": "stderr",
     "output_type": "stream",
     "text": [
      "[nltk_data] Downloading package gutenberg to\n",
      "[nltk_data]     /Users/romain/nltk_data...\n",
      "[nltk_data]   Package gutenberg is already up-to-date!\n"
     ]
    },
    {
     "data": {
      "text/plain": [
       "True"
      ]
     },
     "execution_count": 60,
     "metadata": {},
     "output_type": "execute_result"
    }
   ],
   "source": [
    "nltk.download('gutenberg')"
   ]
  },
  {
   "cell_type": "code",
   "execution_count": 61,
   "metadata": {},
   "outputs": [
    {
     "data": {
      "text/plain": [
       "['austen-emma.txt',\n",
       " 'austen-persuasion.txt',\n",
       " 'austen-sense.txt',\n",
       " 'bible-kjv.txt',\n",
       " 'blake-poems.txt',\n",
       " 'bryant-stories.txt',\n",
       " 'burgess-busterbrown.txt',\n",
       " 'carroll-alice.txt',\n",
       " 'chesterton-ball.txt',\n",
       " 'chesterton-brown.txt',\n",
       " 'chesterton-thursday.txt',\n",
       " 'edgeworth-parents.txt',\n",
       " 'melville-moby_dick.txt',\n",
       " 'milton-paradise.txt',\n",
       " 'shakespeare-caesar.txt',\n",
       " 'shakespeare-hamlet.txt',\n",
       " 'shakespeare-macbeth.txt',\n",
       " 'whitman-leaves.txt']"
      ]
     },
     "execution_count": 61,
     "metadata": {},
     "output_type": "execute_result"
    }
   ],
   "source": [
    "textes = nltk.corpus.gutenberg.fileids()\n",
    "textes"
   ]
  },
  {
   "cell_type": "code",
   "execution_count": 62,
   "metadata": {},
   "outputs": [],
   "source": [
    "hamlet = nltk.corpus.gutenberg.words(\"shakespeare-hamlet.txt\")"
   ]
  },
  {
   "cell_type": "code",
   "execution_count": 63,
   "metadata": {},
   "outputs": [
    {
     "name": "stdout",
     "output_type": "stream",
     "text": [
      "['[', 'The', 'Tragedie', 'of', 'Hamlet', 'by', ...]\n"
     ]
    }
   ],
   "source": [
    "print(hamlet)"
   ]
  },
  {
   "cell_type": "code",
   "execution_count": 64,
   "metadata": {},
   "outputs": [
    {
     "data": {
      "text/plain": [
       "\"[ The Tragedie of Hamlet by William Shakespeare 1599 ] Actus Primus . Scoena Prima . Enter Barnardo and Francisco two Centinels . Barnardo . Who ' s there ? Fran . Nay answer me : Stand & vnfold your selfe Bar . Long liue the King Fran . Barnardo ? Bar . He Fran . You come most carefully vpon your houre Bar . ' Tis now strook twelue , get thee to bed Francisco Fran . For this releefe much thankes : ' Tis bitter cold , And I am sicke at heart Barn . Haue you had\""
      ]
     },
     "execution_count": 64,
     "metadata": {},
     "output_type": "execute_result"
    }
   ],
   "source": [
    "\" \".join(hamlet[0:100])\n",
    "    "
   ]
  },
  {
   "cell_type": "markdown",
   "metadata": {},
   "source": [
    "## 6.1) rassembler les noms des textes par auteur dans un dico"
   ]
  },
  {
   "cell_type": "code",
   "execution_count": 65,
   "metadata": {},
   "outputs": [],
   "source": [
    "oeuvres = defaultdict(list)\n",
    "for nom_texte in textes:\n",
    "    auteur, titre = nom_texte[:-4].split(\"-\")\n",
    "    oeuvres[auteur].append(nom_texte)\n",
    "    "
   ]
  },
  {
   "cell_type": "code",
   "execution_count": 66,
   "metadata": {},
   "outputs": [
    {
     "data": {
      "text/plain": [
       "defaultdict(list,\n",
       "            {'austen': ['austen-emma.txt',\n",
       "              'austen-persuasion.txt',\n",
       "              'austen-sense.txt'],\n",
       "             'bible': ['bible-kjv.txt'],\n",
       "             'blake': ['blake-poems.txt'],\n",
       "             'bryant': ['bryant-stories.txt'],\n",
       "             'burgess': ['burgess-busterbrown.txt'],\n",
       "             'carroll': ['carroll-alice.txt'],\n",
       "             'chesterton': ['chesterton-ball.txt',\n",
       "              'chesterton-brown.txt',\n",
       "              'chesterton-thursday.txt'],\n",
       "             'edgeworth': ['edgeworth-parents.txt'],\n",
       "             'melville': ['melville-moby_dick.txt'],\n",
       "             'milton': ['milton-paradise.txt'],\n",
       "             'shakespeare': ['shakespeare-caesar.txt',\n",
       "              'shakespeare-hamlet.txt',\n",
       "              'shakespeare-macbeth.txt'],\n",
       "             'whitman': ['whitman-leaves.txt']})"
      ]
     },
     "execution_count": 66,
     "metadata": {},
     "output_type": "execute_result"
    }
   ],
   "source": [
    "oeuvres"
   ]
  },
  {
   "cell_type": "markdown",
   "metadata": {},
   "source": [
    "# 6.2) trouver les mots les plus utilisés pour chaque auteur"
   ]
  },
  {
   "cell_type": "code",
   "execution_count": 67,
   "metadata": {},
   "outputs": [
    {
     "name": "stdout",
     "output_type": "stream",
     "text": [
      "austen ['austen-emma.txt', 'austen-persuasion.txt', 'austen-sense.txt']\n",
      "bible ['bible-kjv.txt']\n",
      "blake ['blake-poems.txt']\n",
      "bryant ['bryant-stories.txt']\n",
      "burgess ['burgess-busterbrown.txt']\n",
      "carroll ['carroll-alice.txt']\n",
      "chesterton ['chesterton-ball.txt', 'chesterton-brown.txt', 'chesterton-thursday.txt']\n",
      "edgeworth ['edgeworth-parents.txt']\n",
      "melville ['melville-moby_dick.txt']\n",
      "milton ['milton-paradise.txt']\n",
      "shakespeare ['shakespeare-caesar.txt', 'shakespeare-hamlet.txt', 'shakespeare-macbeth.txt']\n",
      "whitman ['whitman-leaves.txt']\n"
     ]
    }
   ],
   "source": [
    "top_mot = {}\n",
    "for auteur, liste_de_textes in oeuvres.items():\n",
    "    print(auteur, liste_de_textes)\n",
    "    textes  = [\" \".join(nltk.corpus.gutenberg.words(texte)) for texte in liste_de_textes]\n",
    "    contenu = \" \".join(textes)\n",
    "    compte  = defaultdict(lambda: 0)\n",
    "    for mot in contenu.split(): compte[mot] += 1    \n",
    "    top_mot[auteur] = sorted(compte, key=compte.get, reverse=True)[:10]"
   ]
  },
  {
   "cell_type": "code",
   "execution_count": 68,
   "metadata": {},
   "outputs": [
    {
     "data": {
      "text/plain": [
       "{'austen': [',', '.', 'to', 'the', 'and', 'of', 'a', 'I', 'her', 'was'],\n",
       " 'bible': [',', 'the', ':', 'and', 'of', '.', 'to', 'And', 'that', 'in'],\n",
       " 'blake': [',', 'the', '.', 'And', 'and', 'of', 'I', 'in', 'a', \"'\"],\n",
       " 'bryant': [',', 'the', 'and', '.', 'to', 'a', '\"', 'he', 'of', 'was'],\n",
       " 'burgess': ['.', ',', 'the', 'he', 'and', 'to', \"'\", 'of', 'that', 'a'],\n",
       " 'carroll': [',', \"'\", 'the', 'and', '.', 'to', 'a', 'I', 'it', 'she'],\n",
       " 'chesterton': ['the', ',', '.', 'of', 'and', 'a', '\"', 'to', 'in', 'I'],\n",
       " 'edgeworth': [',', 'the', '.', 'to', 'and', '\"', 'of', 'I', \"'\", 'a'],\n",
       " 'melville': [',', 'the', '.', 'of', 'and', 'a', 'to', ';', 'in', 'that'],\n",
       " 'milton': [',', 'and', 'the', ';', 'to', 'of', '.', 'in', 'his', 'with'],\n",
       " 'shakespeare': [',', '.', 'the', \"'\", ':', 'I', 'and', 'to', 'of', 'you'],\n",
       " 'whitman': [',', 'the', 'and', 'of', 'I', \"'\", 'to', '-', '.', 'in']}"
      ]
     },
     "execution_count": 68,
     "metadata": {},
     "output_type": "execute_result"
    }
   ],
   "source": [
    "top_mot"
   ]
  },
  {
   "cell_type": "code",
   "execution_count": 69,
   "metadata": {},
   "outputs": [],
   "source": [
    "import pandas as pd"
   ]
  },
  {
   "cell_type": "code",
   "execution_count": 70,
   "metadata": {},
   "outputs": [
    {
     "data": {
      "text/html": [
       "<div>\n",
       "<style scoped>\n",
       "    .dataframe tbody tr th:only-of-type {\n",
       "        vertical-align: middle;\n",
       "    }\n",
       "\n",
       "    .dataframe tbody tr th {\n",
       "        vertical-align: top;\n",
       "    }\n",
       "\n",
       "    .dataframe thead th {\n",
       "        text-align: right;\n",
       "    }\n",
       "</style>\n",
       "<table border=\"1\" class=\"dataframe\">\n",
       "  <thead>\n",
       "    <tr style=\"text-align: right;\">\n",
       "      <th></th>\n",
       "      <th>austen</th>\n",
       "      <th>bible</th>\n",
       "      <th>blake</th>\n",
       "      <th>bryant</th>\n",
       "      <th>burgess</th>\n",
       "      <th>carroll</th>\n",
       "      <th>chesterton</th>\n",
       "      <th>edgeworth</th>\n",
       "      <th>melville</th>\n",
       "      <th>milton</th>\n",
       "      <th>shakespeare</th>\n",
       "      <th>whitman</th>\n",
       "    </tr>\n",
       "  </thead>\n",
       "  <tbody>\n",
       "    <tr>\n",
       "      <th>0</th>\n",
       "      <td>,</td>\n",
       "      <td>,</td>\n",
       "      <td>,</td>\n",
       "      <td>,</td>\n",
       "      <td>.</td>\n",
       "      <td>,</td>\n",
       "      <td>the</td>\n",
       "      <td>,</td>\n",
       "      <td>,</td>\n",
       "      <td>,</td>\n",
       "      <td>,</td>\n",
       "      <td>,</td>\n",
       "    </tr>\n",
       "    <tr>\n",
       "      <th>1</th>\n",
       "      <td>.</td>\n",
       "      <td>the</td>\n",
       "      <td>the</td>\n",
       "      <td>the</td>\n",
       "      <td>,</td>\n",
       "      <td>'</td>\n",
       "      <td>,</td>\n",
       "      <td>the</td>\n",
       "      <td>the</td>\n",
       "      <td>and</td>\n",
       "      <td>.</td>\n",
       "      <td>the</td>\n",
       "    </tr>\n",
       "    <tr>\n",
       "      <th>2</th>\n",
       "      <td>to</td>\n",
       "      <td>:</td>\n",
       "      <td>.</td>\n",
       "      <td>and</td>\n",
       "      <td>the</td>\n",
       "      <td>the</td>\n",
       "      <td>.</td>\n",
       "      <td>.</td>\n",
       "      <td>.</td>\n",
       "      <td>the</td>\n",
       "      <td>the</td>\n",
       "      <td>and</td>\n",
       "    </tr>\n",
       "    <tr>\n",
       "      <th>3</th>\n",
       "      <td>the</td>\n",
       "      <td>and</td>\n",
       "      <td>And</td>\n",
       "      <td>.</td>\n",
       "      <td>he</td>\n",
       "      <td>and</td>\n",
       "      <td>of</td>\n",
       "      <td>to</td>\n",
       "      <td>of</td>\n",
       "      <td>;</td>\n",
       "      <td>'</td>\n",
       "      <td>of</td>\n",
       "    </tr>\n",
       "    <tr>\n",
       "      <th>4</th>\n",
       "      <td>and</td>\n",
       "      <td>of</td>\n",
       "      <td>and</td>\n",
       "      <td>to</td>\n",
       "      <td>and</td>\n",
       "      <td>.</td>\n",
       "      <td>and</td>\n",
       "      <td>and</td>\n",
       "      <td>and</td>\n",
       "      <td>to</td>\n",
       "      <td>:</td>\n",
       "      <td>I</td>\n",
       "    </tr>\n",
       "    <tr>\n",
       "      <th>5</th>\n",
       "      <td>of</td>\n",
       "      <td>.</td>\n",
       "      <td>of</td>\n",
       "      <td>a</td>\n",
       "      <td>to</td>\n",
       "      <td>to</td>\n",
       "      <td>a</td>\n",
       "      <td>\"</td>\n",
       "      <td>a</td>\n",
       "      <td>of</td>\n",
       "      <td>I</td>\n",
       "      <td>'</td>\n",
       "    </tr>\n",
       "    <tr>\n",
       "      <th>6</th>\n",
       "      <td>a</td>\n",
       "      <td>to</td>\n",
       "      <td>I</td>\n",
       "      <td>\"</td>\n",
       "      <td>'</td>\n",
       "      <td>a</td>\n",
       "      <td>\"</td>\n",
       "      <td>of</td>\n",
       "      <td>to</td>\n",
       "      <td>.</td>\n",
       "      <td>and</td>\n",
       "      <td>to</td>\n",
       "    </tr>\n",
       "    <tr>\n",
       "      <th>7</th>\n",
       "      <td>I</td>\n",
       "      <td>And</td>\n",
       "      <td>in</td>\n",
       "      <td>he</td>\n",
       "      <td>of</td>\n",
       "      <td>I</td>\n",
       "      <td>to</td>\n",
       "      <td>I</td>\n",
       "      <td>;</td>\n",
       "      <td>in</td>\n",
       "      <td>to</td>\n",
       "      <td>-</td>\n",
       "    </tr>\n",
       "    <tr>\n",
       "      <th>8</th>\n",
       "      <td>her</td>\n",
       "      <td>that</td>\n",
       "      <td>a</td>\n",
       "      <td>of</td>\n",
       "      <td>that</td>\n",
       "      <td>it</td>\n",
       "      <td>in</td>\n",
       "      <td>'</td>\n",
       "      <td>in</td>\n",
       "      <td>his</td>\n",
       "      <td>of</td>\n",
       "      <td>.</td>\n",
       "    </tr>\n",
       "    <tr>\n",
       "      <th>9</th>\n",
       "      <td>was</td>\n",
       "      <td>in</td>\n",
       "      <td>'</td>\n",
       "      <td>was</td>\n",
       "      <td>a</td>\n",
       "      <td>she</td>\n",
       "      <td>I</td>\n",
       "      <td>a</td>\n",
       "      <td>that</td>\n",
       "      <td>with</td>\n",
       "      <td>you</td>\n",
       "      <td>in</td>\n",
       "    </tr>\n",
       "  </tbody>\n",
       "</table>\n",
       "</div>"
      ],
      "text/plain": [
       "  austen bible blake bryant burgess carroll chesterton edgeworth melville  \\\n",
       "0      ,     ,     ,      ,       .       ,        the         ,        ,   \n",
       "1      .   the   the    the       ,       '          ,       the      the   \n",
       "2     to     :     .    and     the     the          .         .        .   \n",
       "3    the   and   And      .      he     and         of        to       of   \n",
       "4    and    of   and     to     and       .        and       and      and   \n",
       "5     of     .    of      a      to      to          a         \"        a   \n",
       "6      a    to     I      \"       '       a          \"        of       to   \n",
       "7      I   And    in     he      of       I         to         I        ;   \n",
       "8    her  that     a     of    that      it         in         '       in   \n",
       "9    was    in     '    was       a     she          I         a     that   \n",
       "\n",
       "  milton shakespeare whitman  \n",
       "0      ,           ,       ,  \n",
       "1    and           .     the  \n",
       "2    the         the     and  \n",
       "3      ;           '      of  \n",
       "4     to           :       I  \n",
       "5     of           I       '  \n",
       "6      .         and      to  \n",
       "7     in          to       -  \n",
       "8    his          of       .  \n",
       "9   with         you      in  "
      ]
     },
     "execution_count": 70,
     "metadata": {},
     "output_type": "execute_result"
    }
   ],
   "source": [
    "pd.DataFrame(top_mot)"
   ]
  },
  {
   "cell_type": "markdown",
   "metadata": {},
   "source": [
    "## 6.3) suppression des mots de moins de 5 lettres"
   ]
  },
  {
   "cell_type": "code",
   "execution_count": 71,
   "metadata": {},
   "outputs": [
    {
     "name": "stdout",
     "output_type": "stream",
     "text": [
      "austen ['austen-emma.txt', 'austen-persuasion.txt', 'austen-sense.txt']\n",
      "bible ['bible-kjv.txt']\n",
      "blake ['blake-poems.txt']\n",
      "bryant ['bryant-stories.txt']\n",
      "burgess ['burgess-busterbrown.txt']\n",
      "carroll ['carroll-alice.txt']\n",
      "chesterton ['chesterton-ball.txt', 'chesterton-brown.txt', 'chesterton-thursday.txt']\n",
      "edgeworth ['edgeworth-parents.txt']\n",
      "melville ['melville-moby_dick.txt']\n",
      "milton ['milton-paradise.txt']\n",
      "shakespeare ['shakespeare-caesar.txt', 'shakespeare-hamlet.txt', 'shakespeare-macbeth.txt']\n",
      "whitman ['whitman-leaves.txt']\n"
     ]
    }
   ],
   "source": [
    "top_mot_par_auteur = {}\n",
    "for auteur, liste_de_textes in oeuvres.items():\n",
    "    print(auteur, liste_de_textes)\n",
    "    textes  = [\" \".join(nltk.corpus.gutenberg.words(texte)) for texte in liste_de_textes]\n",
    "    contenu = \" \".join(textes)\n",
    "    mots    = contenu.split()\n",
    "    mots    = [mot for mot in mots if 5<=len(mot)]\n",
    "    compte  = defaultdict(lambda: 0)\n",
    "    for mot in mots: compte[mot] += 1    \n",
    "    top_mot_par_auteur[auteur] = sorted(compte, key=compte.get, reverse=True)[:1000]"
   ]
  },
  {
   "cell_type": "markdown",
   "metadata": {},
   "source": [
    "## 6.3.1) on peut mettre le tout dans une df"
   ]
  },
  {
   "cell_type": "code",
   "execution_count": 72,
   "metadata": {},
   "outputs": [],
   "source": [
    "import pandas as pd"
   ]
  },
  {
   "cell_type": "code",
   "execution_count": 73,
   "metadata": {},
   "outputs": [
    {
     "data": {
      "text/html": [
       "<div>\n",
       "<style scoped>\n",
       "    .dataframe tbody tr th:only-of-type {\n",
       "        vertical-align: middle;\n",
       "    }\n",
       "\n",
       "    .dataframe tbody tr th {\n",
       "        vertical-align: top;\n",
       "    }\n",
       "\n",
       "    .dataframe thead th {\n",
       "        text-align: right;\n",
       "    }\n",
       "</style>\n",
       "<table border=\"1\" class=\"dataframe\">\n",
       "  <thead>\n",
       "    <tr style=\"text-align: right;\">\n",
       "      <th></th>\n",
       "      <th>austen</th>\n",
       "      <th>bible</th>\n",
       "      <th>blake</th>\n",
       "      <th>bryant</th>\n",
       "      <th>burgess</th>\n",
       "      <th>carroll</th>\n",
       "      <th>chesterton</th>\n",
       "      <th>edgeworth</th>\n",
       "      <th>melville</th>\n",
       "      <th>milton</th>\n",
       "      <th>shakespeare</th>\n",
       "      <th>whitman</th>\n",
       "    </tr>\n",
       "  </thead>\n",
       "  <tbody>\n",
       "    <tr>\n",
       "      <th>414</th>\n",
       "      <td>confidence</td>\n",
       "      <td>morrow</td>\n",
       "      <td>cheerful</td>\n",
       "      <td>beauty</td>\n",
       "      <td>forward</td>\n",
       "      <td>alone</td>\n",
       "      <td>Roman</td>\n",
       "      <td>looks</td>\n",
       "      <td>sideways</td>\n",
       "      <td>guile</td>\n",
       "      <td>bound</td>\n",
       "      <td>coffin</td>\n",
       "    </tr>\n",
       "    <tr>\n",
       "      <th>657</th>\n",
       "      <td>severe</td>\n",
       "      <td>coast</td>\n",
       "      <td>slender</td>\n",
       "      <td>jacket</td>\n",
       "      <td>enjoys</td>\n",
       "      <td>unfortunate</td>\n",
       "      <td>neither</td>\n",
       "      <td>famous</td>\n",
       "      <td>children</td>\n",
       "      <td>foretold</td>\n",
       "      <td>nights</td>\n",
       "      <td>lightning</td>\n",
       "    </tr>\n",
       "    <tr>\n",
       "      <th>890</th>\n",
       "      <td>amused</td>\n",
       "      <td>forgotten</td>\n",
       "      <td>shakes</td>\n",
       "      <td>Until</td>\n",
       "      <td>surprising</td>\n",
       "      <td>sneeze</td>\n",
       "      <td>meaning</td>\n",
       "      <td>choice</td>\n",
       "      <td>spirit</td>\n",
       "      <td>absolute</td>\n",
       "      <td>force</td>\n",
       "      <td>feeding</td>\n",
       "    </tr>\n",
       "    <tr>\n",
       "      <th>142</th>\n",
       "      <td>brought</td>\n",
       "      <td>written</td>\n",
       "      <td>Father</td>\n",
       "      <td>against</td>\n",
       "      <td>wrong</td>\n",
       "      <td>walked</td>\n",
       "      <td>opened</td>\n",
       "      <td>Price</td>\n",
       "      <td>mouth</td>\n",
       "      <td>returned</td>\n",
       "      <td>sight</td>\n",
       "      <td>sight</td>\n",
       "    </tr>\n",
       "    <tr>\n",
       "      <th>992</th>\n",
       "      <td>distant</td>\n",
       "      <td>compassion</td>\n",
       "      <td>butterfly</td>\n",
       "      <td>blood</td>\n",
       "      <td>enjoyment</td>\n",
       "      <td>recovered</td>\n",
       "      <td>master</td>\n",
       "      <td>broth</td>\n",
       "      <td>swallowed</td>\n",
       "      <td>delightful</td>\n",
       "      <td>peepe</td>\n",
       "      <td>steamers</td>\n",
       "    </tr>\n",
       "    <tr>\n",
       "      <th>959</th>\n",
       "      <td>Devonshire</td>\n",
       "      <td>finished</td>\n",
       "      <td>fiery</td>\n",
       "      <td>satisfied</td>\n",
       "      <td>Seems</td>\n",
       "      <td>quarrelling</td>\n",
       "      <td>Europe</td>\n",
       "      <td>carrying</td>\n",
       "      <td>buried</td>\n",
       "      <td>visible</td>\n",
       "      <td>Water</td>\n",
       "      <td>worthy</td>\n",
       "    </tr>\n",
       "    <tr>\n",
       "      <th>619</th>\n",
       "      <td>painful</td>\n",
       "      <td>golden</td>\n",
       "      <td>freeze</td>\n",
       "      <td>sceptre</td>\n",
       "      <td>tiptoed</td>\n",
       "      <td>letter</td>\n",
       "      <td>noticed</td>\n",
       "      <td>street</td>\n",
       "      <td>leaves</td>\n",
       "      <td>adore</td>\n",
       "      <td>Things</td>\n",
       "      <td>nation</td>\n",
       "    </tr>\n",
       "    <tr>\n",
       "      <th>727</th>\n",
       "      <td>drawn</td>\n",
       "      <td>slaughter</td>\n",
       "      <td>seize</td>\n",
       "      <td>winter</td>\n",
       "      <td>Merry</td>\n",
       "      <td>forgot</td>\n",
       "      <td>rushed</td>\n",
       "      <td>showing</td>\n",
       "      <td>laugh</td>\n",
       "      <td>midnight</td>\n",
       "      <td>doore</td>\n",
       "      <td>daybreak</td>\n",
       "    </tr>\n",
       "    <tr>\n",
       "      <th>381</th>\n",
       "      <td>delightful</td>\n",
       "      <td>prayer</td>\n",
       "      <td>breathing</td>\n",
       "      <td>prayer</td>\n",
       "      <td>years</td>\n",
       "      <td>flamingo</td>\n",
       "      <td>killed</td>\n",
       "      <td>gipsy</td>\n",
       "      <td>sides</td>\n",
       "      <td>coast</td>\n",
       "      <td>Maiesty</td>\n",
       "      <td>shadows</td>\n",
       "    </tr>\n",
       "    <tr>\n",
       "      <th>113</th>\n",
       "      <td>often</td>\n",
       "      <td>kings</td>\n",
       "      <td>garden</td>\n",
       "      <td>light</td>\n",
       "      <td>almost</td>\n",
       "      <td>finished</td>\n",
       "      <td>window</td>\n",
       "      <td>Lawrence</td>\n",
       "      <td>least</td>\n",
       "      <td>Against</td>\n",
       "      <td>Cinna</td>\n",
       "      <td>himself</td>\n",
       "    </tr>\n",
       "  </tbody>\n",
       "</table>\n",
       "</div>"
      ],
      "text/plain": [
       "         austen       bible      blake     bryant     burgess      carroll  \\\n",
       "414  confidence      morrow   cheerful     beauty     forward        alone   \n",
       "657      severe       coast    slender     jacket      enjoys  unfortunate   \n",
       "890      amused   forgotten     shakes      Until  surprising       sneeze   \n",
       "142     brought     written     Father    against       wrong       walked   \n",
       "992     distant  compassion  butterfly      blood   enjoyment    recovered   \n",
       "959  Devonshire    finished      fiery  satisfied       Seems  quarrelling   \n",
       "619     painful      golden     freeze    sceptre     tiptoed       letter   \n",
       "727       drawn   slaughter      seize     winter       Merry       forgot   \n",
       "381  delightful      prayer  breathing     prayer       years     flamingo   \n",
       "113       often       kings     garden      light      almost     finished   \n",
       "\n",
       "    chesterton edgeworth   melville      milton shakespeare    whitman  \n",
       "414      Roman     looks   sideways       guile       bound     coffin  \n",
       "657    neither    famous   children    foretold      nights  lightning  \n",
       "890    meaning    choice     spirit    absolute       force    feeding  \n",
       "142     opened     Price      mouth    returned       sight      sight  \n",
       "992     master     broth  swallowed  delightful       peepe   steamers  \n",
       "959     Europe  carrying     buried     visible       Water     worthy  \n",
       "619    noticed    street     leaves       adore      Things     nation  \n",
       "727     rushed   showing      laugh    midnight       doore   daybreak  \n",
       "381     killed     gipsy      sides       coast     Maiesty    shadows  \n",
       "113     window  Lawrence      least     Against       Cinna    himself  "
      ]
     },
     "execution_count": 73,
     "metadata": {},
     "output_type": "execute_result"
    }
   ],
   "source": [
    "df = pd.DataFrame(top_mot_par_auteur)\n",
    "df.sample(10)"
   ]
  },
  {
   "cell_type": "markdown",
   "metadata": {},
   "source": [
    "## 6.4) Cherchons l'auteur le plus signifiant pour un texte donné"
   ]
  },
  {
   "cell_type": "markdown",
   "metadata": {},
   "source": [
    "### 6.4.1) industrialisons du top avec une fonction"
   ]
  },
  {
   "cell_type": "code",
   "execution_count": 74,
   "metadata": {},
   "outputs": [],
   "source": [
    "def get_top_mot(texte, longueur_mini, nombre_de_top):\n",
    "    \"\"\"\n",
    "    Renvoie la liste des mots les plus présents.\n",
    "    \"\"\"\n",
    "    mots    = [mot for mot in texte.split() if longueur_mini<=len(mot)]\n",
    "    compte  = defaultdict(lambda: 0)\n",
    "    for mot in mots: \n",
    "        compte[mot] += 1    \n",
    "    tops     =  sorted(compte, key=compte.get, reverse=True)[:nombre_de_top]\n",
    "    return tops"
   ]
  },
  {
   "cell_type": "markdown",
   "metadata": {},
   "source": [
    "### 6.4.2) Test sur macbeth"
   ]
  },
  {
   "cell_type": "code",
   "execution_count": 75,
   "metadata": {},
   "outputs": [
    {
     "data": {
      "text/plain": [
       "['Enter',\n",
       " 'Macbeth',\n",
       " 'their',\n",
       " 'Rosse',\n",
       " 'shall',\n",
       " 'which',\n",
       " 'would',\n",
       " 'should',\n",
       " 'Banquo',\n",
       " 'Which',\n",
       " 'selfe',\n",
       " 'there',\n",
       " 'Exeunt',\n",
       " 'Lenox',\n",
       " 'feare',\n",
       " 'Night',\n",
       " 'Thane',\n",
       " 'speake',\n",
       " 'great',\n",
       " 'Where',\n",
       " 'Scena',\n",
       " 'againe',\n",
       " 'There',\n",
       " 'these',\n",
       " 'Cawdor',\n",
       " 'Shall',\n",
       " 'things',\n",
       " 'before',\n",
       " 'Nature',\n",
       " 'cannot',\n",
       " 'those',\n",
       " 'Macduffe',\n",
       " 'still',\n",
       " 'heere',\n",
       " 'looke',\n",
       " 'where',\n",
       " 'sleepe',\n",
       " 'Father',\n",
       " 'other',\n",
       " 'downe',\n",
       " 'blood',\n",
       " 'borne',\n",
       " 'could',\n",
       " 'heare',\n",
       " 'worthy',\n",
       " 'euery',\n",
       " 'thought',\n",
       " 'Knock',\n",
       " 'three',\n",
       " 'leaue',\n",
       " 'strange',\n",
       " 'Noble',\n",
       " 'about',\n",
       " 'Malcolme',\n",
       " 'heart',\n",
       " 'poore',\n",
       " 'within',\n",
       " 'bloody',\n",
       " 'Scotland',\n",
       " 'nothing',\n",
       " 'thinke',\n",
       " 'Heauen',\n",
       " 'neuer',\n",
       " 'place',\n",
       " 'comes',\n",
       " 'beene',\n",
       " 'without',\n",
       " 'Though',\n",
       " 'Kings',\n",
       " 'Would',\n",
       " 'finde',\n",
       " 'keepe',\n",
       " 'Death',\n",
       " 'Sword',\n",
       " 'first',\n",
       " 'Honor',\n",
       " 'haile',\n",
       " 'sight',\n",
       " 'beare',\n",
       " 'welcome',\n",
       " 'Duncan',\n",
       " 'morrow',\n",
       " 'Seruant',\n",
       " 'Seyward',\n",
       " 'Thunder',\n",
       " 'report',\n",
       " 'hands',\n",
       " 'words',\n",
       " 'against',\n",
       " 'death',\n",
       " 'thine',\n",
       " 'Royall',\n",
       " 'liues',\n",
       " 'lesse',\n",
       " 'Whose',\n",
       " 'Highnesse',\n",
       " 'hence',\n",
       " 'further',\n",
       " 'being',\n",
       " 'peace',\n",
       " 'Macduff',\n",
       " 'Heere',\n",
       " 'houre',\n",
       " 'Blood',\n",
       " 'fight',\n",
       " 'Murth',\n",
       " 'Fleans',\n",
       " 'Tyrant',\n",
       " 'Witches',\n",
       " 'double',\n",
       " 'Looke',\n",
       " 'Children',\n",
       " 'thing',\n",
       " 'knowne',\n",
       " 'Nights',\n",
       " 'Businesse',\n",
       " 'night',\n",
       " 'heard',\n",
       " 'murther',\n",
       " 'stand',\n",
       " 'Lords',\n",
       " 'England',\n",
       " 'Friends',\n",
       " 'Sonne',\n",
       " 'Feare',\n",
       " 'Doctor',\n",
       " 'Dunsinane',\n",
       " 'Donalbaine',\n",
       " 'himselfe',\n",
       " 'Sleepe',\n",
       " 'Sisters',\n",
       " 'seeme',\n",
       " 'Grace',\n",
       " 'breath',\n",
       " 'vnder',\n",
       " 'giuen',\n",
       " 'enough',\n",
       " 'onely',\n",
       " 'Light',\n",
       " 'comming',\n",
       " 'false',\n",
       " 'rather',\n",
       " 'thoughts',\n",
       " 'trouble',\n",
       " 'Daggers',\n",
       " 'knocking',\n",
       " 'knowes',\n",
       " 'woman',\n",
       " 'through',\n",
       " 'Alarum',\n",
       " 'Angus',\n",
       " 'Great',\n",
       " 'present',\n",
       " 'Master',\n",
       " 'seene',\n",
       " 'shalt',\n",
       " 'truth',\n",
       " 'withall',\n",
       " 'though',\n",
       " 'Murther',\n",
       " 'forth',\n",
       " 'deepe',\n",
       " 'throw',\n",
       " 'themselues',\n",
       " 'Thanes',\n",
       " 'mortall',\n",
       " 'Tongue',\n",
       " 'Messenger',\n",
       " 'please',\n",
       " 'Natures',\n",
       " 'House',\n",
       " 'little',\n",
       " 'English',\n",
       " 'Those',\n",
       " 'Colours',\n",
       " 'better',\n",
       " 'Tyrants',\n",
       " 'Seyton',\n",
       " 'Actus',\n",
       " 'Prima',\n",
       " 'faire',\n",
       " 'Secunda',\n",
       " 'together',\n",
       " 'Fortune',\n",
       " 'comfort',\n",
       " 'another',\n",
       " 'helpe',\n",
       " 'terrible',\n",
       " 'former',\n",
       " 'Title',\n",
       " 'Tertia',\n",
       " 'Husband',\n",
       " 'Charme',\n",
       " 'farre',\n",
       " 'Earth',\n",
       " 'sound',\n",
       " 'indeed',\n",
       " 'Water',\n",
       " 'Onely',\n",
       " 'Crowne',\n",
       " 'harme',\n",
       " 'honest',\n",
       " 'Heart',\n",
       " 'Against',\n",
       " 'whose',\n",
       " 'toward',\n",
       " 'Flourish',\n",
       " 'Attendants',\n",
       " 'hither',\n",
       " 'sorrow',\n",
       " 'Sonnes',\n",
       " 'feares',\n",
       " 'perfect',\n",
       " 'desire',\n",
       " 'might',\n",
       " 'powre',\n",
       " 'Spirits',\n",
       " 'almost',\n",
       " 'purpose',\n",
       " 'makes',\n",
       " 'darke',\n",
       " 'innocent',\n",
       " 'gentle',\n",
       " 'Hostesse',\n",
       " 'returne',\n",
       " 'while',\n",
       " 'dayes',\n",
       " 'Their',\n",
       " 'Bring',\n",
       " 'Chamber',\n",
       " 'Minde',\n",
       " 'horror',\n",
       " 'Hearke',\n",
       " 'Feast',\n",
       " 'Porter',\n",
       " 'Faith',\n",
       " 'command',\n",
       " 'shake',\n",
       " 'thence',\n",
       " 'selues',\n",
       " 'neere',\n",
       " 'Within',\n",
       " 'Horses',\n",
       " 'certaine',\n",
       " 'slaine',\n",
       " 'meanes',\n",
       " 'cause',\n",
       " 'gracious',\n",
       " 'worst',\n",
       " 'power',\n",
       " 'Country',\n",
       " 'Cauldron',\n",
       " 'Mother',\n",
       " 'Soldiers',\n",
       " 'foule',\n",
       " 'meeting',\n",
       " 'Souldier',\n",
       " 'Haile',\n",
       " 'stood',\n",
       " 'valiant',\n",
       " 'whence',\n",
       " 'become',\n",
       " 'seemes',\n",
       " 'people',\n",
       " 'thousand',\n",
       " 'generall',\n",
       " 'thither',\n",
       " 'times',\n",
       " 'Drumme',\n",
       " 'Speake',\n",
       " 'Glamis',\n",
       " 'Things',\n",
       " 'hauing',\n",
       " 'vanish',\n",
       " 'takes',\n",
       " 'Nothing',\n",
       " 'thanks',\n",
       " 'Deuill',\n",
       " 'heauie',\n",
       " 'Whether',\n",
       " 'labour',\n",
       " 'Glamys',\n",
       " 'Thankes',\n",
       " 'paines',\n",
       " 'thanke',\n",
       " 'Gentlemen',\n",
       " 'yeeld',\n",
       " 'Honors',\n",
       " 'Braine',\n",
       " 'wrought',\n",
       " 'Quarta',\n",
       " 'spoke',\n",
       " 'dearest',\n",
       " 'receiue',\n",
       " 'Throne',\n",
       " 'State',\n",
       " 'Seruants',\n",
       " 'black',\n",
       " 'after',\n",
       " 'Macbeths',\n",
       " 'alone',\n",
       " 'feele',\n",
       " 'Castle',\n",
       " 'Heauens',\n",
       " 'breed',\n",
       " 'pleasure',\n",
       " 'Graces',\n",
       " 'sides',\n",
       " 'since',\n",
       " 'Fleance',\n",
       " 'giues',\n",
       " 'spend',\n",
       " 'drinke',\n",
       " 'strike',\n",
       " 'worth',\n",
       " 'second',\n",
       " 'bring',\n",
       " 'Knocke',\n",
       " 'shame',\n",
       " 'remember',\n",
       " 'Drinke',\n",
       " 'strong',\n",
       " 'young',\n",
       " 'cruell',\n",
       " 'violent',\n",
       " 'Murtherers',\n",
       " 'Horse',\n",
       " 'swift',\n",
       " 'Enemie',\n",
       " 'flight',\n",
       " 'Court',\n",
       " 'touch',\n",
       " 'Scaena',\n",
       " 'round',\n",
       " 'often',\n",
       " 'backe',\n",
       " 'worse',\n",
       " 'scorne',\n",
       " 'burne',\n",
       " 'bubble',\n",
       " 'speech',\n",
       " 'Appar',\n",
       " 'Childe',\n",
       " 'speak',\n",
       " 'Traitor',\n",
       " 'doubt',\n",
       " 'Villaine',\n",
       " 'griefe',\n",
       " 'minde',\n",
       " 'Byrnane',\n",
       " 'Alarums',\n",
       " 'Sunne',\n",
       " 'newest',\n",
       " 'state',\n",
       " 'friend',\n",
       " 'knowledge',\n",
       " 'Kernes',\n",
       " 'execution',\n",
       " 'Slaue',\n",
       " 'Gentleman',\n",
       " 'Iustice',\n",
       " 'Valour',\n",
       " 'trust',\n",
       " 'Norweyan',\n",
       " 'charg',\n",
       " 'dismall',\n",
       " 'pronounce',\n",
       " 'mouncht',\n",
       " 'Winde',\n",
       " 'house',\n",
       " 'weyward',\n",
       " 'Thrice',\n",
       " 'wilde',\n",
       " 'question',\n",
       " 'Women',\n",
       " 'hereafter',\n",
       " 'start',\n",
       " 'Partner',\n",
       " 'Hayle',\n",
       " 'happy',\n",
       " 'Stands',\n",
       " 'charge',\n",
       " 'Reason',\n",
       " 'successe',\n",
       " 'contend',\n",
       " 'Strange',\n",
       " 'thick',\n",
       " 'loose',\n",
       " 'Might',\n",
       " 'Instruments',\n",
       " 'horrid',\n",
       " 'Feares',\n",
       " 'single',\n",
       " 'Chance',\n",
       " 'Without',\n",
       " 'leysure',\n",
       " 'Liege',\n",
       " 'absolute',\n",
       " 'seruice',\n",
       " 'shine',\n",
       " 'approach',\n",
       " 'Quinta',\n",
       " 'Whiles',\n",
       " 'Greatnesse',\n",
       " 'promis',\n",
       " 'Milke',\n",
       " 'catch',\n",
       " 'Ambition',\n",
       " 'Golden',\n",
       " 'fatall',\n",
       " 'dispatch',\n",
       " 'Dayes',\n",
       " 'Sexta',\n",
       " 'Hoboyes',\n",
       " 'sometime',\n",
       " 'point',\n",
       " 'broad',\n",
       " 'towards',\n",
       " 'Stage',\n",
       " 'quickly',\n",
       " 'Bloody',\n",
       " 'Duncane',\n",
       " 'Office',\n",
       " 'taking',\n",
       " 'soone',\n",
       " 'affear',\n",
       " 'dares',\n",
       " 'breake',\n",
       " 'performe',\n",
       " 'Torch',\n",
       " 'ready',\n",
       " 'Dagger',\n",
       " 'halfe',\n",
       " 'World',\n",
       " 'Ghost',\n",
       " 'firme',\n",
       " 'Heare',\n",
       " 'walke',\n",
       " 'rings',\n",
       " 'Groomes',\n",
       " 'misse',\n",
       " 'noyse',\n",
       " 'laugh',\n",
       " 'Prayers',\n",
       " 'wayes',\n",
       " 'meane',\n",
       " 'strength',\n",
       " 'sickly',\n",
       " 'bleed',\n",
       " 'Faces',\n",
       " 'Hands',\n",
       " 'weare',\n",
       " 'easie',\n",
       " 'least',\n",
       " 'Equiuocator',\n",
       " 'Treason',\n",
       " 'beleeue',\n",
       " 'remembrance',\n",
       " 'broke',\n",
       " 'awake',\n",
       " 'meere',\n",
       " 'found',\n",
       " 'moment',\n",
       " 'spoken',\n",
       " 'Sorrow',\n",
       " 'suffer',\n",
       " 'Mallice',\n",
       " 'vnnaturall',\n",
       " 'Duncans',\n",
       " 'Obedience',\n",
       " 'Warre',\n",
       " 'world',\n",
       " 'Scone',\n",
       " 'Supper',\n",
       " 'duties',\n",
       " 'Attend',\n",
       " 'Pallace',\n",
       " 'Issue',\n",
       " 'Graue',\n",
       " 'loues',\n",
       " 'sundry',\n",
       " 'something',\n",
       " 'keepes',\n",
       " 'Soules',\n",
       " 'Thoughts',\n",
       " 'close',\n",
       " 'applaud',\n",
       " 'Almost',\n",
       " 'Stand',\n",
       " 'Maiesty',\n",
       " 'Table',\n",
       " 'bound',\n",
       " 'twenty',\n",
       " 'health',\n",
       " 'Countries',\n",
       " 'person',\n",
       " 'grace',\n",
       " 'lacke',\n",
       " 'whole',\n",
       " 'earth',\n",
       " 'aliue',\n",
       " 'sights',\n",
       " 'growes',\n",
       " 'goodnight',\n",
       " 'secret',\n",
       " 'Hecat',\n",
       " 'Wisedome',\n",
       " 'Musicke',\n",
       " 'right',\n",
       " 'warlike',\n",
       " 'aboue',\n",
       " 'wisedome',\n",
       " 'Double',\n",
       " 'answer',\n",
       " 'Castles',\n",
       " 'issue',\n",
       " 'cheere',\n",
       " 'Babes',\n",
       " 'Foole',\n",
       " 'Traitors',\n",
       " 'Birds',\n",
       " 'pretty',\n",
       " 'Poore',\n",
       " 'heauen',\n",
       " 'blacke',\n",
       " 'Queene',\n",
       " 'Woman',\n",
       " 'affraid',\n",
       " 'tongue',\n",
       " 'Front',\n",
       " 'Fiend',\n",
       " 'Lightning',\n",
       " 'wonne',\n",
       " 'Heath',\n",
       " 'calls',\n",
       " 'filthie',\n",
       " 'bleeding',\n",
       " 'Reuolt',\n",
       " 'fought',\n",
       " 'Gainst',\n",
       " 'braue',\n",
       " 'didst',\n",
       " 'spent',\n",
       " 'cling',\n",
       " 'Rebell',\n",
       " 'damned',\n",
       " 'Quarry',\n",
       " 'weake',\n",
       " 'deserues',\n",
       " 'Steele',\n",
       " 'passage',\n",
       " 'Battlements',\n",
       " 'Cousin',\n",
       " 'Spring',\n",
       " 'marke',\n",
       " 'sooner',\n",
       " 'heeles',\n",
       " 'vantage',\n",
       " 'sooth',\n",
       " 'stroakes',\n",
       " 'wounds',\n",
       " 'Whence',\n",
       " 'Banners',\n",
       " 'Norway',\n",
       " 'numbers',\n",
       " 'began',\n",
       " 'Point',\n",
       " 'gainst',\n",
       " 'Bosome',\n",
       " 'greet',\n",
       " 'Sister',\n",
       " 'cryes',\n",
       " 'Tiger',\n",
       " 'kinde',\n",
       " 'neyther',\n",
       " 'forbid',\n",
       " 'thrice',\n",
       " 'Peace',\n",
       " 'wither',\n",
       " 'fantasticall',\n",
       " 'Seedes',\n",
       " 'begge',\n",
       " 'greater',\n",
       " 'prosperous',\n",
       " 'beleefe',\n",
       " 'corporall',\n",
       " 'eaten',\n",
       " 'receiu',\n",
       " 'newes',\n",
       " 'findes',\n",
       " 'Kingdomes',\n",
       " 'defence',\n",
       " 'earnest',\n",
       " 'addition',\n",
       " 'Robes',\n",
       " 'beares',\n",
       " 'wracke',\n",
       " 'Treasons',\n",
       " 'greatest',\n",
       " 'trusted',\n",
       " 'Besides',\n",
       " 'winne',\n",
       " 'Darknesse',\n",
       " 'Truths',\n",
       " 'betray',\n",
       " 'Imperiall',\n",
       " 'Cannot',\n",
       " 'Truth',\n",
       " 'Image',\n",
       " 'knock',\n",
       " 'Present',\n",
       " 'horrible',\n",
       " 'stirre',\n",
       " 'cleaue',\n",
       " 'Worthy',\n",
       " 'forgotten',\n",
       " 'turne',\n",
       " 'Leafe',\n",
       " 'reade',\n",
       " 'weigh',\n",
       " 'Hearts',\n",
       " 'friends',\n",
       " 'became',\n",
       " 'twere',\n",
       " 'Mindes',\n",
       " 'sinne',\n",
       " 'hadst',\n",
       " 'deseru',\n",
       " 'doing',\n",
       " 'Duties',\n",
       " 'begun',\n",
       " 'plant',\n",
       " 'seeke',\n",
       " 'Kinsmen',\n",
       " 'Prince',\n",
       " 'Cumberland',\n",
       " 'Starres',\n",
       " 'ioyfull',\n",
       " 'hearing',\n",
       " 'Banquet',\n",
       " 'Kinsman',\n",
       " 'wonder',\n",
       " 'deliuer',\n",
       " 'ignorant',\n",
       " 'humane',\n",
       " 'attend',\n",
       " 'highly',\n",
       " 'holily',\n",
       " 'vndone',\n",
       " 'Round',\n",
       " 'Message',\n",
       " 'entrance',\n",
       " 'Vnder',\n",
       " 'Shake',\n",
       " 'betweene',\n",
       " 'Womans',\n",
       " 'Ministers',\n",
       " 'sightlesse',\n",
       " 'keene',\n",
       " 'beyond',\n",
       " 'instant',\n",
       " 'Serpent',\n",
       " 'cleare',\n",
       " 'Torches',\n",
       " 'sences',\n",
       " 'Guest',\n",
       " 'Summer',\n",
       " 'Temple',\n",
       " 'haunt',\n",
       " 'honor',\n",
       " 'teach',\n",
       " 'Maiestie',\n",
       " 'Spurre',\n",
       " 'theirs',\n",
       " 'Still',\n",
       " 'continue',\n",
       " 'Septima',\n",
       " 'Ingredience',\n",
       " 'Murtherer',\n",
       " 'cleere',\n",
       " 'Angels',\n",
       " 'Trumpet',\n",
       " 'naked',\n",
       " 'drowne',\n",
       " 'pricke',\n",
       " 'Newes',\n",
       " 'bought',\n",
       " 'slept',\n",
       " 'Coward',\n",
       " 'Esteeme',\n",
       " 'Prythee',\n",
       " 'tender',\n",
       " 'Braines',\n",
       " 'faile',\n",
       " 'sticking',\n",
       " 'asleepe',\n",
       " 'inuite',\n",
       " 'sleepie',\n",
       " 'False',\n",
       " 'Moone',\n",
       " 'Clock',\n",
       " 'Mercifull',\n",
       " 'cursed',\n",
       " 'repose',\n",
       " 'Friend',\n",
       " 'Offices',\n",
       " 'content',\n",
       " 'serue',\n",
       " 'going',\n",
       " 'wicked',\n",
       " 'Dreames',\n",
       " 'abuse',\n",
       " 'Heccats',\n",
       " 'Wolfe',\n",
       " 'howle',\n",
       " 'Watch',\n",
       " 'Knell',\n",
       " 'summons',\n",
       " 'afraid',\n",
       " 'attempt',\n",
       " 'sorry',\n",
       " 'blesse',\n",
       " 'Blessing',\n",
       " 'throat',\n",
       " 'These',\n",
       " 'deeds',\n",
       " 'After',\n",
       " 'carry',\n",
       " 'sleeping',\n",
       " 'Gowne',\n",
       " 'expectation',\n",
       " 'Scale',\n",
       " 'Taylor',\n",
       " 'Goose',\n",
       " 'painting',\n",
       " 'Lecherie',\n",
       " 'prouokes',\n",
       " 'Therefore',\n",
       " 'leaues',\n",
       " 'tooke',\n",
       " 'stirring',\n",
       " 'timely',\n",
       " 'delight',\n",
       " 'Doore',\n",
       " 'Confusion',\n",
       " 'destroy',\n",
       " 'Graues',\n",
       " 'Sprights',\n",
       " 'prythee',\n",
       " 'chance',\n",
       " 'drawne',\n",
       " 'Donal',\n",
       " 'stopt',\n",
       " 'Wherefore',\n",
       " 'Loyall',\n",
       " 'Trade',\n",
       " 'Courage',\n",
       " 'tongues',\n",
       " 'worke',\n",
       " 'manly',\n",
       " 'Ireland',\n",
       " 'fortune',\n",
       " 'safer',\n",
       " 'smiles',\n",
       " 'lighted',\n",
       " 'dreadfull',\n",
       " 'troubled',\n",
       " 'kisse',\n",
       " 'nature',\n",
       " 'known',\n",
       " 'Soueraignty',\n",
       " 'already',\n",
       " 'Cosin',\n",
       " 'Adieu',\n",
       " 'weyard',\n",
       " 'Roote',\n",
       " 'Speeches',\n",
       " 'presence',\n",
       " 'aduice',\n",
       " 'graue',\n",
       " 'commend',\n",
       " 'While',\n",
       " 'succeeding',\n",
       " 'eternall',\n",
       " 'common',\n",
       " 'Soule',\n",
       " 'patience',\n",
       " 'According',\n",
       " 'station',\n",
       " 'Manhood',\n",
       " 'Health',\n",
       " 'spight',\n",
       " 'distance',\n",
       " 'minute',\n",
       " 'Liues',\n",
       " 'require',\n",
       " 'Worke',\n",
       " 'absence',\n",
       " 'Fathers',\n",
       " 'straight',\n",
       " 'abide',\n",
       " 'Madame',\n",
       " 'destruction',\n",
       " 'Fancies',\n",
       " 'making',\n",
       " 'regard',\n",
       " 'Snake',\n",
       " 'danger',\n",
       " 'Tooth',\n",
       " 'Better',\n",
       " 'gayne',\n",
       " 'extasie',\n",
       " 'rugged',\n",
       " 'bright',\n",
       " 'pittifull',\n",
       " 'teare',\n",
       " 'begin',\n",
       " 'needes',\n",
       " 'mingle',\n",
       " 'large',\n",
       " 'mirth',\n",
       " 'doubts',\n",
       " 'gashes',\n",
       " 'Venom',\n",
       " 'meate',\n",
       " 'Sweet',\n",
       " 'blame',\n",
       " 'promise',\n",
       " 'canst',\n",
       " 'Diuell',\n",
       " 'stuffe',\n",
       " 'faces',\n",
       " 'Behold',\n",
       " 'folly',\n",
       " 'Weale',\n",
       " 'Murthers',\n",
       " 'deere',\n",
       " 'bones',\n",
       " 'Custome',\n",
       " 'Beare',\n",
       " 'Hence',\n",
       " 'shadow',\n",
       " 'behold',\n",
       " 'naturall',\n",
       " 'order',\n",
       " 'Trees',\n",
       " 'brought',\n",
       " 'betimes',\n",
       " 'causes',\n",
       " 'wants',\n",
       " 'reason',\n",
       " 'Charmes',\n",
       " 'harmes',\n",
       " 'others',\n",
       " 'prouide',\n",
       " 'beside',\n",
       " 'ground',\n",
       " 'hopes',\n",
       " 'Spirit',\n",
       " 'strangely',\n",
       " 'Donalbane',\n",
       " 'greeue',\n",
       " 'anger',\n",
       " 'disgrace',\n",
       " 'Birth',\n",
       " 'Answer',\n",
       " 'Angell',\n",
       " 'cries',\n",
       " 'Caldron',\n",
       " 'charmed',\n",
       " 'boyle',\n",
       " 'toyle',\n",
       " 'thicke',\n",
       " 'heads',\n",
       " 'sicken',\n",
       " 'Apparation',\n",
       " 'Beware',\n",
       " 'Descends',\n",
       " 'eares',\n",
       " 'frets',\n",
       " 'impresse',\n",
       " 'Forrest',\n",
       " 'Byrnan',\n",
       " 'sinkes',\n",
       " 'noise',\n",
       " 'glasse',\n",
       " 'haire',\n",
       " 'firstlings',\n",
       " 'Crown',\n",
       " 'longer',\n",
       " 'Euery',\n",
       " 'Swearers',\n",
       " 'beate',\n",
       " 'Syllable',\n",
       " 'offer',\n",
       " 'Lambe',\n",
       " 'recoyle',\n",
       " 'precious',\n",
       " 'goodnesse',\n",
       " 'Desire',\n",
       " 'Tyranny',\n",
       " 'yours',\n",
       " 'Auarice',\n",
       " 'seuerall',\n",
       " 'sweet',\n",
       " 'Since',\n",
       " 'stands',\n",
       " 'soule',\n",
       " 'truly',\n",
       " 'setting',\n",
       " 'foorth',\n",
       " 'Comes',\n",
       " 'wretched',\n",
       " 'Disease',\n",
       " 'remoue',\n",
       " 'smile',\n",
       " 'Power',\n",
       " 'women',\n",
       " 'Gracious',\n",
       " 'maine',\n",
       " 'slaughter',\n",
       " 'relate',\n",
       " 'sword',\n",
       " 'Swords',\n",
       " 'forgiue',\n",
       " 'Physicke',\n",
       " 'watch',\n",
       " 'sleep',\n",
       " 'walking',\n",
       " 'light',\n",
       " 'strongly',\n",
       " 'bosome',\n",
       " 'abroad',\n",
       " 'troubles',\n",
       " 'Menteth',\n",
       " 'Cathnes',\n",
       " 'Malcolm',\n",
       " 'Vnkle',\n",
       " 'Seywards',\n",
       " 'purge',\n",
       " 'marching',\n",
       " 'diuell',\n",
       " 'Souldiers',\n",
       " 'confirm',\n",
       " 'Armor',\n",
       " 'Patient',\n",
       " 'Birnane',\n",
       " 'Famine',\n",
       " 'beard',\n",
       " 'Fight',\n",
       " 'Before',\n",
       " 'Tragedie',\n",
       " 'William',\n",
       " 'Shakespeare',\n",
       " 'Primus',\n",
       " 'Scoena',\n",
       " 'Raine',\n",
       " 'Hurley',\n",
       " 'burley',\n",
       " 'Battaile',\n",
       " 'Malkin',\n",
       " 'Padock',\n",
       " 'Houer',\n",
       " 'fogge',\n",
       " 'Malcome',\n",
       " 'attendants',\n",
       " 'Captaine',\n",
       " 'seemeth',\n",
       " 'plight',\n",
       " 'Serieant',\n",
       " 'hardie',\n",
       " 'Captiuitie',\n",
       " 'Broyle',\n",
       " 'Doubtfull',\n",
       " 'Swimmers',\n",
       " 'choake',\n",
       " 'mercilesse',\n",
       " 'Macdonwald',\n",
       " 'Worthie',\n",
       " 'multiplying',\n",
       " 'Villanies',\n",
       " 'swarme',\n",
       " 'Westerne',\n",
       " 'Isles',\n",
       " 'Gallowgrosses',\n",
       " 'supply',\n",
       " 'smiling',\n",
       " 'Rebells',\n",
       " 'Whore',\n",
       " 'Disdayning',\n",
       " 'brandisht',\n",
       " 'smoak',\n",
       " 'Valours',\n",
       " 'Minion',\n",
       " 'shooke',\n",
       " 'farwell',\n",
       " 'vnseam',\n",
       " 'Chops',\n",
       " 'reflection',\n",
       " 'Shipwracking']"
      ]
     },
     "execution_count": 75,
     "metadata": {},
     "output_type": "execute_result"
    }
   ],
   "source": [
    "macbeth     = \" \".join(nltk.corpus.gutenberg.words(\"shakespeare-macbeth.txt\"))\n",
    "top_macbeth = get_top_mot(macbeth, 5, 1000)\n",
    "top_macbeth"
   ]
  },
  {
   "cell_type": "markdown",
   "metadata": {},
   "source": [
    "### 6.4.2.1) on cherche l'auteur ayant le plus de mot associé dans son top 1000"
   ]
  },
  {
   "cell_type": "code",
   "execution_count": 76,
   "metadata": {},
   "outputs": [],
   "source": [
    "adequation_auteur = {}\n",
    "for auteur, top_mot in top_mot_par_auteur.items():\n",
    "    mots_trouve               = [mot in top_mot for mot in top_macbeth ] # liste de booléens\n",
    "    adequation_auteur[auteur] = sum(mots_trouve) # ne compte que les True"
   ]
  },
  {
   "cell_type": "code",
   "execution_count": 77,
   "metadata": {},
   "outputs": [
    {
     "data": {
      "text/plain": [
       "{'austen': 201,\n",
       " 'bible': 189,\n",
       " 'blake': 138,\n",
       " 'bryant': 195,\n",
       " 'burgess': 168,\n",
       " 'carroll': 166,\n",
       " 'chesterton': 200,\n",
       " 'edgeworth': 200,\n",
       " 'melville': 189,\n",
       " 'milton': 235,\n",
       " 'shakespeare': 613,\n",
       " 'whitman': 208}"
      ]
     },
     "execution_count": 77,
     "metadata": {},
     "output_type": "execute_result"
    }
   ],
   "source": [
    "adequation_auteur"
   ]
  },
  {
   "cell_type": "code",
   "execution_count": 78,
   "metadata": {},
   "outputs": [
    {
     "data": {
      "text/plain": [
       "['shakespeare',\n",
       " 'milton',\n",
       " 'whitman',\n",
       " 'austen',\n",
       " 'chesterton',\n",
       " 'edgeworth',\n",
       " 'bryant',\n",
       " 'bible',\n",
       " 'melville',\n",
       " 'burgess',\n",
       " 'carroll',\n",
       " 'blake']"
      ]
     },
     "execution_count": 78,
     "metadata": {},
     "output_type": "execute_result"
    }
   ],
   "source": [
    "sorted(adequation_auteur, key=adequation_auteur.get, reverse=True)"
   ]
  },
  {
   "cell_type": "markdown",
   "metadata": {},
   "source": [
    "### 6.4.2.2) version pandas"
   ]
  },
  {
   "cell_type": "code",
   "execution_count": 79,
   "metadata": {},
   "outputs": [
    {
     "data": {
      "text/plain": [
       "shakespeare    613\n",
       "milton         235\n",
       "whitman        208\n",
       "austen         201\n",
       "edgeworth      200\n",
       "chesterton     200\n",
       "bryant         195\n",
       "melville       189\n",
       "bible          189\n",
       "burgess        168\n",
       "carroll        166\n",
       "blake          138\n",
       "dtype: int64"
      ]
     },
     "execution_count": 79,
     "metadata": {},
     "output_type": "execute_result"
    }
   ],
   "source": [
    "df.applymap(lambda x: x in top_macbeth ).sum().sort_values(ascending=False)"
   ]
  },
  {
   "cell_type": "markdown",
   "metadata": {},
   "source": [
    "# 7) Exercice : automatiser le tout à travers des fonctions pour faire une boucle sur chaque texte et trouver l'auteur le plus approprié pour chacun"
   ]
  },
  {
   "cell_type": "code",
   "execution_count": 80,
   "metadata": {},
   "outputs": [
    {
     "name": "stdout",
     "output_type": "stream",
     "text": [
      "fatal: remote origin already exists.\r\n"
     ]
    }
   ],
   "source": [
    "!git remote add origin https://github.com/romainjouin/esilv_5a.git"
   ]
  },
  {
   "cell_type": "code",
   "execution_count": 81,
   "metadata": {},
   "outputs": [],
   "source": [
    "!git add td1.ipynb"
   ]
  },
  {
   "cell_type": "code",
   "execution_count": 83,
   "metadata": {},
   "outputs": [
    {
     "name": "stdout",
     "output_type": "stream",
     "text": [
      "On branch master\r\n",
      "Untracked files:\r\n",
      "\t\u001b[31m.ipynb_checkpoints/\u001b[m\r\n",
      "\r\n",
      "nothing added to commit but untracked files present\r\n"
     ]
    }
   ],
   "source": [
    "!git commit -m \"td1\""
   ]
  },
  {
   "cell_type": "code",
   "execution_count": 84,
   "metadata": {},
   "outputs": [
    {
     "name": "stdout",
     "output_type": "stream",
     "text": [
      "Enumerating objects: 3, done.\n",
      "Counting objects: 100% (3/3), done.\n",
      "Delta compression using up to 8 threads\n",
      "Compressing objects: 100% (2/2), done.\n",
      "Writing objects: 100% (3/3), 13.84 KiB | 4.61 MiB/s, done.\n",
      "Total 3 (delta 0), reused 0 (delta 0)\n",
      "To https://github.com/romainjouin/esilv_5a.git\n",
      " * [new branch]      master -> master\n"
     ]
    }
   ],
   "source": [
    "!git push origin master"
   ]
  },
  {
   "cell_type": "code",
   "execution_count": null,
   "metadata": {},
   "outputs": [],
   "source": []
  }
 ],
 "metadata": {
  "kernelspec": {
   "display_name": "Python 3",
   "language": "python",
   "name": "python3"
  },
  "language_info": {
   "codemirror_mode": {
    "name": "ipython",
    "version": 3
   },
   "file_extension": ".py",
   "mimetype": "text/x-python",
   "name": "python",
   "nbconvert_exporter": "python",
   "pygments_lexer": "ipython3",
   "version": "3.7.3"
  }
 },
 "nbformat": 4,
 "nbformat_minor": 2
}
